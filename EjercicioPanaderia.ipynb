{
  "nbformat": 4,
  "nbformat_minor": 0,
  "metadata": {
    "colab": {
      "name": "EjercicioPanaderia.ipynb",
      "provenance": [],
      "collapsed_sections": [],
      "include_colab_link": true
    },
    "kernelspec": {
      "name": "python3",
      "display_name": "Python 3"
    },
    "language_info": {
      "name": "python"
    }
  },
  "cells": [
    {
      "cell_type": "markdown",
      "metadata": {
        "id": "view-in-github",
        "colab_type": "text"
      },
      "source": [
        "<a href=\"https://colab.research.google.com/github/Jorge2018/DataScience2022-2/blob/main/EjercicioPanaderia.ipynb\" target=\"_parent\"><img src=\"https://colab.research.google.com/assets/colab-badge.svg\" alt=\"Open In Colab\"/></a>"
      ]
    },
    {
      "cell_type": "code",
      "execution_count": 1,
      "metadata": {
        "colab": {
          "base_uri": "https://localhost:8080/"
        },
        "id": "UTmIjCHzioOC",
        "outputId": "13bb5f52-b682-4dda-f2e1-900084734dff"
      },
      "outputs": [
        {
          "output_type": "execute_result",
          "data": {
            "text/plain": [
              "213.5"
            ]
          },
          "metadata": {},
          "execution_count": 1
        }
      ],
      "source": [
        "import numpy as np\n",
        "listaPrecios=[2,1,10]\n",
        "listaVentas=[17,40,1]\n",
        "a_listaPrecios=np.array(listaPrecios)\n",
        "a_listaVentas=np.array(listaVentas)\n",
        "a_primerasVentas=a_listaPrecios * a_listaVentas\n",
        "#print(a_primerasVentas)  ### Primeras Ventas\n",
        "#############################################################\n",
        "a_costosFabricacion=([0.25,0.50,5.00])\n",
        "a_costoBeneficio= a_listaPrecios - a_costosFabricacion\n",
        "#print(a_costoBeneficio)  ### Calculo Costos\n",
        "#############################################################\n",
        "valor=2.00\n",
        "#print(a_costoBeneficio > valor) ### Calculo Booleano\n",
        "#############################################################\n",
        "a_listaPrecios=np.append(a_listaPrecios,7) ###metodo append 1\n",
        "a_listaPrecios=np.append(a_listaPrecios,[4.50,3,4,9]) ###metodo append 2\n",
        "a_listaPrecios=np.delete(a_listaPrecios,-1) ###metodo delete \n",
        "a_listaPrecios[2]=12  ###metodo reemplazar\n",
        "#a_listaPrecios\n",
        "############################################   EJERCICIO PANADERIA\n",
        "\n",
        "a_listaVentas=np.append(a_listaVentas,[2,3,16,5]) ### Primera agregacion arreglo ventas\n",
        "a_listaVentas[1]=39 ### actualizacion arreglo ventas\n",
        "###########################################     VTA PANADERIA\n",
        "#print(\"la cantidad recaudada por ventas de brownie: \",a_listaVentas[0] * a_listaPrecios[0])\n",
        "#print(\"la cantidad recaudada por ventas de galleta: \",a_listaVentas[1] * a_listaPrecios[1])\n",
        "#print(\"la cantidad recaudada por ventas de pastel: \",a_listaVentas[2] * a_listaPrecios[2])\n",
        "#print(\"la cantidad recaudada por ventas de tartas: \",a_listaVentas[3] * a_listaPrecios[3])\n",
        "#print(\"la cantidad recaudada por ventas de dulces: \",a_listaVentas[4] * a_listaPrecios[4])\n",
        "#print(\"la cantidad recaudada por ventas de magdalena: \",a_listaVentas[5] * a_listaPrecios[5])\n",
        "#print(\"la cantidad recaudada por ventas de pan de platano: \",a_listaVentas[6] * a_listaPrecios[6])\n",
        "################################################\n",
        "a_listavtasoff=([0,0,2,1,6,0,2])\n",
        "################################################ VTA PANADERIA OFF\n",
        "#print(\"la cantidad recaudada por ventas de pastel (vta off): \",(a_listavtasoff[2] * a_listaPrecios[2])/2)\n",
        "#print(\"la cantidad recaudada por ventas de tartas (vta off): \",(a_listavtasoff[3] * a_listaPrecios[3])/2)\n",
        "#print(\"la cantidad recaudada por ventas de dulces (vta off): \",(a_listavtasoff[4] * a_listaPrecios[4])/2)\n",
        "#print(\"la cantidad recaudada por ventas de pan de platano (vta off): \",(a_listavtasoff[6] * a_listaPrecios[6])/2)\n",
        "################################################ VTA TOTAL\n",
        "a_cantrecaudadaoff= (a_listavtasoff * a_listaPrecios)/2\n",
        "a_cantrecaudada= a_listaVentas * a_listaPrecios\n",
        "a_total = a_cantrecaudada + a_cantrecaudadaoff\n",
        "a_totalFin=np.sum(a_total)\n",
        "a_totalFin"
      ]
    }
  ]
}