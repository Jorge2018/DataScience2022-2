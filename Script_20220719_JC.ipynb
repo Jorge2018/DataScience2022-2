{
  "nbformat": 4,
  "nbformat_minor": 0,
  "metadata": {
    "colab": {
      "name": "Untitled0.ipynb",
      "provenance": [],
      "authorship_tag": "ABX9TyN84Jw0NmLgGgNRx6I4+C9n",
      "include_colab_link": true
    },
    "kernelspec": {
      "name": "python3",
      "display_name": "Python 3"
    },
    "language_info": {
      "name": "python"
    }
  },
  "cells": [
    {
      "cell_type": "markdown",
      "metadata": {
        "id": "view-in-github",
        "colab_type": "text"
      },
      "source": [
        "<a href=\"https://colab.research.google.com/github/Jorge2018/DataScience2022-2/blob/main/Script_20220719_JC.ipynb\" target=\"_parent\"><img src=\"https://colab.research.google.com/assets/colab-badge.svg\" alt=\"Open In Colab\"/></a>"
      ]
    },
    {
      "cell_type": "code",
      "execution_count": 2,
      "metadata": {
        "colab": {
          "base_uri": "https://localhost:8080/"
        },
        "id": "wWAQvGtsAAsS",
        "outputId": "3992ab6b-8616-4781-d860-194ab300a0e2"
      },
      "outputs": [
        {
          "output_type": "stream",
          "name": "stdout",
          "text": [
            "Bienvenido al Bootcamp futuros Data Scientist!\n"
          ]
        }
      ],
      "source": [
        "print('Bienvenido al Bootcamp futuros Data Scientist!')"
      ]
    }
  ]
}