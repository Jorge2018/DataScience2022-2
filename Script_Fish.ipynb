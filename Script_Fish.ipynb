{
  "nbformat": 4,
  "nbformat_minor": 0,
  "metadata": {
    "colab": {
      "name": "Untitled26.ipynb",
      "provenance": []
    },
    "kernelspec": {
      "name": "python3",
      "display_name": "Python 3"
    },
    "language_info": {
      "name": "python"
    }
  },
  "cells": [
    {
      "cell_type": "code",
      "source": [
        "########### Codigo lee archivo excel desde github\n",
        "import pandas as pd\n",
        "import numpy as np\n",
        "from pandas import DataFrame\n",
        "import requests\n",
        "import matplotlib.pyplot as plt\n",
        "from sklearn.preprocessing import OneHotEncoder, StandardScaler\n",
        "from sklearn.impute import SimpleImputer\n",
        "from sklearn.compose import make_column_selector, make_column_transformer\n",
        "from sklearn.preprocessing import StandardScaler\n",
        "from sklearn.model_selection import train_test_split,GridSearchCV\n",
        "from sklearn import set_config\n",
        "from sklearn.pipeline import make_pipeline\n",
        "import seaborn as sns\n",
        "from sklearn.tree import DecisionTreeClassifier\n",
        "from sklearn.linear_model import LinearRegression,LogisticRegression\n",
        "from sklearn.metrics import mean_squared_error, r2_score,confusion_matrix, classification_report,mean_squared_error\n",
        "from sklearn.ensemble import BaggingClassifier, RandomForestClassifier,RandomForestRegressor\n",
        "set_config(display='diagram')\n",
        "\n",
        "\n",
        "url = \"https://github.com/Jorge2018/RepositorioArchivos/blob/main/Fish.xlsx?raw=true\"\n",
        "\n",
        "response = requests.get(url)\n",
        "\n",
        "dest = 'local-file.xlsx'\n",
        "\n",
        "with open(dest, 'wb') as file:\n",
        "    file.write(response.content)\n",
        "\n",
        "df = pd.read_excel(dest)\n",
        "\n",
        "df.head()\n",
        "\n"
      ],
      "metadata": {
        "colab": {
          "base_uri": "https://localhost:8080/",
          "height": 206
        },
        "id": "fWrD-sddQoEs",
        "outputId": "bbaa4dd6-1ca3-4c3c-9570-1f9392a1a925"
      },
      "execution_count": 353,
      "outputs": [
        {
          "output_type": "execute_result",
          "data": {
            "text/plain": [
              "  Species  Weight  Length1  Length2  Length3   Height   Width\n",
              "0   Bream   242.0     23.2     25.4     30.0  11.5200  4.0200\n",
              "1   Bream   290.0     24.0     26.3     31.2  12.4800  4.3056\n",
              "2   Bream   340.0     23.9     26.5     31.1  12.3778  4.6961\n",
              "3   Bream   363.0     26.3     29.0     33.5  12.7300  4.4555\n",
              "4   Bream   430.0     26.5     29.0     34.0  12.4440  5.1340"
            ],
            "text/html": [
              "\n",
              "  <div id=\"df-e6e53888-a1ee-4c7a-9479-4f47bd9678b9\">\n",
              "    <div class=\"colab-df-container\">\n",
              "      <div>\n",
              "<style scoped>\n",
              "    .dataframe tbody tr th:only-of-type {\n",
              "        vertical-align: middle;\n",
              "    }\n",
              "\n",
              "    .dataframe tbody tr th {\n",
              "        vertical-align: top;\n",
              "    }\n",
              "\n",
              "    .dataframe thead th {\n",
              "        text-align: right;\n",
              "    }\n",
              "</style>\n",
              "<table border=\"1\" class=\"dataframe\">\n",
              "  <thead>\n",
              "    <tr style=\"text-align: right;\">\n",
              "      <th></th>\n",
              "      <th>Species</th>\n",
              "      <th>Weight</th>\n",
              "      <th>Length1</th>\n",
              "      <th>Length2</th>\n",
              "      <th>Length3</th>\n",
              "      <th>Height</th>\n",
              "      <th>Width</th>\n",
              "    </tr>\n",
              "  </thead>\n",
              "  <tbody>\n",
              "    <tr>\n",
              "      <th>0</th>\n",
              "      <td>Bream</td>\n",
              "      <td>242.0</td>\n",
              "      <td>23.2</td>\n",
              "      <td>25.4</td>\n",
              "      <td>30.0</td>\n",
              "      <td>11.5200</td>\n",
              "      <td>4.0200</td>\n",
              "    </tr>\n",
              "    <tr>\n",
              "      <th>1</th>\n",
              "      <td>Bream</td>\n",
              "      <td>290.0</td>\n",
              "      <td>24.0</td>\n",
              "      <td>26.3</td>\n",
              "      <td>31.2</td>\n",
              "      <td>12.4800</td>\n",
              "      <td>4.3056</td>\n",
              "    </tr>\n",
              "    <tr>\n",
              "      <th>2</th>\n",
              "      <td>Bream</td>\n",
              "      <td>340.0</td>\n",
              "      <td>23.9</td>\n",
              "      <td>26.5</td>\n",
              "      <td>31.1</td>\n",
              "      <td>12.3778</td>\n",
              "      <td>4.6961</td>\n",
              "    </tr>\n",
              "    <tr>\n",
              "      <th>3</th>\n",
              "      <td>Bream</td>\n",
              "      <td>363.0</td>\n",
              "      <td>26.3</td>\n",
              "      <td>29.0</td>\n",
              "      <td>33.5</td>\n",
              "      <td>12.7300</td>\n",
              "      <td>4.4555</td>\n",
              "    </tr>\n",
              "    <tr>\n",
              "      <th>4</th>\n",
              "      <td>Bream</td>\n",
              "      <td>430.0</td>\n",
              "      <td>26.5</td>\n",
              "      <td>29.0</td>\n",
              "      <td>34.0</td>\n",
              "      <td>12.4440</td>\n",
              "      <td>5.1340</td>\n",
              "    </tr>\n",
              "  </tbody>\n",
              "</table>\n",
              "</div>\n",
              "      <button class=\"colab-df-convert\" onclick=\"convertToInteractive('df-e6e53888-a1ee-4c7a-9479-4f47bd9678b9')\"\n",
              "              title=\"Convert this dataframe to an interactive table.\"\n",
              "              style=\"display:none;\">\n",
              "        \n",
              "  <svg xmlns=\"http://www.w3.org/2000/svg\" height=\"24px\"viewBox=\"0 0 24 24\"\n",
              "       width=\"24px\">\n",
              "    <path d=\"M0 0h24v24H0V0z\" fill=\"none\"/>\n",
              "    <path d=\"M18.56 5.44l.94 2.06.94-2.06 2.06-.94-2.06-.94-.94-2.06-.94 2.06-2.06.94zm-11 1L8.5 8.5l.94-2.06 2.06-.94-2.06-.94L8.5 2.5l-.94 2.06-2.06.94zm10 10l.94 2.06.94-2.06 2.06-.94-2.06-.94-.94-2.06-.94 2.06-2.06.94z\"/><path d=\"M17.41 7.96l-1.37-1.37c-.4-.4-.92-.59-1.43-.59-.52 0-1.04.2-1.43.59L10.3 9.45l-7.72 7.72c-.78.78-.78 2.05 0 2.83L4 21.41c.39.39.9.59 1.41.59.51 0 1.02-.2 1.41-.59l7.78-7.78 2.81-2.81c.8-.78.8-2.07 0-2.86zM5.41 20L4 18.59l7.72-7.72 1.47 1.35L5.41 20z\"/>\n",
              "  </svg>\n",
              "      </button>\n",
              "      \n",
              "  <style>\n",
              "    .colab-df-container {\n",
              "      display:flex;\n",
              "      flex-wrap:wrap;\n",
              "      gap: 12px;\n",
              "    }\n",
              "\n",
              "    .colab-df-convert {\n",
              "      background-color: #E8F0FE;\n",
              "      border: none;\n",
              "      border-radius: 50%;\n",
              "      cursor: pointer;\n",
              "      display: none;\n",
              "      fill: #1967D2;\n",
              "      height: 32px;\n",
              "      padding: 0 0 0 0;\n",
              "      width: 32px;\n",
              "    }\n",
              "\n",
              "    .colab-df-convert:hover {\n",
              "      background-color: #E2EBFA;\n",
              "      box-shadow: 0px 1px 2px rgba(60, 64, 67, 0.3), 0px 1px 3px 1px rgba(60, 64, 67, 0.15);\n",
              "      fill: #174EA6;\n",
              "    }\n",
              "\n",
              "    [theme=dark] .colab-df-convert {\n",
              "      background-color: #3B4455;\n",
              "      fill: #D2E3FC;\n",
              "    }\n",
              "\n",
              "    [theme=dark] .colab-df-convert:hover {\n",
              "      background-color: #434B5C;\n",
              "      box-shadow: 0px 1px 3px 1px rgba(0, 0, 0, 0.15);\n",
              "      filter: drop-shadow(0px 1px 2px rgba(0, 0, 0, 0.3));\n",
              "      fill: #FFFFFF;\n",
              "    }\n",
              "  </style>\n",
              "\n",
              "      <script>\n",
              "        const buttonEl =\n",
              "          document.querySelector('#df-e6e53888-a1ee-4c7a-9479-4f47bd9678b9 button.colab-df-convert');\n",
              "        buttonEl.style.display =\n",
              "          google.colab.kernel.accessAllowed ? 'block' : 'none';\n",
              "\n",
              "        async function convertToInteractive(key) {\n",
              "          const element = document.querySelector('#df-e6e53888-a1ee-4c7a-9479-4f47bd9678b9');\n",
              "          const dataTable =\n",
              "            await google.colab.kernel.invokeFunction('convertToInteractive',\n",
              "                                                     [key], {});\n",
              "          if (!dataTable) return;\n",
              "\n",
              "          const docLinkHtml = 'Like what you see? Visit the ' +\n",
              "            '<a target=\"_blank\" href=https://colab.research.google.com/notebooks/data_table.ipynb>data table notebook</a>'\n",
              "            + ' to learn more about interactive tables.';\n",
              "          element.innerHTML = '';\n",
              "          dataTable['output_type'] = 'display_data';\n",
              "          await google.colab.output.renderOutput(dataTable, element);\n",
              "          const docLink = document.createElement('div');\n",
              "          docLink.innerHTML = docLinkHtml;\n",
              "          element.appendChild(docLink);\n",
              "        }\n",
              "      </script>\n",
              "    </div>\n",
              "  </div>\n",
              "  "
            ]
          },
          "metadata": {},
          "execution_count": 353
        }
      ]
    },
    {
      "cell_type": "code",
      "source": [
        "df.describe().round(3)"
      ],
      "metadata": {
        "id": "2RMuOCCJvAbg",
        "outputId": "a3dfc2ac-1a74-4cbd-fefd-16b061666bdc",
        "colab": {
          "base_uri": "https://localhost:8080/",
          "height": 300
        }
      },
      "execution_count": 354,
      "outputs": [
        {
          "output_type": "execute_result",
          "data": {
            "text/plain": [
              "         Weight  Length1  Length2  Length3   Height    Width\n",
              "count   159.000  157.000  157.000  150.000  156.000  157.000\n",
              "mean    398.326   26.080   28.168   31.196    8.907    4.417\n",
              "std     357.978    9.939   10.407   11.072    4.250    1.695\n",
              "min       0.000    7.500    8.400   10.800    1.728    1.048\n",
              "25%     120.000   19.000   21.000   23.275    5.949    3.376\n",
              "50%     273.000   25.000   27.000   29.700    7.733    4.248\n",
              "75%     650.000   32.500   35.000   39.575   12.038    5.589\n",
              "max    1650.000   59.000   60.000   64.000   18.957    8.142"
            ],
            "text/html": [
              "\n",
              "  <div id=\"df-2ff9c182-8da9-4cda-aad9-6f967fcf490d\">\n",
              "    <div class=\"colab-df-container\">\n",
              "      <div>\n",
              "<style scoped>\n",
              "    .dataframe tbody tr th:only-of-type {\n",
              "        vertical-align: middle;\n",
              "    }\n",
              "\n",
              "    .dataframe tbody tr th {\n",
              "        vertical-align: top;\n",
              "    }\n",
              "\n",
              "    .dataframe thead th {\n",
              "        text-align: right;\n",
              "    }\n",
              "</style>\n",
              "<table border=\"1\" class=\"dataframe\">\n",
              "  <thead>\n",
              "    <tr style=\"text-align: right;\">\n",
              "      <th></th>\n",
              "      <th>Weight</th>\n",
              "      <th>Length1</th>\n",
              "      <th>Length2</th>\n",
              "      <th>Length3</th>\n",
              "      <th>Height</th>\n",
              "      <th>Width</th>\n",
              "    </tr>\n",
              "  </thead>\n",
              "  <tbody>\n",
              "    <tr>\n",
              "      <th>count</th>\n",
              "      <td>159.000</td>\n",
              "      <td>157.000</td>\n",
              "      <td>157.000</td>\n",
              "      <td>150.000</td>\n",
              "      <td>156.000</td>\n",
              "      <td>157.000</td>\n",
              "    </tr>\n",
              "    <tr>\n",
              "      <th>mean</th>\n",
              "      <td>398.326</td>\n",
              "      <td>26.080</td>\n",
              "      <td>28.168</td>\n",
              "      <td>31.196</td>\n",
              "      <td>8.907</td>\n",
              "      <td>4.417</td>\n",
              "    </tr>\n",
              "    <tr>\n",
              "      <th>std</th>\n",
              "      <td>357.978</td>\n",
              "      <td>9.939</td>\n",
              "      <td>10.407</td>\n",
              "      <td>11.072</td>\n",
              "      <td>4.250</td>\n",
              "      <td>1.695</td>\n",
              "    </tr>\n",
              "    <tr>\n",
              "      <th>min</th>\n",
              "      <td>0.000</td>\n",
              "      <td>7.500</td>\n",
              "      <td>8.400</td>\n",
              "      <td>10.800</td>\n",
              "      <td>1.728</td>\n",
              "      <td>1.048</td>\n",
              "    </tr>\n",
              "    <tr>\n",
              "      <th>25%</th>\n",
              "      <td>120.000</td>\n",
              "      <td>19.000</td>\n",
              "      <td>21.000</td>\n",
              "      <td>23.275</td>\n",
              "      <td>5.949</td>\n",
              "      <td>3.376</td>\n",
              "    </tr>\n",
              "    <tr>\n",
              "      <th>50%</th>\n",
              "      <td>273.000</td>\n",
              "      <td>25.000</td>\n",
              "      <td>27.000</td>\n",
              "      <td>29.700</td>\n",
              "      <td>7.733</td>\n",
              "      <td>4.248</td>\n",
              "    </tr>\n",
              "    <tr>\n",
              "      <th>75%</th>\n",
              "      <td>650.000</td>\n",
              "      <td>32.500</td>\n",
              "      <td>35.000</td>\n",
              "      <td>39.575</td>\n",
              "      <td>12.038</td>\n",
              "      <td>5.589</td>\n",
              "    </tr>\n",
              "    <tr>\n",
              "      <th>max</th>\n",
              "      <td>1650.000</td>\n",
              "      <td>59.000</td>\n",
              "      <td>60.000</td>\n",
              "      <td>64.000</td>\n",
              "      <td>18.957</td>\n",
              "      <td>8.142</td>\n",
              "    </tr>\n",
              "  </tbody>\n",
              "</table>\n",
              "</div>\n",
              "      <button class=\"colab-df-convert\" onclick=\"convertToInteractive('df-2ff9c182-8da9-4cda-aad9-6f967fcf490d')\"\n",
              "              title=\"Convert this dataframe to an interactive table.\"\n",
              "              style=\"display:none;\">\n",
              "        \n",
              "  <svg xmlns=\"http://www.w3.org/2000/svg\" height=\"24px\"viewBox=\"0 0 24 24\"\n",
              "       width=\"24px\">\n",
              "    <path d=\"M0 0h24v24H0V0z\" fill=\"none\"/>\n",
              "    <path d=\"M18.56 5.44l.94 2.06.94-2.06 2.06-.94-2.06-.94-.94-2.06-.94 2.06-2.06.94zm-11 1L8.5 8.5l.94-2.06 2.06-.94-2.06-.94L8.5 2.5l-.94 2.06-2.06.94zm10 10l.94 2.06.94-2.06 2.06-.94-2.06-.94-.94-2.06-.94 2.06-2.06.94z\"/><path d=\"M17.41 7.96l-1.37-1.37c-.4-.4-.92-.59-1.43-.59-.52 0-1.04.2-1.43.59L10.3 9.45l-7.72 7.72c-.78.78-.78 2.05 0 2.83L4 21.41c.39.39.9.59 1.41.59.51 0 1.02-.2 1.41-.59l7.78-7.78 2.81-2.81c.8-.78.8-2.07 0-2.86zM5.41 20L4 18.59l7.72-7.72 1.47 1.35L5.41 20z\"/>\n",
              "  </svg>\n",
              "      </button>\n",
              "      \n",
              "  <style>\n",
              "    .colab-df-container {\n",
              "      display:flex;\n",
              "      flex-wrap:wrap;\n",
              "      gap: 12px;\n",
              "    }\n",
              "\n",
              "    .colab-df-convert {\n",
              "      background-color: #E8F0FE;\n",
              "      border: none;\n",
              "      border-radius: 50%;\n",
              "      cursor: pointer;\n",
              "      display: none;\n",
              "      fill: #1967D2;\n",
              "      height: 32px;\n",
              "      padding: 0 0 0 0;\n",
              "      width: 32px;\n",
              "    }\n",
              "\n",
              "    .colab-df-convert:hover {\n",
              "      background-color: #E2EBFA;\n",
              "      box-shadow: 0px 1px 2px rgba(60, 64, 67, 0.3), 0px 1px 3px 1px rgba(60, 64, 67, 0.15);\n",
              "      fill: #174EA6;\n",
              "    }\n",
              "\n",
              "    [theme=dark] .colab-df-convert {\n",
              "      background-color: #3B4455;\n",
              "      fill: #D2E3FC;\n",
              "    }\n",
              "\n",
              "    [theme=dark] .colab-df-convert:hover {\n",
              "      background-color: #434B5C;\n",
              "      box-shadow: 0px 1px 3px 1px rgba(0, 0, 0, 0.15);\n",
              "      filter: drop-shadow(0px 1px 2px rgba(0, 0, 0, 0.3));\n",
              "      fill: #FFFFFF;\n",
              "    }\n",
              "  </style>\n",
              "\n",
              "      <script>\n",
              "        const buttonEl =\n",
              "          document.querySelector('#df-2ff9c182-8da9-4cda-aad9-6f967fcf490d button.colab-df-convert');\n",
              "        buttonEl.style.display =\n",
              "          google.colab.kernel.accessAllowed ? 'block' : 'none';\n",
              "\n",
              "        async function convertToInteractive(key) {\n",
              "          const element = document.querySelector('#df-2ff9c182-8da9-4cda-aad9-6f967fcf490d');\n",
              "          const dataTable =\n",
              "            await google.colab.kernel.invokeFunction('convertToInteractive',\n",
              "                                                     [key], {});\n",
              "          if (!dataTable) return;\n",
              "\n",
              "          const docLinkHtml = 'Like what you see? Visit the ' +\n",
              "            '<a target=\"_blank\" href=https://colab.research.google.com/notebooks/data_table.ipynb>data table notebook</a>'\n",
              "            + ' to learn more about interactive tables.';\n",
              "          element.innerHTML = '';\n",
              "          dataTable['output_type'] = 'display_data';\n",
              "          await google.colab.output.renderOutput(dataTable, element);\n",
              "          const docLink = document.createElement('div');\n",
              "          docLink.innerHTML = docLinkHtml;\n",
              "          element.appendChild(docLink);\n",
              "        }\n",
              "      </script>\n",
              "    </div>\n",
              "  </div>\n",
              "  "
            ]
          },
          "metadata": {},
          "execution_count": 354
        }
      ]
    },
    {
      "cell_type": "code",
      "source": [
        "lista=list(df.columns)\n",
        "idx = len(df) \n",
        "cols = df.columns\n",
        "corr = df.corr() \n",
        "sns.heatmap(corr, annot = True) \n",
        "print('Se puede observar una correlacion entre el peso (Weigth) y los largos (1,2,3)\\n')"
      ],
      "metadata": {
        "id": "rm_Cr1QGVBDl",
        "outputId": "63417f8c-1ec1-40a2-87a2-ed9ecf369ce6",
        "colab": {
          "base_uri": "https://localhost:8080/",
          "height": 304
        }
      },
      "execution_count": 355,
      "outputs": [
        {
          "output_type": "stream",
          "name": "stdout",
          "text": [
            "Se puede observar una correlacion entre el peso (Weigth) y los largos (1,2,3)\n",
            "\n"
          ]
        },
        {
          "output_type": "display_data",
          "data": {
            "text/plain": [
              "<Figure size 432x288 with 2 Axes>"
            ],
            "image/png": "[encoded data removed]"
          },
          "metadata": {
            "needs_background": "light"
          }
        }
      ]
    },
    {
      "cell_type": "markdown",
      "source": [
        "**Utiliza OneHotEncoder para la transformacion de datos categoricos (Species), elimina col (Species) al finalizar el proceso**"
      ],
      "metadata": {
        "id": "oj-g1UnaZpOs"
      }
    },
    {
      "cell_type": "code",
      "source": [
        "one_hot_encoder = OneHotEncoder()                          # Asignacion a one_hot_encoder de la funcion\n",
        "one_hot_encoder.fit(df[[\"Species\"]])                        # Estimacion de los parámetros de la col\n",
        "ohe = one_hot_encoder.transform(df[[\"Species\"]]) # Transformamos los datos de df a números\n",
        "df_encoded = pd.DataFrame(ohe.toarray(), columns=one_hot_encoder.categories_[0]) # creacion del df usando region_encoded y los nombres de col one_hot_encoder.categories_\n",
        "df = pd.concat([df, df_encoded], axis=1)\n",
        "df=df[['Weight','Length1','Length2','Length3','Height','Width','Beam','Bream','Parkki','Perch','Pike','Roach','Smelt','Whitefish']]\n"
      ],
      "metadata": {
        "id": "9EVGc30y2nzL"
      },
      "execution_count": 356,
      "outputs": []
    },
    {
      "cell_type": "markdown",
      "source": [
        "**Utiliza SimpleImputer para reemplzar valores nan, reemplaza valores 0 por la media segun cols de los datos numericos**"
      ],
      "metadata": {
        "id": "AOePt1DfLJ_g"
      }
    },
    {
      "cell_type": "code",
      "source": [
        "df_num=df.select_dtypes(include=['float64', 'int64'])\n",
        "imputer = SimpleImputer(strategy=\"median\")\n",
        "imputer.fit(df_num)\n",
        "#print(imputer.statistics_) # valores de mediana por cada columna numérica\n",
        "df = pd.DataFrame(imputer.transform(df_num), columns=df_num.columns, index=df_num.index)\n",
        "#df2#.info() # Valores nulos reemplazados\n",
        "lista=['Weight','Length1','Length2','Length3','Height','Width']\n",
        "for idx, column in enumerate(lista):\n",
        "#for i in df.columns:\n",
        "  df[column]=np.where(df[column] == 0,np.nanmean(df[column]),df[column])\n",
        "  #df[i].fillna(df[i].mean()), inplace=True"
      ],
      "metadata": {
        "id": "IRZMydid5KIb"
      },
      "execution_count": 357,
      "outputs": []
    },
    {
      "cell_type": "markdown",
      "source": [
        "**Inspeccion de datos**"
      ],
      "metadata": {
        "id": "Bb2kGXcnVjVq"
      }
    },
    {
      "cell_type": "code",
      "source": [
        "#inspect the data\n",
        "print(df.info(), '\\n')\n",
        "print('________________________________________________________')\n",
        "print('')\n",
        "print('los datos null son')\n",
        "print(df.isna().sum())\n",
        "df.describe().round(3)"
      ],
      "metadata": {
        "colab": {
          "base_uri": "https://localhost:8080/",
          "height": 1000
        },
        "id": "HaXIuZxiSj-Q",
        "outputId": "fd5a8c19-a0d1-445a-f92c-7fc10eff67e2"
      },
      "execution_count": 358,
      "outputs": [
        {
          "output_type": "stream",
          "name": "stdout",
          "text": [
            "<class 'pandas.core.frame.DataFrame'>\n",
            "RangeIndex: 159 entries, 0 to 158\n",
            "Data columns (total 14 columns):\n",
            " #   Column     Non-Null Count  Dtype  \n",
            "---  ------     --------------  -----  \n",
            " 0   Weight     159 non-null    float64\n",
            " 1   Length1    159 non-null    float64\n",
            " 2   Length2    159 non-null    float64\n",
            " 3   Length3    159 non-null    float64\n",
            " 4   Height     159 non-null    float64\n",
            " 5   Width      159 non-null    float64\n",
            " 6   Beam       159 non-null    float64\n",
            " 7   Bream      159 non-null    float64\n",
            " 8   Parkki     159 non-null    float64\n",
            " 9   Perch      159 non-null    float64\n",
            " 10  Pike       159 non-null    float64\n",
            " 11  Roach      159 non-null    float64\n",
            " 12  Smelt      159 non-null    float64\n",
            " 13  Whitefish  159 non-null    float64\n",
            "dtypes: float64(14)\n",
            "memory usage: 17.5 KB\n",
            "None \n",
            "\n",
            "________________________________________________________\n",
            "\n",
            "los datos null son\n",
            "Weight       0\n",
            "Length1      0\n",
            "Length2      0\n",
            "Length3      0\n",
            "Height       0\n",
            "Width        0\n",
            "Beam         0\n",
            "Bream        0\n",
            "Parkki       0\n",
            "Perch        0\n",
            "Pike         0\n",
            "Roach        0\n",
            "Smelt        0\n",
            "Whitefish    0\n",
            "dtype: int64\n"
          ]
        },
        {
          "output_type": "execute_result",
          "data": {
            "text/plain": [
              "         Weight  Length1  Length2  Length3   Height    Width     Beam  \\\n",
              "count   159.000  159.000  159.000  159.000  159.000  159.000  159.000   \n",
              "mean    400.832   26.067   28.153   31.111    8.885    4.415    0.013   \n",
              "std     356.564    9.877   10.342   10.757    4.213    1.684    0.112   \n",
              "min       5.900    7.500    8.400   10.800    1.728    1.048    0.000   \n",
              "25%     122.500   19.050   21.000   23.500    6.032    3.386    0.000   \n",
              "50%     290.000   25.000   27.000   29.700    7.733    4.248    0.000   \n",
              "75%     650.000   32.250   35.000   39.350   11.931    5.584    0.000   \n",
              "max    1650.000   59.000   60.000   64.000   18.957    8.142    1.000   \n",
              "\n",
              "         Bream   Parkki    Perch     Pike    Roach    Smelt  Whitefish  \n",
              "count  159.000  159.000  159.000  159.000  159.000  159.000    159.000  \n",
              "mean     0.208    0.069    0.333    0.107    0.119    0.088      0.038  \n",
              "std      0.407    0.255    0.473    0.310    0.325    0.284      0.191  \n",
              "min      0.000    0.000    0.000    0.000    0.000    0.000      0.000  \n",
              "25%      0.000    0.000    0.000    0.000    0.000    0.000      0.000  \n",
              "50%      0.000    0.000    0.000    0.000    0.000    0.000      0.000  \n",
              "75%      0.000    0.000    1.000    0.000    0.000    0.000      0.000  \n",
              "max      1.000    1.000    1.000    1.000    1.000    1.000      1.000  "
            ],
            "text/html": [
              "\n",
              "  <div id=\"df-dff6bdec-872e-43d5-8af4-bf67f283b174\">\n",
              "    <div class=\"colab-df-container\">\n",
              "      <div>\n",
              "<style scoped>\n",
              "    .dataframe tbody tr th:only-of-type {\n",
              "        vertical-align: middle;\n",
              "    }\n",
              "\n",
              "    .dataframe tbody tr th {\n",
              "        vertical-align: top;\n",
              "    }\n",
              "\n",
              "    .dataframe thead th {\n",
              "        text-align: right;\n",
              "    }\n",
              "</style>\n",
              "<table border=\"1\" class=\"dataframe\">\n",
              "  <thead>\n",
              "    <tr style=\"text-align: right;\">\n",
              "      <th></th>\n",
              "      <th>Weight</th>\n",
              "      <th>Length1</th>\n",
              "      <th>Length2</th>\n",
              "      <th>Length3</th>\n",
              "      <th>Height</th>\n",
              "      <th>Width</th>\n",
              "      <th>Beam</th>\n",
              "      <th>Bream</th>\n",
              "      <th>Parkki</th>\n",
              "      <th>Perch</th>\n",
              "      <th>Pike</th>\n",
              "      <th>Roach</th>\n",
              "      <th>Smelt</th>\n",
              "      <th>Whitefish</th>\n",
              "    </tr>\n",
              "  </thead>\n",
              "  <tbody>\n",
              "    <tr>\n",
              "      <th>count</th>\n",
              "      <td>159.000</td>\n",
              "      <td>159.000</td>\n",
              "      <td>159.000</td>\n",
              "      <td>159.000</td>\n",
              "      <td>159.000</td>\n",
              "      <td>159.000</td>\n",
              "      <td>159.000</td>\n",
              "      <td>159.000</td>\n",
              "      <td>159.000</td>\n",
              "      <td>159.000</td>\n",
              "      <td>159.000</td>\n",
              "      <td>159.000</td>\n",
              "      <td>159.000</td>\n",
              "      <td>159.000</td>\n",
              "    </tr>\n",
              "    <tr>\n",
              "      <th>mean</th>\n",
              "      <td>400.832</td>\n",
              "      <td>26.067</td>\n",
              "      <td>28.153</td>\n",
              "      <td>31.111</td>\n",
              "      <td>8.885</td>\n",
              "      <td>4.415</td>\n",
              "      <td>0.013</td>\n",
              "      <td>0.208</td>\n",
              "      <td>0.069</td>\n",
              "      <td>0.333</td>\n",
              "      <td>0.107</td>\n",
              "      <td>0.119</td>\n",
              "      <td>0.088</td>\n",
              "      <td>0.038</td>\n",
              "    </tr>\n",
              "    <tr>\n",
              "      <th>std</th>\n",
              "      <td>356.564</td>\n",
              "      <td>9.877</td>\n",
              "      <td>10.342</td>\n",
              "      <td>10.757</td>\n",
              "      <td>4.213</td>\n",
              "      <td>1.684</td>\n",
              "      <td>0.112</td>\n",
              "      <td>0.407</td>\n",
              "      <td>0.255</td>\n",
              "      <td>0.473</td>\n",
              "      <td>0.310</td>\n",
              "      <td>0.325</td>\n",
              "      <td>0.284</td>\n",
              "      <td>0.191</td>\n",
              "    </tr>\n",
              "    <tr>\n",
              "      <th>min</th>\n",
              "      <td>5.900</td>\n",
              "      <td>7.500</td>\n",
              "      <td>8.400</td>\n",
              "      <td>10.800</td>\n",
              "      <td>1.728</td>\n",
              "      <td>1.048</td>\n",
              "      <td>0.000</td>\n",
              "      <td>0.000</td>\n",
              "      <td>0.000</td>\n",
              "      <td>0.000</td>\n",
              "      <td>0.000</td>\n",
              "      <td>0.000</td>\n",
              "      <td>0.000</td>\n",
              "      <td>0.000</td>\n",
              "    </tr>\n",
              "    <tr>\n",
              "      <th>25%</th>\n",
              "      <td>122.500</td>\n",
              "      <td>19.050</td>\n",
              "      <td>21.000</td>\n",
              "      <td>23.500</td>\n",
              "      <td>6.032</td>\n",
              "      <td>3.386</td>\n",
              "      <td>0.000</td>\n",
              "      <td>0.000</td>\n",
              "      <td>0.000</td>\n",
              "      <td>0.000</td>\n",
              "      <td>0.000</td>\n",
              "      <td>0.000</td>\n",
              "      <td>0.000</td>\n",
              "      <td>0.000</td>\n",
              "    </tr>\n",
              "    <tr>\n",
              "      <th>50%</th>\n",
              "      <td>290.000</td>\n",
              "      <td>25.000</td>\n",
              "      <td>27.000</td>\n",
              "      <td>29.700</td>\n",
              "      <td>7.733</td>\n",
              "      <td>4.248</td>\n",
              "      <td>0.000</td>\n",
              "      <td>0.000</td>\n",
              "      <td>0.000</td>\n",
              "      <td>0.000</td>\n",
              "      <td>0.000</td>\n",
              "      <td>0.000</td>\n",
              "      <td>0.000</td>\n",
              "      <td>0.000</td>\n",
              "    </tr>\n",
              "    <tr>\n",
              "      <th>75%</th>\n",
              "      <td>650.000</td>\n",
              "      <td>32.250</td>\n",
              "      <td>35.000</td>\n",
              "      <td>39.350</td>\n",
              "      <td>11.931</td>\n",
              "      <td>5.584</td>\n",
              "      <td>0.000</td>\n",
              "      <td>0.000</td>\n",
              "      <td>0.000</td>\n",
              "      <td>1.000</td>\n",
              "      <td>0.000</td>\n",
              "      <td>0.000</td>\n",
              "      <td>0.000</td>\n",
              "      <td>0.000</td>\n",
              "    </tr>\n",
              "    <tr>\n",
              "      <th>max</th>\n",
              "      <td>1650.000</td>\n",
              "      <td>59.000</td>\n",
              "      <td>60.000</td>\n",
              "      <td>64.000</td>\n",
              "      <td>18.957</td>\n",
              "      <td>8.142</td>\n",
              "      <td>1.000</td>\n",
              "      <td>1.000</td>\n",
              "      <td>1.000</td>\n",
              "      <td>1.000</td>\n",
              "      <td>1.000</td>\n",
              "      <td>1.000</td>\n",
              "      <td>1.000</td>\n",
              "      <td>1.000</td>\n",
              "    </tr>\n",
              "  </tbody>\n",
              "</table>\n",
              "</div>\n",
              "      <button class=\"colab-df-convert\" onclick=\"convertToInteractive('df-dff6bdec-872e-43d5-8af4-bf67f283b174')\"\n",
              "              title=\"Convert this dataframe to an interactive table.\"\n",
              "              style=\"display:none;\">\n",
              "        \n",
              "  <svg xmlns=\"http://www.w3.org/2000/svg\" height=\"24px\"viewBox=\"0 0 24 24\"\n",
              "       width=\"24px\">\n",
              "    <path d=\"M0 0h24v24H0V0z\" fill=\"none\"/>\n",
              "    <path d=\"M18.56 5.44l.94 2.06.94-2.06 2.06-.94-2.06-.94-.94-2.06-.94 2.06-2.06.94zm-11 1L8.5 8.5l.94-2.06 2.06-.94-2.06-.94L8.5 2.5l-.94 2.06-2.06.94zm10 10l.94 2.06.94-2.06 2.06-.94-2.06-.94-.94-2.06-.94 2.06-2.06.94z\"/><path d=\"M17.41 7.96l-1.37-1.37c-.4-.4-.92-.59-1.43-.59-.52 0-1.04.2-1.43.59L10.3 9.45l-7.72 7.72c-.78.78-.78 2.05 0 2.83L4 21.41c.39.39.9.59 1.41.59.51 0 1.02-.2 1.41-.59l7.78-7.78 2.81-2.81c.8-.78.8-2.07 0-2.86zM5.41 20L4 18.59l7.72-7.72 1.47 1.35L5.41 20z\"/>\n",
              "  </svg>\n",
              "      </button>\n",
              "      \n",
              "  <style>\n",
              "    .colab-df-container {\n",
              "      display:flex;\n",
              "      flex-wrap:wrap;\n",
              "      gap: 12px;\n",
              "    }\n",
              "\n",
              "    .colab-df-convert {\n",
              "      background-color: #E8F0FE;\n",
              "      border: none;\n",
              "      border-radius: 50%;\n",
              "      cursor: pointer;\n",
              "      display: none;\n",
              "      fill: #1967D2;\n",
              "      height: 32px;\n",
              "      padding: 0 0 0 0;\n",
              "      width: 32px;\n",
              "    }\n",
              "\n",
              "    .colab-df-convert:hover {\n",
              "      background-color: #E2EBFA;\n",
              "      box-shadow: 0px 1px 2px rgba(60, 64, 67, 0.3), 0px 1px 3px 1px rgba(60, 64, 67, 0.15);\n",
              "      fill: #174EA6;\n",
              "    }\n",
              "\n",
              "    [theme=dark] .colab-df-convert {\n",
              "      background-color: #3B4455;\n",
              "      fill: #D2E3FC;\n",
              "    }\n",
              "\n",
              "    [theme=dark] .colab-df-convert:hover {\n",
              "      background-color: #434B5C;\n",
              "      box-shadow: 0px 1px 3px 1px rgba(0, 0, 0, 0.15);\n",
              "      filter: drop-shadow(0px 1px 2px rgba(0, 0, 0, 0.3));\n",
              "      fill: #FFFFFF;\n",
              "    }\n",
              "  </style>\n",
              "\n",
              "      <script>\n",
              "        const buttonEl =\n",
              "          document.querySelector('#df-dff6bdec-872e-43d5-8af4-bf67f283b174 button.colab-df-convert');\n",
              "        buttonEl.style.display =\n",
              "          google.colab.kernel.accessAllowed ? 'block' : 'none';\n",
              "\n",
              "        async function convertToInteractive(key) {\n",
              "          const element = document.querySelector('#df-dff6bdec-872e-43d5-8af4-bf67f283b174');\n",
              "          const dataTable =\n",
              "            await google.colab.kernel.invokeFunction('convertToInteractive',\n",
              "                                                     [key], {});\n",
              "          if (!dataTable) return;\n",
              "\n",
              "          const docLinkHtml = 'Like what you see? Visit the ' +\n",
              "            '<a target=\"_blank\" href=https://colab.research.google.com/notebooks/data_table.ipynb>data table notebook</a>'\n",
              "            + ' to learn more about interactive tables.';\n",
              "          element.innerHTML = '';\n",
              "          dataTable['output_type'] = 'display_data';\n",
              "          await google.colab.output.renderOutput(dataTable, element);\n",
              "          const docLink = document.createElement('div');\n",
              "          docLink.innerHTML = docLinkHtml;\n",
              "          element.appendChild(docLink);\n",
              "        }\n",
              "      </script>\n",
              "    </div>\n",
              "  </div>\n",
              "  "
            ]
          },
          "metadata": {},
          "execution_count": 358
        }
      ]
    },
    {
      "cell_type": "code",
      "source": [
        "for col in df.columns:\n",
        "    print('la columna {} tiene {} valores null'.format(col,df[col].isnull().sum()))"
      ],
      "metadata": {
        "id": "dYxVRk11qAuR",
        "outputId": "2e396909-d525-4ca4-c448-3bb1de540fc4",
        "colab": {
          "base_uri": "https://localhost:8080/"
        }
      },
      "execution_count": 366,
      "outputs": [
        {
          "output_type": "stream",
          "name": "stdout",
          "text": [
            "la columna Weight tiene 0 valores null\n",
            "la columna Length1 tiene 0 valores null\n",
            "la columna Length2 tiene 0 valores null\n",
            "la columna Length3 tiene 0 valores null\n",
            "la columna Height tiene 0 valores null\n",
            "la columna Width tiene 0 valores null\n",
            "la columna Beam tiene 0 valores null\n",
            "la columna Bream tiene 0 valores null\n",
            "la columna Parkki tiene 0 valores null\n",
            "la columna Perch tiene 0 valores null\n",
            "la columna Pike tiene 0 valores null\n",
            "la columna Roach tiene 0 valores null\n",
            "la columna Smelt tiene 0 valores null\n",
            "la columna Whitefish tiene 0 valores null\n"
          ]
        }
      ]
    },
    {
      "cell_type": "markdown",
      "source": [
        "**Separa valores en X, y**"
      ],
      "metadata": {
        "id": "et3MkOghVtNa"
      }
    },
    {
      "cell_type": "code",
      "source": [
        "# Dividan\n",
        "X = df.drop('Weight', axis=1)\n",
        "y = df['Weight']\n",
        "X_train, X_test, y_train, y_test = train_test_split(X, y, test_size=0.3, random_state=42)\n"
      ],
      "metadata": {
        "id": "KudPcApcv_0u"
      },
      "execution_count": 360,
      "outputs": []
    },
    {
      "cell_type": "markdown",
      "source": [
        "**Inspeccion de resultados**"
      ],
      "metadata": {
        "id": "8cmMMKkEXJ9t"
      }
    },
    {
      "cell_type": "code",
      "source": [
        "lr = LinearRegression() \n",
        "lr.fit(X_train, y_train)\n",
        "pred = lr.predict(X_test)\n",
        "print(r2_score(y_test, pred))\n"
      ],
      "metadata": {
        "id": "K2TMchM69GLv",
        "outputId": "d368feda-8cd6-420a-d0b5-d90dc632f6ac",
        "colab": {
          "base_uri": "https://localhost:8080/"
        }
      },
      "execution_count": 361,
      "outputs": [
        {
          "output_type": "stream",
          "name": "stdout",
          "text": [
            "0.8757388399789058\n"
          ]
        }
      ]
    },
    {
      "cell_type": "markdown",
      "source": [
        "**Random Forest**"
      ],
      "metadata": {
        "id": "xbnE_OsRV29k"
      }
    },
    {
      "cell_type": "code",
      "source": [
        "rfr = RandomForestRegressor()\n",
        "param_grid = {'max_depth':np.arange(3,11),'max_features':np.arange(1,7),'n_estimators':[60,80,100,150,200]}"
      ],
      "metadata": {
        "id": "ExBCik7j_1pc"
      },
      "execution_count": 362,
      "outputs": []
    },
    {
      "cell_type": "markdown",
      "source": [
        "**GridSearchCV**"
      ],
      "metadata": {
        "id": "SncYwj-6Itv0"
      }
    },
    {
      "cell_type": "code",
      "source": [
        "gscv = GridSearchCV(rfr,param_grid=param_grid,verbose=True,cv=5,n_jobs=-1)\n",
        "gscv.fit(X_train,y_train)\n",
        "gscv.best_params_"
      ],
      "metadata": {
        "id": "XxvgbyFcEPQd",
        "outputId": "d7e93b1f-128e-4a13-fd33-5975723c9077",
        "colab": {
          "base_uri": "https://localhost:8080/"
        }
      },
      "execution_count": 363,
      "outputs": [
        {
          "output_type": "stream",
          "name": "stdout",
          "text": [
            "Fitting 5 folds for each of 240 candidates, totalling 1200 fits\n"
          ]
        },
        {
          "output_type": "execute_result",
          "data": {
            "text/plain": [
              "{'max_depth': 8, 'max_features': 6, 'n_estimators': 80}"
            ]
          },
          "metadata": {},
          "execution_count": 363
        }
      ]
    },
    {
      "cell_type": "code",
      "source": [
        "rfr = RandomForestRegressor(max_depth= 8 ,max_features = 2,n_estimators =100,oob_score=True)\n",
        "rfr.fit(X_train,y_train)"
      ],
      "metadata": {
        "id": "0A-M55K9HEAh",
        "outputId": "0a7595cf-4e86-487c-c9b5-395271499a37",
        "colab": {
          "base_uri": "https://localhost:8080/",
          "height": 74
        }
      },
      "execution_count": 364,
      "outputs": [
        {
          "output_type": "execute_result",
          "data": {
            "text/plain": [
              "RandomForestRegressor(max_depth=8, max_features=2, oob_score=True)"
            ],
            "text/html": [
              "<style>#sk-8d43ef31-d6c4-4885-b810-eb28dbe16cde {color: black;background-color: white;}#sk-8d43ef31-d6c4-4885-b810-eb28dbe16cde pre{padding: 0;}#sk-8d43ef31-d6c4-4885-b810-eb28dbe16cde div.sk-toggleable {background-color: white;}#sk-8d43ef31-d6c4-4885-b810-eb28dbe16cde label.sk-toggleable__label {cursor: pointer;display: block;width: 100%;margin-bottom: 0;padding: 0.3em;box-sizing: border-box;text-align: center;}#sk-8d43ef31-d6c4-4885-b810-eb28dbe16cde label.sk-toggleable__label-arrow:before {content: \"▸\";float: left;margin-right: 0.25em;color: #696969;}#sk-8d43ef31-d6c4-4885-b810-eb28dbe16cde label.sk-toggleable__label-arrow:hover:before {color: black;}#sk-8d43ef31-d6c4-4885-b810-eb28dbe16cde div.sk-estimator:hover label.sk-toggleable__label-arrow:before {color: black;}#sk-8d43ef31-d6c4-4885-b810-eb28dbe16cde div.sk-toggleable__content {max-height: 0;max-width: 0;overflow: hidden;text-align: left;background-color: #f0f8ff;}#sk-8d43ef31-d6c4-4885-b810-eb28dbe16cde div.sk-toggleable__content pre {margin: 0.2em;color: black;border-radius: 0.25em;background-color: #f0f8ff;}#sk-8d43ef31-d6c4-4885-b810-eb28dbe16cde input.sk-toggleable__control:checked~div.sk-toggleable__content {max-height: 200px;max-width: 100%;overflow: auto;}#sk-8d43ef31-d6c4-4885-b810-eb28dbe16cde input.sk-toggleable__control:checked~label.sk-toggleable__label-arrow:before {content: \"▾\";}#sk-8d43ef31-d6c4-4885-b810-eb28dbe16cde div.sk-estimator input.sk-toggleable__control:checked~label.sk-toggleable__label {background-color: #d4ebff;}#sk-8d43ef31-d6c4-4885-b810-eb28dbe16cde div.sk-label input.sk-toggleable__control:checked~label.sk-toggleable__label {background-color: #d4ebff;}#sk-8d43ef31-d6c4-4885-b810-eb28dbe16cde input.sk-hidden--visually {border: 0;clip: rect(1px 1px 1px 1px);clip: rect(1px, 1px, 1px, 1px);height: 1px;margin: -1px;overflow: hidden;padding: 0;position: absolute;width: 1px;}#sk-8d43ef31-d6c4-4885-b810-eb28dbe16cde div.sk-estimator {font-family: monospace;background-color: #f0f8ff;border: 1px dotted black;border-radius: 0.25em;box-sizing: border-box;margin-bottom: 0.5em;}#sk-8d43ef31-d6c4-4885-b810-eb28dbe16cde div.sk-estimator:hover {background-color: #d4ebff;}#sk-8d43ef31-d6c4-4885-b810-eb28dbe16cde div.sk-parallel-item::after {content: \"\";width: 100%;border-bottom: 1px solid gray;flex-grow: 1;}#sk-8d43ef31-d6c4-4885-b810-eb28dbe16cde div.sk-label:hover label.sk-toggleable__label {background-color: #d4ebff;}#sk-8d43ef31-d6c4-4885-b810-eb28dbe16cde div.sk-serial::before {content: \"\";position: absolute;border-left: 1px solid gray;box-sizing: border-box;top: 2em;bottom: 0;left: 50%;}#sk-8d43ef31-d6c4-4885-b810-eb28dbe16cde div.sk-serial {display: flex;flex-direction: column;align-items: center;background-color: white;padding-right: 0.2em;padding-left: 0.2em;}#sk-8d43ef31-d6c4-4885-b810-eb28dbe16cde div.sk-item {z-index: 1;}#sk-8d43ef31-d6c4-4885-b810-eb28dbe16cde div.sk-parallel {display: flex;align-items: stretch;justify-content: center;background-color: white;}#sk-8d43ef31-d6c4-4885-b810-eb28dbe16cde div.sk-parallel::before {content: \"\";position: absolute;border-left: 1px solid gray;box-sizing: border-box;top: 2em;bottom: 0;left: 50%;}#sk-8d43ef31-d6c4-4885-b810-eb28dbe16cde div.sk-parallel-item {display: flex;flex-direction: column;position: relative;background-color: white;}#sk-8d43ef31-d6c4-4885-b810-eb28dbe16cde div.sk-parallel-item:first-child::after {align-self: flex-end;width: 50%;}#sk-8d43ef31-d6c4-4885-b810-eb28dbe16cde div.sk-parallel-item:last-child::after {align-self: flex-start;width: 50%;}#sk-8d43ef31-d6c4-4885-b810-eb28dbe16cde div.sk-parallel-item:only-child::after {width: 0;}#sk-8d43ef31-d6c4-4885-b810-eb28dbe16cde div.sk-dashed-wrapped {border: 1px dashed gray;margin: 0 0.4em 0.5em 0.4em;box-sizing: border-box;padding-bottom: 0.4em;background-color: white;position: relative;}#sk-8d43ef31-d6c4-4885-b810-eb28dbe16cde div.sk-label label {font-family: monospace;font-weight: bold;background-color: white;display: inline-block;line-height: 1.2em;}#sk-8d43ef31-d6c4-4885-b810-eb28dbe16cde div.sk-label-container {position: relative;z-index: 2;text-align: center;}#sk-8d43ef31-d6c4-4885-b810-eb28dbe16cde div.sk-container {/* jupyter's `normalize.less` sets `[hidden] { display: none; }` but bootstrap.min.css set `[hidden] { display: none !important; }` so we also need the `!important` here to be able to override the default hidden behavior on the sphinx rendered scikit-learn.org. See: https://github.com/scikit-learn/scikit-learn/issues/21755 */display: inline-block !important;position: relative;}#sk-8d43ef31-d6c4-4885-b810-eb28dbe16cde div.sk-text-repr-fallback {display: none;}</style><div id=\"sk-8d43ef31-d6c4-4885-b810-eb28dbe16cde\" class=\"sk-top-container\"><div class=\"sk-text-repr-fallback\"><pre>RandomForestRegressor(max_depth=8, max_features=2, oob_score=True)</pre><b>Please rerun this cell to show the HTML repr or trust the notebook.</b></div><div class=\"sk-container\" hidden><div class=\"sk-item\"><div class=\"sk-estimator sk-toggleable\"><input class=\"sk-toggleable__control sk-hidden--visually\" id=\"d88d9bb9-a0a6-4948-bf3f-9b5da45baa74\" type=\"checkbox\" checked><label for=\"d88d9bb9-a0a6-4948-bf3f-9b5da45baa74\" class=\"sk-toggleable__label sk-toggleable__label-arrow\">RandomForestRegressor</label><div class=\"sk-toggleable__content\"><pre>RandomForestRegressor(max_depth=8, max_features=2, oob_score=True)</pre></div></div></div></div></div>"
            ]
          },
          "metadata": {},
          "execution_count": 364
        }
      ]
    },
    {
      "cell_type": "code",
      "source": [
        "print(mean_squared_error(rfr.predict(X_train),y_train))\n",
        "print(mean_squared_error(rfr.predict(X_test),y_test))"
      ],
      "metadata": {
        "id": "YNvkZBE_HW-D",
        "outputId": "affbb30d-1145-407c-bf72-640c6d8194dd",
        "colab": {
          "base_uri": "https://localhost:8080/"
        }
      },
      "execution_count": 365,
      "outputs": [
        {
          "output_type": "stream",
          "name": "stdout",
          "text": [
            "1624.657123831394\n",
            "3521.3085025711957\n"
          ]
        }
      ]
    },
    {
      "cell_type": "markdown",
      "source": [
        "**Segun los resultados obtenidos el modelo que mejor se acomoda es el de regresion lineal (mas cercano a 100)**"
      ],
      "metadata": {
        "id": "jG4_uvGuLgiC"
      }
    }
  ]
}