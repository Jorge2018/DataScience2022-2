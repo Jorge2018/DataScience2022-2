{
  "nbformat": 4,
  "nbformat_minor": 0,
  "metadata": {
    "colab": {
      "name": "Untitled26.ipynb",
      "provenance": [],
      "authorship_tag": "ABX9TyOqzh3fnxidFCf31mDovNtC",
      "include_colab_link": true
    },
    "kernelspec": {
      "name": "python3",
      "display_name": "Python 3"
    },
    "language_info": {
      "name": "python"
    }
  },
  "cells": [
    {
      "cell_type": "markdown",
      "metadata": {
        "id": "view-in-github",
        "colab_type": "text"
      },
      "source": [
        "<a href=\"https://colab.research.google.com/github/Jorge2018/DataScience2022-2/blob/main/Script_SimpleImputer.ipynb\" target=\"_parent\"><img src=\"https://colab.research.google.com/assets/colab-badge.svg\" alt=\"Open In Colab\"/></a>"
      ]
    },
    {
      "cell_type": "code",
      "source": [
        "########### Codigo lee archivo excel desde github\n",
        "import pandas as pd\n",
        "import numpy as np\n",
        "from pandas import DataFrame\n",
        "import re\n",
        "import requests\n",
        "import matplotlib.pyplot as plt\n",
        "from sklearn.preprocessing import OrdinalEncoder\n",
        "from sklearn.preprocessing import OneHotEncoder, StandardScaler\n",
        "from sklearn.impute import SimpleImputer\n",
        "from sklearn.compose import make_column_selector, make_column_transformer\n",
        "from sklearn.preprocessing import StandardScaler\n",
        "from sklearn.model_selection import train_test_split\n",
        "from sklearn import set_config\n",
        "set_config(display='diagram')\n",
        "\n",
        "\n",
        "url = \"https://github.com/Jorge2018/RepositorioArchivos/blob/main/medical_data.xlsx?raw=true\"\n",
        "\n",
        "response = requests.get(url)\n",
        "\n",
        "dest = 'local-file.xlsx'\n",
        "\n",
        "with open(dest, 'wb') as file:\n",
        "    file.write(response.content)\n",
        "\n",
        "df = pd.read_excel(dest)\n",
        "\n",
        "df.head()"
      ],
      "metadata": {
        "colab": {
          "base_uri": "https://localhost:8080/",
          "height": 299
        },
        "id": "fWrD-sddQoEs",
        "outputId": "11e66036-ebb7-4a94-8954-4b280b6fde6c"
      },
      "execution_count": 26,
      "outputs": [
        {
          "output_type": "execute_result",
          "data": {
            "text/plain": [
              "  State       Lat       Lng      Area  Children   Age    Income   Marital  \\\n",
              "0    AL  34.34960 -86.72508  Suburban       1.0  53.0  86575.93  Divorced   \n",
              "1    FL  30.84513 -85.22907     Urban       3.0  51.0  46805.99   Married   \n",
              "2    SD  43.54321 -96.63772  Suburban       3.0  53.0  14370.14   Widowed   \n",
              "3    MN  43.89744 -93.51479  Suburban       0.0  78.0  39741.49   Married   \n",
              "4    VA  37.59894 -76.88958     Rural       1.0  22.0   1209.56   Widowed   \n",
              "\n",
              "   Gender  ReAdmis  ...  Hyperlipidemia  BackPain  Anxiety  Allergic_rhinitis  \\\n",
              "0    Male      0.0  ...             0.0       1.0      1.0                1.0   \n",
              "1  Female      0.0  ...             0.0       0.0      0.0                0.0   \n",
              "2  Female      0.0  ...             0.0       0.0      0.0                0.0   \n",
              "3    Male      0.0  ...             0.0       0.0      0.0                0.0   \n",
              "4  Female      0.0  ...             1.0       0.0      0.0                1.0   \n",
              "\n",
              "   Reflux_esophagitis Asthma     Services  Initial_days  TotalCharge  \\\n",
              "0                 0.0    1.0   Blood Work     10.585770  3726.702860   \n",
              "1                 1.0    0.0  Intravenous     15.129562  4193.190458   \n",
              "2                 0.0    0.0   Blood Work      4.772177  2434.234222   \n",
              "3                 1.0    1.0   Blood Work      1.714879  2127.830423   \n",
              "4                 0.0    0.0      CT Scan      1.254807  2113.073274   \n",
              "\n",
              "   Additional_charges  \n",
              "0        17939.403420  \n",
              "1        17612.998120  \n",
              "2        17505.192460  \n",
              "3        12993.437350  \n",
              "4         3716.525786  \n",
              "\n",
              "[5 rows x 32 columns]"
            ],
            "text/html": [
              "\n",
              "  <div id=\"df-627be985-b9fe-4065-836d-b50b49cf8842\">\n",
              "    <div class=\"colab-df-container\">\n",
              "      <div>\n",
              "<style scoped>\n",
              "    .dataframe tbody tr th:only-of-type {\n",
              "        vertical-align: middle;\n",
              "    }\n",
              "\n",
              "    .dataframe tbody tr th {\n",
              "        vertical-align: top;\n",
              "    }\n",
              "\n",
              "    .dataframe thead th {\n",
              "        text-align: right;\n",
              "    }\n",
              "</style>\n",
              "<table border=\"1\" class=\"dataframe\">\n",
              "  <thead>\n",
              "    <tr style=\"text-align: right;\">\n",
              "      <th></th>\n",
              "      <th>State</th>\n",
              "      <th>Lat</th>\n",
              "      <th>Lng</th>\n",
              "      <th>Area</th>\n",
              "      <th>Children</th>\n",
              "      <th>Age</th>\n",
              "      <th>Income</th>\n",
              "      <th>Marital</th>\n",
              "      <th>Gender</th>\n",
              "      <th>ReAdmis</th>\n",
              "      <th>...</th>\n",
              "      <th>Hyperlipidemia</th>\n",
              "      <th>BackPain</th>\n",
              "      <th>Anxiety</th>\n",
              "      <th>Allergic_rhinitis</th>\n",
              "      <th>Reflux_esophagitis</th>\n",
              "      <th>Asthma</th>\n",
              "      <th>Services</th>\n",
              "      <th>Initial_days</th>\n",
              "      <th>TotalCharge</th>\n",
              "      <th>Additional_charges</th>\n",
              "    </tr>\n",
              "  </thead>\n",
              "  <tbody>\n",
              "    <tr>\n",
              "      <th>0</th>\n",
              "      <td>AL</td>\n",
              "      <td>34.34960</td>\n",
              "      <td>-86.72508</td>\n",
              "      <td>Suburban</td>\n",
              "      <td>1.0</td>\n",
              "      <td>53.0</td>\n",
              "      <td>86575.93</td>\n",
              "      <td>Divorced</td>\n",
              "      <td>Male</td>\n",
              "      <td>0.0</td>\n",
              "      <td>...</td>\n",
              "      <td>0.0</td>\n",
              "      <td>1.0</td>\n",
              "      <td>1.0</td>\n",
              "      <td>1.0</td>\n",
              "      <td>0.0</td>\n",
              "      <td>1.0</td>\n",
              "      <td>Blood Work</td>\n",
              "      <td>10.585770</td>\n",
              "      <td>3726.702860</td>\n",
              "      <td>17939.403420</td>\n",
              "    </tr>\n",
              "    <tr>\n",
              "      <th>1</th>\n",
              "      <td>FL</td>\n",
              "      <td>30.84513</td>\n",
              "      <td>-85.22907</td>\n",
              "      <td>Urban</td>\n",
              "      <td>3.0</td>\n",
              "      <td>51.0</td>\n",
              "      <td>46805.99</td>\n",
              "      <td>Married</td>\n",
              "      <td>Female</td>\n",
              "      <td>0.0</td>\n",
              "      <td>...</td>\n",
              "      <td>0.0</td>\n",
              "      <td>0.0</td>\n",
              "      <td>0.0</td>\n",
              "      <td>0.0</td>\n",
              "      <td>1.0</td>\n",
              "      <td>0.0</td>\n",
              "      <td>Intravenous</td>\n",
              "      <td>15.129562</td>\n",
              "      <td>4193.190458</td>\n",
              "      <td>17612.998120</td>\n",
              "    </tr>\n",
              "    <tr>\n",
              "      <th>2</th>\n",
              "      <td>SD</td>\n",
              "      <td>43.54321</td>\n",
              "      <td>-96.63772</td>\n",
              "      <td>Suburban</td>\n",
              "      <td>3.0</td>\n",
              "      <td>53.0</td>\n",
              "      <td>14370.14</td>\n",
              "      <td>Widowed</td>\n",
              "      <td>Female</td>\n",
              "      <td>0.0</td>\n",
              "      <td>...</td>\n",
              "      <td>0.0</td>\n",
              "      <td>0.0</td>\n",
              "      <td>0.0</td>\n",
              "      <td>0.0</td>\n",
              "      <td>0.0</td>\n",
              "      <td>0.0</td>\n",
              "      <td>Blood Work</td>\n",
              "      <td>4.772177</td>\n",
              "      <td>2434.234222</td>\n",
              "      <td>17505.192460</td>\n",
              "    </tr>\n",
              "    <tr>\n",
              "      <th>3</th>\n",
              "      <td>MN</td>\n",
              "      <td>43.89744</td>\n",
              "      <td>-93.51479</td>\n",
              "      <td>Suburban</td>\n",
              "      <td>0.0</td>\n",
              "      <td>78.0</td>\n",
              "      <td>39741.49</td>\n",
              "      <td>Married</td>\n",
              "      <td>Male</td>\n",
              "      <td>0.0</td>\n",
              "      <td>...</td>\n",
              "      <td>0.0</td>\n",
              "      <td>0.0</td>\n",
              "      <td>0.0</td>\n",
              "      <td>0.0</td>\n",
              "      <td>1.0</td>\n",
              "      <td>1.0</td>\n",
              "      <td>Blood Work</td>\n",
              "      <td>1.714879</td>\n",
              "      <td>2127.830423</td>\n",
              "      <td>12993.437350</td>\n",
              "    </tr>\n",
              "    <tr>\n",
              "      <th>4</th>\n",
              "      <td>VA</td>\n",
              "      <td>37.59894</td>\n",
              "      <td>-76.88958</td>\n",
              "      <td>Rural</td>\n",
              "      <td>1.0</td>\n",
              "      <td>22.0</td>\n",
              "      <td>1209.56</td>\n",
              "      <td>Widowed</td>\n",
              "      <td>Female</td>\n",
              "      <td>0.0</td>\n",
              "      <td>...</td>\n",
              "      <td>1.0</td>\n",
              "      <td>0.0</td>\n",
              "      <td>0.0</td>\n",
              "      <td>1.0</td>\n",
              "      <td>0.0</td>\n",
              "      <td>0.0</td>\n",
              "      <td>CT Scan</td>\n",
              "      <td>1.254807</td>\n",
              "      <td>2113.073274</td>\n",
              "      <td>3716.525786</td>\n",
              "    </tr>\n",
              "  </tbody>\n",
              "</table>\n",
              "<p>5 rows × 32 columns</p>\n",
              "</div>\n",
              "      <button class=\"colab-df-convert\" onclick=\"convertToInteractive('df-627be985-b9fe-4065-836d-b50b49cf8842')\"\n",
              "              title=\"Convert this dataframe to an interactive table.\"\n",
              "              style=\"display:none;\">\n",
              "        \n",
              "  <svg xmlns=\"http://www.w3.org/2000/svg\" height=\"24px\"viewBox=\"0 0 24 24\"\n",
              "       width=\"24px\">\n",
              "    <path d=\"M0 0h24v24H0V0z\" fill=\"none\"/>\n",
              "    <path d=\"M18.56 5.44l.94 2.06.94-2.06 2.06-.94-2.06-.94-.94-2.06-.94 2.06-2.06.94zm-11 1L8.5 8.5l.94-2.06 2.06-.94-2.06-.94L8.5 2.5l-.94 2.06-2.06.94zm10 10l.94 2.06.94-2.06 2.06-.94-2.06-.94-.94-2.06-.94 2.06-2.06.94z\"/><path d=\"M17.41 7.96l-1.37-1.37c-.4-.4-.92-.59-1.43-.59-.52 0-1.04.2-1.43.59L10.3 9.45l-7.72 7.72c-.78.78-.78 2.05 0 2.83L4 21.41c.39.39.9.59 1.41.59.51 0 1.02-.2 1.41-.59l7.78-7.78 2.81-2.81c.8-.78.8-2.07 0-2.86zM5.41 20L4 18.59l7.72-7.72 1.47 1.35L5.41 20z\"/>\n",
              "  </svg>\n",
              "      </button>\n",
              "      \n",
              "  <style>\n",
              "    .colab-df-container {\n",
              "      display:flex;\n",
              "      flex-wrap:wrap;\n",
              "      gap: 12px;\n",
              "    }\n",
              "\n",
              "    .colab-df-convert {\n",
              "      background-color: #E8F0FE;\n",
              "      border: none;\n",
              "      border-radius: 50%;\n",
              "      cursor: pointer;\n",
              "      display: none;\n",
              "      fill: #1967D2;\n",
              "      height: 32px;\n",
              "      padding: 0 0 0 0;\n",
              "      width: 32px;\n",
              "    }\n",
              "\n",
              "    .colab-df-convert:hover {\n",
              "      background-color: #E2EBFA;\n",
              "      box-shadow: 0px 1px 2px rgba(60, 64, 67, 0.3), 0px 1px 3px 1px rgba(60, 64, 67, 0.15);\n",
              "      fill: #174EA6;\n",
              "    }\n",
              "\n",
              "    [theme=dark] .colab-df-convert {\n",
              "      background-color: #3B4455;\n",
              "      fill: #D2E3FC;\n",
              "    }\n",
              "\n",
              "    [theme=dark] .colab-df-convert:hover {\n",
              "      background-color: #434B5C;\n",
              "      box-shadow: 0px 1px 3px 1px rgba(0, 0, 0, 0.15);\n",
              "      filter: drop-shadow(0px 1px 2px rgba(0, 0, 0, 0.3));\n",
              "      fill: #FFFFFF;\n",
              "    }\n",
              "  </style>\n",
              "\n",
              "      <script>\n",
              "        const buttonEl =\n",
              "          document.querySelector('#df-627be985-b9fe-4065-836d-b50b49cf8842 button.colab-df-convert');\n",
              "        buttonEl.style.display =\n",
              "          google.colab.kernel.accessAllowed ? 'block' : 'none';\n",
              "\n",
              "        async function convertToInteractive(key) {\n",
              "          const element = document.querySelector('#df-627be985-b9fe-4065-836d-b50b49cf8842');\n",
              "          const dataTable =\n",
              "            await google.colab.kernel.invokeFunction('convertToInteractive',\n",
              "                                                     [key], {});\n",
              "          if (!dataTable) return;\n",
              "\n",
              "          const docLinkHtml = 'Like what you see? Visit the ' +\n",
              "            '<a target=\"_blank\" href=https://colab.research.google.com/notebooks/data_table.ipynb>data table notebook</a>'\n",
              "            + ' to learn more about interactive tables.';\n",
              "          element.innerHTML = '';\n",
              "          dataTable['output_type'] = 'display_data';\n",
              "          await google.colab.output.renderOutput(dataTable, element);\n",
              "          const docLink = document.createElement('div');\n",
              "          docLink.innerHTML = docLinkHtml;\n",
              "          element.appendChild(docLink);\n",
              "        }\n",
              "      </script>\n",
              "    </div>\n",
              "  </div>\n",
              "  "
            ]
          },
          "metadata": {},
          "execution_count": 26
        }
      ]
    },
    {
      "cell_type": "markdown",
      "source": [
        "**Revisa datos del DF**"
      ],
      "metadata": {
        "id": "TCX0q9EiVP0u"
      }
    },
    {
      "cell_type": "code",
      "source": [
        "df.info()"
      ],
      "metadata": {
        "colab": {
          "base_uri": "https://localhost:8080/"
        },
        "id": "t8Ksx_ffv7Jk",
        "outputId": "12c6e458-3f40-4b87-bd90-eb82d2262548"
      },
      "execution_count": 27,
      "outputs": [
        {
          "output_type": "stream",
          "name": "stdout",
          "text": [
            "<class 'pandas.core.frame.DataFrame'>\n",
            "RangeIndex: 1000 entries, 0 to 999\n",
            "Data columns (total 32 columns):\n",
            " #   Column              Non-Null Count  Dtype  \n",
            "---  ------              --------------  -----  \n",
            " 0   State               995 non-null    object \n",
            " 1   Lat                 1000 non-null   float64\n",
            " 2   Lng                 1000 non-null   float64\n",
            " 3   Area                995 non-null    object \n",
            " 4   Children            993 non-null    float64\n",
            " 5   Age                 1000 non-null   float64\n",
            " 6   Income              1000 non-null   float64\n",
            " 7   Marital             995 non-null    object \n",
            " 8   Gender              995 non-null    object \n",
            " 9   ReAdmis             1000 non-null   float64\n",
            " 10  VitD_levels         1000 non-null   float64\n",
            " 11  Doc_visits          1000 non-null   float64\n",
            " 12  Full_meals_eaten    1000 non-null   float64\n",
            " 13  vitD_supp           1000 non-null   float64\n",
            " 14  Soft_drink          1000 non-null   float64\n",
            " 15  Initial_admin       995 non-null    object \n",
            " 16  HighBlood           1000 non-null   float64\n",
            " 17  Stroke              1000 non-null   float64\n",
            " 18  Complication_risk   995 non-null    object \n",
            " 19  Overweight          1000 non-null   float64\n",
            " 20  Arthritis           994 non-null    float64\n",
            " 21  Diabetes            994 non-null    float64\n",
            " 22  Hyperlipidemia      998 non-null    float64\n",
            " 23  BackPain            992 non-null    float64\n",
            " 24  Anxiety             998 non-null    float64\n",
            " 25  Allergic_rhinitis   994 non-null    float64\n",
            " 26  Reflux_esophagitis  1000 non-null   float64\n",
            " 27  Asthma              1000 non-null   float64\n",
            " 28  Services            995 non-null    object \n",
            " 29  Initial_days        1000 non-null   float64\n",
            " 30  TotalCharge         1000 non-null   float64\n",
            " 31  Additional_charges  1000 non-null   float64\n",
            "dtypes: float64(25), object(7)\n",
            "memory usage: 250.1+ KB\n"
          ]
        }
      ]
    },
    {
      "cell_type": "markdown",
      "source": [
        "**Muestra los valores null o perdidos**"
      ],
      "metadata": {
        "id": "Bb2kGXcnVjVq"
      }
    },
    {
      "cell_type": "code",
      "source": [
        "print(df.isna().sum().sum(), 'valores perdidos')\n",
        "print(df[df.isna().any(axis=1)].shape)"
      ],
      "metadata": {
        "id": "HaXIuZxiSj-Q",
        "outputId": "9897a953-f930-4354-d82e-43e659010987",
        "colab": {
          "base_uri": "https://localhost:8080/"
        }
      },
      "execution_count": 28,
      "outputs": [
        {
          "output_type": "stream",
          "name": "stdout",
          "text": [
            "72 valores perdidos\n",
            "(70, 32)\n"
          ]
        }
      ]
    },
    {
      "cell_type": "markdown",
      "source": [
        "**Separa valores en X, y**"
      ],
      "metadata": {
        "id": "et3MkOghVtNa"
      }
    },
    {
      "cell_type": "code",
      "source": [
        "X = df.drop(columns = 'Additional_charges')\n",
        "y = df['Additional_charges']\n",
        "X_train, X_test, y_train, y_test = train_test_split(X, y, random_state = 42)\n"
      ],
      "metadata": {
        "id": "KudPcApcv_0u"
      },
      "execution_count": 29,
      "outputs": []
    },
    {
      "cell_type": "markdown",
      "source": [
        "**Instancias y seleccion de selectores de cols (numericas y categoricas), sobre los datos de entrenamiento**"
      ],
      "metadata": {
        "id": "xbnE_OsRV29k"
      }
    },
    {
      "cell_type": "code",
      "source": [
        "# instancien los selectores a nuestros tipos de datos numéricos y categóricos\n",
        "num_selector = make_column_selector(dtype_include='number')\n",
        "cat_selector = make_column_selector(dtype_include='object')\n",
        "# seleccionen las columnas numéricas de cada tipo\n",
        "num_columns = num_selector(X_train)\n",
        "cat_columns = cat_selector(X_train)\n",
        "# comprueben las listas\n",
        "print('numeric columns are', num_columns)\n",
        "print('categorical columns are', cat_columns)\n"
      ],
      "metadata": {
        "id": "ZHes0SzHTDmB",
        "outputId": "f94eaf93-a9ce-4873-f191-1c06a5397b60",
        "colab": {
          "base_uri": "https://localhost:8080/"
        }
      },
      "execution_count": 30,
      "outputs": [
        {
          "output_type": "stream",
          "name": "stdout",
          "text": [
            "numeric columns are ['Lat', 'Lng', 'Children', 'Age', 'Income', 'ReAdmis', 'VitD_levels', 'Doc_visits', 'Full_meals_eaten', 'vitD_supp', 'Soft_drink', 'HighBlood', 'Stroke', 'Overweight', 'Arthritis', 'Diabetes', 'Hyperlipidemia', 'BackPain', 'Anxiety', 'Allergic_rhinitis', 'Reflux_esophagitis', 'Asthma', 'Initial_days', 'TotalCharge']\n",
            "categorical columns are ['State', 'Area', 'Marital', 'Gender', 'Initial_admin', 'Complication_risk', 'Services']\n"
          ]
        }
      ]
    },
    {
      "cell_type": "markdown",
      "source": [
        "**Aisla cols numericas y muestra en cuales hay datos faltantes en el df**"
      ],
      "metadata": {
        "id": "rDgKqbprWcYZ"
      }
    },
    {
      "cell_type": "code",
      "source": [
        "# aíslen las columnas numéricas\n",
        "df_num = df[num_columns]\n",
        "# aíslen las columnas con datos faltantes\n",
        "df_num.loc[:, df_num.isna().any()]\n",
        "\n"
      ],
      "metadata": {
        "id": "vvVbYNQgTOgn",
        "outputId": "5941fcb6-93ac-4aec-bf7f-ad664cd32456",
        "colab": {
          "base_uri": "https://localhost:8080/",
          "height": 424
        }
      },
      "execution_count": 31,
      "outputs": [
        {
          "output_type": "execute_result",
          "data": {
            "text/plain": [
              "     Children  Arthritis  Diabetes  Hyperlipidemia  BackPain  Anxiety  \\\n",
              "0         1.0        1.0       1.0             0.0       1.0      1.0   \n",
              "1         3.0        0.0       0.0             0.0       0.0      0.0   \n",
              "2         3.0        0.0       1.0             0.0       0.0      0.0   \n",
              "3         0.0        1.0       0.0             0.0       0.0      0.0   \n",
              "4         1.0        0.0       NaN             1.0       0.0      0.0   \n",
              "..        ...        ...       ...             ...       ...      ...   \n",
              "995       3.0        0.0       1.0             1.0       0.0      0.0   \n",
              "996       2.0        1.0       0.0             NaN       1.0      1.0   \n",
              "997       0.0        1.0       0.0             1.0       1.0      0.0   \n",
              "998       0.0        1.0       0.0             0.0       0.0      0.0   \n",
              "999       1.0        0.0       0.0             0.0       1.0      0.0   \n",
              "\n",
              "     Allergic_rhinitis  \n",
              "0                  1.0  \n",
              "1                  0.0  \n",
              "2                  0.0  \n",
              "3                  0.0  \n",
              "4                  1.0  \n",
              "..                 ...  \n",
              "995                0.0  \n",
              "996                1.0  \n",
              "997                0.0  \n",
              "998                0.0  \n",
              "999                0.0  \n",
              "\n",
              "[1000 rows x 7 columns]"
            ],
            "text/html": [
              "\n",
              "  <div id=\"df-f6ed3eb7-80e1-458d-a69e-618e1684b6e5\">\n",
              "    <div class=\"colab-df-container\">\n",
              "      <div>\n",
              "<style scoped>\n",
              "    .dataframe tbody tr th:only-of-type {\n",
              "        vertical-align: middle;\n",
              "    }\n",
              "\n",
              "    .dataframe tbody tr th {\n",
              "        vertical-align: top;\n",
              "    }\n",
              "\n",
              "    .dataframe thead th {\n",
              "        text-align: right;\n",
              "    }\n",
              "</style>\n",
              "<table border=\"1\" class=\"dataframe\">\n",
              "  <thead>\n",
              "    <tr style=\"text-align: right;\">\n",
              "      <th></th>\n",
              "      <th>Children</th>\n",
              "      <th>Arthritis</th>\n",
              "      <th>Diabetes</th>\n",
              "      <th>Hyperlipidemia</th>\n",
              "      <th>BackPain</th>\n",
              "      <th>Anxiety</th>\n",
              "      <th>Allergic_rhinitis</th>\n",
              "    </tr>\n",
              "  </thead>\n",
              "  <tbody>\n",
              "    <tr>\n",
              "      <th>0</th>\n",
              "      <td>1.0</td>\n",
              "      <td>1.0</td>\n",
              "      <td>1.0</td>\n",
              "      <td>0.0</td>\n",
              "      <td>1.0</td>\n",
              "      <td>1.0</td>\n",
              "      <td>1.0</td>\n",
              "    </tr>\n",
              "    <tr>\n",
              "      <th>1</th>\n",
              "      <td>3.0</td>\n",
              "      <td>0.0</td>\n",
              "      <td>0.0</td>\n",
              "      <td>0.0</td>\n",
              "      <td>0.0</td>\n",
              "      <td>0.0</td>\n",
              "      <td>0.0</td>\n",
              "    </tr>\n",
              "    <tr>\n",
              "      <th>2</th>\n",
              "      <td>3.0</td>\n",
              "      <td>0.0</td>\n",
              "      <td>1.0</td>\n",
              "      <td>0.0</td>\n",
              "      <td>0.0</td>\n",
              "      <td>0.0</td>\n",
              "      <td>0.0</td>\n",
              "    </tr>\n",
              "    <tr>\n",
              "      <th>3</th>\n",
              "      <td>0.0</td>\n",
              "      <td>1.0</td>\n",
              "      <td>0.0</td>\n",
              "      <td>0.0</td>\n",
              "      <td>0.0</td>\n",
              "      <td>0.0</td>\n",
              "      <td>0.0</td>\n",
              "    </tr>\n",
              "    <tr>\n",
              "      <th>4</th>\n",
              "      <td>1.0</td>\n",
              "      <td>0.0</td>\n",
              "      <td>NaN</td>\n",
              "      <td>1.0</td>\n",
              "      <td>0.0</td>\n",
              "      <td>0.0</td>\n",
              "      <td>1.0</td>\n",
              "    </tr>\n",
              "    <tr>\n",
              "      <th>...</th>\n",
              "      <td>...</td>\n",
              "      <td>...</td>\n",
              "      <td>...</td>\n",
              "      <td>...</td>\n",
              "      <td>...</td>\n",
              "      <td>...</td>\n",
              "      <td>...</td>\n",
              "    </tr>\n",
              "    <tr>\n",
              "      <th>995</th>\n",
              "      <td>3.0</td>\n",
              "      <td>0.0</td>\n",
              "      <td>1.0</td>\n",
              "      <td>1.0</td>\n",
              "      <td>0.0</td>\n",
              "      <td>0.0</td>\n",
              "      <td>0.0</td>\n",
              "    </tr>\n",
              "    <tr>\n",
              "      <th>996</th>\n",
              "      <td>2.0</td>\n",
              "      <td>1.0</td>\n",
              "      <td>0.0</td>\n",
              "      <td>NaN</td>\n",
              "      <td>1.0</td>\n",
              "      <td>1.0</td>\n",
              "      <td>1.0</td>\n",
              "    </tr>\n",
              "    <tr>\n",
              "      <th>997</th>\n",
              "      <td>0.0</td>\n",
              "      <td>1.0</td>\n",
              "      <td>0.0</td>\n",
              "      <td>1.0</td>\n",
              "      <td>1.0</td>\n",
              "      <td>0.0</td>\n",
              "      <td>0.0</td>\n",
              "    </tr>\n",
              "    <tr>\n",
              "      <th>998</th>\n",
              "      <td>0.0</td>\n",
              "      <td>1.0</td>\n",
              "      <td>0.0</td>\n",
              "      <td>0.0</td>\n",
              "      <td>0.0</td>\n",
              "      <td>0.0</td>\n",
              "      <td>0.0</td>\n",
              "    </tr>\n",
              "    <tr>\n",
              "      <th>999</th>\n",
              "      <td>1.0</td>\n",
              "      <td>0.0</td>\n",
              "      <td>0.0</td>\n",
              "      <td>0.0</td>\n",
              "      <td>1.0</td>\n",
              "      <td>0.0</td>\n",
              "      <td>0.0</td>\n",
              "    </tr>\n",
              "  </tbody>\n",
              "</table>\n",
              "<p>1000 rows × 7 columns</p>\n",
              "</div>\n",
              "      <button class=\"colab-df-convert\" onclick=\"convertToInteractive('df-f6ed3eb7-80e1-458d-a69e-618e1684b6e5')\"\n",
              "              title=\"Convert this dataframe to an interactive table.\"\n",
              "              style=\"display:none;\">\n",
              "        \n",
              "  <svg xmlns=\"http://www.w3.org/2000/svg\" height=\"24px\"viewBox=\"0 0 24 24\"\n",
              "       width=\"24px\">\n",
              "    <path d=\"M0 0h24v24H0V0z\" fill=\"none\"/>\n",
              "    <path d=\"M18.56 5.44l.94 2.06.94-2.06 2.06-.94-2.06-.94-.94-2.06-.94 2.06-2.06.94zm-11 1L8.5 8.5l.94-2.06 2.06-.94-2.06-.94L8.5 2.5l-.94 2.06-2.06.94zm10 10l.94 2.06.94-2.06 2.06-.94-2.06-.94-.94-2.06-.94 2.06-2.06.94z\"/><path d=\"M17.41 7.96l-1.37-1.37c-.4-.4-.92-.59-1.43-.59-.52 0-1.04.2-1.43.59L10.3 9.45l-7.72 7.72c-.78.78-.78 2.05 0 2.83L4 21.41c.39.39.9.59 1.41.59.51 0 1.02-.2 1.41-.59l7.78-7.78 2.81-2.81c.8-.78.8-2.07 0-2.86zM5.41 20L4 18.59l7.72-7.72 1.47 1.35L5.41 20z\"/>\n",
              "  </svg>\n",
              "      </button>\n",
              "      \n",
              "  <style>\n",
              "    .colab-df-container {\n",
              "      display:flex;\n",
              "      flex-wrap:wrap;\n",
              "      gap: 12px;\n",
              "    }\n",
              "\n",
              "    .colab-df-convert {\n",
              "      background-color: #E8F0FE;\n",
              "      border: none;\n",
              "      border-radius: 50%;\n",
              "      cursor: pointer;\n",
              "      display: none;\n",
              "      fill: #1967D2;\n",
              "      height: 32px;\n",
              "      padding: 0 0 0 0;\n",
              "      width: 32px;\n",
              "    }\n",
              "\n",
              "    .colab-df-convert:hover {\n",
              "      background-color: #E2EBFA;\n",
              "      box-shadow: 0px 1px 2px rgba(60, 64, 67, 0.3), 0px 1px 3px 1px rgba(60, 64, 67, 0.15);\n",
              "      fill: #174EA6;\n",
              "    }\n",
              "\n",
              "    [theme=dark] .colab-df-convert {\n",
              "      background-color: #3B4455;\n",
              "      fill: #D2E3FC;\n",
              "    }\n",
              "\n",
              "    [theme=dark] .colab-df-convert:hover {\n",
              "      background-color: #434B5C;\n",
              "      box-shadow: 0px 1px 3px 1px rgba(0, 0, 0, 0.15);\n",
              "      filter: drop-shadow(0px 1px 2px rgba(0, 0, 0, 0.3));\n",
              "      fill: #FFFFFF;\n",
              "    }\n",
              "  </style>\n",
              "\n",
              "      <script>\n",
              "        const buttonEl =\n",
              "          document.querySelector('#df-f6ed3eb7-80e1-458d-a69e-618e1684b6e5 button.colab-df-convert');\n",
              "        buttonEl.style.display =\n",
              "          google.colab.kernel.accessAllowed ? 'block' : 'none';\n",
              "\n",
              "        async function convertToInteractive(key) {\n",
              "          const element = document.querySelector('#df-f6ed3eb7-80e1-458d-a69e-618e1684b6e5');\n",
              "          const dataTable =\n",
              "            await google.colab.kernel.invokeFunction('convertToInteractive',\n",
              "                                                     [key], {});\n",
              "          if (!dataTable) return;\n",
              "\n",
              "          const docLinkHtml = 'Like what you see? Visit the ' +\n",
              "            '<a target=\"_blank\" href=https://colab.research.google.com/notebooks/data_table.ipynb>data table notebook</a>'\n",
              "            + ' to learn more about interactive tables.';\n",
              "          element.innerHTML = '';\n",
              "          dataTable['output_type'] = 'display_data';\n",
              "          await google.colab.output.renderOutput(dataTable, element);\n",
              "          const docLink = document.createElement('div');\n",
              "          docLink.innerHTML = docLinkHtml;\n",
              "          element.appendChild(docLink);\n",
              "        }\n",
              "      </script>\n",
              "    </div>\n",
              "  </div>\n",
              "  "
            ]
          },
          "metadata": {},
          "execution_count": 31
        }
      ]
    },
    {
      "cell_type": "markdown",
      "source": [
        "**Comprobacion de datos faltantes del df de entrenamiento**"
      ],
      "metadata": {
        "id": "1PYKMNWAW-A5"
      }
    },
    {
      "cell_type": "code",
      "source": [
        "#comprobacion de datos faltantes en el df de entrenamiento\n",
        "X_train.isna().any()\n"
      ],
      "metadata": {
        "id": "M5HU8crfTjk4",
        "outputId": "135acc43-d59c-46cd-89bc-a5292be4c891",
        "colab": {
          "base_uri": "https://localhost:8080/"
        }
      },
      "execution_count": 32,
      "outputs": [
        {
          "output_type": "execute_result",
          "data": {
            "text/plain": [
              "State                  True\n",
              "Lat                   False\n",
              "Lng                   False\n",
              "Area                   True\n",
              "Children               True\n",
              "Age                   False\n",
              "Income                False\n",
              "Marital                True\n",
              "Gender                 True\n",
              "ReAdmis               False\n",
              "VitD_levels           False\n",
              "Doc_visits            False\n",
              "Full_meals_eaten      False\n",
              "vitD_supp             False\n",
              "Soft_drink            False\n",
              "Initial_admin          True\n",
              "HighBlood             False\n",
              "Stroke                False\n",
              "Complication_risk      True\n",
              "Overweight            False\n",
              "Arthritis              True\n",
              "Diabetes               True\n",
              "Hyperlipidemia         True\n",
              "BackPain               True\n",
              "Anxiety                True\n",
              "Allergic_rhinitis      True\n",
              "Reflux_esophagitis    False\n",
              "Asthma                False\n",
              "Services               True\n",
              "Initial_days          False\n",
              "TotalCharge           False\n",
              "dtype: bool"
            ]
          },
          "metadata": {},
          "execution_count": 32
        }
      ]
    },
    {
      "cell_type": "markdown",
      "source": [
        "**Instancia el metodo con estrategia median, luego lo imputa en los datos de entrenamiento (fit) y por ultimo ejecuta este codigo (transform)**"
      ],
      "metadata": {
        "id": "8cmMMKkEXJ9t"
      }
    },
    {
      "cell_type": "code",
      "source": [
        "# Instancien el objeto imputer de la clase SimpleImputer con la estrategia 'median'\n",
        "median_imputer = SimpleImputer(strategy='median')\n",
        "# Encajen el objeto imputer en los datos de entrenamiento numérico con .fit() \n",
        "# calculen las medianas (medians) de las columnas en el conjunto de entrenamiento\n",
        "median_imputer.fit(X_train[num_columns])\n",
        "#Utilicen la mediana a partir de los datos de entrenamiento para rellenar los valores que en falten\n",
        "#las columnas numericas de los conjuntos de entrenamiento y de prueba con  .transform()\n",
        "X_train.loc[:, num_columns] = median_imputer.transform(X_train[num_columns])\n",
        "X_test.loc[:, num_columns] = median_imputer.transform(X_test[num_columns])\n"
      ],
      "metadata": {
        "id": "O-rXbj54TxJO"
      },
      "execution_count": 33,
      "outputs": []
    },
    {
      "cell_type": "markdown",
      "source": [
        "**Comprueba si existen valores null en el df de entrenamiento**"
      ],
      "metadata": {
        "id": "52p-7gzMZZAX"
      }
    },
    {
      "cell_type": "code",
      "source": [
        "X_train.isna().any()"
      ],
      "metadata": {
        "id": "Os_85HHlUEKq",
        "outputId": "da6e92bd-6121-4add-8be1-8d76c2a9b5cb",
        "colab": {
          "base_uri": "https://localhost:8080/"
        }
      },
      "execution_count": 34,
      "outputs": [
        {
          "output_type": "execute_result",
          "data": {
            "text/plain": [
              "State                  True\n",
              "Lat                   False\n",
              "Lng                   False\n",
              "Area                   True\n",
              "Children              False\n",
              "Age                   False\n",
              "Income                False\n",
              "Marital                True\n",
              "Gender                 True\n",
              "ReAdmis               False\n",
              "VitD_levels           False\n",
              "Doc_visits            False\n",
              "Full_meals_eaten      False\n",
              "vitD_supp             False\n",
              "Soft_drink            False\n",
              "Initial_admin          True\n",
              "HighBlood             False\n",
              "Stroke                False\n",
              "Complication_risk      True\n",
              "Overweight            False\n",
              "Arthritis             False\n",
              "Diabetes              False\n",
              "Hyperlipidemia        False\n",
              "BackPain              False\n",
              "Anxiety               False\n",
              "Allergic_rhinitis     False\n",
              "Reflux_esophagitis    False\n",
              "Asthma                False\n",
              "Services               True\n",
              "Initial_days          False\n",
              "TotalCharge           False\n",
              "dtype: bool"
            ]
          },
          "metadata": {},
          "execution_count": 34
        }
      ]
    },
    {
      "cell_type": "markdown",
      "source": [
        "**Se instancian dos nuevos SimpleImputers esta vez con la mayor frecuencia y la mediana**"
      ],
      "metadata": {
        "id": "YucGHDsjZxHl"
      }
    },
    {
      "cell_type": "code",
      "source": [
        "# Instanciar SimpleImputers con estrategias most_frequent y median\n",
        "freq_imputer = SimpleImputer(strategy='most_frequent')\n",
        "median_imputer = SimpleImputer(strategy='median')\n",
        "\n"
      ],
      "metadata": {
        "id": "-jybas6TZlLU"
      },
      "execution_count": 35,
      "outputs": []
    },
    {
      "cell_type": "markdown",
      "source": [
        "**Creacion de tuplas usando los SimpleImputer que se mencionaron en cada tipo de dato, luego se instancia el transformador de cols**"
      ],
      "metadata": {
        "id": "JmpSdGTwaFvL"
      }
    },
    {
      "cell_type": "code",
      "source": [
        "# creen tuplas de (imputer, selector) para cada tipo de dato\n",
        "num_tuple = (median_imputer, num_selector)\n",
        "cat_tuple = (freq_imputer, cat_selector)\n",
        "col_transformer = make_column_transformer(num_tuple, cat_tuple, remainder='passthrough')\n",
        "col_transformer"
      ],
      "metadata": {
        "id": "GEeNDjvkaEl3",
        "outputId": "eb5b640d-52cd-4301-b553-78f4baf2d59c",
        "colab": {
          "base_uri": "https://localhost:8080/",
          "height": 117
        }
      },
      "execution_count": 36,
      "outputs": [
        {
          "output_type": "execute_result",
          "data": {
            "text/plain": [
              "ColumnTransformer(remainder='passthrough',\n",
              "                  transformers=[('simpleimputer-1',\n",
              "                                 SimpleImputer(strategy='median'),\n",
              "                                 <sklearn.compose._column_transformer.make_column_selector object at 0x7faf8c685890>),\n",
              "                                ('simpleimputer-2',\n",
              "                                 SimpleImputer(strategy='most_frequent'),\n",
              "                                 <sklearn.compose._column_transformer.make_column_selector object at 0x7faf8c685810>)])"
            ],
            "text/html": [
              "<style>#sk-b896edf8-5a1b-4a3b-acd3-491c9e998a28 {color: black;background-color: white;}#sk-b896edf8-5a1b-4a3b-acd3-491c9e998a28 pre{padding: 0;}#sk-b896edf8-5a1b-4a3b-acd3-491c9e998a28 div.sk-toggleable {background-color: white;}#sk-b896edf8-5a1b-4a3b-acd3-491c9e998a28 label.sk-toggleable__label {cursor: pointer;display: block;width: 100%;margin-bottom: 0;padding: 0.3em;box-sizing: border-box;text-align: center;}#sk-b896edf8-5a1b-4a3b-acd3-491c9e998a28 label.sk-toggleable__label-arrow:before {content: \"▸\";float: left;margin-right: 0.25em;color: #696969;}#sk-b896edf8-5a1b-4a3b-acd3-491c9e998a28 label.sk-toggleable__label-arrow:hover:before {color: black;}#sk-b896edf8-5a1b-4a3b-acd3-491c9e998a28 div.sk-estimator:hover label.sk-toggleable__label-arrow:before {color: black;}#sk-b896edf8-5a1b-4a3b-acd3-491c9e998a28 div.sk-toggleable__content {max-height: 0;max-width: 0;overflow: hidden;text-align: left;background-color: #f0f8ff;}#sk-b896edf8-5a1b-4a3b-acd3-491c9e998a28 div.sk-toggleable__content pre {margin: 0.2em;color: black;border-radius: 0.25em;background-color: #f0f8ff;}#sk-b896edf8-5a1b-4a3b-acd3-491c9e998a28 input.sk-toggleable__control:checked~div.sk-toggleable__content {max-height: 200px;max-width: 100%;overflow: auto;}#sk-b896edf8-5a1b-4a3b-acd3-491c9e998a28 input.sk-toggleable__control:checked~label.sk-toggleable__label-arrow:before {content: \"▾\";}#sk-b896edf8-5a1b-4a3b-acd3-491c9e998a28 div.sk-estimator input.sk-toggleable__control:checked~label.sk-toggleable__label {background-color: #d4ebff;}#sk-b896edf8-5a1b-4a3b-acd3-491c9e998a28 div.sk-label input.sk-toggleable__control:checked~label.sk-toggleable__label {background-color: #d4ebff;}#sk-b896edf8-5a1b-4a3b-acd3-491c9e998a28 input.sk-hidden--visually {border: 0;clip: rect(1px 1px 1px 1px);clip: rect(1px, 1px, 1px, 1px);height: 1px;margin: -1px;overflow: hidden;padding: 0;position: absolute;width: 1px;}#sk-b896edf8-5a1b-4a3b-acd3-491c9e998a28 div.sk-estimator {font-family: monospace;background-color: #f0f8ff;border: 1px dotted black;border-radius: 0.25em;box-sizing: border-box;margin-bottom: 0.5em;}#sk-b896edf8-5a1b-4a3b-acd3-491c9e998a28 div.sk-estimator:hover {background-color: #d4ebff;}#sk-b896edf8-5a1b-4a3b-acd3-491c9e998a28 div.sk-parallel-item::after {content: \"\";width: 100%;border-bottom: 1px solid gray;flex-grow: 1;}#sk-b896edf8-5a1b-4a3b-acd3-491c9e998a28 div.sk-label:hover label.sk-toggleable__label {background-color: #d4ebff;}#sk-b896edf8-5a1b-4a3b-acd3-491c9e998a28 div.sk-serial::before {content: \"\";position: absolute;border-left: 1px solid gray;box-sizing: border-box;top: 2em;bottom: 0;left: 50%;}#sk-b896edf8-5a1b-4a3b-acd3-491c9e998a28 div.sk-serial {display: flex;flex-direction: column;align-items: center;background-color: white;padding-right: 0.2em;padding-left: 0.2em;}#sk-b896edf8-5a1b-4a3b-acd3-491c9e998a28 div.sk-item {z-index: 1;}#sk-b896edf8-5a1b-4a3b-acd3-491c9e998a28 div.sk-parallel {display: flex;align-items: stretch;justify-content: center;background-color: white;}#sk-b896edf8-5a1b-4a3b-acd3-491c9e998a28 div.sk-parallel::before {content: \"\";position: absolute;border-left: 1px solid gray;box-sizing: border-box;top: 2em;bottom: 0;left: 50%;}#sk-b896edf8-5a1b-4a3b-acd3-491c9e998a28 div.sk-parallel-item {display: flex;flex-direction: column;position: relative;background-color: white;}#sk-b896edf8-5a1b-4a3b-acd3-491c9e998a28 div.sk-parallel-item:first-child::after {align-self: flex-end;width: 50%;}#sk-b896edf8-5a1b-4a3b-acd3-491c9e998a28 div.sk-parallel-item:last-child::after {align-self: flex-start;width: 50%;}#sk-b896edf8-5a1b-4a3b-acd3-491c9e998a28 div.sk-parallel-item:only-child::after {width: 0;}#sk-b896edf8-5a1b-4a3b-acd3-491c9e998a28 div.sk-dashed-wrapped {border: 1px dashed gray;margin: 0 0.4em 0.5em 0.4em;box-sizing: border-box;padding-bottom: 0.4em;background-color: white;position: relative;}#sk-b896edf8-5a1b-4a3b-acd3-491c9e998a28 div.sk-label label {font-family: monospace;font-weight: bold;background-color: white;display: inline-block;line-height: 1.2em;}#sk-b896edf8-5a1b-4a3b-acd3-491c9e998a28 div.sk-label-container {position: relative;z-index: 2;text-align: center;}#sk-b896edf8-5a1b-4a3b-acd3-491c9e998a28 div.sk-container {/* jupyter's `normalize.less` sets `[hidden] { display: none; }` but bootstrap.min.css set `[hidden] { display: none !important; }` so we also need the `!important` here to be able to override the default hidden behavior on the sphinx rendered scikit-learn.org. See: https://github.com/scikit-learn/scikit-learn/issues/21755 */display: inline-block !important;position: relative;}#sk-b896edf8-5a1b-4a3b-acd3-491c9e998a28 div.sk-text-repr-fallback {display: none;}</style><div id=\"sk-b896edf8-5a1b-4a3b-acd3-491c9e998a28\" class=\"sk-top-container\"><div class=\"sk-text-repr-fallback\"><pre>ColumnTransformer(remainder=&#x27;passthrough&#x27;,\n",
              "                  transformers=[(&#x27;simpleimputer-1&#x27;,\n",
              "                                 SimpleImputer(strategy=&#x27;median&#x27;),\n",
              "                                 &lt;sklearn.compose._column_transformer.make_column_selector object at 0x7faf8c685890&gt;),\n",
              "                                (&#x27;simpleimputer-2&#x27;,\n",
              "                                 SimpleImputer(strategy=&#x27;most_frequent&#x27;),\n",
              "                                 &lt;sklearn.compose._column_transformer.make_column_selector object at 0x7faf8c685810&gt;)])</pre><b>Please rerun this cell to show the HTML repr or trust the notebook.</b></div><div class=\"sk-container\" hidden><div class=\"sk-item sk-dashed-wrapped\"><div class=\"sk-label-container\"><div class=\"sk-label sk-toggleable\"><input class=\"sk-toggleable__control sk-hidden--visually\" id=\"ff3bdf6b-f708-4e2e-964d-becfdb5f4a8b\" type=\"checkbox\" ><label for=\"ff3bdf6b-f708-4e2e-964d-becfdb5f4a8b\" class=\"sk-toggleable__label sk-toggleable__label-arrow\">ColumnTransformer</label><div class=\"sk-toggleable__content\"><pre>ColumnTransformer(remainder=&#x27;passthrough&#x27;,\n",
              "                  transformers=[(&#x27;simpleimputer-1&#x27;,\n",
              "                                 SimpleImputer(strategy=&#x27;median&#x27;),\n",
              "                                 &lt;sklearn.compose._column_transformer.make_column_selector object at 0x7faf8c685890&gt;),\n",
              "                                (&#x27;simpleimputer-2&#x27;,\n",
              "                                 SimpleImputer(strategy=&#x27;most_frequent&#x27;),\n",
              "                                 &lt;sklearn.compose._column_transformer.make_column_selector object at 0x7faf8c685810&gt;)])</pre></div></div></div><div class=\"sk-parallel\"><div class=\"sk-parallel-item\"><div class=\"sk-item\"><div class=\"sk-label-container\"><div class=\"sk-label sk-toggleable\"><input class=\"sk-toggleable__control sk-hidden--visually\" id=\"10c88f68-3a9c-4b55-837c-4b50a9f75e2c\" type=\"checkbox\" ><label for=\"10c88f68-3a9c-4b55-837c-4b50a9f75e2c\" class=\"sk-toggleable__label sk-toggleable__label-arrow\">simpleimputer-1</label><div class=\"sk-toggleable__content\"><pre>&lt;sklearn.compose._column_transformer.make_column_selector object at 0x7faf8c685890&gt;</pre></div></div></div><div class=\"sk-serial\"><div class=\"sk-item\"><div class=\"sk-estimator sk-toggleable\"><input class=\"sk-toggleable__control sk-hidden--visually\" id=\"55059b4d-c4f9-47eb-a0f4-729884a81d32\" type=\"checkbox\" ><label for=\"55059b4d-c4f9-47eb-a0f4-729884a81d32\" class=\"sk-toggleable__label sk-toggleable__label-arrow\">SimpleImputer</label><div class=\"sk-toggleable__content\"><pre>SimpleImputer(strategy=&#x27;median&#x27;)</pre></div></div></div></div></div></div><div class=\"sk-parallel-item\"><div class=\"sk-item\"><div class=\"sk-label-container\"><div class=\"sk-label sk-toggleable\"><input class=\"sk-toggleable__control sk-hidden--visually\" id=\"efa5c027-6759-4ad1-9b28-05dd5e073f31\" type=\"checkbox\" ><label for=\"efa5c027-6759-4ad1-9b28-05dd5e073f31\" class=\"sk-toggleable__label sk-toggleable__label-arrow\">simpleimputer-2</label><div class=\"sk-toggleable__content\"><pre>&lt;sklearn.compose._column_transformer.make_column_selector object at 0x7faf8c685810&gt;</pre></div></div></div><div class=\"sk-serial\"><div class=\"sk-item\"><div class=\"sk-estimator sk-toggleable\"><input class=\"sk-toggleable__control sk-hidden--visually\" id=\"1a0176c6-98be-4fc3-8293-f3de1e787e4e\" type=\"checkbox\" ><label for=\"1a0176c6-98be-4fc3-8293-f3de1e787e4e\" class=\"sk-toggleable__label sk-toggleable__label-arrow\">SimpleImputer</label><div class=\"sk-toggleable__content\"><pre>SimpleImputer(strategy=&#x27;most_frequent&#x27;)</pre></div></div></div></div></div></div><div class=\"sk-parallel-item\"><div class=\"sk-item\"><div class=\"sk-label-container\"><div class=\"sk-label sk-toggleable\"><input class=\"sk-toggleable__control sk-hidden--visually\" id=\"238405d4-d7fc-47c4-b838-5d68cccc7e52\" type=\"checkbox\" ><label for=\"238405d4-d7fc-47c4-b838-5d68cccc7e52\" class=\"sk-toggleable__label sk-toggleable__label-arrow\">remainder</label><div class=\"sk-toggleable__content\"><pre></pre></div></div></div><div class=\"sk-serial\"><div class=\"sk-item\"><div class=\"sk-estimator sk-toggleable\"><input class=\"sk-toggleable__control sk-hidden--visually\" id=\"3f715da1-c542-421c-b3ad-03990187f9a2\" type=\"checkbox\" ><label for=\"3f715da1-c542-421c-b3ad-03990187f9a2\" class=\"sk-toggleable__label sk-toggleable__label-arrow\">passthrough</label><div class=\"sk-toggleable__content\"><pre>passthrough</pre></div></div></div></div></div></div></div></div></div></div>"
            ]
          },
          "metadata": {},
          "execution_count": 36
        }
      ]
    },
    {
      "cell_type": "markdown",
      "source": [
        "**En este ultimo paso, se ajustan los datos al de de entrenamiento, luego los transforma y retorna un arreglo Numpy, para finalizar conviertiendo estos datos en un DF**"
      ],
      "metadata": {
        "id": "Sg_vxIoLbly9"
      }
    },
    {
      "cell_type": "code",
      "source": [
        "# ajustar ColumnTransformer en los datos de entrenamiento\n",
        "col_transformer.fit(X_train)\n",
        "# transformen los datos de entrenamiento y de prueba (esto generará un array de NumPy)\n",
        "X_train_imputed = col_transformer.transform(X_train)\n",
        "X_test_imputed = col_transformer.transform(X_test)\n",
        "# cambien el resultado regreso a un DataFrame\n",
        "X_train_imputed = pd.DataFrame(X_train_imputed, columns=X_train.columns)\n",
        "X_train_imputed.isna().any()\n",
        "\n"
      ],
      "metadata": {
        "id": "uHIk9kENbi81",
        "outputId": "d9c9f510-837e-4a74-862b-e46d4003c2c1",
        "colab": {
          "base_uri": "https://localhost:8080/"
        }
      },
      "execution_count": 37,
      "outputs": [
        {
          "output_type": "execute_result",
          "data": {
            "text/plain": [
              "State                 False\n",
              "Lat                   False\n",
              "Lng                   False\n",
              "Area                  False\n",
              "Children              False\n",
              "Age                   False\n",
              "Income                False\n",
              "Marital               False\n",
              "Gender                False\n",
              "ReAdmis               False\n",
              "VitD_levels           False\n",
              "Doc_visits            False\n",
              "Full_meals_eaten      False\n",
              "vitD_supp             False\n",
              "Soft_drink            False\n",
              "Initial_admin         False\n",
              "HighBlood             False\n",
              "Stroke                False\n",
              "Complication_risk     False\n",
              "Overweight            False\n",
              "Arthritis             False\n",
              "Diabetes              False\n",
              "Hyperlipidemia        False\n",
              "BackPain              False\n",
              "Anxiety               False\n",
              "Allergic_rhinitis     False\n",
              "Reflux_esophagitis    False\n",
              "Asthma                False\n",
              "Services              False\n",
              "Initial_days          False\n",
              "TotalCharge           False\n",
              "dtype: bool"
            ]
          },
          "metadata": {},
          "execution_count": 37
        }
      ]
    }
  ]
}