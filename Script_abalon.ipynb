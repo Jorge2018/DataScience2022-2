{
  "nbformat": 4,
  "nbformat_minor": 0,
  "metadata": {
    "colab": {
      "name": "Untitled26.ipynb",
      "provenance": []
    },
    "kernelspec": {
      "name": "python3",
      "display_name": "Python 3"
    },
    "language_info": {
      "name": "python"
    }
  },
  "cells": [
    {
      "cell_type": "code",
      "source": [
        "import pandas as pd\n",
        "import numpy as np\n",
        "from pandas import DataFrame\n",
        "import re\n",
        "import matplotlib.pyplot as plt\n",
        "from sklearn.preprocessing import OrdinalEncoder\n",
        "from sklearn.preprocessing import OneHotEncoder, StandardScaler\n",
        "from sklearn.impute import SimpleImputer\n",
        "from sklearn.compose import make_column_selector, make_column_transformer\n",
        "from sklearn.preprocessing import StandardScaler\n",
        "from sklearn.model_selection import train_test_split\n",
        "df=pd.read_csv(r'https://raw.githubusercontent.com/Jorge2018/RepositorioArchivos/main/abalone.data')\n",
        "\n"
      ],
      "metadata": {
        "id": "fWrD-sddQoEs"
      },
      "execution_count": 31,
      "outputs": []
    },
    {
      "cell_type": "code",
      "source": [
        "df.info()"
      ],
      "metadata": {
        "colab": {
          "base_uri": "https://localhost:8080/"
        },
        "id": "t8Ksx_ffv7Jk",
        "outputId": "99bb7c51-a4b0-4e7f-a990-6e63cd6b2b8a"
      },
      "execution_count": 32,
      "outputs": [
        {
          "output_type": "stream",
          "name": "stdout",
          "text": [
            "<class 'pandas.core.frame.DataFrame'>\n",
            "RangeIndex: 4176 entries, 0 to 4175\n",
            "Data columns (total 9 columns):\n",
            " #   Column  Non-Null Count  Dtype  \n",
            "---  ------  --------------  -----  \n",
            " 0   M       4176 non-null   object \n",
            " 1   0.455   4176 non-null   float64\n",
            " 2   0.365   4176 non-null   float64\n",
            " 3   0.095   4176 non-null   float64\n",
            " 4   0.514   4176 non-null   float64\n",
            " 5   0.2245  4176 non-null   float64\n",
            " 6   0.101   4176 non-null   float64\n",
            " 7   0.15    4176 non-null   float64\n",
            " 8   15      4176 non-null   int64  \n",
            "dtypes: float64(7), int64(1), object(1)\n",
            "memory usage: 293.8+ KB\n"
          ]
        }
      ]
    },
    {
      "cell_type": "code",
      "source": [
        "lista=['Sex','Length','Diameter','Height','Whole weight','Shucked weight','Viscera weight','Shell weight','Rings']\n",
        "df.columns=lista"
      ],
      "metadata": {
        "id": "ccl2WVYJ5Hg9"
      },
      "execution_count": 33,
      "outputs": []
    },
    {
      "cell_type": "code",
      "source": [
        "X = df.drop(columns = 'Rings')\n",
        "y = df['Rings']\n",
        "X_train, X_test, y_train, y_test = train_test_split(X, y, random_state = 42)\n"
      ],
      "metadata": {
        "id": "KudPcApcv_0u"
      },
      "execution_count": 34,
      "outputs": []
    },
    {
      "cell_type": "code",
      "source": [
        "# Instanciar los selectores de columnas categóricas y numéricas para seleccionar las columnas adecuadas\n",
        "cat_selector = make_column_selector(dtype_include='object')\n",
        "num_selector = make_column_selector(dtype_include='number')\n",
        "\n",
        "# Instanciar el escalador estándar y el codificador one hot\n",
        "scaler = StandardScaler()\n",
        "ohe = OneHotEncoder(handle_unknown='ignore')\n",
        "\n",
        "# emparejamiento de cols con la tranformacion a utilizar. sobre valores numericos se utilizara StandardScaler, mientras sobre los categoricos OneHotEncoder\n",
        "num_tuple = (scaler, num_selector)\n",
        "cat_tuple = (ohe, cat_selector)\n",
        "\n",
        "# instancia de col transformer, utilizando las tuplas creadas anteriormente\n",
        "col_transformer = make_column_transformer(num_tuple, cat_tuple, remainder = 'passthrough')\n",
        "\n",
        "# el transformador de cols solo sera utilizado en los datos de entrenamiento\n",
        "col_transformer.fit(X_train)\n",
        "\n",
        "# se procede con la transformacion de ambos df entrenamiento y prueba\n",
        "X_train_processed = col_transformer.transform(X_train)\n",
        "X_test_processed = col_transformer.transform(X_test)\n",
        "\n",
        "X_train_processed"
      ],
      "metadata": {
        "colab": {
          "base_uri": "https://localhost:8080/"
        },
        "id": "ijfBlfsGwFK5",
        "outputId": "96c39ca0-b0dd-4864-c550-32c46d5287e8"
      },
      "execution_count": 35,
      "outputs": [
        {
          "output_type": "execute_result",
          "data": {
            "text/plain": [
              "array([[-1.54642176, -1.5561698 , -1.05355826, ...,  0.        ,\n",
              "         0.        ,  1.        ],\n",
              "       [ 0.79572536,  0.52191671,  0.7068688 , ...,  0.        ,\n",
              "         0.        ,  1.        ],\n",
              "       [ 0.25201264,  0.31917656,  0.35478338, ...,  1.        ,\n",
              "         0.        ,  0.        ],\n",
              "       ...,\n",
              "       [-0.04075575,  0.21780648,  0.23742158, ...,  1.        ,\n",
              "         0.        ,  0.        ],\n",
              "       [ 0.41930886,  0.52191671,  0.23742158, ...,  1.        ,\n",
              "         0.        ,  0.        ],\n",
              "       [ 0.58660508,  0.57260174,  0.00269797, ...,  1.        ,\n",
              "         0.        ,  0.        ]])"
            ]
          },
          "metadata": {},
          "execution_count": 35
        }
      ]
    },
    {
      "cell_type": "code",
      "source": [
        "# convierte en df y muestra los datos recien creados\n",
        "X_train_df = pd.DataFrame(X_train_processed)\n",
        "X_train_df.head()\n"
      ],
      "metadata": {
        "colab": {
          "base_uri": "https://localhost:8080/",
          "height": 206
        },
        "id": "KcEtwa--yW-3",
        "outputId": "cbfa17c3-a9a3-40e1-b291-53e3522a6cef"
      },
      "execution_count": 36,
      "outputs": [
        {
          "output_type": "execute_result",
          "data": {
            "text/plain": [
              "          0         1         2         3         4         5         6    7  \\\n",
              "0 -1.546422 -1.556170 -1.053558 -1.258947 -1.260633 -1.337852 -1.212341  0.0   \n",
              "1  0.795725  0.521917  0.706869  0.605245  0.789463  0.749584  0.409117  0.0   \n",
              "2  0.252013  0.319177  0.354783  0.378850  0.602065  0.040129  0.172355  1.0   \n",
              "3  1.172142  0.927397  0.824231  1.234461  1.277152  1.490874  0.940037  1.0   \n",
              "4 -1.462774 -1.454800 -1.170920 -1.233452 -1.177094 -1.205966 -1.212341  0.0   \n",
              "\n",
              "     8    9  \n",
              "0  0.0  1.0  \n",
              "1  0.0  1.0  \n",
              "2  0.0  0.0  \n",
              "3  0.0  0.0  \n",
              "4  0.0  1.0  "
            ],
            "text/html": [
              "\n",
              "  <div id=\"df-7248480f-1038-4df3-b565-0cb154316d13\">\n",
              "    <div class=\"colab-df-container\">\n",
              "      <div>\n",
              "<style scoped>\n",
              "    .dataframe tbody tr th:only-of-type {\n",
              "        vertical-align: middle;\n",
              "    }\n",
              "\n",
              "    .dataframe tbody tr th {\n",
              "        vertical-align: top;\n",
              "    }\n",
              "\n",
              "    .dataframe thead th {\n",
              "        text-align: right;\n",
              "    }\n",
              "</style>\n",
              "<table border=\"1\" class=\"dataframe\">\n",
              "  <thead>\n",
              "    <tr style=\"text-align: right;\">\n",
              "      <th></th>\n",
              "      <th>0</th>\n",
              "      <th>1</th>\n",
              "      <th>2</th>\n",
              "      <th>3</th>\n",
              "      <th>4</th>\n",
              "      <th>5</th>\n",
              "      <th>6</th>\n",
              "      <th>7</th>\n",
              "      <th>8</th>\n",
              "      <th>9</th>\n",
              "    </tr>\n",
              "  </thead>\n",
              "  <tbody>\n",
              "    <tr>\n",
              "      <th>0</th>\n",
              "      <td>-1.546422</td>\n",
              "      <td>-1.556170</td>\n",
              "      <td>-1.053558</td>\n",
              "      <td>-1.258947</td>\n",
              "      <td>-1.260633</td>\n",
              "      <td>-1.337852</td>\n",
              "      <td>-1.212341</td>\n",
              "      <td>0.0</td>\n",
              "      <td>0.0</td>\n",
              "      <td>1.0</td>\n",
              "    </tr>\n",
              "    <tr>\n",
              "      <th>1</th>\n",
              "      <td>0.795725</td>\n",
              "      <td>0.521917</td>\n",
              "      <td>0.706869</td>\n",
              "      <td>0.605245</td>\n",
              "      <td>0.789463</td>\n",
              "      <td>0.749584</td>\n",
              "      <td>0.409117</td>\n",
              "      <td>0.0</td>\n",
              "      <td>0.0</td>\n",
              "      <td>1.0</td>\n",
              "    </tr>\n",
              "    <tr>\n",
              "      <th>2</th>\n",
              "      <td>0.252013</td>\n",
              "      <td>0.319177</td>\n",
              "      <td>0.354783</td>\n",
              "      <td>0.378850</td>\n",
              "      <td>0.602065</td>\n",
              "      <td>0.040129</td>\n",
              "      <td>0.172355</td>\n",
              "      <td>1.0</td>\n",
              "      <td>0.0</td>\n",
              "      <td>0.0</td>\n",
              "    </tr>\n",
              "    <tr>\n",
              "      <th>3</th>\n",
              "      <td>1.172142</td>\n",
              "      <td>0.927397</td>\n",
              "      <td>0.824231</td>\n",
              "      <td>1.234461</td>\n",
              "      <td>1.277152</td>\n",
              "      <td>1.490874</td>\n",
              "      <td>0.940037</td>\n",
              "      <td>1.0</td>\n",
              "      <td>0.0</td>\n",
              "      <td>0.0</td>\n",
              "    </tr>\n",
              "    <tr>\n",
              "      <th>4</th>\n",
              "      <td>-1.462774</td>\n",
              "      <td>-1.454800</td>\n",
              "      <td>-1.170920</td>\n",
              "      <td>-1.233452</td>\n",
              "      <td>-1.177094</td>\n",
              "      <td>-1.205966</td>\n",
              "      <td>-1.212341</td>\n",
              "      <td>0.0</td>\n",
              "      <td>0.0</td>\n",
              "      <td>1.0</td>\n",
              "    </tr>\n",
              "  </tbody>\n",
              "</table>\n",
              "</div>\n",
              "      <button class=\"colab-df-convert\" onclick=\"convertToInteractive('df-7248480f-1038-4df3-b565-0cb154316d13')\"\n",
              "              title=\"Convert this dataframe to an interactive table.\"\n",
              "              style=\"display:none;\">\n",
              "        \n",
              "  <svg xmlns=\"http://www.w3.org/2000/svg\" height=\"24px\"viewBox=\"0 0 24 24\"\n",
              "       width=\"24px\">\n",
              "    <path d=\"M0 0h24v24H0V0z\" fill=\"none\"/>\n",
              "    <path d=\"M18.56 5.44l.94 2.06.94-2.06 2.06-.94-2.06-.94-.94-2.06-.94 2.06-2.06.94zm-11 1L8.5 8.5l.94-2.06 2.06-.94-2.06-.94L8.5 2.5l-.94 2.06-2.06.94zm10 10l.94 2.06.94-2.06 2.06-.94-2.06-.94-.94-2.06-.94 2.06-2.06.94z\"/><path d=\"M17.41 7.96l-1.37-1.37c-.4-.4-.92-.59-1.43-.59-.52 0-1.04.2-1.43.59L10.3 9.45l-7.72 7.72c-.78.78-.78 2.05 0 2.83L4 21.41c.39.39.9.59 1.41.59.51 0 1.02-.2 1.41-.59l7.78-7.78 2.81-2.81c.8-.78.8-2.07 0-2.86zM5.41 20L4 18.59l7.72-7.72 1.47 1.35L5.41 20z\"/>\n",
              "  </svg>\n",
              "      </button>\n",
              "      \n",
              "  <style>\n",
              "    .colab-df-container {\n",
              "      display:flex;\n",
              "      flex-wrap:wrap;\n",
              "      gap: 12px;\n",
              "    }\n",
              "\n",
              "    .colab-df-convert {\n",
              "      background-color: #E8F0FE;\n",
              "      border: none;\n",
              "      border-radius: 50%;\n",
              "      cursor: pointer;\n",
              "      display: none;\n",
              "      fill: #1967D2;\n",
              "      height: 32px;\n",
              "      padding: 0 0 0 0;\n",
              "      width: 32px;\n",
              "    }\n",
              "\n",
              "    .colab-df-convert:hover {\n",
              "      background-color: #E2EBFA;\n",
              "      box-shadow: 0px 1px 2px rgba(60, 64, 67, 0.3), 0px 1px 3px 1px rgba(60, 64, 67, 0.15);\n",
              "      fill: #174EA6;\n",
              "    }\n",
              "\n",
              "    [theme=dark] .colab-df-convert {\n",
              "      background-color: #3B4455;\n",
              "      fill: #D2E3FC;\n",
              "    }\n",
              "\n",
              "    [theme=dark] .colab-df-convert:hover {\n",
              "      background-color: #434B5C;\n",
              "      box-shadow: 0px 1px 3px 1px rgba(0, 0, 0, 0.15);\n",
              "      filter: drop-shadow(0px 1px 2px rgba(0, 0, 0, 0.3));\n",
              "      fill: #FFFFFF;\n",
              "    }\n",
              "  </style>\n",
              "\n",
              "      <script>\n",
              "        const buttonEl =\n",
              "          document.querySelector('#df-7248480f-1038-4df3-b565-0cb154316d13 button.colab-df-convert');\n",
              "        buttonEl.style.display =\n",
              "          google.colab.kernel.accessAllowed ? 'block' : 'none';\n",
              "\n",
              "        async function convertToInteractive(key) {\n",
              "          const element = document.querySelector('#df-7248480f-1038-4df3-b565-0cb154316d13');\n",
              "          const dataTable =\n",
              "            await google.colab.kernel.invokeFunction('convertToInteractive',\n",
              "                                                     [key], {});\n",
              "          if (!dataTable) return;\n",
              "\n",
              "          const docLinkHtml = 'Like what you see? Visit the ' +\n",
              "            '<a target=\"_blank\" href=https://colab.research.google.com/notebooks/data_table.ipynb>data table notebook</a>'\n",
              "            + ' to learn more about interactive tables.';\n",
              "          element.innerHTML = '';\n",
              "          dataTable['output_type'] = 'display_data';\n",
              "          await google.colab.output.renderOutput(dataTable, element);\n",
              "          const docLink = document.createElement('div');\n",
              "          docLink.innerHTML = docLinkHtml;\n",
              "          element.appendChild(docLink);\n",
              "        }\n",
              "      </script>\n",
              "    </div>\n",
              "  </div>\n",
              "  "
            ]
          },
          "metadata": {},
          "execution_count": 36
        }
      ]
    }
  ]
}