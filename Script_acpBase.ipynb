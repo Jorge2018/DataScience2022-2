{
  "nbformat": 4,
  "nbformat_minor": 0,
  "metadata": {
    "colab": {
      "provenance": [],
      "authorship_tag": "ABX9TyOvfx6akpgcpg8daeZNg5Dq",
      "include_colab_link": true
    },
    "kernelspec": {
      "name": "python3",
      "display_name": "Python 3"
    },
    "language_info": {
      "name": "python"
    }
  },
  "cells": [
    {
      "cell_type": "markdown",
      "metadata": {
        "id": "view-in-github",
        "colab_type": "text"
      },
      "source": [
        "<a href=\"https://colab.research.google.com/github/Jorge2018/DataScience2022-2/blob/main/Script_acpBase.ipynb\" target=\"_parent\"><img src=\"https://colab.research.google.com/assets/colab-badge.svg\" alt=\"Open In Colab\"/></a>"
      ]
    },
    {
      "cell_type": "code",
      "execution_count": 103,
      "metadata": {
        "id": "oXZ5GN0UOMGi"
      },
      "outputs": [],
      "source": [
        "# Imports\n",
        "import numpy as np\n",
        "import matplotlib.pyplot as plt\n",
        "import pandas as pd\n",
        "from sklearn.preprocessing import LabelEncoder, StandardScaler\n",
        "from sklearn.model_selection import train_test_split\n",
        "from sklearn.decomposition import PCA\n",
        "from sklearn.linear_model import LogisticRegression\n",
        "from sklearn.pipeline import make_pipeline\n",
        "from sklearn.neighbors import KNeighborsClassifier\n",
        "from sklearn.metrics import confusion_matrix, classification_report, accuracy_score, precision_score, recall_score, f1_score\n"
      ]
    },
    {
      "cell_type": "markdown",
      "source": [
        "# Carga datos\n",
        "*y separacion de estos de la columna obejtivo*"
      ],
      "metadata": {
        "id": "lul1o6niPKx7"
      }
    },
    {
      "cell_type": "code",
      "source": [
        "from keras.datasets import mnist\n",
        "# load data\n",
        "(X_train, y_train), (X_test, y_test) = mnist.load_data()\n",
        "# reshape data\n",
        "X_train = X_train.reshape(X_train.shape[0], -1)\n",
        "X_test = X_test.reshape(X_test.shape[0], -1)\n"
      ],
      "metadata": {
        "id": "nEHRl1lvOnX6"
      },
      "execution_count": 104,
      "outputs": []
    },
    {
      "cell_type": "markdown",
      "source": [
        "#Pipeline ACP con Standard Scaler\n"
      ],
      "metadata": {
        "id": "8jtGMD1vVrAS"
      }
    },
    {
      "cell_type": "code",
      "source": [
        "import time\n",
        "import warnings\n",
        "warnings.filterwarnings('ignore')\n",
        "\n",
        "lista=[100,300,500,700,750]\n",
        "df_rev=pd.DataFrame()\n",
        "for i in lista:\n",
        "  start = time.time()\n",
        "  transformer = make_pipeline(StandardScaler(), PCA(n_components=i))\n",
        "  logreg = LogisticRegression()\n",
        "# Create a modeling pipeline\n",
        "  logreg_pipe = make_pipeline(transformer, logreg)\n",
        "  logreg_pipe.fit(X_train, y_train)\n",
        "  t_train=logreg_pipe.score(X_train, y_train)\n",
        "  t_test=logreg_pipe.score(X_test, y_test)\n",
        "  end = time.time()\n",
        "  t_proc=end-start\n",
        "  valor_ = pd.DataFrame({\"accuracy_train\":[t_train], \"accuracy_test\":[t_test],\"time_proceso\":[t_proc],\"componentes\":[i],\"model\":['PCA']})\n",
        "  df_rev=df_rev.append(valor_)\n"
      ],
      "metadata": {
        "id": "0ie42NEXcdVx"
      },
      "execution_count": 105,
      "outputs": []
    },
    {
      "cell_type": "markdown",
      "source": [
        "#Pipeline KNN con Standard Scaler\n",
        "\n"
      ],
      "metadata": {
        "id": "JgFBt1X5-jRj"
      }
    },
    {
      "cell_type": "code",
      "source": [
        "  lista=[10,30,50,70,100]\n",
        "  ###  KNN\n",
        "  for i in lista:\n",
        "    start = time.time()\n",
        "    knn = KNeighborsClassifier(n_neighbors=i)\n",
        "    knn_pipe = make_pipeline(StandardScaler(), knn)\n",
        "    knn_pipe.fit(X_train, y_train)\n",
        "    t_train=knn_pipe.score(X_train, y_train)\n",
        "    t_test=knn_pipe.score(X_test, y_test)\n",
        "    end = time.time()\n",
        "    t_proc=end-start\n",
        "    valor_ = pd.DataFrame({\"accuracy_train\":[t_train], \"accuracy_test\":[t_test],\"time_proceso\":[t_proc],\"componentes\":[i],\"model\":['KNN']})\n",
        "    df_rev=df_rev.append(valor_)\n",
        "df_rev\n"
      ],
      "metadata": {
        "colab": {
          "base_uri": "https://localhost:8080/",
          "height": 363
        },
        "id": "VG6M49wA2K3t",
        "outputId": "aa19780c-f6b6-46c9-92e2-7cc8962a03ba"
      },
      "execution_count": 106,
      "outputs": [
        {
          "output_type": "execute_result",
          "data": {
            "text/plain": [
              "   accuracy_train  accuracy_test  time_proceso  componentes model\n",
              "0        0.920883         0.9204     20.149693          100   PCA\n",
              "0        0.934383         0.9265     37.905874          300   PCA\n",
              "0        0.938717         0.9262     59.274986          500   PCA\n",
              "0        0.943117         0.9247     59.267684          700   PCA\n",
              "0        0.943450         0.9246     55.303414          750   PCA\n",
              "0        0.952917         0.9426    293.972816           10   KNN\n",
              "0        0.934300         0.9307    297.496614           30   KNN\n",
              "0        0.924933         0.9219    291.007316           50   KNN\n",
              "0        0.918133         0.9148    296.181227           70   KNN\n",
              "0        0.910333         0.9077    292.745547          100   KNN"
            ],
            "text/html": [
              "\n",
              "  <div id=\"df-1a229aff-03cd-4f74-b2cc-955e0725bb49\">\n",
              "    <div class=\"colab-df-container\">\n",
              "      <div>\n",
              "<style scoped>\n",
              "    .dataframe tbody tr th:only-of-type {\n",
              "        vertical-align: middle;\n",
              "    }\n",
              "\n",
              "    .dataframe tbody tr th {\n",
              "        vertical-align: top;\n",
              "    }\n",
              "\n",
              "    .dataframe thead th {\n",
              "        text-align: right;\n",
              "    }\n",
              "</style>\n",
              "<table border=\"1\" class=\"dataframe\">\n",
              "  <thead>\n",
              "    <tr style=\"text-align: right;\">\n",
              "      <th></th>\n",
              "      <th>accuracy_train</th>\n",
              "      <th>accuracy_test</th>\n",
              "      <th>time_proceso</th>\n",
              "      <th>componentes</th>\n",
              "      <th>model</th>\n",
              "    </tr>\n",
              "  </thead>\n",
              "  <tbody>\n",
              "    <tr>\n",
              "      <th>0</th>\n",
              "      <td>0.920883</td>\n",
              "      <td>0.9204</td>\n",
              "      <td>20.149693</td>\n",
              "      <td>100</td>\n",
              "      <td>PCA</td>\n",
              "    </tr>\n",
              "    <tr>\n",
              "      <th>0</th>\n",
              "      <td>0.934383</td>\n",
              "      <td>0.9265</td>\n",
              "      <td>37.905874</td>\n",
              "      <td>300</td>\n",
              "      <td>PCA</td>\n",
              "    </tr>\n",
              "    <tr>\n",
              "      <th>0</th>\n",
              "      <td>0.938717</td>\n",
              "      <td>0.9262</td>\n",
              "      <td>59.274986</td>\n",
              "      <td>500</td>\n",
              "      <td>PCA</td>\n",
              "    </tr>\n",
              "    <tr>\n",
              "      <th>0</th>\n",
              "      <td>0.943117</td>\n",
              "      <td>0.9247</td>\n",
              "      <td>59.267684</td>\n",
              "      <td>700</td>\n",
              "      <td>PCA</td>\n",
              "    </tr>\n",
              "    <tr>\n",
              "      <th>0</th>\n",
              "      <td>0.943450</td>\n",
              "      <td>0.9246</td>\n",
              "      <td>55.303414</td>\n",
              "      <td>750</td>\n",
              "      <td>PCA</td>\n",
              "    </tr>\n",
              "    <tr>\n",
              "      <th>0</th>\n",
              "      <td>0.952917</td>\n",
              "      <td>0.9426</td>\n",
              "      <td>293.972816</td>\n",
              "      <td>10</td>\n",
              "      <td>KNN</td>\n",
              "    </tr>\n",
              "    <tr>\n",
              "      <th>0</th>\n",
              "      <td>0.934300</td>\n",
              "      <td>0.9307</td>\n",
              "      <td>297.496614</td>\n",
              "      <td>30</td>\n",
              "      <td>KNN</td>\n",
              "    </tr>\n",
              "    <tr>\n",
              "      <th>0</th>\n",
              "      <td>0.924933</td>\n",
              "      <td>0.9219</td>\n",
              "      <td>291.007316</td>\n",
              "      <td>50</td>\n",
              "      <td>KNN</td>\n",
              "    </tr>\n",
              "    <tr>\n",
              "      <th>0</th>\n",
              "      <td>0.918133</td>\n",
              "      <td>0.9148</td>\n",
              "      <td>296.181227</td>\n",
              "      <td>70</td>\n",
              "      <td>KNN</td>\n",
              "    </tr>\n",
              "    <tr>\n",
              "      <th>0</th>\n",
              "      <td>0.910333</td>\n",
              "      <td>0.9077</td>\n",
              "      <td>292.745547</td>\n",
              "      <td>100</td>\n",
              "      <td>KNN</td>\n",
              "    </tr>\n",
              "  </tbody>\n",
              "</table>\n",
              "</div>\n",
              "      <button class=\"colab-df-convert\" onclick=\"convertToInteractive('df-1a229aff-03cd-4f74-b2cc-955e0725bb49')\"\n",
              "              title=\"Convert this dataframe to an interactive table.\"\n",
              "              style=\"display:none;\">\n",
              "        \n",
              "  <svg xmlns=\"http://www.w3.org/2000/svg\" height=\"24px\"viewBox=\"0 0 24 24\"\n",
              "       width=\"24px\">\n",
              "    <path d=\"M0 0h24v24H0V0z\" fill=\"none\"/>\n",
              "    <path d=\"M18.56 5.44l.94 2.06.94-2.06 2.06-.94-2.06-.94-.94-2.06-.94 2.06-2.06.94zm-11 1L8.5 8.5l.94-2.06 2.06-.94-2.06-.94L8.5 2.5l-.94 2.06-2.06.94zm10 10l.94 2.06.94-2.06 2.06-.94-2.06-.94-.94-2.06-.94 2.06-2.06.94z\"/><path d=\"M17.41 7.96l-1.37-1.37c-.4-.4-.92-.59-1.43-.59-.52 0-1.04.2-1.43.59L10.3 9.45l-7.72 7.72c-.78.78-.78 2.05 0 2.83L4 21.41c.39.39.9.59 1.41.59.51 0 1.02-.2 1.41-.59l7.78-7.78 2.81-2.81c.8-.78.8-2.07 0-2.86zM5.41 20L4 18.59l7.72-7.72 1.47 1.35L5.41 20z\"/>\n",
              "  </svg>\n",
              "      </button>\n",
              "      \n",
              "  <style>\n",
              "    .colab-df-container {\n",
              "      display:flex;\n",
              "      flex-wrap:wrap;\n",
              "      gap: 12px;\n",
              "    }\n",
              "\n",
              "    .colab-df-convert {\n",
              "      background-color: #E8F0FE;\n",
              "      border: none;\n",
              "      border-radius: 50%;\n",
              "      cursor: pointer;\n",
              "      display: none;\n",
              "      fill: #1967D2;\n",
              "      height: 32px;\n",
              "      padding: 0 0 0 0;\n",
              "      width: 32px;\n",
              "    }\n",
              "\n",
              "    .colab-df-convert:hover {\n",
              "      background-color: #E2EBFA;\n",
              "      box-shadow: 0px 1px 2px rgba(60, 64, 67, 0.3), 0px 1px 3px 1px rgba(60, 64, 67, 0.15);\n",
              "      fill: #174EA6;\n",
              "    }\n",
              "\n",
              "    [theme=dark] .colab-df-convert {\n",
              "      background-color: #3B4455;\n",
              "      fill: #D2E3FC;\n",
              "    }\n",
              "\n",
              "    [theme=dark] .colab-df-convert:hover {\n",
              "      background-color: #434B5C;\n",
              "      box-shadow: 0px 1px 3px 1px rgba(0, 0, 0, 0.15);\n",
              "      filter: drop-shadow(0px 1px 2px rgba(0, 0, 0, 0.3));\n",
              "      fill: #FFFFFF;\n",
              "    }\n",
              "  </style>\n",
              "\n",
              "      <script>\n",
              "        const buttonEl =\n",
              "          document.querySelector('#df-1a229aff-03cd-4f74-b2cc-955e0725bb49 button.colab-df-convert');\n",
              "        buttonEl.style.display =\n",
              "          google.colab.kernel.accessAllowed ? 'block' : 'none';\n",
              "\n",
              "        async function convertToInteractive(key) {\n",
              "          const element = document.querySelector('#df-1a229aff-03cd-4f74-b2cc-955e0725bb49');\n",
              "          const dataTable =\n",
              "            await google.colab.kernel.invokeFunction('convertToInteractive',\n",
              "                                                     [key], {});\n",
              "          if (!dataTable) return;\n",
              "\n",
              "          const docLinkHtml = 'Like what you see? Visit the ' +\n",
              "            '<a target=\"_blank\" href=https://colab.research.google.com/notebooks/data_table.ipynb>data table notebook</a>'\n",
              "            + ' to learn more about interactive tables.';\n",
              "          element.innerHTML = '';\n",
              "          dataTable['output_type'] = 'display_data';\n",
              "          await google.colab.output.renderOutput(dataTable, element);\n",
              "          const docLink = document.createElement('div');\n",
              "          docLink.innerHTML = docLinkHtml;\n",
              "          element.appendChild(docLink);\n",
              "        }\n",
              "      </script>\n",
              "    </div>\n",
              "  </div>\n",
              "  "
            ]
          },
          "metadata": {},
          "execution_count": 106
        }
      ]
    },
    {
      "cell_type": "markdown",
      "source": [
        "# Resumen\n",
        "\n",
        "*Para el modelo ACP, se puede deducir que entre mas componentes se consideren, este mejorará su accuracy, por otra parte el tiempo de ejecucion tambien sube aunque no de una forma dramatica.*\n",
        "*Por otro lado utilizando KNN, se puede deducir que a menor numero de componentes el accuracy se acerca mas al porcentaje esperado y tambien su tiempo de procesamiento disminuye*  "
      ],
      "metadata": {
        "id": "uXeLE6nRWkKH"
      }
    }
  ]
}