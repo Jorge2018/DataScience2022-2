{
 "cells": [
  {
   "cell_type": "code",
   "execution_count": 5,
   "metadata": {
    "id": "oXZ5GN0UOMGi"
   },
   "outputs": [],
   "source": [
    "# Imports\n",
    "from keras.datasets import mnist\n",
    "import numpy as np\n",
    "import matplotlib.pyplot as plt\n",
    "import pandas as pd\n",
    "from sklearn.preprocessing import LabelEncoder, StandardScaler\n",
    "from sklearn.model_selection import train_test_split\n",
    "from sklearn.decomposition import PCA\n",
    "from sklearn.linear_model import LogisticRegression\n",
    "from sklearn.pipeline import make_pipeline\n",
    "from sklearn.neighbors import KNeighborsClassifier"
   ]
  },
  {
   "cell_type": "markdown",
   "metadata": {
    "id": "lul1o6niPKx7"
   },
   "source": [
    "# Carga datos\n",
    "*y separacion de estos de la columna objetivo*"
   ]
  },
  {
   "cell_type": "code",
   "execution_count": 6,
   "metadata": {
    "id": "nEHRl1lvOnX6"
   },
   "outputs": [
    {
     "name": "stdout",
     "output_type": "stream",
     "text": [
      "Downloading data from https://storage.googleapis.com/tensorflow/tf-keras-datasets/mnist.npz\n",
      "11490434/11490434 [==============================] - 6s 1us/step\n"
     ]
    }
   ],
   "source": [
    "from keras.datasets import mnist\n",
    "# load data\n",
    "(X_train, y_train), (X_test, y_test) = mnist.load_data()\n",
    "# reshape data\n",
    "X_train = X_train.reshape(X_train.shape[0], -1)\n",
    "X_test = X_test.reshape(X_test.shape[0], -1)\n"
   ]
  },
  {
   "cell_type": "markdown",
   "metadata": {
    "id": "8jtGMD1vVrAS"
   },
   "source": [
    "# Pipeline ACP con Standard Scaler\n"
   ]
  },
  {
   "cell_type": "code",
   "execution_count": 7,
   "metadata": {
    "id": "0ie42NEXcdVx"
   },
   "outputs": [],
   "source": [
    "import time\n",
    "import warnings\n",
    "warnings.filterwarnings('ignore')\n",
    "\n",
    "lista=[10,30,50,70,100]\n",
    "df_rev=pd.DataFrame()\n",
    "for i in lista:\n",
    "  start = time.time()\n",
    "  transformer = make_pipeline(StandardScaler(), PCA(n_components=i))\n",
    "  knn = KNeighborsClassifier(n_neighbors=i)\n",
    "  knn_pipe = make_pipeline(transformer, knn)\n",
    "  knn.fit(X_train, y_train)\n",
    "  t_train=knn.score(X_train, y_train)\n",
    "  t_test=knn.score(X_test, y_test)\n",
    "  end = time.time()\n",
    "  t_proc=end-start\n",
    "  valor_ = pd.DataFrame({\"accuracy_train\":[t_train], \"accuracy_test\":[t_test],\"time_proceso\":[t_proc],\"componentes\":[i],\"model\":['PCA']})\n",
    "  df_rev=df_rev.append(valor_)\n"
   ]
  },
  {
   "cell_type": "markdown",
   "metadata": {
    "id": "JgFBt1X5-jRj"
   },
   "source": [
    "# Pipeline KNN con Standard Scaler\n",
    "\n"
   ]
  },
  {
   "cell_type": "code",
   "execution_count": 8,
   "metadata": {
    "colab": {
     "base_uri": "https://localhost:8080/",
     "height": 363
    },
    "id": "VG6M49wA2K3t",
    "outputId": "9e5febf7-424b-4777-dcf7-b2ea30aa9dec"
   },
   "outputs": [
    {
     "data": {
      "text/html": [
       "<div>\n",
       "<style scoped>\n",
       "    .dataframe tbody tr th:only-of-type {\n",
       "        vertical-align: middle;\n",
       "    }\n",
       "\n",
       "    .dataframe tbody tr th {\n",
       "        vertical-align: top;\n",
       "    }\n",
       "\n",
       "    .dataframe thead th {\n",
       "        text-align: right;\n",
       "    }\n",
       "</style>\n",
       "<table border=\"1\" class=\"dataframe\">\n",
       "  <thead>\n",
       "    <tr style=\"text-align: right;\">\n",
       "      <th></th>\n",
       "      <th>accuracy_train</th>\n",
       "      <th>accuracy_test</th>\n",
       "      <th>time_proceso</th>\n",
       "      <th>componentes</th>\n",
       "      <th>model</th>\n",
       "    </tr>\n",
       "  </thead>\n",
       "  <tbody>\n",
       "    <tr>\n",
       "      <th>0</th>\n",
       "      <td>0.975000</td>\n",
       "      <td>0.9665</td>\n",
       "      <td>170.102335</td>\n",
       "      <td>10</td>\n",
       "      <td>PCA</td>\n",
       "    </tr>\n",
       "    <tr>\n",
       "      <th>0</th>\n",
       "      <td>0.962200</td>\n",
       "      <td>0.9596</td>\n",
       "      <td>200.021393</td>\n",
       "      <td>30</td>\n",
       "      <td>PCA</td>\n",
       "    </tr>\n",
       "    <tr>\n",
       "      <th>0</th>\n",
       "      <td>0.953633</td>\n",
       "      <td>0.9534</td>\n",
       "      <td>167.077704</td>\n",
       "      <td>50</td>\n",
       "      <td>PCA</td>\n",
       "    </tr>\n",
       "    <tr>\n",
       "      <th>0</th>\n",
       "      <td>0.947900</td>\n",
       "      <td>0.9487</td>\n",
       "      <td>170.275638</td>\n",
       "      <td>70</td>\n",
       "      <td>PCA</td>\n",
       "    </tr>\n",
       "    <tr>\n",
       "      <th>0</th>\n",
       "      <td>0.941317</td>\n",
       "      <td>0.9440</td>\n",
       "      <td>180.492118</td>\n",
       "      <td>100</td>\n",
       "      <td>PCA</td>\n",
       "    </tr>\n",
       "    <tr>\n",
       "      <th>0</th>\n",
       "      <td>0.952917</td>\n",
       "      <td>0.9426</td>\n",
       "      <td>173.652492</td>\n",
       "      <td>10</td>\n",
       "      <td>KNN</td>\n",
       "    </tr>\n",
       "    <tr>\n",
       "      <th>0</th>\n",
       "      <td>0.934300</td>\n",
       "      <td>0.9307</td>\n",
       "      <td>193.040614</td>\n",
       "      <td>30</td>\n",
       "      <td>KNN</td>\n",
       "    </tr>\n",
       "    <tr>\n",
       "      <th>0</th>\n",
       "      <td>0.924933</td>\n",
       "      <td>0.9219</td>\n",
       "      <td>172.282291</td>\n",
       "      <td>50</td>\n",
       "      <td>KNN</td>\n",
       "    </tr>\n",
       "    <tr>\n",
       "      <th>0</th>\n",
       "      <td>0.918133</td>\n",
       "      <td>0.9148</td>\n",
       "      <td>188.723443</td>\n",
       "      <td>70</td>\n",
       "      <td>KNN</td>\n",
       "    </tr>\n",
       "    <tr>\n",
       "      <th>0</th>\n",
       "      <td>0.910333</td>\n",
       "      <td>0.9077</td>\n",
       "      <td>194.090538</td>\n",
       "      <td>100</td>\n",
       "      <td>KNN</td>\n",
       "    </tr>\n",
       "  </tbody>\n",
       "</table>\n",
       "</div>"
      ],
      "text/plain": [
       "   accuracy_train  accuracy_test  time_proceso  componentes model\n",
       "0        0.975000         0.9665    170.102335           10   PCA\n",
       "0        0.962200         0.9596    200.021393           30   PCA\n",
       "0        0.953633         0.9534    167.077704           50   PCA\n",
       "0        0.947900         0.9487    170.275638           70   PCA\n",
       "0        0.941317         0.9440    180.492118          100   PCA\n",
       "0        0.952917         0.9426    173.652492           10   KNN\n",
       "0        0.934300         0.9307    193.040614           30   KNN\n",
       "0        0.924933         0.9219    172.282291           50   KNN\n",
       "0        0.918133         0.9148    188.723443           70   KNN\n",
       "0        0.910333         0.9077    194.090538          100   KNN"
      ]
     },
     "execution_count": 8,
     "metadata": {},
     "output_type": "execute_result"
    }
   ],
   "source": [
    "  lista=[10,30,50,70,100]\n",
    "  ###  KNN\n",
    "  for i in lista:\n",
    "    start = time.time()\n",
    "    knn = KNeighborsClassifier(n_neighbors=i)\n",
    "    knn_pipe = make_pipeline(StandardScaler(), knn)\n",
    "    knn_pipe.fit(X_train, y_train)\n",
    "    t_train=knn_pipe.score(X_train, y_train)\n",
    "    t_test=knn_pipe.score(X_test, y_test)\n",
    "    end = time.time()\n",
    "    t_proc=end-start\n",
    "    valor_ = pd.DataFrame({\"accuracy_train\":[t_train], \"accuracy_test\":[t_test],\"time_proceso\":[t_proc],\"componentes\":[i],\"model\":['KNN']})\n",
    "    df_rev=df_rev.append(valor_)\n",
    "df_rev\n"
   ]
  },
  {
   "cell_type": "markdown",
   "metadata": {
    "id": "uXeLE6nRWkKH"
   },
   "source": [
    "# Resumen\n",
    "\n",
    "*Para el modelo ACP, se puede deducir que entre mas componentes se consideren, este mejorará su accuracy, por otra parte el tiempo de ejecucion se mantiene en un promedio.*\n",
    "*Por otro lado utilizando KNN, se puede deducir que a menor numero de componentes el accuracy se acerca mas al porcentaje esperado y tambien su tiempo de procesamiento disminuye*  "
   ]
  }
 ],
 "metadata": {
  "colab": {
   "provenance": []
  },
  "kernelspec": {
   "display_name": "Python 3 (ipykernel)",
   "language": "python",
   "name": "python3"
  },
  "language_info": {
   "codemirror_mode": {
    "name": "ipython",
    "version": 3
   },
   "file_extension": ".py",
   "mimetype": "text/x-python",
   "name": "python",
   "nbconvert_exporter": "python",
   "pygments_lexer": "ipython3",
   "version": "3.9.7"
  }
 },
 "nbformat": 4,
 "nbformat_minor": 1
}
