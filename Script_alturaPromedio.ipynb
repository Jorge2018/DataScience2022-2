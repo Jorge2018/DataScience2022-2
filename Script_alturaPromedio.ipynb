{
  "nbformat": 4,
  "nbformat_minor": 0,
  "metadata": {
    "colab": {
      "name": "Untitled15.ipynb",
      "provenance": [],
      "authorship_tag": "ABX9TyMrrvrG4PpmCIlC1n5g1wAe",
      "include_colab_link": true
    },
    "kernelspec": {
      "name": "python3",
      "display_name": "Python 3"
    },
    "language_info": {
      "name": "python"
    }
  },
  "cells": [
    {
      "cell_type": "markdown",
      "metadata": {
        "id": "view-in-github",
        "colab_type": "text"
      },
      "source": [
        "<a href=\"https://colab.research.google.com/github/Jorge2018/DataScience2022-2/blob/main/Script_alturaPromedio.ipynb\" target=\"_parent\"><img src=\"https://colab.research.google.com/assets/colab-badge.svg\" alt=\"Open In Colab\"/></a>"
      ]
    },
    {
      "cell_type": "code",
      "execution_count": 56,
      "metadata": {
        "colab": {
          "base_uri": "https://localhost:8080/"
        },
        "id": "z-n3X321URuG",
        "outputId": "8c1d2914-88f3-44af-e5a1-acec7e53c5d5"
      },
      "outputs": [
        {
          "output_type": "stream",
          "name": "stdout",
          "text": [
            "<class 'pandas.core.frame.DataFrame'>\n",
            "RangeIndex: 40616 entries, 0 to 40615\n",
            "Data columns (total 12 columns):\n",
            " #   Column  Non-Null Count  Dtype  \n",
            "---  ------  --------------  -----  \n",
            " 0   ID      40616 non-null  int64  \n",
            " 1   Age     39143 non-null  float64\n",
            " 2   Height  31615 non-null  float64\n",
            " 3   Team    40616 non-null  object \n",
            " 4   NOC     40616 non-null  object \n",
            " 5   Games   40616 non-null  object \n",
            " 6   Year    40616 non-null  int64  \n",
            " 7   Season  40616 non-null  object \n",
            " 8   City    40616 non-null  object \n",
            " 9   Sport   40616 non-null  object \n",
            " 10  Event   40616 non-null  object \n",
            " 11  Medal   5917 non-null   object \n",
            "dtypes: float64(2), int64(2), object(8)\n",
            "memory usage: 3.7+ MB\n"
          ]
        }
      ],
      "source": [
        "import numpy as np\n",
        "import pandas as pd\n",
        "import warnings\n",
        "warnings.filterwarnings('ignore')\n",
        "df= pd.read_csv(r'https://raw.githubusercontent.com/Jorge2018/DataScience2022-2/main/athleteEventsNoPersonal.csv')\n",
        "df.info()"
      ]
    },
    {
      "cell_type": "code",
      "source": [
        "print('la cantidad de filas y columnas del df son (fil,col):', df.shape)\n",
        "print('---------------------------')"
      ],
      "metadata": {
        "colab": {
          "base_uri": "https://localhost:8080/"
        },
        "id": "d4bv9a-qU8wr",
        "outputId": "f777cb6b-6050-4dc4-deb1-a8da152519a4"
      },
      "execution_count": 57,
      "outputs": [
        {
          "output_type": "stream",
          "name": "stdout",
          "text": [
            "la cantidad de filas y columnas del df son (fil,col): (40616, 12)\n",
            "---------------------------\n"
          ]
        }
      ]
    },
    {
      "cell_type": "code",
      "source": [
        "print('los datos faltantes del df son:\\n',df.isna().sum())\n",
        "print('---------------------------')\n",
        "#la cantidad (grande) de nan de la columna Medal, a mi parecer, se debe a que gran parte\n",
        "#de los atletas de la muestra tomada, no ganaron una."
      ],
      "metadata": {
        "colab": {
          "base_uri": "https://localhost:8080/"
        },
        "id": "a4GBw6hKVF35",
        "outputId": "ed66796d-2103-4de3-b841-3ef736c6c3e9"
      },
      "execution_count": 58,
      "outputs": [
        {
          "output_type": "stream",
          "name": "stdout",
          "text": [
            "los datos faltantes del df son:\n",
            " ID            0\n",
            "Age        1473\n",
            "Height     9001\n",
            "Team          0\n",
            "NOC           0\n",
            "Games         0\n",
            "Year          0\n",
            "Season        0\n",
            "City          0\n",
            "Sport         0\n",
            "Event         0\n",
            "Medal     34699\n",
            "dtype: int64\n",
            "---------------------------\n"
          ]
        }
      ]
    },
    {
      "cell_type": "code",
      "source": [
        "filtro_ciudad = (df['City']=='London') \n",
        "df2=df[filtro_ciudad]\n",
        "print('las entradas correspondientes a la ciudad de Londres son:\\n',df2.count())\n",
        "print('---------------------------')"
      ],
      "metadata": {
        "colab": {
          "base_uri": "https://localhost:8080/"
        },
        "id": "su1WzDpYVUKz",
        "outputId": "3e4ddd74-41c0-403c-910a-49d7020c2bd7"
      },
      "execution_count": 59,
      "outputs": [
        {
          "output_type": "stream",
          "name": "stdout",
          "text": [
            "las entradas correspondientes a la ciudad de Londres son:\n",
            " ID        3370\n",
            "Age       3067\n",
            "Height    2139\n",
            "Team      3370\n",
            "NOC       3370\n",
            "Games     3370\n",
            "Year      3370\n",
            "Season    3370\n",
            "City      3370\n",
            "Sport     3370\n",
            "Event     3370\n",
            "Medal      568\n",
            "dtype: int64\n",
            "---------------------------\n"
          ]
        }
      ]
    },
    {
      "cell_type": "code",
      "source": [
        "print('el atleta mas joven de la muestra tiene',df['Age'].min(),'años')\n",
        "print('---------------------------')"
      ],
      "metadata": {
        "colab": {
          "base_uri": "https://localhost:8080/"
        },
        "id": "G8CvRc4RWDjv",
        "outputId": "9bc3a713-fb80-466e-b3fd-80986c4b70f8"
      },
      "execution_count": 60,
      "outputs": [
        {
          "output_type": "stream",
          "name": "stdout",
          "text": [
            "el atleta mas joven de la muestra tiene 11.0 años\n",
            "---------------------------\n"
          ]
        }
      ]
    },
    {
      "cell_type": "code",
      "source": [
        "filtro_team = (df['Team']=='Sweden') \n",
        "filtro_dep = (df['Sport']=='Tug-Of-War') \n",
        "df3=df[filtro_team & filtro_dep]\n",
        "print('la cantidad de atletas del team Sweden y del deporte Tug-Of-War son',df3['Team'].count())\n",
        "print('---------------------------')\n"
      ],
      "metadata": {
        "colab": {
          "base_uri": "https://localhost:8080/"
        },
        "id": "zHhXvn4UWhAo",
        "outputId": "537b629d-1a8c-4f14-f11d-688303c3ba10"
      },
      "execution_count": 61,
      "outputs": [
        {
          "output_type": "stream",
          "name": "stdout",
          "text": [
            "la cantidad de atletas del team Sweden y del deporte Tug-Of-War son 6\n",
            "---------------------------\n"
          ]
        }
      ]
    },
    {
      "cell_type": "code",
      "source": [
        "filtro_age = (df['Age']>40.0) \n",
        "filtro_med = (df['Medal']=='Gold') \n",
        "df4=df[filtro_age & filtro_med]\n",
        "print('la cantidad de atletas mayores de 40 años y ganadores de medallas de oro son:',df4['Team'].count())\n",
        "print('---------------------------')\n"
      ],
      "metadata": {
        "colab": {
          "base_uri": "https://localhost:8080/"
        },
        "id": "pR6BjS1UaV0A",
        "outputId": "5519f9b4-2089-4837-9c0e-4d78ddf6a50e"
      },
      "execution_count": 62,
      "outputs": [
        {
          "output_type": "stream",
          "name": "stdout",
          "text": [
            "la cantidad de atletas mayores de 40 años y ganadores de medallas de oro son: 66\n",
            "---------------------------\n"
          ]
        }
      ]
    },
    {
      "cell_type": "code",
      "source": [
        "df5=df[['Height','Event']].dropna()\n",
        "print('El promedio de estaturas es:\\n',df5['Height'].mean())\n",
        "print('---------------------------')\n",
        "print('El promedio de estaturas agrupado por eventos es:\\n',df5.groupby(['Event'])['Height'].mean())\n",
        "print('---------------------------')"
      ],
      "metadata": {
        "colab": {
          "base_uri": "https://localhost:8080/"
        },
        "id": "okQfLf6kby1R",
        "outputId": "b2d5ca99-41e4-480e-d12b-da496a4b5366"
      },
      "execution_count": 63,
      "outputs": [
        {
          "output_type": "stream",
          "name": "stdout",
          "text": [
            "El promedio de estaturas es:\n",
            " 175.3811165585956\n",
            "---------------------------\n",
            "El promedio de estaturas agrupado por eventos es:\n",
            " Event\n",
            "Alpine Skiing Men's Combined                      178.547170\n",
            "Alpine Skiing Men's Downhill                      178.211679\n",
            "Alpine Skiing Men's Giant Slalom                  176.739394\n",
            "Alpine Skiing Men's Slalom                        176.482143\n",
            "Alpine Skiing Men's Super G                       179.850575\n",
            "                                                     ...    \n",
            "Wrestling Women's Flyweight, Freestyle            158.100000\n",
            "Wrestling Women's Heavyweight, Freestyle          173.444444\n",
            "Wrestling Women's Light-Heavyweight, Freestyle    170.000000\n",
            "Wrestling Women's Lightweight, Freestyle          162.666667\n",
            "Wrestling Women's Middleweight, Freestyle         164.533333\n",
            "Name: Height, Length: 575, dtype: float64\n",
            "---------------------------\n"
          ]
        }
      ]
    },
    {
      "cell_type": "code",
      "source": [
        "df6=df.drop_duplicates(subset = \"ID\")\n",
        "print('el promedio de altura de los atletas (eliminando duplicados) es:',df6['Height'].mean())\n"
      ],
      "metadata": {
        "colab": {
          "base_uri": "https://localhost:8080/"
        },
        "id": "MPgRFt4Te6_c",
        "outputId": "4533087a-b22a-4bcf-a0fd-5d9d167303f9"
      },
      "execution_count": 64,
      "outputs": [
        {
          "output_type": "stream",
          "name": "stdout",
          "text": [
            "el promedio de altura de los atletas (eliminando duplicados) es: 176.31818479042698\n"
          ]
        }
      ]
    }
  ]
}