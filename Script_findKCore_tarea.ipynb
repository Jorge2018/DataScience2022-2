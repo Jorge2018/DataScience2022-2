{
  "nbformat": 4,
  "nbformat_minor": 0,
  "metadata": {
    "colab": {
      "provenance": [],
      "collapsed_sections": [],
      "authorship_tag": "ABX9TyMAxuyEObcShVYlXM+o+Gco",
      "include_colab_link": true
    },
    "kernelspec": {
      "name": "python3",
      "display_name": "Python 3"
    },
    "language_info": {
      "name": "python"
    }
  },
  "cells": [
    {
      "cell_type": "markdown",
      "metadata": {
        "id": "view-in-github",
        "colab_type": "text"
      },
      "source": [
        "<a href=\"https://colab.research.google.com/github/Jorge2018/DataScience2022-2/blob/main/Script_findKCore_tarea.ipynb\" target=\"_parent\"><img src=\"https://colab.research.google.com/assets/colab-badge.svg\" alt=\"Open In Colab\"/></a>"
      ]
    },
    {
      "cell_type": "code",
      "execution_count": 315,
      "metadata": {
        "id": "qAZZ-0C6KcgO"
      },
      "outputs": [],
      "source": [
        "# Imports\n",
        "import numpy as np\n",
        "import pandas as pd\n",
        "import matplotlib.pyplot as plt\n",
        "from sklearn.cluster import KMeans\n",
        "from sklearn.preprocessing import StandardScaler, OneHotEncoder\n",
        "from sklearn.impute import SimpleImputer\n",
        "from sklearn.pipeline import make_pipeline\n",
        "from sklearn.compose import make_column_selector, make_column_transformer\n",
        "import seaborn as sns\n"
      ]
    },
    {
      "cell_type": "markdown",
      "source": [
        "# Importa datos"
      ],
      "metadata": {
        "id": "VNYvJ4HvKurJ"
      }
    },
    {
      "cell_type": "code",
      "source": [
        "df = pd.read_csv('https://raw.githubusercontent.com/Jorge2018/RepositorioArchivos/main/cust_seg.csv')\n",
        "df =df.drop(columns=['Unnamed: 0','Customer Id'])\n",
        "df.head()"
      ],
      "metadata": {
        "colab": {
          "base_uri": "https://localhost:8080/",
          "height": 206
        },
        "id": "MHVmw4vkKiIs",
        "outputId": "b8ef38c7-0715-42ab-9023-83a30551a91c"
      },
      "execution_count": 316,
      "outputs": [
        {
          "output_type": "execute_result",
          "data": {
            "text/plain": [
              "   Age  Edu  Years Employed  Income  Card Debt  Other Debt  Defaulted  \\\n",
              "0   41    2               6      19      0.124       1.073        0.0   \n",
              "1   47    1              26     100      4.582       8.218        0.0   \n",
              "2   33    2              10      57      6.111       5.802        1.0   \n",
              "3   29    2               4      19      0.681       0.516        0.0   \n",
              "4   47    1              31     253      9.308       8.908        0.0   \n",
              "\n",
              "   DebtIncomeRatio  \n",
              "0              6.3  \n",
              "1             12.8  \n",
              "2             20.9  \n",
              "3              6.3  \n",
              "4              7.2  "
            ],
            "text/html": [
              "\n",
              "  <div id=\"df-da1c0a02-af13-4fbe-8e15-ccfa1ac017e4\">\n",
              "    <div class=\"colab-df-container\">\n",
              "      <div>\n",
              "<style scoped>\n",
              "    .dataframe tbody tr th:only-of-type {\n",
              "        vertical-align: middle;\n",
              "    }\n",
              "\n",
              "    .dataframe tbody tr th {\n",
              "        vertical-align: top;\n",
              "    }\n",
              "\n",
              "    .dataframe thead th {\n",
              "        text-align: right;\n",
              "    }\n",
              "</style>\n",
              "<table border=\"1\" class=\"dataframe\">\n",
              "  <thead>\n",
              "    <tr style=\"text-align: right;\">\n",
              "      <th></th>\n",
              "      <th>Age</th>\n",
              "      <th>Edu</th>\n",
              "      <th>Years Employed</th>\n",
              "      <th>Income</th>\n",
              "      <th>Card Debt</th>\n",
              "      <th>Other Debt</th>\n",
              "      <th>Defaulted</th>\n",
              "      <th>DebtIncomeRatio</th>\n",
              "    </tr>\n",
              "  </thead>\n",
              "  <tbody>\n",
              "    <tr>\n",
              "      <th>0</th>\n",
              "      <td>41</td>\n",
              "      <td>2</td>\n",
              "      <td>6</td>\n",
              "      <td>19</td>\n",
              "      <td>0.124</td>\n",
              "      <td>1.073</td>\n",
              "      <td>0.0</td>\n",
              "      <td>6.3</td>\n",
              "    </tr>\n",
              "    <tr>\n",
              "      <th>1</th>\n",
              "      <td>47</td>\n",
              "      <td>1</td>\n",
              "      <td>26</td>\n",
              "      <td>100</td>\n",
              "      <td>4.582</td>\n",
              "      <td>8.218</td>\n",
              "      <td>0.0</td>\n",
              "      <td>12.8</td>\n",
              "    </tr>\n",
              "    <tr>\n",
              "      <th>2</th>\n",
              "      <td>33</td>\n",
              "      <td>2</td>\n",
              "      <td>10</td>\n",
              "      <td>57</td>\n",
              "      <td>6.111</td>\n",
              "      <td>5.802</td>\n",
              "      <td>1.0</td>\n",
              "      <td>20.9</td>\n",
              "    </tr>\n",
              "    <tr>\n",
              "      <th>3</th>\n",
              "      <td>29</td>\n",
              "      <td>2</td>\n",
              "      <td>4</td>\n",
              "      <td>19</td>\n",
              "      <td>0.681</td>\n",
              "      <td>0.516</td>\n",
              "      <td>0.0</td>\n",
              "      <td>6.3</td>\n",
              "    </tr>\n",
              "    <tr>\n",
              "      <th>4</th>\n",
              "      <td>47</td>\n",
              "      <td>1</td>\n",
              "      <td>31</td>\n",
              "      <td>253</td>\n",
              "      <td>9.308</td>\n",
              "      <td>8.908</td>\n",
              "      <td>0.0</td>\n",
              "      <td>7.2</td>\n",
              "    </tr>\n",
              "  </tbody>\n",
              "</table>\n",
              "</div>\n",
              "      <button class=\"colab-df-convert\" onclick=\"convertToInteractive('df-da1c0a02-af13-4fbe-8e15-ccfa1ac017e4')\"\n",
              "              title=\"Convert this dataframe to an interactive table.\"\n",
              "              style=\"display:none;\">\n",
              "        \n",
              "  <svg xmlns=\"http://www.w3.org/2000/svg\" height=\"24px\"viewBox=\"0 0 24 24\"\n",
              "       width=\"24px\">\n",
              "    <path d=\"M0 0h24v24H0V0z\" fill=\"none\"/>\n",
              "    <path d=\"M18.56 5.44l.94 2.06.94-2.06 2.06-.94-2.06-.94-.94-2.06-.94 2.06-2.06.94zm-11 1L8.5 8.5l.94-2.06 2.06-.94-2.06-.94L8.5 2.5l-.94 2.06-2.06.94zm10 10l.94 2.06.94-2.06 2.06-.94-2.06-.94-.94-2.06-.94 2.06-2.06.94z\"/><path d=\"M17.41 7.96l-1.37-1.37c-.4-.4-.92-.59-1.43-.59-.52 0-1.04.2-1.43.59L10.3 9.45l-7.72 7.72c-.78.78-.78 2.05 0 2.83L4 21.41c.39.39.9.59 1.41.59.51 0 1.02-.2 1.41-.59l7.78-7.78 2.81-2.81c.8-.78.8-2.07 0-2.86zM5.41 20L4 18.59l7.72-7.72 1.47 1.35L5.41 20z\"/>\n",
              "  </svg>\n",
              "      </button>\n",
              "      \n",
              "  <style>\n",
              "    .colab-df-container {\n",
              "      display:flex;\n",
              "      flex-wrap:wrap;\n",
              "      gap: 12px;\n",
              "    }\n",
              "\n",
              "    .colab-df-convert {\n",
              "      background-color: #E8F0FE;\n",
              "      border: none;\n",
              "      border-radius: 50%;\n",
              "      cursor: pointer;\n",
              "      display: none;\n",
              "      fill: #1967D2;\n",
              "      height: 32px;\n",
              "      padding: 0 0 0 0;\n",
              "      width: 32px;\n",
              "    }\n",
              "\n",
              "    .colab-df-convert:hover {\n",
              "      background-color: #E2EBFA;\n",
              "      box-shadow: 0px 1px 2px rgba(60, 64, 67, 0.3), 0px 1px 3px 1px rgba(60, 64, 67, 0.15);\n",
              "      fill: #174EA6;\n",
              "    }\n",
              "\n",
              "    [theme=dark] .colab-df-convert {\n",
              "      background-color: #3B4455;\n",
              "      fill: #D2E3FC;\n",
              "    }\n",
              "\n",
              "    [theme=dark] .colab-df-convert:hover {\n",
              "      background-color: #434B5C;\n",
              "      box-shadow: 0px 1px 3px 1px rgba(0, 0, 0, 0.15);\n",
              "      filter: drop-shadow(0px 1px 2px rgba(0, 0, 0, 0.3));\n",
              "      fill: #FFFFFF;\n",
              "    }\n",
              "  </style>\n",
              "\n",
              "      <script>\n",
              "        const buttonEl =\n",
              "          document.querySelector('#df-da1c0a02-af13-4fbe-8e15-ccfa1ac017e4 button.colab-df-convert');\n",
              "        buttonEl.style.display =\n",
              "          google.colab.kernel.accessAllowed ? 'block' : 'none';\n",
              "\n",
              "        async function convertToInteractive(key) {\n",
              "          const element = document.querySelector('#df-da1c0a02-af13-4fbe-8e15-ccfa1ac017e4');\n",
              "          const dataTable =\n",
              "            await google.colab.kernel.invokeFunction('convertToInteractive',\n",
              "                                                     [key], {});\n",
              "          if (!dataTable) return;\n",
              "\n",
              "          const docLinkHtml = 'Like what you see? Visit the ' +\n",
              "            '<a target=\"_blank\" href=https://colab.research.google.com/notebooks/data_table.ipynb>data table notebook</a>'\n",
              "            + ' to learn more about interactive tables.';\n",
              "          element.innerHTML = '';\n",
              "          dataTable['output_type'] = 'display_data';\n",
              "          await google.colab.output.renderOutput(dataTable, element);\n",
              "          const docLink = document.createElement('div');\n",
              "          docLink.innerHTML = docLinkHtml;\n",
              "          element.appendChild(docLink);\n",
              "        }\n",
              "      </script>\n",
              "    </div>\n",
              "  </div>\n",
              "  "
            ]
          },
          "metadata": {},
          "execution_count": 316
        }
      ]
    },
    {
      "cell_type": "code",
      "source": [
        "df['rangeAge'] = pd.cut(x=df['Age'], bins=[15,20,25,30,35,40,45,50,55,60],labels=[1,2,3,4,5,6,7,8,9]) \n",
        "df['rangeYearsEmployed'] = pd.cut(x=df['Years Employed'], bins=[-1,0,3,6,9,12,15,18,21,24,27,30,33,36],labels=[1,2,3,4,5,6,7,8,9,10,11,12,13])\n",
        "df[['rangeAge']] = df[['rangeAge']].apply(lambda col:pd.Categorical(col).codes)\n",
        "df[['rangeYearsEmployed']] = df[['rangeYearsEmployed']].apply(lambda col:pd.Categorical(col).codes)\n",
        "df['rangeYearsEmployed']=df['rangeYearsEmployed'].astype(float)\n",
        "df['rangeAge']=df['rangeAge'].astype(float)\n",
        "df['Edu']=df['Edu'].astype(float)\n",
        "df['Income']=df['Income'].astype(float)\n",
        "del df['Age']\n",
        "del df['Years Employed']"
      ],
      "metadata": {
        "id": "zR8LtVnbOF1k"
      },
      "execution_count": 317,
      "outputs": []
    },
    {
      "cell_type": "markdown",
      "source": [
        "*Se eliminan las cols 'Unnamed: 0','Customer Id', ya que no tienen ninguna influencia en los datos*"
      ],
      "metadata": {
        "id": "50nJs9dP_XYa"
      }
    },
    {
      "cell_type": "markdown",
      "source": [
        "# Visualizacion de Datos"
      ],
      "metadata": {
        "id": "1zUq-gyR6335"
      }
    },
    {
      "cell_type": "code",
      "source": [
        "lista=list(df.columns)\n",
        "for idx, column in enumerate(lista):    \n",
        "    fig = plt.figure()        \n",
        "    ax1 = fig.add_subplot(1,1,1)\n",
        "    ax1.hist(df[column], bins=20)\n",
        "    ax1.set_title(column)    \n",
        "    plt.show()\n",
        "idx = len(df) \n",
        "cols = df.columns\n",
        "corr = df.corr() \n",
        "sns.heatmap(corr, annot = True) \n",
        "print('Se puede observar una correlacion mas directa entre los ingresos (Income) y Años en el empleo (Years Employeed)\\n')"
      ],
      "metadata": {
        "colab": {
          "base_uri": "https://localhost:8080/",
          "height": 1000
        },
        "id": "2y2zvCMB6Uug",
        "outputId": "a2b9a5b0-a7b2-463f-92b1-42f8b378457f"
      },
      "execution_count": 318,
      "outputs": [
        {
          "output_type": "display_data",
          "data": {
            "text/plain": [
              "<Figure size 432x288 with 1 Axes>"
            ],
            "image/png": "[encoded data removed]"
          },
          "metadata": {
            "needs_background": "light"
          }
        },
        {
          "output_type": "display_data",
          "data": {
            "text/plain": [
              "<Figure size 432x288 with 1 Axes>"
            ],
            "image/png": "[encoded data removed]"
          },
          "metadata": {
            "needs_background": "light"
          }
        },
        {
          "output_type": "display_data",
          "data": {
            "text/plain": [
              "<Figure size 432x288 with 1 Axes>"
            ],
            "image/png": "[encoded data removed]"
          },
          "metadata": {
            "needs_background": "light"
          }
        },
        {
          "output_type": "display_data",
          "data": {
            "text/plain": [
              "<Figure size 432x288 with 1 Axes>"
            ],
            "image/png": "[encoded data removed]"
          },
          "metadata": {
            "needs_background": "light"
          }
        },
        {
          "output_type": "display_data",
          "data": {
            "text/plain": [
              "<Figure size 432x288 with 1 Axes>"
            ],
            "image/png": "[encoded data removed]"
          },
          "metadata": {
            "needs_background": "light"
          }
        },
        {
          "output_type": "display_data",
          "data": {
            "text/plain": [
              "<Figure size 432x288 with 1 Axes>"
            ],
            "image/png": "[encoded data removed]"
          },
          "metadata": {
            "needs_background": "light"
          }
        },
        {
          "output_type": "display_data",
          "data": {
            "text/plain": [
              "<Figure size 432x288 with 1 Axes>"
            ],
            "image/png": "[encoded data removed]"
          },
          "metadata": {
            "needs_background": "light"
          }
        },
        {
          "output_type": "display_data",
          "data": {
            "text/plain": [
              "<Figure size 432x288 with 1 Axes>"
            ],
            "image/png": "[encoded data removed]"
          },
          "metadata": {
            "needs_background": "light"
          }
        },
        {
          "output_type": "stream",
          "name": "stdout",
          "text": [
            "Se puede observar una correlacion mas directa entre los ingresos (Income) y Años en el empleo (Years Employeed)\n",
            "\n"
          ]
        },
        {
          "output_type": "display_data",
          "data": {
            "text/plain": [
              "<Figure size 432x288 with 2 Axes>"
            ],
            "image/png": "[encoded data removed]"
          },
          "metadata": {
            "needs_background": "light"
          }
        }
      ]
    },
    {
      "cell_type": "markdown",
      "source": [
        "*Podemos ver que el rango de edad de la muestra va desde los 19/20 a los 57/58 aprox, con un peak en las edades de entre 29/32*\n",
        "\n",
        "*Podemos ver que la mayoria de la muestra tiene educacion con ID 1*\n",
        "\n",
        "*Podemos ver que el rango de años trabajando de la muestra va desde los 0/33 aprox, con un peak entre los 0/2 años trabajando*\n",
        "\n",
        "*Podemos ver que el rango de ingresos de la muestra va desde los 0/450 aprox, con un peak de ingresos entre los 0/35 aprox*\n",
        "\n",
        "*Podemos ver que el rango de tarjetas de debito de la muestra va desde los 0/23 aprox, con un peak de tarjetas entre los 0/2 aprox*\n",
        "\n",
        "*Podemos ver que el rango de otras tarjetas de debito de la muestra va desde los 0/38 aprox, con un peak de tarjetas entre los 0/2 aprox*\n",
        "\n",
        "*Podemos ver que la mayoria de la muestra tiene un incumplimiento con ID 0*\n",
        "\n",
        "*Podemos ver que el rango de DebtIncomeRatio de la muestra va desde los 0/43 aprox, con un peak de entre los 5/8 aprox*\n",
        "\n",
        "\n",
        "# Exploracion de Datos\n"
      ],
      "metadata": {
        "id": "Ia993SRfC1ho"
      }
    },
    {
      "cell_type": "code",
      "source": [
        "df.duplicated()\n",
        "df = df.drop_duplicates()\n",
        "print('la cantidad de registros sin duplicados es:\\n',df.count())\n",
        "print('---------------------------')\n",
        "print('los datos faltantes del df son:\\n',df.isna().sum())\n",
        "print('---------------------------')\n",
        "print('los tipos de datos son:\\n')\n",
        "df.info()\n",
        "print('---------------------------')\n",
        "df.describe().round(3)"
      ],
      "metadata": {
        "colab": {
          "base_uri": "https://localhost:8080/",
          "height": 995
        },
        "id": "7YySh5bl4GDU",
        "outputId": "3c1f9a12-1334-4019-dbd3-881b8e0ff143"
      },
      "execution_count": 319,
      "outputs": [
        {
          "output_type": "stream",
          "name": "stdout",
          "text": [
            "la cantidad de registros sin duplicados es:\n",
            " Edu                   850\n",
            "Income                850\n",
            "Card Debt             850\n",
            "Other Debt            850\n",
            "Defaulted             700\n",
            "DebtIncomeRatio       850\n",
            "rangeAge              850\n",
            "rangeYearsEmployed    850\n",
            "dtype: int64\n",
            "---------------------------\n",
            "los datos faltantes del df son:\n",
            " Edu                     0\n",
            "Income                  0\n",
            "Card Debt               0\n",
            "Other Debt              0\n",
            "Defaulted             150\n",
            "DebtIncomeRatio         0\n",
            "rangeAge                0\n",
            "rangeYearsEmployed      0\n",
            "dtype: int64\n",
            "---------------------------\n",
            "los tipos de datos son:\n",
            "\n",
            "<class 'pandas.core.frame.DataFrame'>\n",
            "Int64Index: 850 entries, 0 to 849\n",
            "Data columns (total 8 columns):\n",
            " #   Column              Non-Null Count  Dtype  \n",
            "---  ------              --------------  -----  \n",
            " 0   Edu                 850 non-null    float64\n",
            " 1   Income              850 non-null    float64\n",
            " 2   Card Debt           850 non-null    float64\n",
            " 3   Other Debt          850 non-null    float64\n",
            " 4   Defaulted           700 non-null    float64\n",
            " 5   DebtIncomeRatio     850 non-null    float64\n",
            " 6   rangeAge            850 non-null    float64\n",
            " 7   rangeYearsEmployed  850 non-null    float64\n",
            "dtypes: float64(8)\n",
            "memory usage: 59.8 KB\n",
            "---------------------------\n"
          ]
        },
        {
          "output_type": "execute_result",
          "data": {
            "text/plain": [
              "           Edu   Income  Card Debt  Other Debt  Defaulted  DebtIncomeRatio  \\\n",
              "count  850.000  850.000    850.000     850.000    700.000          850.000   \n",
              "mean     1.711   46.675      1.577       3.079      0.261           10.172   \n",
              "std      0.928   38.543      2.126       3.399      0.440            6.719   \n",
              "min      1.000   13.000      0.012       0.046      0.000            0.100   \n",
              "25%      1.000   24.000      0.382       1.046      0.000            5.100   \n",
              "50%      1.000   35.000      0.885       2.003      0.000            8.700   \n",
              "75%      2.000   55.750      1.898       3.903      1.000           13.800   \n",
              "max      5.000  446.000     20.561      35.197      1.000           41.300   \n",
              "\n",
              "       rangeAge  rangeYearsEmployed  \n",
              "count   850.000             850.000  \n",
              "mean      3.407               3.176  \n",
              "std       1.633               2.296  \n",
              "min       0.000               0.000  \n",
              "25%       2.000               1.000  \n",
              "50%       3.000               3.000  \n",
              "75%       5.000               5.000  \n",
              "max       8.000              11.000  "
            ],
            "text/html": [
              "\n",
              "  <div id=\"df-68ef8cfd-1f53-4718-9bbe-4d84d2f353ee\">\n",
              "    <div class=\"colab-df-container\">\n",
              "      <div>\n",
              "<style scoped>\n",
              "    .dataframe tbody tr th:only-of-type {\n",
              "        vertical-align: middle;\n",
              "    }\n",
              "\n",
              "    .dataframe tbody tr th {\n",
              "        vertical-align: top;\n",
              "    }\n",
              "\n",
              "    .dataframe thead th {\n",
              "        text-align: right;\n",
              "    }\n",
              "</style>\n",
              "<table border=\"1\" class=\"dataframe\">\n",
              "  <thead>\n",
              "    <tr style=\"text-align: right;\">\n",
              "      <th></th>\n",
              "      <th>Edu</th>\n",
              "      <th>Income</th>\n",
              "      <th>Card Debt</th>\n",
              "      <th>Other Debt</th>\n",
              "      <th>Defaulted</th>\n",
              "      <th>DebtIncomeRatio</th>\n",
              "      <th>rangeAge</th>\n",
              "      <th>rangeYearsEmployed</th>\n",
              "    </tr>\n",
              "  </thead>\n",
              "  <tbody>\n",
              "    <tr>\n",
              "      <th>count</th>\n",
              "      <td>850.000</td>\n",
              "      <td>850.000</td>\n",
              "      <td>850.000</td>\n",
              "      <td>850.000</td>\n",
              "      <td>700.000</td>\n",
              "      <td>850.000</td>\n",
              "      <td>850.000</td>\n",
              "      <td>850.000</td>\n",
              "    </tr>\n",
              "    <tr>\n",
              "      <th>mean</th>\n",
              "      <td>1.711</td>\n",
              "      <td>46.675</td>\n",
              "      <td>1.577</td>\n",
              "      <td>3.079</td>\n",
              "      <td>0.261</td>\n",
              "      <td>10.172</td>\n",
              "      <td>3.407</td>\n",
              "      <td>3.176</td>\n",
              "    </tr>\n",
              "    <tr>\n",
              "      <th>std</th>\n",
              "      <td>0.928</td>\n",
              "      <td>38.543</td>\n",
              "      <td>2.126</td>\n",
              "      <td>3.399</td>\n",
              "      <td>0.440</td>\n",
              "      <td>6.719</td>\n",
              "      <td>1.633</td>\n",
              "      <td>2.296</td>\n",
              "    </tr>\n",
              "    <tr>\n",
              "      <th>min</th>\n",
              "      <td>1.000</td>\n",
              "      <td>13.000</td>\n",
              "      <td>0.012</td>\n",
              "      <td>0.046</td>\n",
              "      <td>0.000</td>\n",
              "      <td>0.100</td>\n",
              "      <td>0.000</td>\n",
              "      <td>0.000</td>\n",
              "    </tr>\n",
              "    <tr>\n",
              "      <th>25%</th>\n",
              "      <td>1.000</td>\n",
              "      <td>24.000</td>\n",
              "      <td>0.382</td>\n",
              "      <td>1.046</td>\n",
              "      <td>0.000</td>\n",
              "      <td>5.100</td>\n",
              "      <td>2.000</td>\n",
              "      <td>1.000</td>\n",
              "    </tr>\n",
              "    <tr>\n",
              "      <th>50%</th>\n",
              "      <td>1.000</td>\n",
              "      <td>35.000</td>\n",
              "      <td>0.885</td>\n",
              "      <td>2.003</td>\n",
              "      <td>0.000</td>\n",
              "      <td>8.700</td>\n",
              "      <td>3.000</td>\n",
              "      <td>3.000</td>\n",
              "    </tr>\n",
              "    <tr>\n",
              "      <th>75%</th>\n",
              "      <td>2.000</td>\n",
              "      <td>55.750</td>\n",
              "      <td>1.898</td>\n",
              "      <td>3.903</td>\n",
              "      <td>1.000</td>\n",
              "      <td>13.800</td>\n",
              "      <td>5.000</td>\n",
              "      <td>5.000</td>\n",
              "    </tr>\n",
              "    <tr>\n",
              "      <th>max</th>\n",
              "      <td>5.000</td>\n",
              "      <td>446.000</td>\n",
              "      <td>20.561</td>\n",
              "      <td>35.197</td>\n",
              "      <td>1.000</td>\n",
              "      <td>41.300</td>\n",
              "      <td>8.000</td>\n",
              "      <td>11.000</td>\n",
              "    </tr>\n",
              "  </tbody>\n",
              "</table>\n",
              "</div>\n",
              "      <button class=\"colab-df-convert\" onclick=\"convertToInteractive('df-68ef8cfd-1f53-4718-9bbe-4d84d2f353ee')\"\n",
              "              title=\"Convert this dataframe to an interactive table.\"\n",
              "              style=\"display:none;\">\n",
              "        \n",
              "  <svg xmlns=\"http://www.w3.org/2000/svg\" height=\"24px\"viewBox=\"0 0 24 24\"\n",
              "       width=\"24px\">\n",
              "    <path d=\"M0 0h24v24H0V0z\" fill=\"none\"/>\n",
              "    <path d=\"M18.56 5.44l.94 2.06.94-2.06 2.06-.94-2.06-.94-.94-2.06-.94 2.06-2.06.94zm-11 1L8.5 8.5l.94-2.06 2.06-.94-2.06-.94L8.5 2.5l-.94 2.06-2.06.94zm10 10l.94 2.06.94-2.06 2.06-.94-2.06-.94-.94-2.06-.94 2.06-2.06.94z\"/><path d=\"M17.41 7.96l-1.37-1.37c-.4-.4-.92-.59-1.43-.59-.52 0-1.04.2-1.43.59L10.3 9.45l-7.72 7.72c-.78.78-.78 2.05 0 2.83L4 21.41c.39.39.9.59 1.41.59.51 0 1.02-.2 1.41-.59l7.78-7.78 2.81-2.81c.8-.78.8-2.07 0-2.86zM5.41 20L4 18.59l7.72-7.72 1.47 1.35L5.41 20z\"/>\n",
              "  </svg>\n",
              "      </button>\n",
              "      \n",
              "  <style>\n",
              "    .colab-df-container {\n",
              "      display:flex;\n",
              "      flex-wrap:wrap;\n",
              "      gap: 12px;\n",
              "    }\n",
              "\n",
              "    .colab-df-convert {\n",
              "      background-color: #E8F0FE;\n",
              "      border: none;\n",
              "      border-radius: 50%;\n",
              "      cursor: pointer;\n",
              "      display: none;\n",
              "      fill: #1967D2;\n",
              "      height: 32px;\n",
              "      padding: 0 0 0 0;\n",
              "      width: 32px;\n",
              "    }\n",
              "\n",
              "    .colab-df-convert:hover {\n",
              "      background-color: #E2EBFA;\n",
              "      box-shadow: 0px 1px 2px rgba(60, 64, 67, 0.3), 0px 1px 3px 1px rgba(60, 64, 67, 0.15);\n",
              "      fill: #174EA6;\n",
              "    }\n",
              "\n",
              "    [theme=dark] .colab-df-convert {\n",
              "      background-color: #3B4455;\n",
              "      fill: #D2E3FC;\n",
              "    }\n",
              "\n",
              "    [theme=dark] .colab-df-convert:hover {\n",
              "      background-color: #434B5C;\n",
              "      box-shadow: 0px 1px 3px 1px rgba(0, 0, 0, 0.15);\n",
              "      filter: drop-shadow(0px 1px 2px rgba(0, 0, 0, 0.3));\n",
              "      fill: #FFFFFF;\n",
              "    }\n",
              "  </style>\n",
              "\n",
              "      <script>\n",
              "        const buttonEl =\n",
              "          document.querySelector('#df-68ef8cfd-1f53-4718-9bbe-4d84d2f353ee button.colab-df-convert');\n",
              "        buttonEl.style.display =\n",
              "          google.colab.kernel.accessAllowed ? 'block' : 'none';\n",
              "\n",
              "        async function convertToInteractive(key) {\n",
              "          const element = document.querySelector('#df-68ef8cfd-1f53-4718-9bbe-4d84d2f353ee');\n",
              "          const dataTable =\n",
              "            await google.colab.kernel.invokeFunction('convertToInteractive',\n",
              "                                                     [key], {});\n",
              "          if (!dataTable) return;\n",
              "\n",
              "          const docLinkHtml = 'Like what you see? Visit the ' +\n",
              "            '<a target=\"_blank\" href=https://colab.research.google.com/notebooks/data_table.ipynb>data table notebook</a>'\n",
              "            + ' to learn more about interactive tables.';\n",
              "          element.innerHTML = '';\n",
              "          dataTable['output_type'] = 'display_data';\n",
              "          await google.colab.output.renderOutput(dataTable, element);\n",
              "          const docLink = document.createElement('div');\n",
              "          docLink.innerHTML = docLinkHtml;\n",
              "          element.appendChild(docLink);\n",
              "        }\n",
              "      </script>\n",
              "    </div>\n",
              "  </div>\n",
              "  "
            ]
          },
          "metadata": {},
          "execution_count": 319
        }
      ]
    },
    {
      "cell_type": "code",
      "source": [
        "X=df[['Income','Card Debt']]"
      ],
      "metadata": {
        "id": "HbBruUVtjlYO"
      },
      "execution_count": 320,
      "outputs": []
    },
    {
      "cell_type": "markdown",
      "source": [
        "# Instancia scaler y aplica escala en df"
      ],
      "metadata": {
        "id": "cCPcrVPXKzfw"
      }
    },
    {
      "cell_type": "code",
      "source": [
        "num_selector = make_column_selector(dtype_include='number')\n",
        "\n",
        "## Instanciar transformadores SimpleImputer\n",
        "# Imputers\n",
        "mean_imputer = SimpleImputer(strategy='mean')\n",
        "\n",
        "# Scaler\n",
        "scaler = StandardScaler()\n",
        "\n",
        "## **Instanciar el pipeline**\n",
        "numeric_pipe = make_pipeline(mean_imputer, scaler)\n",
        "\n",
        "## **Asignacion de tupla e instanciacion de ColumnTransformer**\n",
        "number_tuple = (numeric_pipe, num_selector)\n",
        "# ColumnTransformer\n",
        "preprocessor = make_column_transformer(number_tuple)\n",
        "\n",
        "# fit on train\n",
        "preprocessor.fit(X)\n",
        "# transform train and test\n",
        "dfprocessed = preprocessor.transform(X)\n",
        "\n",
        "\n"
      ],
      "metadata": {
        "id": "QmPueQfrKtTU"
      },
      "execution_count": 321,
      "outputs": []
    },
    {
      "cell_type": "code",
      "source": [
        "print(np.isnan(dfprocessed).sum().sum(), 'valores perdidos en la data')\n",
        "print('\\n')\n",
        "print('Todos los datos procesados del df son del tipo:', dfprocessed.dtype)\n",
        "print('\\n')\n",
        "print('shape de los datos son', dfprocessed.shape)"
      ],
      "metadata": {
        "colab": {
          "base_uri": "https://localhost:8080/"
        },
        "id": "8_2o1jTJ5wMT",
        "outputId": "28c9979d-5a35-4e99-bb12-8d8bf5d725ad"
      },
      "execution_count": 322,
      "outputs": [
        {
          "output_type": "stream",
          "name": "stdout",
          "text": [
            "0 valores perdidos en la data\n",
            "\n",
            "\n",
            "Todos los datos procesados del df son del tipo: float64\n",
            "\n",
            "\n",
            "shape de los datos son (850, 2)\n"
          ]
        }
      ]
    },
    {
      "cell_type": "code",
      "source": [
        "# Entrenamiento de K-Means\n",
        "from sklearn.cluster import KMeans\n",
        "\n",
        "k = 3 # Este es el número de agrupaciones (nuestro supuesto)\n",
        "kmeans = KMeans(n_clusters=k)\n",
        "# OJO, no es que nos falte la división en training y test. NO es necesaria en este caso.\n",
        "kmeans.fit(X)\n",
        "\n",
        "y_pred = kmeans.predict(X)\n",
        "\n"
      ],
      "metadata": {
        "id": "Se-gIIR_jIti"
      },
      "execution_count": 323,
      "outputs": []
    },
    {
      "cell_type": "markdown",
      "source": [
        "# Metodo del Codo"
      ],
      "metadata": {
        "id": "8KN5UaRnLGXk"
      }
    },
    {
      "cell_type": "code",
      "source": [
        "score = []\n",
        "k_clusters = range(1,20) # Este range va de 1 a 20\n",
        "for k in k_clusters:\n",
        "    kmeans = KMeans(n_clusters=k)\n",
        "    kmeans.fit(X)\n",
        "    score.append(-kmeans.score(X))\n",
        "    \n",
        "plt.plot(k_clusters, score,'b.-')\n"
      ],
      "metadata": {
        "colab": {
          "base_uri": "https://localhost:8080/",
          "height": 293
        },
        "id": "cwFyUAkHLFJ4",
        "outputId": "22f15471-4d0a-4bc8-d81b-58296fa8f580"
      },
      "execution_count": 326,
      "outputs": [
        {
          "output_type": "execute_result",
          "data": {
            "text/plain": [
              "[<matplotlib.lines.Line2D at 0x7f749baaf3d0>]"
            ]
          },
          "metadata": {},
          "execution_count": 326
        },
        {
          "output_type": "display_data",
          "data": {
            "text/plain": [
              "<Figure size 432x288 with 1 Axes>"
            ],
            "image/png": "[encoded data removed]"
          },
          "metadata": {
            "needs_background": "light"
          }
        }
      ]
    },
    {
      "cell_type": "markdown",
      "source": [
        "# Agrupamiento Jerárquico\n",
        "\n",
        "Algoritmo que define jerarquía en los datos para generar agrupaciones\n",
        "\n",
        "Agrupamiento aglomerativo: A partir de los datos individuales, se agrupan gradualmente hasta formar uno o mútiples grandes grupos. Aproximación bottom up.\n",
        "Agrupamiento divisional: A partir de los datos agrupados, se dividen gradualmente hasta formar mútiples grupos pequeños. Aproximación Up bottom\n",
        "\n"
      ],
      "metadata": {
        "id": "lSkxa0-JLUbt"
      }
    },
    {
      "cell_type": "code",
      "source": [
        "from sklearn.cluster import AgglomerativeClustering\n",
        "\n",
        "# Escalamiento \"puede\" mejorar clusterings generados\n",
        "# # Escalamiento de datos \n",
        "# scaler = StandardScaler()\n",
        "# # Ajustar y transformar datos\n",
        "# X_scaled = scaler.fit_transform(X)\n",
        "\n",
        "\n",
        "agg_cluster = AgglomerativeClustering(n_clusters=3)\n",
        "y_pred = agg_cluster.fit_predict(X)\n",
        "print(y_pred)"
      ],
      "metadata": {
        "colab": {
          "base_uri": "https://localhost:8080/"
        },
        "id": "I0Seo0L3LTYp",
        "outputId": "d1c13c67-39e3-4446-8493-04059da94a60"
      },
      "execution_count": 328,
      "outputs": [
        {
          "output_type": "stream",
          "name": "stdout",
          "text": [
            "[0 1 0 0 2 1 0 0 0 1 1 0 0 0 0 0 0 0 0 0 0 0 0 1 1 0 0 0 0 0 1 0 0 0 0 0 0\n",
            " 0 0 1 0 1 0 1 0 1 0 0 0 0 1 0 0 0 0 0 0 0 0 0 0 0 0 1 0 0 1 0 0 0 0 1 1 0\n",
            " 0 0 0 0 1 0 0 0 1 0 0 0 0 0 0 0 1 0 0 0 0 0 0 0 0 0 0 1 0 0 0 0 0 0 0 1 0\n",
            " 0 0 0 0 0 0 0 0 0 0 0 0 0 0 1 0 0 0 0 0 0 0 0 0 0 1 0 0 0 0 0 0 0 1 0 0 0\n",
            " 0 0 0 0 0 0 0 0 1 1 0 0 0 0 1 0 0 0 0 0 0 0 1 0 0 0 0 0 0 0 0 1 0 0 0 1 0\n",
            " 0 0 0 0 1 0 0 1 0 1 0 0 0 2 0 1 0 0 0 0 0 0 2 1 0 0 0 0 1 0 0 0 0 0 0 0 1\n",
            " 0 0 0 0 1 0 0 0 0 0 0 0 1 0 0 0 0 0 0 0 0 0 0 1 0 0 0 0 0 0 0 0 1 0 0 0 0\n",
            " 0 0 1 0 0 0 0 0 0 0 0 0 0 0 0 0 0 0 0 0 0 0 1 1 0 1 0 1 0 1 0 0 0 0 0 0 0\n",
            " 0 0 0 1 1 0 0 0 0 0 0 0 0 0 0 0 0 0 0 0 0 0 0 0 1 0 1 0 0 0 0 0 1 0 0 1 0\n",
            " 0 0 0 0 0 0 0 0 0 0 0 1 0 0 1 0 0 1 0 0 0 0 0 1 0 0 0 1 0 0 0 1 0 0 1 1 0\n",
            " 0 0 1 0 0 0 0 0 0 0 0 0 0 0 1 0 1 0 0 0 0 0 0 0 0 0 0 1 0 0 0 0 0 0 0 0 0\n",
            " 0 1 0 0 0 0 0 0 0 0 0 0 0 0 0 0 0 1 0 0 0 0 0 0 0 0 0 1 0 0 0 1 0 0 0 0 2\n",
            " 0 0 0 0 0 0 1 0 0 0 1 0 0 0 0 0 0 1 0 0 0 0 1 0 0 0 1 0 0 1 0 0 0 0 0 0 0\n",
            " 0 1 0 0 0 0 1 0 0 0 1 0 0 0 0 0 1 0 0 0 0 1 1 0 0 0 0 0 0 0 0 0 1 0 0 0 0\n",
            " 0 0 0 0 0 0 0 0 0 0 0 0 0 0 2 1 0 0 0 0 0 0 1 0 0 0 0 1 0 0 1 0 0 2 0 1 0\n",
            " 0 2 0 0 0 0 0 0 0 0 0 1 0 0 0 0 2 0 0 0 0 0 0 0 0 0 0 0 0 0 0 0 0 0 0 0 1\n",
            " 0 0 0 0 0 0 1 0 0 0 0 1 0 0 0 0 0 0 0 0 0 0 0 0 0 0 0 0 1 0 0 0 0 0 0 0 0\n",
            " 1 0 0 0 0 1 0 0 1 0 1 0 0 1 0 1 0 1 0 0 0 0 0 1 0 0 0 0 0 0 0 0 0 1 1 0 0\n",
            " 1 0 0 0 0 0 2 0 0 1 0 0 0 0 0 0 0 1 0 0 0 0 0 0 0 0 0 0 0 0 0 0 0 0 0 0 0\n",
            " 0 0 1 0 0 1 0 1 0 0 1 0 0 0 1 0 1 0 0 0 0 0 1 0 0 0 0 0 1 0 0 1 0 0 0 0 0\n",
            " 0 1 0 0 0 0 1 0 0 0 0 0 0 0 0 0 0 0 1 0 1 0 0 0 0 0 0 0 0 1 0 0 0 0 0 0 0\n",
            " 0 0 0 0 0 0 0 1 0 0 0 0 0 0 2 0 1 0 0 0 0 0 0 0 1 0 0 0 0 0 0 0 0 0 0 0 0\n",
            " 0 0 0 0 0 0 0 0 0 0 0 1 0 0 0 0 0 0 0 0 0 0 0 0 0 0 0 0 0 0 0 0 0 0 0 0]\n"
          ]
        }
      ]
    },
    {
      "cell_type": "markdown",
      "source": [
        "# Dendograma"
      ],
      "metadata": {
        "id": "hzTglYXwUISA"
      }
    },
    {
      "cell_type": "code",
      "source": [
        "# Dendograma (gráfico de conexiones de agrupamientos)\n",
        "import scipy.cluster.hierarchy as sch\n",
        "from sklearn.preprocessing import StandardScaler\n",
        "\n",
        "plt.figure(figsize = (15, 6))\n",
        "sch.dendrogram(sch.linkage(X, method = 'ward'))\n",
        "plt.xlabel('Data Points');\n",
        "\n"
      ],
      "metadata": {
        "colab": {
          "base_uri": "https://localhost:8080/",
          "height": 388
        },
        "id": "VQeYFO5qUIAx",
        "outputId": "25041ba0-014d-491e-9ab6-404b64bad1db"
      },
      "execution_count": 331,
      "outputs": [
        {
          "output_type": "display_data",
          "data": {
            "text/plain": [
              "<Figure size 1080x432 with 1 Axes>"
            ],
            "image/png": "[encoded data removed]"
          },
          "metadata": {
            "needs_background": "light"
          }
        }
      ]
    },
    {
      "cell_type": "markdown",
      "source": [
        "# DBSCAN"
      ],
      "metadata": {
        "id": "lw_lhWbcVOvC"
      }
    },
    {
      "cell_type": "code",
      "source": [
        "from sklearn.cluster import DBSCAN\n",
        "\n",
        "dbscan = DBSCAN(eps=0.2, min_samples=4)\n",
        "y_pred = dbscan.fit_predict(X)\n",
        "print(y_pred)"
      ],
      "metadata": {
        "id": "t0akjKurUl1e",
        "colab": {
          "base_uri": "https://localhost:8080/"
        },
        "outputId": "a8eae29d-8cd5-44d7-fefd-6421de64e905"
      },
      "execution_count": 332,
      "outputs": [
        {
          "output_type": "stream",
          "name": "stdout",
          "text": [
            "[ 0 -1 -1 -1 -1 -1  1 -1  2 -1 -1  3  2  4  5  6  7  8 -1  9 10 41 -1 -1\n",
            " -1 -1 11 -1 -1 12 -1 -1 13 34 -1 14 -1 -1  2 -1 15 -1 -1 -1 -1 -1 15 11\n",
            "  0 -1 -1 -1 -1 -1 -1 10  5 16 17 -1 -1 -1 -1 -1  5 -1 -1 -1 18 -1 -1 -1\n",
            " -1 -1 19 -1 -1 11 -1 -1 -1 -1 -1 13 -1 20 21  6 22 38 -1 -1 11  5 23 -1\n",
            " 23 35 -1  5 -1 -1 -1 -1 24 -1  9 23 -1 -1 -1 -1 -1 25 18 38  2 -1 -1 16\n",
            " 11 14  9 -1 -1 -1 -1 10 11  6 26 -1 -1 27 21 -1 -1 -1 32 -1 -1 11  3 18\n",
            " -1  4 -1 -1 13 16 28 37 22 11 -1 -1 -1 -1 -1 -1  5 -1 -1 -1 24  9 -1 23\n",
            " 29 12 -1  5 30 -1 23 -1 -1 24 -1 -1 -1  3 11 -1 -1 -1 29 29 -1 -1 -1 -1\n",
            " -1 32 -1  4  6 -1 -1 16 -1 11 -1 11 23 -1 16 -1 -1 27 10 -1 -1 -1 29 25\n",
            " -1 -1 12 -1 11 -1 31 27 11 27 -1 32 -1 -1 33 34 -1 -1 -1  2  3 20 -1 35\n",
            " 30 -1 -1  9 16 -1 -1 -1 12 16 31 28 32 11 -1 -1 -1  0 -1  8 27 -1 -1 -1\n",
            " 17  3 -1 -1 30 43 29 29  3 -1 10  7 -1 -1 23 30 16 -1 -1 15 -1 29 -1 32\n",
            " -1 -1 19 41 27 -1 35 24  5 31 35 -1 -1 17  7 29 -1 -1 -1 -1 36 37  1  7\n",
            " 24 20 12  7 23 23 -1 18 -1 31 -1 27  6 -1  2  2 -1 -1 -1 -1 11 -1 -1 29\n",
            "  7 -1 -1 -1 -1  1  9  5 -1 -1  6 -1 11 19 -1 23 -1 -1 23 19 -1 31 24  2\n",
            " -1  5 11 -1 -1 25 -1 -1 -1 -1  5 -1 -1 23 25 -1 -1 -1  2 15  4  5  7 27\n",
            " -1  9 -1 11 -1 10 -1 -1 -1 -1 24 -1 -1 -1 -1 18 -1  0 -1  2 21 -1 -1 -1\n",
            " -1 -1 36 -1 -1 -1 -1 -1 -1 42 -1 10 -1 -1 11 31 -1 33 -1 -1 -1  0 -1 38\n",
            " 20  2 -1 10 23 29 -1 -1 -1 -1 16 -1 -1 -1 -1 -1 41 -1 -1 -1  8 11 -1 31\n",
            " -1 34 24 -1 -1 -1 25 -1 33 -1 -1 27 -1 -1 -1 -1 -1 -1 -1 27 -1 23 38 -1\n",
            " -1 -1 -1  7 21  9 -1 -1  6 10 -1 -1 -1 -1 34 10  2 -1 -1  2 14 -1 -1 -1\n",
            " 16 40  9 -1 -1 -1 24 39 -1 -1 -1 22 24 39 20 -1 -1 -1 24 -1 39  5 30 -1\n",
            " -1  7 29 -1 -1 -1 30 -1 27 -1 11 -1 -1 43  3 -1 -1 -1 -1 18 -1  5 -1 -1\n",
            " -1 -1 13 11 -1 20  5 11 -1 -1 24  1 23 -1 -1 27 -1  5 37 -1 -1 11 -1 -1\n",
            " 11 16 16 -1 -1 37 28 -1 40 -1 -1 38 16 -1 38 -1 -1 -1 -1 -1 25  2 -1 14\n",
            " 33 -1 -1 -1 16 -1 -1 -1 30 43 23 16  5 26 -1 -1 -1 31 -1 35 -1 23 -1 24\n",
            "  7 -1 10  6 -1 -1 -1 34 -1 -1 -1 24 -1 -1 19 -1  6  0 -1 31 -1 -1 -1 24\n",
            " 30 -1  6 34 -1 -1  5 31 30 -1 -1 -1 16 -1 -1 -1 38 -1 -1 29 29 -1 -1 -1\n",
            " -1 20 34 -1 41 -1 22 19 -1  7 -1 -1 29 40 -1 -1 -1 11  6 26 30 -1 24 -1\n",
            " -1 23 27 20  5 -1 19  5 25 -1 -1  5 -1 11 -1 30 -1 -1 37 -1 35 -1 -1 -1\n",
            "  8  9 21 33 -1 -1 40 -1 27 -1 -1 -1 -1 -1 -1 -1  5 -1 -1 -1 -1 -1  0 -1\n",
            " -1 -1 -1 13 15 36  2 16 -1 -1 42 16 10  2 -1 -1 -1 -1  7 -1  6 -1 17 36\n",
            " 19 -1  7 10 42 28 40 -1 -1 19 37 -1 -1 41 -1 -1 -1 31 40 -1 -1 -1 -1 -1\n",
            " -1 -1  7 10 42 33 -1 29 24 -1 15 -1 43  0 -1 -1 -1 -1 10  7  5 -1 24 26\n",
            " 23 16 -1 36 29 39  5 21  8 -1 -1 -1 24 14 -1  2 -1 31 26 -1 29 24 21 24\n",
            " 10 -1 26 12 41 16 35 -1 30 -1]\n"
          ]
        }
      ]
    },
    {
      "cell_type": "code",
      "source": [
        "import matplotlib.pyplot as plt\n",
        "\n",
        "fig = plt.figure(figsize=(13,4))\n",
        "ax1 = fig.add_subplot(1,2,1)\n",
        "ax1.plot(X[y==0,0],X[y==0,1],'yo')\n",
        "ax1.plot(X[y==1,0],X[y==1,1],'bs')\n",
        "ax1.plot(X[y==2,0],X[y==2,1],'g^')\n",
        "ax1.legend(['Iris-Setosa','Iris-Versicolor','Iris-Virginica'])\n",
        "ax1.set_xlabel('Petal length')\n",
        "ax1.set_ylabel('Petal width')\n",
        "\n",
        "# Índice de agrupación cambia, pero agrupaciones se mantienen\n",
        "ax2 = fig.add_subplot(1,2,2)\n",
        "ax2.plot(X[y_pred==-1,0],X[y_pred==-1,1],'r*') # Anomalías\n",
        "ax2.plot(X[y_pred==0,0],X[y_pred==0,1],'yo')\n",
        "ax2.plot(X[y_pred==1,0],X[y_pred==1,1],'bs')\n",
        "ax2.plot(X[y_pred==2,0],X[y_pred==2,1],'g^')\n",
        "ax2.legend(['Anomalías', 'Iris-Setosa','Iris-Versicolor','Iris-Virginica'])\n",
        "ax2.set_xlabel('Petal length')\n",
        "ax2.set_ylabel('Petal width')\n",
        "\n",
        "plt.show()"
      ],
      "metadata": {
        "id": "zU9btEAJnQom",
        "outputId": "689fa334-c34f-4914-ff9b-e8ead92a3013",
        "colab": {
          "base_uri": "https://localhost:8080/",
          "height": 825
        }
      },
      "execution_count": 334,
      "outputs": [
        {
          "output_type": "error",
          "ename": "TypeError",
          "evalue": "ignored",
          "traceback": [
            "\u001b[0;31m---------------------------------------------------------------------------\u001b[0m",
            "\u001b[0;31mTypeError\u001b[0m                                 Traceback (most recent call last)",
            "\u001b[0;32m<ipython-input-334-7416910ec5d6>\u001b[0m in \u001b[0;36m<module>\u001b[0;34m\u001b[0m\n\u001b[1;32m      3\u001b[0m \u001b[0mfig\u001b[0m \u001b[0;34m=\u001b[0m \u001b[0mplt\u001b[0m\u001b[0;34m.\u001b[0m\u001b[0mfigure\u001b[0m\u001b[0;34m(\u001b[0m\u001b[0mfigsize\u001b[0m\u001b[0;34m=\u001b[0m\u001b[0;34m(\u001b[0m\u001b[0;36m13\u001b[0m\u001b[0;34m,\u001b[0m\u001b[0;36m4\u001b[0m\u001b[0;34m)\u001b[0m\u001b[0;34m)\u001b[0m\u001b[0;34m\u001b[0m\u001b[0;34m\u001b[0m\u001b[0m\n\u001b[1;32m      4\u001b[0m \u001b[0max1\u001b[0m \u001b[0;34m=\u001b[0m \u001b[0mfig\u001b[0m\u001b[0;34m.\u001b[0m\u001b[0madd_subplot\u001b[0m\u001b[0;34m(\u001b[0m\u001b[0;36m1\u001b[0m\u001b[0;34m,\u001b[0m\u001b[0;36m2\u001b[0m\u001b[0;34m,\u001b[0m\u001b[0;36m1\u001b[0m\u001b[0;34m)\u001b[0m\u001b[0;34m\u001b[0m\u001b[0;34m\u001b[0m\u001b[0m\n\u001b[0;32m----> 5\u001b[0;31m \u001b[0max1\u001b[0m\u001b[0;34m.\u001b[0m\u001b[0mplot\u001b[0m\u001b[0;34m(\u001b[0m\u001b[0mX\u001b[0m\u001b[0;34m[\u001b[0m\u001b[0my\u001b[0m\u001b[0;34m==\u001b[0m\u001b[0;36m0\u001b[0m\u001b[0;34m,\u001b[0m\u001b[0;36m0\u001b[0m\u001b[0;34m]\u001b[0m\u001b[0;34m,\u001b[0m\u001b[0mX\u001b[0m\u001b[0;34m[\u001b[0m\u001b[0my\u001b[0m\u001b[0;34m==\u001b[0m\u001b[0;36m0\u001b[0m\u001b[0;34m,\u001b[0m\u001b[0;36m1\u001b[0m\u001b[0;34m]\u001b[0m\u001b[0;34m,\u001b[0m\u001b[0;34m'yo'\u001b[0m\u001b[0;34m)\u001b[0m\u001b[0;34m\u001b[0m\u001b[0;34m\u001b[0m\u001b[0m\n\u001b[0m\u001b[1;32m      6\u001b[0m \u001b[0max1\u001b[0m\u001b[0;34m.\u001b[0m\u001b[0mplot\u001b[0m\u001b[0;34m(\u001b[0m\u001b[0mX\u001b[0m\u001b[0;34m[\u001b[0m\u001b[0my\u001b[0m\u001b[0;34m==\u001b[0m\u001b[0;36m1\u001b[0m\u001b[0;34m,\u001b[0m\u001b[0;36m0\u001b[0m\u001b[0;34m]\u001b[0m\u001b[0;34m,\u001b[0m\u001b[0mX\u001b[0m\u001b[0;34m[\u001b[0m\u001b[0my\u001b[0m\u001b[0;34m==\u001b[0m\u001b[0;36m1\u001b[0m\u001b[0;34m,\u001b[0m\u001b[0;36m1\u001b[0m\u001b[0;34m]\u001b[0m\u001b[0;34m,\u001b[0m\u001b[0;34m'bs'\u001b[0m\u001b[0;34m)\u001b[0m\u001b[0;34m\u001b[0m\u001b[0;34m\u001b[0m\u001b[0m\n\u001b[1;32m      7\u001b[0m \u001b[0max1\u001b[0m\u001b[0;34m.\u001b[0m\u001b[0mplot\u001b[0m\u001b[0;34m(\u001b[0m\u001b[0mX\u001b[0m\u001b[0;34m[\u001b[0m\u001b[0my\u001b[0m\u001b[0;34m==\u001b[0m\u001b[0;36m2\u001b[0m\u001b[0;34m,\u001b[0m\u001b[0;36m0\u001b[0m\u001b[0;34m]\u001b[0m\u001b[0;34m,\u001b[0m\u001b[0mX\u001b[0m\u001b[0;34m[\u001b[0m\u001b[0my\u001b[0m\u001b[0;34m==\u001b[0m\u001b[0;36m2\u001b[0m\u001b[0;34m,\u001b[0m\u001b[0;36m1\u001b[0m\u001b[0;34m]\u001b[0m\u001b[0;34m,\u001b[0m\u001b[0;34m'g^'\u001b[0m\u001b[0;34m)\u001b[0m\u001b[0;34m\u001b[0m\u001b[0;34m\u001b[0m\u001b[0m\n",
            "\u001b[0;32m/usr/local/lib/python3.7/dist-packages/pandas/core/frame.py\u001b[0m in \u001b[0;36m__getitem__\u001b[0;34m(self, key)\u001b[0m\n\u001b[1;32m   3456\u001b[0m             \u001b[0;32mif\u001b[0m \u001b[0mself\u001b[0m\u001b[0;34m.\u001b[0m\u001b[0mcolumns\u001b[0m\u001b[0;34m.\u001b[0m\u001b[0mnlevels\u001b[0m \u001b[0;34m>\u001b[0m \u001b[0;36m1\u001b[0m\u001b[0;34m:\u001b[0m\u001b[0;34m\u001b[0m\u001b[0;34m\u001b[0m\u001b[0m\n\u001b[1;32m   3457\u001b[0m                 \u001b[0;32mreturn\u001b[0m \u001b[0mself\u001b[0m\u001b[0;34m.\u001b[0m\u001b[0m_getitem_multilevel\u001b[0m\u001b[0;34m(\u001b[0m\u001b[0mkey\u001b[0m\u001b[0;34m)\u001b[0m\u001b[0;34m\u001b[0m\u001b[0;34m\u001b[0m\u001b[0m\n\u001b[0;32m-> 3458\u001b[0;31m             \u001b[0mindexer\u001b[0m \u001b[0;34m=\u001b[0m \u001b[0mself\u001b[0m\u001b[0;34m.\u001b[0m\u001b[0mcolumns\u001b[0m\u001b[0;34m.\u001b[0m\u001b[0mget_loc\u001b[0m\u001b[0;34m(\u001b[0m\u001b[0mkey\u001b[0m\u001b[0;34m)\u001b[0m\u001b[0;34m\u001b[0m\u001b[0;34m\u001b[0m\u001b[0m\n\u001b[0m\u001b[1;32m   3459\u001b[0m             \u001b[0;32mif\u001b[0m \u001b[0mis_integer\u001b[0m\u001b[0;34m(\u001b[0m\u001b[0mindexer\u001b[0m\u001b[0;34m)\u001b[0m\u001b[0;34m:\u001b[0m\u001b[0;34m\u001b[0m\u001b[0;34m\u001b[0m\u001b[0m\n\u001b[1;32m   3460\u001b[0m                 \u001b[0mindexer\u001b[0m \u001b[0;34m=\u001b[0m \u001b[0;34m[\u001b[0m\u001b[0mindexer\u001b[0m\u001b[0;34m]\u001b[0m\u001b[0;34m\u001b[0m\u001b[0;34m\u001b[0m\u001b[0m\n",
            "\u001b[0;32m/usr/local/lib/python3.7/dist-packages/pandas/core/indexes/base.py\u001b[0m in \u001b[0;36mget_loc\u001b[0;34m(self, key, method, tolerance)\u001b[0m\n\u001b[1;32m   3359\u001b[0m             \u001b[0mcasted_key\u001b[0m \u001b[0;34m=\u001b[0m \u001b[0mself\u001b[0m\u001b[0;34m.\u001b[0m\u001b[0m_maybe_cast_indexer\u001b[0m\u001b[0;34m(\u001b[0m\u001b[0mkey\u001b[0m\u001b[0;34m)\u001b[0m\u001b[0;34m\u001b[0m\u001b[0;34m\u001b[0m\u001b[0m\n\u001b[1;32m   3360\u001b[0m             \u001b[0;32mtry\u001b[0m\u001b[0;34m:\u001b[0m\u001b[0;34m\u001b[0m\u001b[0;34m\u001b[0m\u001b[0m\n\u001b[0;32m-> 3361\u001b[0;31m                 \u001b[0;32mreturn\u001b[0m \u001b[0mself\u001b[0m\u001b[0;34m.\u001b[0m\u001b[0m_engine\u001b[0m\u001b[0;34m.\u001b[0m\u001b[0mget_loc\u001b[0m\u001b[0;34m(\u001b[0m\u001b[0mcasted_key\u001b[0m\u001b[0;34m)\u001b[0m\u001b[0;34m\u001b[0m\u001b[0;34m\u001b[0m\u001b[0m\n\u001b[0m\u001b[1;32m   3362\u001b[0m             \u001b[0;32mexcept\u001b[0m \u001b[0mKeyError\u001b[0m \u001b[0;32mas\u001b[0m \u001b[0merr\u001b[0m\u001b[0;34m:\u001b[0m\u001b[0;34m\u001b[0m\u001b[0;34m\u001b[0m\u001b[0m\n\u001b[1;32m   3363\u001b[0m                 \u001b[0;32mraise\u001b[0m \u001b[0mKeyError\u001b[0m\u001b[0;34m(\u001b[0m\u001b[0mkey\u001b[0m\u001b[0;34m)\u001b[0m \u001b[0;32mfrom\u001b[0m \u001b[0merr\u001b[0m\u001b[0;34m\u001b[0m\u001b[0;34m\u001b[0m\u001b[0m\n",
            "\u001b[0;32m/usr/local/lib/python3.7/dist-packages/pandas/_libs/index.pyx\u001b[0m in \u001b[0;36mpandas._libs.index.IndexEngine.get_loc\u001b[0;34m()\u001b[0m\n",
            "\u001b[0;32m/usr/local/lib/python3.7/dist-packages/pandas/_libs/index.pyx\u001b[0m in \u001b[0;36mpandas._libs.index.IndexEngine.get_loc\u001b[0;34m()\u001b[0m\n",
            "\u001b[0;31mTypeError\u001b[0m: '(array([ True,  True,  True,  True,  True,  True,  True,  True,  True,\n        True,  True,  True,  True,  True,  True,  True,  True,  True,\n        True,  True,  True,  True,  True,  True,  True,  True,  True,\n        True,  True,  True,  True,  True,  True,  True,  True,  True,\n        True,  True,  True,  True,  True,  True,  True,  True,  True,\n        True,  True,  True,  True,  True, False, False, False, False,\n       False, False, False, False, False, False, False, False, False,\n       False, False, False, False, False, False, False, False, False,\n       False, False, False, False, False, False, False, False, False,\n       False, False, False, False, False, False, False, False, False,\n       False, False, False, False, False, False, False, False, False,\n       False, False, False, False, False, False, False, False, False,\n       False, False, False, False, False, False, False, False, False,\n       False, False, False, False, False, False, False, False, False,\n       False, False, False, False, False, False, False, False, False,\n       False, False, False, False, False, False, False, False, False,\n       False, False, False, False, False, False]), 0)' is an invalid key"
          ]
        },
        {
          "output_type": "display_data",
          "data": {
            "text/plain": [
              "<Figure size 936x288 with 1 Axes>"
            ],
            "image/png": "[encoded data removed]"
          },
          "metadata": {
            "needs_background": "light"
          }
        }
      ]
    }
  ]
}