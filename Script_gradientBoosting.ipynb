{
  "nbformat": 4,
  "nbformat_minor": 0,
  "metadata": {
    "colab": {
      "provenance": []
    },
    "kernelspec": {
      "name": "python3",
      "display_name": "Python 3"
    },
    "language_info": {
      "name": "python"
    }
  },
  "cells": [
    {
      "cell_type": "markdown",
      "metadata": {
        "id": "wkS3xsOKZR-8"
      },
      "source": [
        "# Gradient Boosting: From Scratch!\n",
        "\n",
        "\n",
        "## Below is how the predictions of a gradient boost model change as the predictions of each of the sub-models are added together.\n",
        "\n",
        "![Gradient Boosting Image](https://github.com/ninja-josh/image-storage/raw/main/boosted_stumps.gif)\n",
        "\n",
        "A gradient boosting machine learning. \n",
        "\n",
        "[(Image courtesy UC Business Analytics R Programming Guide)](http://uc-r.github.io/gbm_regression)"
      ]
    },
    {
      "cell_type": "code",
      "metadata": {
        "id": "oZ6FEo9YZMmo"
      },
      "source": [
        "#import packages\n",
        "import pandas as pd\n",
        "import numpy as np\n",
        "import matplotlib.pyplot as plt\n",
        "from sklearn.model_selection import train_test_split\n",
        "from sklearn.tree import DecisionTreeRegressor\n",
        "from sklearn.dummy import DummyRegressor\n",
        "from sklearn.datasets import make_regression\n",
        "from sklearn.metrics import r2_score"
      ],
      "execution_count": null,
      "outputs": []
    },
    {
      "cell_type": "code",
      "metadata": {
        "id": "z6fxc60aloEk"
      },
      "source": [
        "#Custom function to plot predictions and evaluate a model\n",
        "def plot_r2(X, y, y_pred):\n",
        "  #plot true labels\n",
        "  plt.scatter(X, y, label='True Values')\n",
        "  #plot predicted labels\n",
        "  plt.scatter(X, y_pred, label='Predicted Values')\n",
        "  plt.legend()\n",
        "  plt.xlabel('X')\n",
        "  plt.ylabel('y')\n",
        "  plt.show()\n",
        "  #print R2 score\n",
        "  print('\\nR2 Score', r2_score(y, y_pred))"
      ],
      "execution_count": null,
      "outputs": []
    },
    {
      "cell_type": "code",
      "metadata": {
        "id": "jIMtUWoyZj6I"
      },
      "source": [
        "#create data\n",
        "\n",
        "df = make_regression(n_features=1, # 1 feature\n",
        "                     n_informative=1, # 1 feature the correlates to target\n",
        "                     n_targets=1, # 1 target\n",
        "                     n_samples=1000, # 1000 Samples\n",
        "                     random_state=42) # random state for reproducibility"
      ],
      "execution_count": null,
      "outputs": []
    },
    {
      "cell_type": "code",
      "metadata": {
        "colab": {
          "base_uri": "https://localhost:8080/",
          "height": 296
        },
        "id": "q7xGHf4hw_eb",
        "outputId": "617c48eb-8078-4b8d-e88b-9c6eaf3d6963"
      },
      "source": [
        "X = df[0]\n",
        "y = df[1]\n",
        "\n",
        "#Let's make this interesting and make y a sine wave by cubing it\n",
        "y = y**3\n",
        "\n",
        "plt.scatter(X, y)\n",
        "plt.xlabel('X')\n",
        "plt.ylabel('y')"
      ],
      "execution_count": null,
      "outputs": [
        {
          "output_type": "execute_result",
          "data": {
            "text/plain": [
              "Text(0, 0.5, 'y')"
            ]
          },
          "metadata": {},
          "execution_count": 37
        },
        {
          "output_type": "display_data",
          "data": {
            "image/png": "[encoded data removed]",
            "text/plain": [
              "<Figure size 432x288 with 1 Axes>"
            ]
          },
          "metadata": {
            "needs_background": "light"
          }
        }
      ]
    },
    {
      "cell_type": "code",
      "metadata": {
        "id": "ZSr7krmkiP6c"
      },
      "source": [
        "# validation split\n",
        "X_train, X_test, y_train, y_test = train_test_split(X, y, random_state=42)"
      ],
      "execution_count": null,
      "outputs": []
    },
    {
      "cell_type": "markdown",
      "metadata": {
        "id": "_dT1Yh7n3zhA"
      },
      "source": [
        "# Simple Gradient Booster\n",
        "\n",
        "# Training the Model\n",
        "\n",
        "## Base Estimator"
      ]
    },
    {
      "cell_type": "code",
      "metadata": {
        "colab": {
          "base_uri": "https://localhost:8080/",
          "height": 313
        },
        "id": "d2YLP0DVaCP2",
        "outputId": "b0dc183a-d723-41ba-9455-ff536ae7e726"
      },
      "source": [
        "#Create baseline regressor.  Since is is regression, we will use the mean\n",
        "\n",
        "baseline = DummyRegressor(strategy='mean')\n",
        "baseline.fit(X_train, y_train)\n",
        "y_pred_1 = baseline.predict(X_train)\n",
        "plot_r2(X_train, y_train, y_pred_1)"
      ],
      "execution_count": null,
      "outputs": [
        {
          "output_type": "display_data",
          "data": {
            "image/png": "[encoded data removed]",
            "text/plain": [
              "<Figure size 432x288 with 1 Axes>"
            ]
          },
          "metadata": {
            "needs_background": "light"
          }
        },
        {
          "output_type": "stream",
          "name": "stdout",
          "text": [
            "\n",
            "R2 Score 0.0\n"
          ]
        }
      ]
    },
    {
      "cell_type": "markdown",
      "metadata": {
        "id": "fGaP8RfDh4LM"
      },
      "source": [
        "Start with a baseline of 0 R2"
      ]
    },
    {
      "cell_type": "markdown",
      "metadata": {
        "id": "IQYD1e4Ypo68"
      },
      "source": [
        "## Base Residuals"
      ]
    },
    {
      "cell_type": "code",
      "metadata": {
        "id": "dNqdQXDRahKj"
      },
      "source": [
        "#create pseudo-residuals\n",
        "resid_1 = y_train - y_pred_1"
      ],
      "execution_count": null,
      "outputs": []
    },
    {
      "cell_type": "markdown",
      "metadata": {
        "id": "DX3KrprcpsGv"
      },
      "source": [
        "## Weak Tree 1"
      ]
    },
    {
      "cell_type": "code",
      "metadata": {
        "colab": {
          "base_uri": "https://localhost:8080/",
          "height": 313
        },
        "id": "5qvQXbn-a5-g",
        "outputId": "8db70b04-33bd-43e3-d305-f1906efe39b0"
      },
      "source": [
        "#Fit a depth 1 decision tree to use X_t to predict resid_1\n",
        "tree_1 = DecisionTreeRegressor(max_depth=1)\n",
        "\n",
        "tree_1.fit(X_train, resid_1)\n",
        "\n",
        "y_pred_2 = tree_1.predict(X_train)\n",
        "\n",
        "#add the predictions together\n",
        "pred = y_pred_1 + y_pred_2\n",
        "\n",
        "plot_r2(X_train, y_train, pred)\n"
      ],
      "execution_count": null,
      "outputs": [
        {
          "output_type": "display_data",
          "data": {
            "image/png": "[encoded data removed]",
            "text/plain": [
              "<Figure size 432x288 with 1 Axes>"
            ]
          },
          "metadata": {
            "needs_background": "light"
          }
        },
        {
          "output_type": "stream",
          "name": "stdout",
          "text": [
            "\n",
            "R2 Score 0.3853730211307187\n"
          ]
        }
      ]
    },
    {
      "cell_type": "code",
      "metadata": {
        "colab": {
          "base_uri": "https://localhost:8080/"
        },
        "id": "p6fGm7uJp_Fu",
        "outputId": "d78760fd-77ba-4b53-fc62-cc95346ebed4"
      },
      "source": [
        "#second residuals\n",
        "resid_2 = resid_1 - y_pred_2\n",
        "resid_2[:5]"
      ],
      "execution_count": null,
      "outputs": [
        {
          "output_type": "execute_result",
          "data": {
            "text/plain": [
              "array([3192.17867921, 5223.11364167,  680.49506866, 5804.86251365,\n",
              "        901.45303729])"
            ]
          },
          "metadata": {},
          "execution_count": 41
        }
      ]
    },
    {
      "cell_type": "code",
      "metadata": {
        "colab": {
          "base_uri": "https://localhost:8080/",
          "height": 313
        },
        "id": "OU5Nz6cgc_DB",
        "outputId": "9bf29707-69cb-4846-c8db-0fbd4db8c61e"
      },
      "source": [
        "#Fit a depth 1 decision tree to use X_t to predict resid_2\n",
        "tree_2 = DecisionTreeRegressor(max_depth=1)\n",
        "\n",
        "tree_2.fit(X_train, resid_2)\n",
        "\n",
        "y_pred_3 = tree_2.predict(X_train)\n",
        "\n",
        "#3rd residuals\n",
        "resid_3 = resid_2 - y_pred_3\n",
        "\n",
        "#add the predictions together\n",
        "pred = y_pred_1 + y_pred_2 + y_pred_3\n",
        "\n",
        "plot_r2(X_train, y_train, pred)"
      ],
      "execution_count": null,
      "outputs": [
        {
          "output_type": "display_data",
          "data": {
            "image/png": "[encoded data removed]",
            "text/plain": [
              "<Figure size 432x288 with 1 Axes>"
            ]
          },
          "metadata": {
            "needs_background": "light"
          }
        },
        {
          "output_type": "stream",
          "name": "stdout",
          "text": [
            "\n",
            "R2 Score 0.5839918105519601\n"
          ]
        }
      ]
    },
    {
      "cell_type": "code",
      "metadata": {
        "colab": {
          "base_uri": "https://localhost:8080/",
          "height": 313
        },
        "id": "mhk-XE2Yes8a",
        "outputId": "f09bfa1f-2512-46ef-e69a-3329d4641481"
      },
      "source": [
        "# One more time:\n",
        "#Fit a depth 1 decision tree to use X_t to predict resid_3\n",
        "tree_3 = DecisionTreeRegressor(max_depth=1)\n",
        "\n",
        "tree_3.fit(X_train, resid_3)\n",
        "\n",
        "y_pred_4 = tree_3.predict(X_train)\n",
        "\n",
        "#4th residuals\n",
        "resid_4 = resid_3 - y_pred_4\n",
        "\n",
        "#add the predictions together\n",
        "pred = y_pred_1 + y_pred_2 + y_pred_3 + y_pred_4\n",
        "\n",
        "plot_r2(X_train, y_train, pred)"
      ],
      "execution_count": null,
      "outputs": [
        {
          "output_type": "display_data",
          "data": {
            "image/png": "[encoded data removed]",
            "text/plain": [
              "<Figure size 432x288 with 1 Axes>"
            ]
          },
          "metadata": {
            "needs_background": "light"
          }
        },
        {
          "output_type": "stream",
          "name": "stdout",
          "text": [
            "\n",
            "R2 Score 0.7190134633329139\n"
          ]
        }
      ]
    },
    {
      "cell_type": "markdown",
      "metadata": {
        "id": "x9t3FxdV8QQX"
      },
      "source": [
        "# Validation:\n",
        "\n",
        "Simple Gradient Booster: 4 weak learners"
      ]
    },
    {
      "cell_type": "code",
      "metadata": {
        "colab": {
          "base_uri": "https://localhost:8080/",
          "height": 313
        },
        "id": "NleWzrU-1zCZ",
        "outputId": "e8622dbe-0bfe-4faf-d299-a8e1b16608e4"
      },
      "source": [
        "# Let's try our model on the test set.\n",
        "# We will add up the predictions of each of our weak learners\n",
        "weak_learners = [baseline, tree_1, tree_2, tree_3]\n",
        "preds = []\n",
        "for learner in weak_learners:\n",
        "  preds.append(learner.predict(X_test))\n",
        "\n",
        "final_pred = sum(preds)\n",
        "\n",
        "plot_r2(X_test, y_test, final_pred)"
      ],
      "execution_count": null,
      "outputs": [
        {
          "output_type": "display_data",
          "data": {
            "image/png": "[encoded data removed]",
            "text/plain": [
              "<Figure size 432x288 with 1 Axes>"
            ]
          },
          "metadata": {
            "needs_background": "light"
          }
        },
        {
          "output_type": "stream",
          "name": "stdout",
          "text": [
            "\n",
            "R2 Score 0.6072816856330459\n"
          ]
        }
      ]
    },
    {
      "cell_type": "markdown",
      "metadata": {
        "id": "6xJnVOxnhl2t"
      },
      "source": [
        "Our very simple, very small boosted model is a little overfit, but it does successfully predict some of the variance in y_test.\n",
        "\n",
        "When we use hundreds of learners, instead of just 4, we can get a much better result!"
      ]
    },
    {
      "cell_type": "markdown",
      "metadata": {
        "id": "Pta9CgKU3u-J"
      },
      "source": [
        "# XGBoost: 300 weak learners"
      ]
    },
    {
      "cell_type": "code",
      "metadata": {
        "colab": {
          "base_uri": "https://localhost:8080/",
          "height": 330
        },
        "id": "Zu1VXza41P2N",
        "outputId": "d0957e48-301d-4671-9d50-724662ad5d36"
      },
      "source": [
        "from xgboost import XGBRegressor\n",
        "\n",
        "xgb = XGBRegressor(n_estimators=300, max_depth=1)\n",
        "\n",
        "xgb.fit(X_train, y_train)\n",
        "\n",
        "preds = xgb.predict(X_test)\n",
        "\n",
        "plot_r2(X_test, y_test, preds)"
      ],
      "execution_count": null,
      "outputs": [
        {
          "output_type": "stream",
          "name": "stdout",
          "text": [
            "[20:39:17] WARNING: /workspace/src/objective/regression_obj.cu:152: reg:linear is now deprecated in favor of reg:squarederror.\n"
          ]
        },
        {
          "output_type": "display_data",
          "data": {
            "image/png": "[encoded data removed]",
            "text/plain": [
              "<Figure size 432x288 with 1 Axes>"
            ]
          },
          "metadata": {
            "needs_background": "light"
          }
        },
        {
          "output_type": "stream",
          "name": "stdout",
          "text": [
            "\n",
            "R2 Score 0.9963669284526002\n"
          ]
        }
      ]
    },
    {
      "cell_type": "code",
      "metadata": {
        "id": "zlDFZgkn3ogU"
      },
      "source": [],
      "execution_count": null,
      "outputs": []
    }
  ]
}