{
  "nbformat": 4,
  "nbformat_minor": 0,
  "metadata": {
    "colab": {
      "name": "Untitled9.ipynb",
      "provenance": [],
      "authorship_tag": "ABX9TyNJ9N2ecezDezIy6Cxx+q+F",
      "include_colab_link": true
    },
    "kernelspec": {
      "name": "python3",
      "display_name": "Python 3"
    },
    "language_info": {
      "name": "python"
    }
  },
  "cells": [
    {
      "cell_type": "markdown",
      "metadata": {
        "id": "view-in-github",
        "colab_type": "text"
      },
      "source": [
        "<a href=\"https://colab.research.google.com/github/Jorge2018/DataScience2022-2/blob/main/Script_hipoteca.ipynb\" target=\"_parent\"><img src=\"https://colab.research.google.com/assets/colab-badge.svg\" alt=\"Open In Colab\"/></a>"
      ]
    },
    {
      "cell_type": "code",
      "execution_count": 1,
      "metadata": {
        "colab": {
          "base_uri": "https://localhost:8080/"
        },
        "id": "GQGJXQNdYhpD",
        "outputId": "a0b6d9e9-821a-4b0d-89ab-be99db69851f"
      },
      "outputs": [
        {
          "output_type": "stream",
          "name": "stdout",
          "text": [
            "Pago Mensual con tasa de 3% ->  12032.449972958355\n",
            "Pago Mensual con tasa de 6% ->  24063.05832895428\n"
          ]
        }
      ],
      "source": [
        "valorCapital=float(400000)\n",
        "valorInteres=float(0.03)\n",
        "valorCuotas=float(360)\n",
        "valorInteres_A=float(0.06)\n",
        "\n",
        "calculo_uno= valorCapital * valorInteres * (1+valorInteres)*valorCuotas/((1+valorInteres)*valorCuotas-1)\n",
        "calculo_dos= valorCapital * valorInteres_A * (1+valorInteres_A)*valorCuotas/((1+valorInteres_A)*valorCuotas-1)\n",
        "\n",
        "\n",
        "\n",
        "print('Pago Mensual con tasa de 3% -> ', calculo_uno)\n",
        "print('Pago Mensual con tasa de 6% -> ', calculo_dos)\n"
      ]
    }
  ]
}