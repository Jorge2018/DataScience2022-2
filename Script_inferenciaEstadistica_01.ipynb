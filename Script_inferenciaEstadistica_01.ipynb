{
  "nbformat": 4,
  "nbformat_minor": 0,
  "metadata": {
    "colab": {
      "name": "Untitled22.ipynb",
      "provenance": [],
      "authorship_tag": "ABX9TyMdQGFSPFJbmFZ+jzS1dO0y",
      "include_colab_link": true
    },
    "kernelspec": {
      "name": "python3",
      "display_name": "Python 3"
    },
    "language_info": {
      "name": "python"
    }
  },
  "cells": [
    {
      "cell_type": "markdown",
      "metadata": {
        "id": "view-in-github",
        "colab_type": "text"
      },
      "source": [
        "<a href=\"https://colab.research.google.com/github/Jorge2018/DataScience2022-2/blob/main/Script_inferenciaEstadistica_01.ipynb\" target=\"_parent\"><img src=\"https://colab.research.google.com/assets/colab-badge.svg\" alt=\"Open In Colab\"/></a>"
      ]
    },
    {
      "cell_type": "code",
      "execution_count": 20,
      "metadata": {
        "id": "d2cq8repUjRu"
      },
      "outputs": [],
      "source": [
        "import matplotlib.pyplot as plt\n",
        "import seaborn as sns\n",
        "import pandas as pd\n",
        "import numpy as np\n",
        "# Primera vez que se importa la biblioteca de aprendizaje automático scikit-learn\n",
        "# No te preocupes si esto parece mucho código\n",
        "from sklearn import metrics\n",
        "from sklearn.linear_model import LogisticRegression\n",
        "from sklearn.model_selection import train_test_split\n",
        "from sklearn.preprocessing import StandardScaler\n",
        "\n",
        "#Creacion de df para posterior analisis\n",
        "df=pd.DataFrame(columns=['x1','x2','x3','y','yp'])\n",
        "df1=df1.append({'x1':1,'x2':2,'x3':3,'y':1,'yp':0},ignore_index=True)\n",
        "df1=df1.append({'x1':3,'x2':2,'x3':1,'y':0,'yp':1},ignore_index=True)\n",
        "df1=df1.append({'x1':0,'x2':2,'x3':5,'y':1,'yp':1},ignore_index=True)\n",
        "df1=df1.append({'x1':7,'x2':9,'x3':8,'y':1,'yp':0},ignore_index=True)\n",
        "df1=df1.append({'x1':4,'x2':6,'x3':7,'y':0,'yp':1},ignore_index=True)\n"
      ]
    },
    {
      "cell_type": "code",
      "source": [
        "#Revision de la matriz y sus componentes\n",
        "print(\"Total de elementos:\", len(y))\n",
        "print('________________________________________________________________')\n",
        "cm = metrics.confusion_matrix(y, yp)\n",
        "print('la matriz se compone de la siguiente manera:\\n',cm)\n",
        "print('________________________________________________________________')\n",
        "print('la matriz se compone en modo lista se ve de la siguiente manera:',cm.ravel())\n",
        "print('________________________________________________________________')\n",
        "tn, fp, fn, tp = cm.ravel()\n",
        "print(f'el valor de TN es {tn}, el valor de FP es {fp}, el valor de FN es {fn}, el valor de TP es {tp}')"
      ],
      "metadata": {
        "colab": {
          "base_uri": "https://localhost:8080/"
        },
        "id": "UwuN94DGZxz8",
        "outputId": "2a14d31e-96aa-492f-db9d-5ce76c3146cb"
      },
      "execution_count": 24,
      "outputs": [
        {
          "output_type": "stream",
          "name": "stdout",
          "text": [
            "Total de elementos: 5\n",
            "________________________________________________________________\n",
            "la matriz se compone de la siguiente manera:\n",
            " [[2 0]\n",
            " [1 2]]\n",
            "________________________________________________________________\n",
            "la matriz se compone en modo lista se ve de la siguiente manera: [2 0 1 2]\n",
            "________________________________________________________________\n",
            "el valor de TN es 2, el valor de FP es 0, el valor de FN es 1, el valor de TP es 2\n"
          ]
        }
      ]
    },
    {
      "cell_type": "markdown",
      "source": [
        "Accuracy= TP + TN / TP + TN + FP +FN"
      ],
      "metadata": {
        "id": "vN_kWx1kc6Oq"
      }
    },
    {
      "cell_type": "code",
      "source": [
        "accuracy=((2+2)/(2+0+1+2))*100\n",
        "accuracy2=((tp+tn)/(tn+fp+fn+tp))*100\n",
        "print('el porcentaje de accuracy es:',accuracy)\n",
        "print('el porcentaje de accuracy es:',accuracy2)\n"
      ],
      "metadata": {
        "colab": {
          "base_uri": "https://localhost:8080/"
        },
        "id": "JUZTBYL0aM2w",
        "outputId": "0a9eb48e-0e08-46d0-b533-07ccf5926b71"
      },
      "execution_count": 25,
      "outputs": [
        {
          "output_type": "stream",
          "name": "stdout",
          "text": [
            "el porcentaje de accuracy es: 80.0\n",
            "el porcentaje de accuracy es: 80.0\n"
          ]
        }
      ]
    },
    {
      "cell_type": "markdown",
      "source": [
        "specifity= TN/TN + FP"
      ],
      "metadata": {
        "id": "p8770b_9douT"
      }
    },
    {
      "cell_type": "code",
      "source": [
        "specificity = ((tn)/(tn + fp))* 100 #((2)/(2+0))*100\n",
        "print('el porcentaje de specificity es:',specificity)"
      ],
      "metadata": {
        "colab": {
          "base_uri": "https://localhost:8080/"
        },
        "id": "ztYjI39-a6X0",
        "outputId": "6129728b-d711-45cb-cb2e-5e2e455a6466"
      },
      "execution_count": 26,
      "outputs": [
        {
          "output_type": "stream",
          "name": "stdout",
          "text": [
            "el porcentaje de specificity es: 100.0\n"
          ]
        }
      ]
    },
    {
      "cell_type": "markdown",
      "source": [
        "precision= TP/TP+FP"
      ],
      "metadata": {
        "id": "0jc3ST_feCmc"
      }
    },
    {
      "cell_type": "code",
      "source": [
        "precision=((2)/(2+0))*100 # tp/tp+fp\n",
        "print('el porcentaje de precision es:',precision)"
      ],
      "metadata": {
        "colab": {
          "base_uri": "https://localhost:8080/"
        },
        "id": "LbQDcZuUbbxp",
        "outputId": "10556d4b-8d70-479d-f3e3-89f0fb6ed040"
      },
      "execution_count": 27,
      "outputs": [
        {
          "output_type": "stream",
          "name": "stdout",
          "text": [
            "el porcentaje de precision es: 100.0\n"
          ]
        }
      ]
    },
    {
      "cell_type": "markdown",
      "source": [
        "sensitivity= TP/TP+FN"
      ],
      "metadata": {
        "id": "Y3M_2Pq7eaNs"
      }
    },
    {
      "cell_type": "code",
      "source": [
        "sensitivity =((2)/(2+1))*100 #tp / (tp + fn)\n",
        "print('el porcentaje de sensitivity es:',sensitivity)"
      ],
      "metadata": {
        "colab": {
          "base_uri": "https://localhost:8080/"
        },
        "id": "mZo-A6Mbb4Ro",
        "outputId": "9d2c3299-2070-41b2-b5b5-9ef6106f088f"
      },
      "execution_count": 28,
      "outputs": [
        {
          "output_type": "stream",
          "name": "stdout",
          "text": [
            "el porcentaje de sensitivity es: 66.66666666666666\n"
          ]
        }
      ]
    }
  ]
}