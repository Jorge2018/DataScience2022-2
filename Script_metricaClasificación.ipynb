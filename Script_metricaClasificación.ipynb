{
  "nbformat": 4,
  "nbformat_minor": 0,
  "metadata": {
    "colab": {
      "name": "Untitled0.ipynb",
      "provenance": [],
      "collapsed_sections": [],
      "authorship_tag": "ABX9TyOd9fTqqCOMLN3QfMl3Mj1k",
      "include_colab_link": true
    },
    "kernelspec": {
      "name": "python3",
      "display_name": "Python 3"
    },
    "language_info": {
      "name": "python"
    }
  },
  "cells": [
    {
      "cell_type": "markdown",
      "metadata": {
        "id": "view-in-github",
        "colab_type": "text"
      },
      "source": [
        "<a href=\"https://colab.research.google.com/github/Jorge2018/DataScience2022-2/blob/main/Script_metricaClasificaci%C3%B3n.ipynb\" target=\"_parent\"><img src=\"https://colab.research.google.com/assets/colab-badge.svg\" alt=\"Open In Colab\"/></a>"
      ]
    },
    {
      "cell_type": "code",
      "source": [
        "import matplotlib.pyplot as plt\n",
        "import pandas as pd\n",
        "import numpy as np\n",
        "from sklearn.model_selection import train_test_split\n",
        "from sklearn.preprocessing import StandardScaler\n",
        "from sklearn.pipeline import make_pipeline\n",
        "from sklearn.linear_model import LinearRegression\n",
        "from sklearn.linear_model import LogisticRegression\n",
        "import seaborn as sns \n",
        "from sklearn.metrics import accuracy_score,recall_score,roc_auc_score,f1_score\n",
        "\n",
        "df = pd.read_csv('https://raw.githubusercontent.com/Jorge2018/RepositorioArchivos/main/bank_modified.csv')\n",
        "df.head()\n"
      ],
      "metadata": {
        "colab": {
          "base_uri": "https://localhost:8080/",
          "height": 317
        },
        "id": "7F9l2ZKaKedV",
        "outputId": "9ed15493-06ff-4af8-b3f0-9bddc582557b"
      },
      "execution_count": 104,
      "outputs": [
        {
          "output_type": "execute_result",
          "data": {
            "text/plain": [
              "   age  balance  duration  campaign  pdays  previous  job_blue-collar  \\\n",
              "0   30     1787        79         1     -1         0                0   \n",
              "1   33     4789       220         1    339         4                0   \n",
              "2   35     1350       185         1    330         1                0   \n",
              "3   30     1476       199         4     -1         0                0   \n",
              "4   59        0       226         1     -1         0                1   \n",
              "\n",
              "   job_entrepreneur  job_housemaid  job_management  ...  job_unknown  \\\n",
              "0                 0              0               0  ...            0   \n",
              "1                 0              0               0  ...            0   \n",
              "2                 0              0               1  ...            0   \n",
              "3                 0              0               1  ...            0   \n",
              "4                 0              0               0  ...            0   \n",
              "\n",
              "   marital_married  marital_single  education_secondary  education_tertiary  \\\n",
              "0                1               0                    0                   0   \n",
              "1                1               0                    1                   0   \n",
              "2                0               1                    0                   1   \n",
              "3                1               0                    0                   1   \n",
              "4                1               0                    1                   0   \n",
              "\n",
              "   education_unknown  default_yes  housing_yes  loan_yes  y_yes  \n",
              "0                  0            0            0         0      0  \n",
              "1                  0            0            1         1      0  \n",
              "2                  0            0            1         0      0  \n",
              "3                  0            0            1         1      0  \n",
              "4                  0            0            1         0      0  \n",
              "\n",
              "[5 rows x 26 columns]"
            ],
            "text/html": [
              "\n",
              "  <div id=\"df-613e4335-203a-4856-966a-6241ad756552\">\n",
              "    <div class=\"colab-df-container\">\n",
              "      <div>\n",
              "<style scoped>\n",
              "    .dataframe tbody tr th:only-of-type {\n",
              "        vertical-align: middle;\n",
              "    }\n",
              "\n",
              "    .dataframe tbody tr th {\n",
              "        vertical-align: top;\n",
              "    }\n",
              "\n",
              "    .dataframe thead th {\n",
              "        text-align: right;\n",
              "    }\n",
              "</style>\n",
              "<table border=\"1\" class=\"dataframe\">\n",
              "  <thead>\n",
              "    <tr style=\"text-align: right;\">\n",
              "      <th></th>\n",
              "      <th>age</th>\n",
              "      <th>balance</th>\n",
              "      <th>duration</th>\n",
              "      <th>campaign</th>\n",
              "      <th>pdays</th>\n",
              "      <th>previous</th>\n",
              "      <th>job_blue-collar</th>\n",
              "      <th>job_entrepreneur</th>\n",
              "      <th>job_housemaid</th>\n",
              "      <th>job_management</th>\n",
              "      <th>...</th>\n",
              "      <th>job_unknown</th>\n",
              "      <th>marital_married</th>\n",
              "      <th>marital_single</th>\n",
              "      <th>education_secondary</th>\n",
              "      <th>education_tertiary</th>\n",
              "      <th>education_unknown</th>\n",
              "      <th>default_yes</th>\n",
              "      <th>housing_yes</th>\n",
              "      <th>loan_yes</th>\n",
              "      <th>y_yes</th>\n",
              "    </tr>\n",
              "  </thead>\n",
              "  <tbody>\n",
              "    <tr>\n",
              "      <th>0</th>\n",
              "      <td>30</td>\n",
              "      <td>1787</td>\n",
              "      <td>79</td>\n",
              "      <td>1</td>\n",
              "      <td>-1</td>\n",
              "      <td>0</td>\n",
              "      <td>0</td>\n",
              "      <td>0</td>\n",
              "      <td>0</td>\n",
              "      <td>0</td>\n",
              "      <td>...</td>\n",
              "      <td>0</td>\n",
              "      <td>1</td>\n",
              "      <td>0</td>\n",
              "      <td>0</td>\n",
              "      <td>0</td>\n",
              "      <td>0</td>\n",
              "      <td>0</td>\n",
              "      <td>0</td>\n",
              "      <td>0</td>\n",
              "      <td>0</td>\n",
              "    </tr>\n",
              "    <tr>\n",
              "      <th>1</th>\n",
              "      <td>33</td>\n",
              "      <td>4789</td>\n",
              "      <td>220</td>\n",
              "      <td>1</td>\n",
              "      <td>339</td>\n",
              "      <td>4</td>\n",
              "      <td>0</td>\n",
              "      <td>0</td>\n",
              "      <td>0</td>\n",
              "      <td>0</td>\n",
              "      <td>...</td>\n",
              "      <td>0</td>\n",
              "      <td>1</td>\n",
              "      <td>0</td>\n",
              "      <td>1</td>\n",
              "      <td>0</td>\n",
              "      <td>0</td>\n",
              "      <td>0</td>\n",
              "      <td>1</td>\n",
              "      <td>1</td>\n",
              "      <td>0</td>\n",
              "    </tr>\n",
              "    <tr>\n",
              "      <th>2</th>\n",
              "      <td>35</td>\n",
              "      <td>1350</td>\n",
              "      <td>185</td>\n",
              "      <td>1</td>\n",
              "      <td>330</td>\n",
              "      <td>1</td>\n",
              "      <td>0</td>\n",
              "      <td>0</td>\n",
              "      <td>0</td>\n",
              "      <td>1</td>\n",
              "      <td>...</td>\n",
              "      <td>0</td>\n",
              "      <td>0</td>\n",
              "      <td>1</td>\n",
              "      <td>0</td>\n",
              "      <td>1</td>\n",
              "      <td>0</td>\n",
              "      <td>0</td>\n",
              "      <td>1</td>\n",
              "      <td>0</td>\n",
              "      <td>0</td>\n",
              "    </tr>\n",
              "    <tr>\n",
              "      <th>3</th>\n",
              "      <td>30</td>\n",
              "      <td>1476</td>\n",
              "      <td>199</td>\n",
              "      <td>4</td>\n",
              "      <td>-1</td>\n",
              "      <td>0</td>\n",
              "      <td>0</td>\n",
              "      <td>0</td>\n",
              "      <td>0</td>\n",
              "      <td>1</td>\n",
              "      <td>...</td>\n",
              "      <td>0</td>\n",
              "      <td>1</td>\n",
              "      <td>0</td>\n",
              "      <td>0</td>\n",
              "      <td>1</td>\n",
              "      <td>0</td>\n",
              "      <td>0</td>\n",
              "      <td>1</td>\n",
              "      <td>1</td>\n",
              "      <td>0</td>\n",
              "    </tr>\n",
              "    <tr>\n",
              "      <th>4</th>\n",
              "      <td>59</td>\n",
              "      <td>0</td>\n",
              "      <td>226</td>\n",
              "      <td>1</td>\n",
              "      <td>-1</td>\n",
              "      <td>0</td>\n",
              "      <td>1</td>\n",
              "      <td>0</td>\n",
              "      <td>0</td>\n",
              "      <td>0</td>\n",
              "      <td>...</td>\n",
              "      <td>0</td>\n",
              "      <td>1</td>\n",
              "      <td>0</td>\n",
              "      <td>1</td>\n",
              "      <td>0</td>\n",
              "      <td>0</td>\n",
              "      <td>0</td>\n",
              "      <td>1</td>\n",
              "      <td>0</td>\n",
              "      <td>0</td>\n",
              "    </tr>\n",
              "  </tbody>\n",
              "</table>\n",
              "<p>5 rows × 26 columns</p>\n",
              "</div>\n",
              "      <button class=\"colab-df-convert\" onclick=\"convertToInteractive('df-613e4335-203a-4856-966a-6241ad756552')\"\n",
              "              title=\"Convert this dataframe to an interactive table.\"\n",
              "              style=\"display:none;\">\n",
              "        \n",
              "  <svg xmlns=\"http://www.w3.org/2000/svg\" height=\"24px\"viewBox=\"0 0 24 24\"\n",
              "       width=\"24px\">\n",
              "    <path d=\"M0 0h24v24H0V0z\" fill=\"none\"/>\n",
              "    <path d=\"M18.56 5.44l.94 2.06.94-2.06 2.06-.94-2.06-.94-.94-2.06-.94 2.06-2.06.94zm-11 1L8.5 8.5l.94-2.06 2.06-.94-2.06-.94L8.5 2.5l-.94 2.06-2.06.94zm10 10l.94 2.06.94-2.06 2.06-.94-2.06-.94-.94-2.06-.94 2.06-2.06.94z\"/><path d=\"M17.41 7.96l-1.37-1.37c-.4-.4-.92-.59-1.43-.59-.52 0-1.04.2-1.43.59L10.3 9.45l-7.72 7.72c-.78.78-.78 2.05 0 2.83L4 21.41c.39.39.9.59 1.41.59.51 0 1.02-.2 1.41-.59l7.78-7.78 2.81-2.81c.8-.78.8-2.07 0-2.86zM5.41 20L4 18.59l7.72-7.72 1.47 1.35L5.41 20z\"/>\n",
              "  </svg>\n",
              "      </button>\n",
              "      \n",
              "  <style>\n",
              "    .colab-df-container {\n",
              "      display:flex;\n",
              "      flex-wrap:wrap;\n",
              "      gap: 12px;\n",
              "    }\n",
              "\n",
              "    .colab-df-convert {\n",
              "      background-color: #E8F0FE;\n",
              "      border: none;\n",
              "      border-radius: 50%;\n",
              "      cursor: pointer;\n",
              "      display: none;\n",
              "      fill: #1967D2;\n",
              "      height: 32px;\n",
              "      padding: 0 0 0 0;\n",
              "      width: 32px;\n",
              "    }\n",
              "\n",
              "    .colab-df-convert:hover {\n",
              "      background-color: #E2EBFA;\n",
              "      box-shadow: 0px 1px 2px rgba(60, 64, 67, 0.3), 0px 1px 3px 1px rgba(60, 64, 67, 0.15);\n",
              "      fill: #174EA6;\n",
              "    }\n",
              "\n",
              "    [theme=dark] .colab-df-convert {\n",
              "      background-color: #3B4455;\n",
              "      fill: #D2E3FC;\n",
              "    }\n",
              "\n",
              "    [theme=dark] .colab-df-convert:hover {\n",
              "      background-color: #434B5C;\n",
              "      box-shadow: 0px 1px 3px 1px rgba(0, 0, 0, 0.15);\n",
              "      filter: drop-shadow(0px 1px 2px rgba(0, 0, 0, 0.3));\n",
              "      fill: #FFFFFF;\n",
              "    }\n",
              "  </style>\n",
              "\n",
              "      <script>\n",
              "        const buttonEl =\n",
              "          document.querySelector('#df-613e4335-203a-4856-966a-6241ad756552 button.colab-df-convert');\n",
              "        buttonEl.style.display =\n",
              "          google.colab.kernel.accessAllowed ? 'block' : 'none';\n",
              "\n",
              "        async function convertToInteractive(key) {\n",
              "          const element = document.querySelector('#df-613e4335-203a-4856-966a-6241ad756552');\n",
              "          const dataTable =\n",
              "            await google.colab.kernel.invokeFunction('convertToInteractive',\n",
              "                                                     [key], {});\n",
              "          if (!dataTable) return;\n",
              "\n",
              "          const docLinkHtml = 'Like what you see? Visit the ' +\n",
              "            '<a target=\"_blank\" href=https://colab.research.google.com/notebooks/data_table.ipynb>data table notebook</a>'\n",
              "            + ' to learn more about interactive tables.';\n",
              "          element.innerHTML = '';\n",
              "          dataTable['output_type'] = 'display_data';\n",
              "          await google.colab.output.renderOutput(dataTable, element);\n",
              "          const docLink = document.createElement('div');\n",
              "          docLink.innerHTML = docLinkHtml;\n",
              "          element.appendChild(docLink);\n",
              "        }\n",
              "      </script>\n",
              "    </div>\n",
              "  </div>\n",
              "  "
            ]
          },
          "metadata": {},
          "execution_count": 104
        }
      ]
    },
    {
      "cell_type": "markdown",
      "source": [
        "**Encuentren los nombres de clase y determinen cómo están las clases balanceadas**"
      ],
      "metadata": {
        "id": "XnqlhVI3cjXC"
      }
    },
    {
      "cell_type": "code",
      "source": [
        "#df['diagnosis'] = df['diagnosis'].replace({'B':0, 'M':1})\n",
        "df['y_yes'].value_counts(normalize = True)"
      ],
      "metadata": {
        "id": "27ipONePchpT",
        "outputId": "37a993b0-5185-41a0-fcd4-955f8caff132",
        "colab": {
          "base_uri": "https://localhost:8080/"
        }
      },
      "execution_count": 105,
      "outputs": [
        {
          "output_type": "execute_result",
          "data": {
            "text/plain": [
              "0    0.88476\n",
              "1    0.11524\n",
              "Name: y_yes, dtype: float64"
            ]
          },
          "metadata": {},
          "execution_count": 105
        }
      ]
    },
    {
      "cell_type": "code",
      "source": [
        "lista=list(df.columns)\n",
        "idx = len(df) \n",
        "cols = df.columns\n",
        "corr = df.corr() \n",
        "sns.heatmap(corr, annot = False) "
      ],
      "metadata": {
        "id": "uBwd8_HhR7pr",
        "outputId": "6c97296d-68f3-4931-92df-58ca609b644f",
        "colab": {
          "base_uri": "https://localhost:8080/",
          "height": 368
        }
      },
      "execution_count": 106,
      "outputs": [
        {
          "output_type": "execute_result",
          "data": {
            "text/plain": [
              "<matplotlib.axes._subplots.AxesSubplot at 0x7fd9127a3290>"
            ]
          },
          "metadata": {},
          "execution_count": 106
        },
        {
          "output_type": "display_data",
          "data": {
            "text/plain": [
              "<Figure size 432x288 with 2 Axes>"
            ],
            "image/png": "[encoded data removed]"
          },
          "metadata": {
            "needs_background": "light"
          }
        }
      ]
    },
    {
      "cell_type": "markdown",
      "source": [
        "**Visualizacion para la relación entre concave points_worst y diagnosis (objetivo)**"
      ],
      "metadata": {
        "id": "6GaDW0_lcx3p"
      }
    },
    {
      "cell_type": "code",
      "source": [
        "plt.scatter(df['duration'], df['y_yes'])\n",
        "plt.ylabel('Si (1) or No (0)', fontsize = 12)\n",
        "plt.xlabel('duration', fontsize = 12)\n"
      ],
      "metadata": {
        "id": "4A2-_D8CctWs",
        "outputId": "fe40b355-e1cc-40c1-f918-150f7685842c",
        "colab": {
          "base_uri": "https://localhost:8080/",
          "height": 299
        }
      },
      "execution_count": 110,
      "outputs": [
        {
          "output_type": "execute_result",
          "data": {
            "text/plain": [
              "Text(0.5, 0, 'duration')"
            ]
          },
          "metadata": {},
          "execution_count": 110
        },
        {
          "output_type": "display_data",
          "data": {
            "text/plain": [
              "<Figure size 432x288 with 1 Axes>"
            ],
            "image/png": "[encoded data removed]"
          },
          "metadata": {
            "needs_background": "light"
          }
        }
      ]
    },
    {
      "cell_type": "markdown",
      "source": [
        "**Intento de regresión lineal para clasificar los datos**"
      ],
      "metadata": {
        "id": "NzTvl6dIdP8R"
      }
    },
    {
      "cell_type": "markdown",
      "source": [
        "**Separa X, y**"
      ],
      "metadata": {
        "id": "2YSbskiXNdN9"
      }
    },
    {
      "cell_type": "code",
      "source": [
        "# Assign feature matrix and target vector\n",
        "X = df[['duration']]\n",
        "y = df['y_yes']\n",
        "# Train Test Split\n",
        "X_train, X_test, y_train, y_test = train_test_split(X, y, random_state=42)\n",
        "\n"
      ],
      "metadata": {
        "id": "pyw3RtK4NVo4"
      },
      "execution_count": 108,
      "outputs": []
    },
    {
      "cell_type": "code",
      "source": [
        "# Make a linear regression instance\n",
        "lr = LinearRegression()\n",
        "# Training the model on the data, storing the information learned from the data\n",
        "# Model is learning the relationship between X and y \n",
        "lr.fit(X_train,y_train)\n",
        "# Get Predictions\n",
        "predictions = lr.predict(X_test)\n",
        "# This code shows how to graph the results comparing the prediction with the actual value\n",
        "plt.scatter(X_test['duration'], y_test)\n",
        "plt.plot(X_test['duration'], predictions, color='red')\n",
        "plt.ylabel('Si (1) or No (0)', fontsize = 12)\n",
        "plt.xlabel('duration', fontsize = 12)\n",
        "\n"
      ],
      "metadata": {
        "id": "WLf1UuBqdUlj",
        "outputId": "a3be85c7-c661-4e52-bccc-2646da0cc5f1",
        "colab": {
          "base_uri": "https://localhost:8080/",
          "height": 303
        }
      },
      "execution_count": 111,
      "outputs": [
        {
          "output_type": "execute_result",
          "data": {
            "text/plain": [
              "Text(0.5, 0, 'duration')"
            ]
          },
          "metadata": {},
          "execution_count": 111
        },
        {
          "output_type": "display_data",
          "data": {
            "text/plain": [
              "<Figure size 432x288 with 1 Axes>"
            ],
            "image/png": "[encoded data removed]"
          },
          "metadata": {
            "needs_background": "light"
          }
        }
      ]
    },
    {
      "cell_type": "markdown",
      "source": [
        "**De acuerdo con esto, cualquier valor de predicción (rojo) >= 0,5 (que corresponde al valor cerca de 1000 para duration), predecimos una clase 1 (suscripcion), sino predecimos una clase de 0 (no suscripcion).**\n",
        "\n",
        "**Problema: Si el valor y_yes is 1,0, ¿qué significa cuando tenemos 1,20 para nuestra clase en lugar de 1 o 0? Parece extraño. Quizás deberíamos restringir nuestras predicciones entre 0 y 1. Eso se puede hacer usando la regresión logística.**\n",
        "\n",
        "# Regresion Logistica"
      ],
      "metadata": {
        "id": "3TD28m7FeN5Q"
      }
    },
    {
      "cell_type": "code",
      "source": [
        "# Make an instance of the model\n",
        "logreg = LogisticRegression(C = 1000)\n",
        "# Instantiate Scaler\n",
        "scaler = StandardScaler()\n",
        "# Create pipeline\n",
        "logreg_pipe = make_pipeline(scaler, logreg)\n",
        "# Training the model on the data, storing the information learned from the data\n",
        "# Model is learning the relationship between X and y \n",
        "logreg_pipe.fit(X_train,y_train)\n"
      ],
      "metadata": {
        "id": "NH6KrzWvebZO",
        "outputId": "cab410ec-9bd4-4eaa-b3e0-9dc84453a56f",
        "colab": {
          "base_uri": "https://localhost:8080/"
        }
      },
      "execution_count": 79,
      "outputs": [
        {
          "output_type": "execute_result",
          "data": {
            "text/plain": [
              "Pipeline(steps=[('standardscaler', StandardScaler()),\n",
              "                ('logisticregression', LogisticRegression(C=1000))])"
            ]
          },
          "metadata": {},
          "execution_count": 79
        }
      ]
    },
    {
      "cell_type": "code",
      "source": [
        "# This code is just to plot/visualize the predictions\n",
        "example_df = pd.DataFrame(data = {'duration': X_test['duration'],\n",
        "                     'y_yes': y_test})\n",
        "example_df['logistic_preds'] = pd.DataFrame(logreg_pipe.predict_proba(X_test)).loc[:, 1].values\n",
        "example_df = example_df.sort_values(['logistic_preds'])\n"
      ],
      "metadata": {
        "id": "SibPWcOxemRW"
      },
      "execution_count": 80,
      "outputs": []
    },
    {
      "cell_type": "code",
      "source": [
        "plt.scatter(X_test['duration'], y_test)\n",
        "plt.plot(example_df['duration'], example_df['logistic_preds'].values, color='red')\n",
        "plt.ylabel('Si (1) or No (0)', fontsize = 12)\n",
        "plt.xlabel('duration', fontsize = 12)"
      ],
      "metadata": {
        "id": "bbDLGGVOevF_",
        "outputId": "420fef10-c972-45db-b1d2-299a3e417024",
        "colab": {
          "base_uri": "https://localhost:8080/",
          "height": 299
        }
      },
      "execution_count": 112,
      "outputs": [
        {
          "output_type": "execute_result",
          "data": {
            "text/plain": [
              "Text(0.5, 0, 'duration')"
            ]
          },
          "metadata": {},
          "execution_count": 112
        },
        {
          "output_type": "display_data",
          "data": {
            "text/plain": [
              "<Figure size 432x288 with 1 Axes>"
            ],
            "image/png": "[encoded data removed]"
          },
          "metadata": {
            "needs_background": "light"
          }
        }
      ]
    },
    {
      "cell_type": "code",
      "source": [
        "y_pred = logreg.predict(X_test)\n",
        "\n",
        "print('Exactitud de la regresión logística en los datos de prueba:\\n',(accuracy_score(y_test,y_pred)))\n",
        "print('\\n')\n",
        "print('Sensibilidad de la regresión logística en los datos de prueba:\\n',(recall_score(y_test, y_pred)))\n",
        "print('\\n')\n",
        "print('Especifidad de la regresión logística en los datos de prueba:\\n',(f1_score(y_test, y_pred)))\n",
        "print('\\n')\n",
        "print('La curva ROC de la regresión logística en los datos de prueba:\\n',(roc_auc_score(y_test, y_pred)))\n",
        "print('\\n')\n"
      ],
      "metadata": {
        "id": "dL1fty5xYuTp",
        "outputId": "77613f14-0d81-4202-ab4e-1f5e4c9d7f90",
        "colab": {
          "base_uri": "https://localhost:8080/"
        }
      },
      "execution_count": 116,
      "outputs": [
        {
          "output_type": "stream",
          "name": "stdout",
          "text": [
            "Exactitud de la regresión logística en los datos de prueba:\n",
            " 0.8885941644562334\n",
            "\n",
            "\n",
            "Sensibilidad de la regresión logística en los datos de prueba:\n",
            " 0.168\n",
            "\n",
            "\n",
            "Especifidad de la regresión logística en los datos de prueba:\n",
            " 0.25\n",
            "\n",
            "\n",
            "La curva ROC de la regresión logística en los datos de prueba:\n",
            " 0.573065606361829\n",
            "\n",
            "\n"
          ]
        }
      ]
    },
    {
      "cell_type": "markdown",
      "source": [
        "**R1 Creo que la exactitud es la mejor metrica, ya que se trata de una estimacion de probables clientes, por lo tanto, este indicador es el correcto**\n",
        "\n",
        "**R2 en la comprativa se puede apreciar un modelo (referenci), bastante ambigiuo y con muchas consideraciones a tener en cuenta, ese creo es el mayor problema**"
      ],
      "metadata": {
        "id": "zd1ZrIcykKno"
      }
    }
  ]
}