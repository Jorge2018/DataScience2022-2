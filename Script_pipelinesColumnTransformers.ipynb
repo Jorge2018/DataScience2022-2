{
  "nbformat": 4,
  "nbformat_minor": 0,
  "metadata": {
    "colab": {
      "name": "Untitled26.ipynb",
      "provenance": [],
      "authorship_tag": "ABX9TyOLoHbHnDFh4bNS2f/OhX+W",
      "include_colab_link": true
    },
    "kernelspec": {
      "name": "python3",
      "display_name": "Python 3"
    },
    "language_info": {
      "name": "python"
    }
  },
  "cells": [
    {
      "cell_type": "markdown",
      "metadata": {
        "id": "view-in-github",
        "colab_type": "text"
      },
      "source": [
        "<a href=\"https://colab.research.google.com/github/Jorge2018/DataScience2022-2/blob/main/Script_pipelinesColumnTransformers.ipynb\" target=\"_parent\"><img src=\"https://colab.research.google.com/assets/colab-badge.svg\" alt=\"Open In Colab\"/></a>"
      ]
    },
    {
      "cell_type": "code",
      "source": [
        "# imports\n",
        "import pandas as pd\n",
        "import numpy as np\n",
        "from sklearn.preprocessing import StandardScaler, OneHotEncoder\n",
        "from sklearn.impute import SimpleImputer\n",
        "from sklearn.compose import make_column_transformer, make_column_selector\n",
        "from sklearn.pipeline import make_pipeline\n",
        "from sklearn.model_selection import train_test_split\n",
        "from sklearn import set_config\n",
        "set_config(display='diagram')"
      ],
      "metadata": {
        "id": "fWrD-sddQoEs"
      },
      "execution_count": 66,
      "outputs": []
    },
    {
      "cell_type": "markdown",
      "source": [
        "**Carga de datos desde url a un DF**"
      ],
      "metadata": {
        "id": "TCX0q9EiVP0u"
      }
    },
    {
      "cell_type": "code",
      "source": [
        "# Import the data\n",
        "path = 'https://docs.google.com/spreadsheets/d/e/2PACX-1vSzb_CfjmApDMSXRn-Ga8X5rgoRVm7U_UNYotqQ0iW2JVx1qoKFr41XOA-FNKPqds83B0oUM6zKtLqK/pub?output=csv'\n",
        "df = pd.read_csv(path)\n",
        "df.head()"
      ],
      "metadata": {
        "colab": {
          "base_uri": "https://localhost:8080/",
          "height": 299
        },
        "id": "t8Ksx_ffv7Jk",
        "outputId": "b5b9f30e-3275-4714-bf3c-65954ab354fb"
      },
      "execution_count": 67,
      "outputs": [
        {
          "output_type": "execute_result",
          "data": {
            "text/plain": [
              "  State       Lat       Lng      Area  Children  Age    Income   Marital  \\\n",
              "0    AL  34.34960 -86.72508  Suburban       1.0   53  86575.93  Divorced   \n",
              "1    FL  30.84513 -85.22907     Urban       3.0   51  46805.99   Married   \n",
              "2    SD  43.54321 -96.63772  Suburban       3.0   53  14370.14   Widowed   \n",
              "3    MN  43.89744 -93.51479  Suburban       0.0   78  39741.49   Married   \n",
              "4    VA  37.59894 -76.88958     Rural       1.0   22   1209.56   Widowed   \n",
              "\n",
              "   Gender  ReAdmis  ...  Hyperlipidemia  BackPain  Anxiety  Allergic_rhinitis  \\\n",
              "0    Male        0  ...             0.0       1.0      1.0                1.0   \n",
              "1  Female        0  ...             0.0       0.0      0.0                0.0   \n",
              "2  Female        0  ...             0.0       0.0      0.0                0.0   \n",
              "3    Male        0  ...             0.0       0.0      0.0                0.0   \n",
              "4  Female        0  ...             1.0       0.0      0.0                1.0   \n",
              "\n",
              "   Reflux_esophagitis Asthma     Services  Initial_days  TotalCharge  \\\n",
              "0                   0      1   Blood Work     10.585770  3726.702860   \n",
              "1                   1      0  Intravenous     15.129562  4193.190458   \n",
              "2                   0      0   Blood Work      4.772177  2434.234222   \n",
              "3                   1      1   Blood Work      1.714879  2127.830423   \n",
              "4                   0      0      CT Scan      1.254807  2113.073274   \n",
              "\n",
              "   Additional_charges  \n",
              "0        17939.403420  \n",
              "1        17612.998120  \n",
              "2        17505.192460  \n",
              "3        12993.437350  \n",
              "4         3716.525786  \n",
              "\n",
              "[5 rows x 32 columns]"
            ],
            "text/html": [
              "\n",
              "  <div id=\"df-e63f476d-4772-41b7-af00-74668aaaa8f5\">\n",
              "    <div class=\"colab-df-container\">\n",
              "      <div>\n",
              "<style scoped>\n",
              "    .dataframe tbody tr th:only-of-type {\n",
              "        vertical-align: middle;\n",
              "    }\n",
              "\n",
              "    .dataframe tbody tr th {\n",
              "        vertical-align: top;\n",
              "    }\n",
              "\n",
              "    .dataframe thead th {\n",
              "        text-align: right;\n",
              "    }\n",
              "</style>\n",
              "<table border=\"1\" class=\"dataframe\">\n",
              "  <thead>\n",
              "    <tr style=\"text-align: right;\">\n",
              "      <th></th>\n",
              "      <th>State</th>\n",
              "      <th>Lat</th>\n",
              "      <th>Lng</th>\n",
              "      <th>Area</th>\n",
              "      <th>Children</th>\n",
              "      <th>Age</th>\n",
              "      <th>Income</th>\n",
              "      <th>Marital</th>\n",
              "      <th>Gender</th>\n",
              "      <th>ReAdmis</th>\n",
              "      <th>...</th>\n",
              "      <th>Hyperlipidemia</th>\n",
              "      <th>BackPain</th>\n",
              "      <th>Anxiety</th>\n",
              "      <th>Allergic_rhinitis</th>\n",
              "      <th>Reflux_esophagitis</th>\n",
              "      <th>Asthma</th>\n",
              "      <th>Services</th>\n",
              "      <th>Initial_days</th>\n",
              "      <th>TotalCharge</th>\n",
              "      <th>Additional_charges</th>\n",
              "    </tr>\n",
              "  </thead>\n",
              "  <tbody>\n",
              "    <tr>\n",
              "      <th>0</th>\n",
              "      <td>AL</td>\n",
              "      <td>34.34960</td>\n",
              "      <td>-86.72508</td>\n",
              "      <td>Suburban</td>\n",
              "      <td>1.0</td>\n",
              "      <td>53</td>\n",
              "      <td>86575.93</td>\n",
              "      <td>Divorced</td>\n",
              "      <td>Male</td>\n",
              "      <td>0</td>\n",
              "      <td>...</td>\n",
              "      <td>0.0</td>\n",
              "      <td>1.0</td>\n",
              "      <td>1.0</td>\n",
              "      <td>1.0</td>\n",
              "      <td>0</td>\n",
              "      <td>1</td>\n",
              "      <td>Blood Work</td>\n",
              "      <td>10.585770</td>\n",
              "      <td>3726.702860</td>\n",
              "      <td>17939.403420</td>\n",
              "    </tr>\n",
              "    <tr>\n",
              "      <th>1</th>\n",
              "      <td>FL</td>\n",
              "      <td>30.84513</td>\n",
              "      <td>-85.22907</td>\n",
              "      <td>Urban</td>\n",
              "      <td>3.0</td>\n",
              "      <td>51</td>\n",
              "      <td>46805.99</td>\n",
              "      <td>Married</td>\n",
              "      <td>Female</td>\n",
              "      <td>0</td>\n",
              "      <td>...</td>\n",
              "      <td>0.0</td>\n",
              "      <td>0.0</td>\n",
              "      <td>0.0</td>\n",
              "      <td>0.0</td>\n",
              "      <td>1</td>\n",
              "      <td>0</td>\n",
              "      <td>Intravenous</td>\n",
              "      <td>15.129562</td>\n",
              "      <td>4193.190458</td>\n",
              "      <td>17612.998120</td>\n",
              "    </tr>\n",
              "    <tr>\n",
              "      <th>2</th>\n",
              "      <td>SD</td>\n",
              "      <td>43.54321</td>\n",
              "      <td>-96.63772</td>\n",
              "      <td>Suburban</td>\n",
              "      <td>3.0</td>\n",
              "      <td>53</td>\n",
              "      <td>14370.14</td>\n",
              "      <td>Widowed</td>\n",
              "      <td>Female</td>\n",
              "      <td>0</td>\n",
              "      <td>...</td>\n",
              "      <td>0.0</td>\n",
              "      <td>0.0</td>\n",
              "      <td>0.0</td>\n",
              "      <td>0.0</td>\n",
              "      <td>0</td>\n",
              "      <td>0</td>\n",
              "      <td>Blood Work</td>\n",
              "      <td>4.772177</td>\n",
              "      <td>2434.234222</td>\n",
              "      <td>17505.192460</td>\n",
              "    </tr>\n",
              "    <tr>\n",
              "      <th>3</th>\n",
              "      <td>MN</td>\n",
              "      <td>43.89744</td>\n",
              "      <td>-93.51479</td>\n",
              "      <td>Suburban</td>\n",
              "      <td>0.0</td>\n",
              "      <td>78</td>\n",
              "      <td>39741.49</td>\n",
              "      <td>Married</td>\n",
              "      <td>Male</td>\n",
              "      <td>0</td>\n",
              "      <td>...</td>\n",
              "      <td>0.0</td>\n",
              "      <td>0.0</td>\n",
              "      <td>0.0</td>\n",
              "      <td>0.0</td>\n",
              "      <td>1</td>\n",
              "      <td>1</td>\n",
              "      <td>Blood Work</td>\n",
              "      <td>1.714879</td>\n",
              "      <td>2127.830423</td>\n",
              "      <td>12993.437350</td>\n",
              "    </tr>\n",
              "    <tr>\n",
              "      <th>4</th>\n",
              "      <td>VA</td>\n",
              "      <td>37.59894</td>\n",
              "      <td>-76.88958</td>\n",
              "      <td>Rural</td>\n",
              "      <td>1.0</td>\n",
              "      <td>22</td>\n",
              "      <td>1209.56</td>\n",
              "      <td>Widowed</td>\n",
              "      <td>Female</td>\n",
              "      <td>0</td>\n",
              "      <td>...</td>\n",
              "      <td>1.0</td>\n",
              "      <td>0.0</td>\n",
              "      <td>0.0</td>\n",
              "      <td>1.0</td>\n",
              "      <td>0</td>\n",
              "      <td>0</td>\n",
              "      <td>CT Scan</td>\n",
              "      <td>1.254807</td>\n",
              "      <td>2113.073274</td>\n",
              "      <td>3716.525786</td>\n",
              "    </tr>\n",
              "  </tbody>\n",
              "</table>\n",
              "<p>5 rows × 32 columns</p>\n",
              "</div>\n",
              "      <button class=\"colab-df-convert\" onclick=\"convertToInteractive('df-e63f476d-4772-41b7-af00-74668aaaa8f5')\"\n",
              "              title=\"Convert this dataframe to an interactive table.\"\n",
              "              style=\"display:none;\">\n",
              "        \n",
              "  <svg xmlns=\"http://www.w3.org/2000/svg\" height=\"24px\"viewBox=\"0 0 24 24\"\n",
              "       width=\"24px\">\n",
              "    <path d=\"M0 0h24v24H0V0z\" fill=\"none\"/>\n",
              "    <path d=\"M18.56 5.44l.94 2.06.94-2.06 2.06-.94-2.06-.94-.94-2.06-.94 2.06-2.06.94zm-11 1L8.5 8.5l.94-2.06 2.06-.94-2.06-.94L8.5 2.5l-.94 2.06-2.06.94zm10 10l.94 2.06.94-2.06 2.06-.94-2.06-.94-.94-2.06-.94 2.06-2.06.94z\"/><path d=\"M17.41 7.96l-1.37-1.37c-.4-.4-.92-.59-1.43-.59-.52 0-1.04.2-1.43.59L10.3 9.45l-7.72 7.72c-.78.78-.78 2.05 0 2.83L4 21.41c.39.39.9.59 1.41.59.51 0 1.02-.2 1.41-.59l7.78-7.78 2.81-2.81c.8-.78.8-2.07 0-2.86zM5.41 20L4 18.59l7.72-7.72 1.47 1.35L5.41 20z\"/>\n",
              "  </svg>\n",
              "      </button>\n",
              "      \n",
              "  <style>\n",
              "    .colab-df-container {\n",
              "      display:flex;\n",
              "      flex-wrap:wrap;\n",
              "      gap: 12px;\n",
              "    }\n",
              "\n",
              "    .colab-df-convert {\n",
              "      background-color: #E8F0FE;\n",
              "      border: none;\n",
              "      border-radius: 50%;\n",
              "      cursor: pointer;\n",
              "      display: none;\n",
              "      fill: #1967D2;\n",
              "      height: 32px;\n",
              "      padding: 0 0 0 0;\n",
              "      width: 32px;\n",
              "    }\n",
              "\n",
              "    .colab-df-convert:hover {\n",
              "      background-color: #E2EBFA;\n",
              "      box-shadow: 0px 1px 2px rgba(60, 64, 67, 0.3), 0px 1px 3px 1px rgba(60, 64, 67, 0.15);\n",
              "      fill: #174EA6;\n",
              "    }\n",
              "\n",
              "    [theme=dark] .colab-df-convert {\n",
              "      background-color: #3B4455;\n",
              "      fill: #D2E3FC;\n",
              "    }\n",
              "\n",
              "    [theme=dark] .colab-df-convert:hover {\n",
              "      background-color: #434B5C;\n",
              "      box-shadow: 0px 1px 3px 1px rgba(0, 0, 0, 0.15);\n",
              "      filter: drop-shadow(0px 1px 2px rgba(0, 0, 0, 0.3));\n",
              "      fill: #FFFFFF;\n",
              "    }\n",
              "  </style>\n",
              "\n",
              "      <script>\n",
              "        const buttonEl =\n",
              "          document.querySelector('#df-e63f476d-4772-41b7-af00-74668aaaa8f5 button.colab-df-convert');\n",
              "        buttonEl.style.display =\n",
              "          google.colab.kernel.accessAllowed ? 'block' : 'none';\n",
              "\n",
              "        async function convertToInteractive(key) {\n",
              "          const element = document.querySelector('#df-e63f476d-4772-41b7-af00-74668aaaa8f5');\n",
              "          const dataTable =\n",
              "            await google.colab.kernel.invokeFunction('convertToInteractive',\n",
              "                                                     [key], {});\n",
              "          if (!dataTable) return;\n",
              "\n",
              "          const docLinkHtml = 'Like what you see? Visit the ' +\n",
              "            '<a target=\"_blank\" href=https://colab.research.google.com/notebooks/data_table.ipynb>data table notebook</a>'\n",
              "            + ' to learn more about interactive tables.';\n",
              "          element.innerHTML = '';\n",
              "          dataTable['output_type'] = 'display_data';\n",
              "          await google.colab.output.renderOutput(dataTable, element);\n",
              "          const docLink = document.createElement('div');\n",
              "          docLink.innerHTML = docLinkHtml;\n",
              "          element.appendChild(docLink);\n",
              "        }\n",
              "      </script>\n",
              "    </div>\n",
              "  </div>\n",
              "  "
            ]
          },
          "metadata": {},
          "execution_count": 67
        }
      ]
    },
    {
      "cell_type": "markdown",
      "source": [
        "**Inspeccion de datos**"
      ],
      "metadata": {
        "id": "Bb2kGXcnVjVq"
      }
    },
    {
      "cell_type": "code",
      "source": [
        "#inspect the data\n",
        "print(df.info(), '\\n')\n",
        "print('________________________________________________________')\n",
        "print('')\n",
        "print('los datos null son')\n",
        "print(df.isna().sum())\n"
      ],
      "metadata": {
        "colab": {
          "base_uri": "https://localhost:8080/"
        },
        "id": "HaXIuZxiSj-Q",
        "outputId": "32f0201e-99fc-47e7-ce8d-823ebdd32f0b"
      },
      "execution_count": 68,
      "outputs": [
        {
          "output_type": "stream",
          "name": "stdout",
          "text": [
            "<class 'pandas.core.frame.DataFrame'>\n",
            "RangeIndex: 1000 entries, 0 to 999\n",
            "Data columns (total 32 columns):\n",
            " #   Column              Non-Null Count  Dtype  \n",
            "---  ------              --------------  -----  \n",
            " 0   State               995 non-null    object \n",
            " 1   Lat                 1000 non-null   float64\n",
            " 2   Lng                 1000 non-null   float64\n",
            " 3   Area                995 non-null    object \n",
            " 4   Children            993 non-null    float64\n",
            " 5   Age                 1000 non-null   int64  \n",
            " 6   Income              1000 non-null   float64\n",
            " 7   Marital             995 non-null    object \n",
            " 8   Gender              995 non-null    object \n",
            " 9   ReAdmis             1000 non-null   int64  \n",
            " 10  VitD_levels         1000 non-null   float64\n",
            " 11  Doc_visits          1000 non-null   int64  \n",
            " 12  Full_meals_eaten    1000 non-null   int64  \n",
            " 13  vitD_supp           1000 non-null   int64  \n",
            " 14  Soft_drink          1000 non-null   int64  \n",
            " 15  Initial_admin       995 non-null    object \n",
            " 16  HighBlood           1000 non-null   int64  \n",
            " 17  Stroke              1000 non-null   int64  \n",
            " 18  Complication_risk   995 non-null    object \n",
            " 19  Overweight          1000 non-null   int64  \n",
            " 20  Arthritis           994 non-null    float64\n",
            " 21  Diabetes            994 non-null    float64\n",
            " 22  Hyperlipidemia      998 non-null    float64\n",
            " 23  BackPain            992 non-null    float64\n",
            " 24  Anxiety             998 non-null    float64\n",
            " 25  Allergic_rhinitis   994 non-null    float64\n",
            " 26  Reflux_esophagitis  1000 non-null   int64  \n",
            " 27  Asthma              1000 non-null   int64  \n",
            " 28  Services            995 non-null    object \n",
            " 29  Initial_days        1000 non-null   float64\n",
            " 30  TotalCharge         1000 non-null   float64\n",
            " 31  Additional_charges  1000 non-null   float64\n",
            "dtypes: float64(14), int64(11), object(7)\n",
            "memory usage: 250.1+ KB\n",
            "None \n",
            "\n",
            "________________________________________________________\n",
            "\n",
            "los datos null son\n",
            "State                 5\n",
            "Lat                   0\n",
            "Lng                   0\n",
            "Area                  5\n",
            "Children              7\n",
            "Age                   0\n",
            "Income                0\n",
            "Marital               5\n",
            "Gender                5\n",
            "ReAdmis               0\n",
            "VitD_levels           0\n",
            "Doc_visits            0\n",
            "Full_meals_eaten      0\n",
            "vitD_supp             0\n",
            "Soft_drink            0\n",
            "Initial_admin         5\n",
            "HighBlood             0\n",
            "Stroke                0\n",
            "Complication_risk     5\n",
            "Overweight            0\n",
            "Arthritis             6\n",
            "Diabetes              6\n",
            "Hyperlipidemia        2\n",
            "BackPain              8\n",
            "Anxiety               2\n",
            "Allergic_rhinitis     6\n",
            "Reflux_esophagitis    0\n",
            "Asthma                0\n",
            "Services              5\n",
            "Initial_days          0\n",
            "TotalCharge           0\n",
            "Additional_charges    0\n",
            "dtype: int64\n"
          ]
        }
      ]
    },
    {
      "cell_type": "markdown",
      "source": [
        "**Identificacion y conteo de datos ordinales**"
      ],
      "metadata": {
        "id": "gr63iFbw7Lw7"
      }
    },
    {
      "cell_type": "code",
      "source": [
        "df['Complication_risk'].value_counts()"
      ],
      "metadata": {
        "id": "lAPYgfjZ7JV8",
        "outputId": "665c68fb-4a6c-4c55-c878-1e2537d8ffe9",
        "colab": {
          "base_uri": "https://localhost:8080/"
        }
      },
      "execution_count": 69,
      "outputs": [
        {
          "output_type": "execute_result",
          "data": {
            "text/plain": [
              "Medium    459\n",
              "High      311\n",
              "Low       221\n",
              "Med         4\n",
              "Name: Complication_risk, dtype: int64"
            ]
          },
          "metadata": {},
          "execution_count": 69
        }
      ]
    },
    {
      "cell_type": "markdown",
      "source": [
        "**Creacion de dicc y reemplazo con estos valores ordinales**"
      ],
      "metadata": {
        "id": "ua8cm1DJ7Zbv"
      }
    },
    {
      "cell_type": "code",
      "source": [
        "# Codificación ordinal \"Complication_risk\"\n",
        "replacement_dictionary = {'High':2, 'Medium':1, 'Med':1, 'Low':0}\n",
        "df['Complication_risk'].replace(replacement_dictionary, inplace=True)"
      ],
      "metadata": {
        "id": "F_h8U4E97Xph"
      },
      "execution_count": 70,
      "outputs": []
    },
    {
      "cell_type": "markdown",
      "source": [
        "**Separa valores en X, y**"
      ],
      "metadata": {
        "id": "et3MkOghVtNa"
      }
    },
    {
      "cell_type": "code",
      "source": [
        "# Dividan\n",
        "X = df.drop('Additional_charges', axis=1)\n",
        "y = df['Additional_charges']\n",
        "X_train, X_test, y_train, y_test = train_test_split(X, y, random_state=42)\n",
        "\n"
      ],
      "metadata": {
        "id": "KudPcApcv_0u"
      },
      "execution_count": 71,
      "outputs": []
    },
    {
      "cell_type": "markdown",
      "source": [
        "**Instanciar selectores**"
      ],
      "metadata": {
        "id": "xbnE_OsRV29k"
      }
    },
    {
      "cell_type": "code",
      "source": [
        "# Selectors\n",
        "cat_selector = make_column_selector(dtype_include='object')\n",
        "num_selector = make_column_selector(dtype_include='number')\n",
        "\n"
      ],
      "metadata": {
        "id": "ZHes0SzHTDmB"
      },
      "execution_count": 72,
      "outputs": []
    },
    {
      "cell_type": "markdown",
      "source": [
        "**Instanciar transformadores SimpleImputer, StandardScaler y OneHotEncoder**"
      ],
      "metadata": {
        "id": "uajwsDJB77pR"
      }
    },
    {
      "cell_type": "code",
      "source": [
        "# Imputers\n",
        "freq_imputer = SimpleImputer(strategy='most_frequent')\n",
        "mean_imputer = SimpleImputer(strategy='mean')\n",
        "# Scaler\n",
        "scaler = StandardScaler()\n",
        "# One-hot encoder\n",
        "ohe = OneHotEncoder(handle_unknown='ignore', sparse=False)\n",
        "\n"
      ],
      "metadata": {
        "id": "4L0RNLW_75ke"
      },
      "execution_count": 73,
      "outputs": []
    },
    {
      "cell_type": "markdown",
      "source": [
        "**Instanciar el pipeline**"
      ],
      "metadata": {
        "id": "rDgKqbprWcYZ"
      }
    },
    {
      "cell_type": "code",
      "source": [
        "# Numeric pipeline\n",
        "numeric_pipe = make_pipeline(mean_imputer, scaler)\n",
        "numeric_pipe\n",
        "\n"
      ],
      "metadata": {
        "colab": {
          "base_uri": "https://localhost:8080/",
          "height": 125
        },
        "id": "vvVbYNQgTOgn",
        "outputId": "f3b4e4f7-4844-4ebd-8cb3-81f3a0eda3aa"
      },
      "execution_count": 74,
      "outputs": [
        {
          "output_type": "execute_result",
          "data": {
            "text/plain": [
              "Pipeline(steps=[('simpleimputer', SimpleImputer()),\n",
              "                ('standardscaler', StandardScaler())])"
            ],
            "text/html": [
              "<style>#sk-a21c74e6-e49f-4799-b241-156c7adeb7e2 {color: black;background-color: white;}#sk-a21c74e6-e49f-4799-b241-156c7adeb7e2 pre{padding: 0;}#sk-a21c74e6-e49f-4799-b241-156c7adeb7e2 div.sk-toggleable {background-color: white;}#sk-a21c74e6-e49f-4799-b241-156c7adeb7e2 label.sk-toggleable__label {cursor: pointer;display: block;width: 100%;margin-bottom: 0;padding: 0.3em;box-sizing: border-box;text-align: center;}#sk-a21c74e6-e49f-4799-b241-156c7adeb7e2 label.sk-toggleable__label-arrow:before {content: \"▸\";float: left;margin-right: 0.25em;color: #696969;}#sk-a21c74e6-e49f-4799-b241-156c7adeb7e2 label.sk-toggleable__label-arrow:hover:before {color: black;}#sk-a21c74e6-e49f-4799-b241-156c7adeb7e2 div.sk-estimator:hover label.sk-toggleable__label-arrow:before {color: black;}#sk-a21c74e6-e49f-4799-b241-156c7adeb7e2 div.sk-toggleable__content {max-height: 0;max-width: 0;overflow: hidden;text-align: left;background-color: #f0f8ff;}#sk-a21c74e6-e49f-4799-b241-156c7adeb7e2 div.sk-toggleable__content pre {margin: 0.2em;color: black;border-radius: 0.25em;background-color: #f0f8ff;}#sk-a21c74e6-e49f-4799-b241-156c7adeb7e2 input.sk-toggleable__control:checked~div.sk-toggleable__content {max-height: 200px;max-width: 100%;overflow: auto;}#sk-a21c74e6-e49f-4799-b241-156c7adeb7e2 input.sk-toggleable__control:checked~label.sk-toggleable__label-arrow:before {content: \"▾\";}#sk-a21c74e6-e49f-4799-b241-156c7adeb7e2 div.sk-estimator input.sk-toggleable__control:checked~label.sk-toggleable__label {background-color: #d4ebff;}#sk-a21c74e6-e49f-4799-b241-156c7adeb7e2 div.sk-label input.sk-toggleable__control:checked~label.sk-toggleable__label {background-color: #d4ebff;}#sk-a21c74e6-e49f-4799-b241-156c7adeb7e2 input.sk-hidden--visually {border: 0;clip: rect(1px 1px 1px 1px);clip: rect(1px, 1px, 1px, 1px);height: 1px;margin: -1px;overflow: hidden;padding: 0;position: absolute;width: 1px;}#sk-a21c74e6-e49f-4799-b241-156c7adeb7e2 div.sk-estimator {font-family: monospace;background-color: #f0f8ff;border: 1px dotted black;border-radius: 0.25em;box-sizing: border-box;margin-bottom: 0.5em;}#sk-a21c74e6-e49f-4799-b241-156c7adeb7e2 div.sk-estimator:hover {background-color: #d4ebff;}#sk-a21c74e6-e49f-4799-b241-156c7adeb7e2 div.sk-parallel-item::after {content: \"\";width: 100%;border-bottom: 1px solid gray;flex-grow: 1;}#sk-a21c74e6-e49f-4799-b241-156c7adeb7e2 div.sk-label:hover label.sk-toggleable__label {background-color: #d4ebff;}#sk-a21c74e6-e49f-4799-b241-156c7adeb7e2 div.sk-serial::before {content: \"\";position: absolute;border-left: 1px solid gray;box-sizing: border-box;top: 2em;bottom: 0;left: 50%;}#sk-a21c74e6-e49f-4799-b241-156c7adeb7e2 div.sk-serial {display: flex;flex-direction: column;align-items: center;background-color: white;padding-right: 0.2em;padding-left: 0.2em;}#sk-a21c74e6-e49f-4799-b241-156c7adeb7e2 div.sk-item {z-index: 1;}#sk-a21c74e6-e49f-4799-b241-156c7adeb7e2 div.sk-parallel {display: flex;align-items: stretch;justify-content: center;background-color: white;}#sk-a21c74e6-e49f-4799-b241-156c7adeb7e2 div.sk-parallel::before {content: \"\";position: absolute;border-left: 1px solid gray;box-sizing: border-box;top: 2em;bottom: 0;left: 50%;}#sk-a21c74e6-e49f-4799-b241-156c7adeb7e2 div.sk-parallel-item {display: flex;flex-direction: column;position: relative;background-color: white;}#sk-a21c74e6-e49f-4799-b241-156c7adeb7e2 div.sk-parallel-item:first-child::after {align-self: flex-end;width: 50%;}#sk-a21c74e6-e49f-4799-b241-156c7adeb7e2 div.sk-parallel-item:last-child::after {align-self: flex-start;width: 50%;}#sk-a21c74e6-e49f-4799-b241-156c7adeb7e2 div.sk-parallel-item:only-child::after {width: 0;}#sk-a21c74e6-e49f-4799-b241-156c7adeb7e2 div.sk-dashed-wrapped {border: 1px dashed gray;margin: 0 0.4em 0.5em 0.4em;box-sizing: border-box;padding-bottom: 0.4em;background-color: white;position: relative;}#sk-a21c74e6-e49f-4799-b241-156c7adeb7e2 div.sk-label label {font-family: monospace;font-weight: bold;background-color: white;display: inline-block;line-height: 1.2em;}#sk-a21c74e6-e49f-4799-b241-156c7adeb7e2 div.sk-label-container {position: relative;z-index: 2;text-align: center;}#sk-a21c74e6-e49f-4799-b241-156c7adeb7e2 div.sk-container {/* jupyter's `normalize.less` sets `[hidden] { display: none; }` but bootstrap.min.css set `[hidden] { display: none !important; }` so we also need the `!important` here to be able to override the default hidden behavior on the sphinx rendered scikit-learn.org. See: https://github.com/scikit-learn/scikit-learn/issues/21755 */display: inline-block !important;position: relative;}#sk-a21c74e6-e49f-4799-b241-156c7adeb7e2 div.sk-text-repr-fallback {display: none;}</style><div id=\"sk-a21c74e6-e49f-4799-b241-156c7adeb7e2\" class=\"sk-top-container\"><div class=\"sk-text-repr-fallback\"><pre>Pipeline(steps=[(&#x27;simpleimputer&#x27;, SimpleImputer()),\n",
              "                (&#x27;standardscaler&#x27;, StandardScaler())])</pre><b>Please rerun this cell to show the HTML repr or trust the notebook.</b></div><div class=\"sk-container\" hidden><div class=\"sk-item sk-dashed-wrapped\"><div class=\"sk-label-container\"><div class=\"sk-label sk-toggleable\"><input class=\"sk-toggleable__control sk-hidden--visually\" id=\"77ba357f-61b6-40ed-a36f-17e3d361d82c\" type=\"checkbox\" ><label for=\"77ba357f-61b6-40ed-a36f-17e3d361d82c\" class=\"sk-toggleable__label sk-toggleable__label-arrow\">Pipeline</label><div class=\"sk-toggleable__content\"><pre>Pipeline(steps=[(&#x27;simpleimputer&#x27;, SimpleImputer()),\n",
              "                (&#x27;standardscaler&#x27;, StandardScaler())])</pre></div></div></div><div class=\"sk-serial\"><div class=\"sk-item\"><div class=\"sk-estimator sk-toggleable\"><input class=\"sk-toggleable__control sk-hidden--visually\" id=\"9e68656b-e9cb-4bd0-9aad-7efb505d68e2\" type=\"checkbox\" ><label for=\"9e68656b-e9cb-4bd0-9aad-7efb505d68e2\" class=\"sk-toggleable__label sk-toggleable__label-arrow\">SimpleImputer</label><div class=\"sk-toggleable__content\"><pre>SimpleImputer()</pre></div></div></div><div class=\"sk-item\"><div class=\"sk-estimator sk-toggleable\"><input class=\"sk-toggleable__control sk-hidden--visually\" id=\"a76362a2-bf4f-40db-bd1c-77a105854b99\" type=\"checkbox\" ><label for=\"a76362a2-bf4f-40db-bd1c-77a105854b99\" class=\"sk-toggleable__label sk-toggleable__label-arrow\">StandardScaler</label><div class=\"sk-toggleable__content\"><pre>StandardScaler()</pre></div></div></div></div></div></div></div>"
            ]
          },
          "metadata": {},
          "execution_count": 74
        }
      ]
    },
    {
      "cell_type": "markdown",
      "source": [
        "**Instanciar el pipeline**"
      ],
      "metadata": {
        "id": "vOwRSj8N8k-K"
      }
    },
    {
      "cell_type": "code",
      "source": [
        "# Categorical pipeline\n",
        "categorical_pipe = make_pipeline(freq_imputer, ohe)\n",
        "categorical_pipe\n"
      ],
      "metadata": {
        "id": "aON8PXND8hYD",
        "outputId": "51226808-7a0e-4a0c-8a54-9170e5914feb",
        "colab": {
          "base_uri": "https://localhost:8080/",
          "height": 125
        }
      },
      "execution_count": 75,
      "outputs": [
        {
          "output_type": "execute_result",
          "data": {
            "text/plain": [
              "Pipeline(steps=[('simpleimputer', SimpleImputer(strategy='most_frequent')),\n",
              "                ('onehotencoder',\n",
              "                 OneHotEncoder(handle_unknown='ignore', sparse=False))])"
            ],
            "text/html": [
              "<style>#sk-71bd8365-6695-40ac-b099-30b30b362598 {color: black;background-color: white;}#sk-71bd8365-6695-40ac-b099-30b30b362598 pre{padding: 0;}#sk-71bd8365-6695-40ac-b099-30b30b362598 div.sk-toggleable {background-color: white;}#sk-71bd8365-6695-40ac-b099-30b30b362598 label.sk-toggleable__label {cursor: pointer;display: block;width: 100%;margin-bottom: 0;padding: 0.3em;box-sizing: border-box;text-align: center;}#sk-71bd8365-6695-40ac-b099-30b30b362598 label.sk-toggleable__label-arrow:before {content: \"▸\";float: left;margin-right: 0.25em;color: #696969;}#sk-71bd8365-6695-40ac-b099-30b30b362598 label.sk-toggleable__label-arrow:hover:before {color: black;}#sk-71bd8365-6695-40ac-b099-30b30b362598 div.sk-estimator:hover label.sk-toggleable__label-arrow:before {color: black;}#sk-71bd8365-6695-40ac-b099-30b30b362598 div.sk-toggleable__content {max-height: 0;max-width: 0;overflow: hidden;text-align: left;background-color: #f0f8ff;}#sk-71bd8365-6695-40ac-b099-30b30b362598 div.sk-toggleable__content pre {margin: 0.2em;color: black;border-radius: 0.25em;background-color: #f0f8ff;}#sk-71bd8365-6695-40ac-b099-30b30b362598 input.sk-toggleable__control:checked~div.sk-toggleable__content {max-height: 200px;max-width: 100%;overflow: auto;}#sk-71bd8365-6695-40ac-b099-30b30b362598 input.sk-toggleable__control:checked~label.sk-toggleable__label-arrow:before {content: \"▾\";}#sk-71bd8365-6695-40ac-b099-30b30b362598 div.sk-estimator input.sk-toggleable__control:checked~label.sk-toggleable__label {background-color: #d4ebff;}#sk-71bd8365-6695-40ac-b099-30b30b362598 div.sk-label input.sk-toggleable__control:checked~label.sk-toggleable__label {background-color: #d4ebff;}#sk-71bd8365-6695-40ac-b099-30b30b362598 input.sk-hidden--visually {border: 0;clip: rect(1px 1px 1px 1px);clip: rect(1px, 1px, 1px, 1px);height: 1px;margin: -1px;overflow: hidden;padding: 0;position: absolute;width: 1px;}#sk-71bd8365-6695-40ac-b099-30b30b362598 div.sk-estimator {font-family: monospace;background-color: #f0f8ff;border: 1px dotted black;border-radius: 0.25em;box-sizing: border-box;margin-bottom: 0.5em;}#sk-71bd8365-6695-40ac-b099-30b30b362598 div.sk-estimator:hover {background-color: #d4ebff;}#sk-71bd8365-6695-40ac-b099-30b30b362598 div.sk-parallel-item::after {content: \"\";width: 100%;border-bottom: 1px solid gray;flex-grow: 1;}#sk-71bd8365-6695-40ac-b099-30b30b362598 div.sk-label:hover label.sk-toggleable__label {background-color: #d4ebff;}#sk-71bd8365-6695-40ac-b099-30b30b362598 div.sk-serial::before {content: \"\";position: absolute;border-left: 1px solid gray;box-sizing: border-box;top: 2em;bottom: 0;left: 50%;}#sk-71bd8365-6695-40ac-b099-30b30b362598 div.sk-serial {display: flex;flex-direction: column;align-items: center;background-color: white;padding-right: 0.2em;padding-left: 0.2em;}#sk-71bd8365-6695-40ac-b099-30b30b362598 div.sk-item {z-index: 1;}#sk-71bd8365-6695-40ac-b099-30b30b362598 div.sk-parallel {display: flex;align-items: stretch;justify-content: center;background-color: white;}#sk-71bd8365-6695-40ac-b099-30b30b362598 div.sk-parallel::before {content: \"\";position: absolute;border-left: 1px solid gray;box-sizing: border-box;top: 2em;bottom: 0;left: 50%;}#sk-71bd8365-6695-40ac-b099-30b30b362598 div.sk-parallel-item {display: flex;flex-direction: column;position: relative;background-color: white;}#sk-71bd8365-6695-40ac-b099-30b30b362598 div.sk-parallel-item:first-child::after {align-self: flex-end;width: 50%;}#sk-71bd8365-6695-40ac-b099-30b30b362598 div.sk-parallel-item:last-child::after {align-self: flex-start;width: 50%;}#sk-71bd8365-6695-40ac-b099-30b30b362598 div.sk-parallel-item:only-child::after {width: 0;}#sk-71bd8365-6695-40ac-b099-30b30b362598 div.sk-dashed-wrapped {border: 1px dashed gray;margin: 0 0.4em 0.5em 0.4em;box-sizing: border-box;padding-bottom: 0.4em;background-color: white;position: relative;}#sk-71bd8365-6695-40ac-b099-30b30b362598 div.sk-label label {font-family: monospace;font-weight: bold;background-color: white;display: inline-block;line-height: 1.2em;}#sk-71bd8365-6695-40ac-b099-30b30b362598 div.sk-label-container {position: relative;z-index: 2;text-align: center;}#sk-71bd8365-6695-40ac-b099-30b30b362598 div.sk-container {/* jupyter's `normalize.less` sets `[hidden] { display: none; }` but bootstrap.min.css set `[hidden] { display: none !important; }` so we also need the `!important` here to be able to override the default hidden behavior on the sphinx rendered scikit-learn.org. See: https://github.com/scikit-learn/scikit-learn/issues/21755 */display: inline-block !important;position: relative;}#sk-71bd8365-6695-40ac-b099-30b30b362598 div.sk-text-repr-fallback {display: none;}</style><div id=\"sk-71bd8365-6695-40ac-b099-30b30b362598\" class=\"sk-top-container\"><div class=\"sk-text-repr-fallback\"><pre>Pipeline(steps=[(&#x27;simpleimputer&#x27;, SimpleImputer(strategy=&#x27;most_frequent&#x27;)),\n",
              "                (&#x27;onehotencoder&#x27;,\n",
              "                 OneHotEncoder(handle_unknown=&#x27;ignore&#x27;, sparse=False))])</pre><b>Please rerun this cell to show the HTML repr or trust the notebook.</b></div><div class=\"sk-container\" hidden><div class=\"sk-item sk-dashed-wrapped\"><div class=\"sk-label-container\"><div class=\"sk-label sk-toggleable\"><input class=\"sk-toggleable__control sk-hidden--visually\" id=\"a8579fbd-9d55-434b-a650-899dfb270d41\" type=\"checkbox\" ><label for=\"a8579fbd-9d55-434b-a650-899dfb270d41\" class=\"sk-toggleable__label sk-toggleable__label-arrow\">Pipeline</label><div class=\"sk-toggleable__content\"><pre>Pipeline(steps=[(&#x27;simpleimputer&#x27;, SimpleImputer(strategy=&#x27;most_frequent&#x27;)),\n",
              "                (&#x27;onehotencoder&#x27;,\n",
              "                 OneHotEncoder(handle_unknown=&#x27;ignore&#x27;, sparse=False))])</pre></div></div></div><div class=\"sk-serial\"><div class=\"sk-item\"><div class=\"sk-estimator sk-toggleable\"><input class=\"sk-toggleable__control sk-hidden--visually\" id=\"b0afaa1d-8415-4a52-9564-421959f6cd9c\" type=\"checkbox\" ><label for=\"b0afaa1d-8415-4a52-9564-421959f6cd9c\" class=\"sk-toggleable__label sk-toggleable__label-arrow\">SimpleImputer</label><div class=\"sk-toggleable__content\"><pre>SimpleImputer(strategy=&#x27;most_frequent&#x27;)</pre></div></div></div><div class=\"sk-item\"><div class=\"sk-estimator sk-toggleable\"><input class=\"sk-toggleable__control sk-hidden--visually\" id=\"9e50b46a-aecc-48c8-b119-d69f7e7682d6\" type=\"checkbox\" ><label for=\"9e50b46a-aecc-48c8-b119-d69f7e7682d6\" class=\"sk-toggleable__label sk-toggleable__label-arrow\">OneHotEncoder</label><div class=\"sk-toggleable__content\"><pre>OneHotEncoder(handle_unknown=&#x27;ignore&#x27;, sparse=False)</pre></div></div></div></div></div></div></div>"
            ]
          },
          "metadata": {},
          "execution_count": 75
        }
      ]
    },
    {
      "cell_type": "markdown",
      "source": [
        "**Instanciar ColumnTransformer**"
      ],
      "metadata": {
        "id": "hXtMXgzW8tzE"
      }
    },
    {
      "cell_type": "code",
      "source": [
        "# Tuples para Column Transformer\n",
        "number_tuple = (numeric_pipe, num_selector)\n",
        "category_tuple = (categorical_pipe, cat_selector)\n",
        "# ColumnTransformer\n",
        "preprocessor = make_column_transformer(number_tuple, category_tuple)\n",
        "preprocessor\n",
        "\n"
      ],
      "metadata": {
        "id": "DgRKdPFf8qxb",
        "outputId": "82efc32e-855d-4d78-f0e2-b0105b5576b2",
        "colab": {
          "base_uri": "https://localhost:8080/",
          "height": 151
        }
      },
      "execution_count": 76,
      "outputs": [
        {
          "output_type": "execute_result",
          "data": {
            "text/plain": [
              "ColumnTransformer(transformers=[('pipeline-1',\n",
              "                                 Pipeline(steps=[('simpleimputer',\n",
              "                                                  SimpleImputer()),\n",
              "                                                 ('standardscaler',\n",
              "                                                  StandardScaler())]),\n",
              "                                 <sklearn.compose._column_transformer.make_column_selector object at 0x7faf8c53a090>),\n",
              "                                ('pipeline-2',\n",
              "                                 Pipeline(steps=[('simpleimputer',\n",
              "                                                  SimpleImputer(strategy='most_frequent')),\n",
              "                                                 ('onehotencoder',\n",
              "                                                  OneHotEncoder(handle_unknown='ignore',\n",
              "                                                                sparse=False))]),\n",
              "                                 <sklearn.compose._column_transformer.make_column_selector object at 0x7faf8c53a5d0>)])"
            ],
            "text/html": [
              "<style>#sk-a27eb106-38e6-4c2d-82f0-13c904d3aa8f {color: black;background-color: white;}#sk-a27eb106-38e6-4c2d-82f0-13c904d3aa8f pre{padding: 0;}#sk-a27eb106-38e6-4c2d-82f0-13c904d3aa8f div.sk-toggleable {background-color: white;}#sk-a27eb106-38e6-4c2d-82f0-13c904d3aa8f label.sk-toggleable__label {cursor: pointer;display: block;width: 100%;margin-bottom: 0;padding: 0.3em;box-sizing: border-box;text-align: center;}#sk-a27eb106-38e6-4c2d-82f0-13c904d3aa8f label.sk-toggleable__label-arrow:before {content: \"▸\";float: left;margin-right: 0.25em;color: #696969;}#sk-a27eb106-38e6-4c2d-82f0-13c904d3aa8f label.sk-toggleable__label-arrow:hover:before {color: black;}#sk-a27eb106-38e6-4c2d-82f0-13c904d3aa8f div.sk-estimator:hover label.sk-toggleable__label-arrow:before {color: black;}#sk-a27eb106-38e6-4c2d-82f0-13c904d3aa8f div.sk-toggleable__content {max-height: 0;max-width: 0;overflow: hidden;text-align: left;background-color: #f0f8ff;}#sk-a27eb106-38e6-4c2d-82f0-13c904d3aa8f div.sk-toggleable__content pre {margin: 0.2em;color: black;border-radius: 0.25em;background-color: #f0f8ff;}#sk-a27eb106-38e6-4c2d-82f0-13c904d3aa8f input.sk-toggleable__control:checked~div.sk-toggleable__content {max-height: 200px;max-width: 100%;overflow: auto;}#sk-a27eb106-38e6-4c2d-82f0-13c904d3aa8f input.sk-toggleable__control:checked~label.sk-toggleable__label-arrow:before {content: \"▾\";}#sk-a27eb106-38e6-4c2d-82f0-13c904d3aa8f div.sk-estimator input.sk-toggleable__control:checked~label.sk-toggleable__label {background-color: #d4ebff;}#sk-a27eb106-38e6-4c2d-82f0-13c904d3aa8f div.sk-label input.sk-toggleable__control:checked~label.sk-toggleable__label {background-color: #d4ebff;}#sk-a27eb106-38e6-4c2d-82f0-13c904d3aa8f input.sk-hidden--visually {border: 0;clip: rect(1px 1px 1px 1px);clip: rect(1px, 1px, 1px, 1px);height: 1px;margin: -1px;overflow: hidden;padding: 0;position: absolute;width: 1px;}#sk-a27eb106-38e6-4c2d-82f0-13c904d3aa8f div.sk-estimator {font-family: monospace;background-color: #f0f8ff;border: 1px dotted black;border-radius: 0.25em;box-sizing: border-box;margin-bottom: 0.5em;}#sk-a27eb106-38e6-4c2d-82f0-13c904d3aa8f div.sk-estimator:hover {background-color: #d4ebff;}#sk-a27eb106-38e6-4c2d-82f0-13c904d3aa8f div.sk-parallel-item::after {content: \"\";width: 100%;border-bottom: 1px solid gray;flex-grow: 1;}#sk-a27eb106-38e6-4c2d-82f0-13c904d3aa8f div.sk-label:hover label.sk-toggleable__label {background-color: #d4ebff;}#sk-a27eb106-38e6-4c2d-82f0-13c904d3aa8f div.sk-serial::before {content: \"\";position: absolute;border-left: 1px solid gray;box-sizing: border-box;top: 2em;bottom: 0;left: 50%;}#sk-a27eb106-38e6-4c2d-82f0-13c904d3aa8f div.sk-serial {display: flex;flex-direction: column;align-items: center;background-color: white;padding-right: 0.2em;padding-left: 0.2em;}#sk-a27eb106-38e6-4c2d-82f0-13c904d3aa8f div.sk-item {z-index: 1;}#sk-a27eb106-38e6-4c2d-82f0-13c904d3aa8f div.sk-parallel {display: flex;align-items: stretch;justify-content: center;background-color: white;}#sk-a27eb106-38e6-4c2d-82f0-13c904d3aa8f div.sk-parallel::before {content: \"\";position: absolute;border-left: 1px solid gray;box-sizing: border-box;top: 2em;bottom: 0;left: 50%;}#sk-a27eb106-38e6-4c2d-82f0-13c904d3aa8f div.sk-parallel-item {display: flex;flex-direction: column;position: relative;background-color: white;}#sk-a27eb106-38e6-4c2d-82f0-13c904d3aa8f div.sk-parallel-item:first-child::after {align-self: flex-end;width: 50%;}#sk-a27eb106-38e6-4c2d-82f0-13c904d3aa8f div.sk-parallel-item:last-child::after {align-self: flex-start;width: 50%;}#sk-a27eb106-38e6-4c2d-82f0-13c904d3aa8f div.sk-parallel-item:only-child::after {width: 0;}#sk-a27eb106-38e6-4c2d-82f0-13c904d3aa8f div.sk-dashed-wrapped {border: 1px dashed gray;margin: 0 0.4em 0.5em 0.4em;box-sizing: border-box;padding-bottom: 0.4em;background-color: white;position: relative;}#sk-a27eb106-38e6-4c2d-82f0-13c904d3aa8f div.sk-label label {font-family: monospace;font-weight: bold;background-color: white;display: inline-block;line-height: 1.2em;}#sk-a27eb106-38e6-4c2d-82f0-13c904d3aa8f div.sk-label-container {position: relative;z-index: 2;text-align: center;}#sk-a27eb106-38e6-4c2d-82f0-13c904d3aa8f div.sk-container {/* jupyter's `normalize.less` sets `[hidden] { display: none; }` but bootstrap.min.css set `[hidden] { display: none !important; }` so we also need the `!important` here to be able to override the default hidden behavior on the sphinx rendered scikit-learn.org. See: https://github.com/scikit-learn/scikit-learn/issues/21755 */display: inline-block !important;position: relative;}#sk-a27eb106-38e6-4c2d-82f0-13c904d3aa8f div.sk-text-repr-fallback {display: none;}</style><div id=\"sk-a27eb106-38e6-4c2d-82f0-13c904d3aa8f\" class=\"sk-top-container\"><div class=\"sk-text-repr-fallback\"><pre>ColumnTransformer(transformers=[(&#x27;pipeline-1&#x27;,\n",
              "                                 Pipeline(steps=[(&#x27;simpleimputer&#x27;,\n",
              "                                                  SimpleImputer()),\n",
              "                                                 (&#x27;standardscaler&#x27;,\n",
              "                                                  StandardScaler())]),\n",
              "                                 &lt;sklearn.compose._column_transformer.make_column_selector object at 0x7faf8c53a090&gt;),\n",
              "                                (&#x27;pipeline-2&#x27;,\n",
              "                                 Pipeline(steps=[(&#x27;simpleimputer&#x27;,\n",
              "                                                  SimpleImputer(strategy=&#x27;most_frequent&#x27;)),\n",
              "                                                 (&#x27;onehotencoder&#x27;,\n",
              "                                                  OneHotEncoder(handle_unknown=&#x27;ignore&#x27;,\n",
              "                                                                sparse=False))]),\n",
              "                                 &lt;sklearn.compose._column_transformer.make_column_selector object at 0x7faf8c53a5d0&gt;)])</pre><b>Please rerun this cell to show the HTML repr or trust the notebook.</b></div><div class=\"sk-container\" hidden><div class=\"sk-item sk-dashed-wrapped\"><div class=\"sk-label-container\"><div class=\"sk-label sk-toggleable\"><input class=\"sk-toggleable__control sk-hidden--visually\" id=\"f3d4276f-c3ec-4f71-9d47-34e76d8ab2da\" type=\"checkbox\" ><label for=\"f3d4276f-c3ec-4f71-9d47-34e76d8ab2da\" class=\"sk-toggleable__label sk-toggleable__label-arrow\">ColumnTransformer</label><div class=\"sk-toggleable__content\"><pre>ColumnTransformer(transformers=[(&#x27;pipeline-1&#x27;,\n",
              "                                 Pipeline(steps=[(&#x27;simpleimputer&#x27;,\n",
              "                                                  SimpleImputer()),\n",
              "                                                 (&#x27;standardscaler&#x27;,\n",
              "                                                  StandardScaler())]),\n",
              "                                 &lt;sklearn.compose._column_transformer.make_column_selector object at 0x7faf8c53a090&gt;),\n",
              "                                (&#x27;pipeline-2&#x27;,\n",
              "                                 Pipeline(steps=[(&#x27;simpleimputer&#x27;,\n",
              "                                                  SimpleImputer(strategy=&#x27;most_frequent&#x27;)),\n",
              "                                                 (&#x27;onehotencoder&#x27;,\n",
              "                                                  OneHotEncoder(handle_unknown=&#x27;ignore&#x27;,\n",
              "                                                                sparse=False))]),\n",
              "                                 &lt;sklearn.compose._column_transformer.make_column_selector object at 0x7faf8c53a5d0&gt;)])</pre></div></div></div><div class=\"sk-parallel\"><div class=\"sk-parallel-item\"><div class=\"sk-item\"><div class=\"sk-label-container\"><div class=\"sk-label sk-toggleable\"><input class=\"sk-toggleable__control sk-hidden--visually\" id=\"b229a0d3-ab11-43d3-b41e-b7f1f3ecc0f8\" type=\"checkbox\" ><label for=\"b229a0d3-ab11-43d3-b41e-b7f1f3ecc0f8\" class=\"sk-toggleable__label sk-toggleable__label-arrow\">pipeline-1</label><div class=\"sk-toggleable__content\"><pre>&lt;sklearn.compose._column_transformer.make_column_selector object at 0x7faf8c53a090&gt;</pre></div></div></div><div class=\"sk-serial\"><div class=\"sk-item\"><div class=\"sk-serial\"><div class=\"sk-item\"><div class=\"sk-estimator sk-toggleable\"><input class=\"sk-toggleable__control sk-hidden--visually\" id=\"d6e56e8d-7828-4f08-be21-7eb88d7aa9f6\" type=\"checkbox\" ><label for=\"d6e56e8d-7828-4f08-be21-7eb88d7aa9f6\" class=\"sk-toggleable__label sk-toggleable__label-arrow\">SimpleImputer</label><div class=\"sk-toggleable__content\"><pre>SimpleImputer()</pre></div></div></div><div class=\"sk-item\"><div class=\"sk-estimator sk-toggleable\"><input class=\"sk-toggleable__control sk-hidden--visually\" id=\"4b153496-36b5-4707-834d-5e2e0df680ee\" type=\"checkbox\" ><label for=\"4b153496-36b5-4707-834d-5e2e0df680ee\" class=\"sk-toggleable__label sk-toggleable__label-arrow\">StandardScaler</label><div class=\"sk-toggleable__content\"><pre>StandardScaler()</pre></div></div></div></div></div></div></div></div><div class=\"sk-parallel-item\"><div class=\"sk-item\"><div class=\"sk-label-container\"><div class=\"sk-label sk-toggleable\"><input class=\"sk-toggleable__control sk-hidden--visually\" id=\"24498a6a-3d32-44d5-90bd-99487e5daaaf\" type=\"checkbox\" ><label for=\"24498a6a-3d32-44d5-90bd-99487e5daaaf\" class=\"sk-toggleable__label sk-toggleable__label-arrow\">pipeline-2</label><div class=\"sk-toggleable__content\"><pre>&lt;sklearn.compose._column_transformer.make_column_selector object at 0x7faf8c53a5d0&gt;</pre></div></div></div><div class=\"sk-serial\"><div class=\"sk-item\"><div class=\"sk-serial\"><div class=\"sk-item\"><div class=\"sk-estimator sk-toggleable\"><input class=\"sk-toggleable__control sk-hidden--visually\" id=\"b0ec0c00-412c-4254-98d8-c5c250e1bb3b\" type=\"checkbox\" ><label for=\"b0ec0c00-412c-4254-98d8-c5c250e1bb3b\" class=\"sk-toggleable__label sk-toggleable__label-arrow\">SimpleImputer</label><div class=\"sk-toggleable__content\"><pre>SimpleImputer(strategy=&#x27;most_frequent&#x27;)</pre></div></div></div><div class=\"sk-item\"><div class=\"sk-estimator sk-toggleable\"><input class=\"sk-toggleable__control sk-hidden--visually\" id=\"cbce855f-a58e-4892-a171-5743772fd59f\" type=\"checkbox\" ><label for=\"cbce855f-a58e-4892-a171-5743772fd59f\" class=\"sk-toggleable__label sk-toggleable__label-arrow\">OneHotEncoder</label><div class=\"sk-toggleable__content\"><pre>OneHotEncoder(handle_unknown=&#x27;ignore&#x27;, sparse=False)</pre></div></div></div></div></div></div></div></div></div></div></div></div>"
            ]
          },
          "metadata": {},
          "execution_count": 76
        }
      ]
    },
    {
      "cell_type": "markdown",
      "source": [
        "**Transformador de datos**"
      ],
      "metadata": {
        "id": "1PYKMNWAW-A5"
      }
    },
    {
      "cell_type": "code",
      "source": [
        "# fit on train\n",
        "preprocessor.fit(X_train)\n",
        "# transform train and test\n",
        "X_train_processed = preprocessor.transform(X_train)\n",
        "X_test_processed = preprocessor.transform(X_test)\n",
        "\n",
        "\n"
      ],
      "metadata": {
        "id": "M5HU8crfTjk4"
      },
      "execution_count": 77,
      "outputs": []
    },
    {
      "cell_type": "markdown",
      "source": [
        "**Inspeccion de resultados**"
      ],
      "metadata": {
        "id": "8cmMMKkEXJ9t"
      }
    },
    {
      "cell_type": "code",
      "source": [
        "# Comprueben los valores faltantes y que los datos se escalen y tengan una codificación one-hot\n",
        "print(np.isnan(X_train_processed).sum().sum(), 'valores perdidos en la data de entrenamiento')\n",
        "print(np.isnan(X_test_processed).sum().sum(), 'valores perdidos en la data de prueba')\n",
        "print('\\n')\n",
        "print('Todos los datos procesados del X_train_processed son del tipo:', X_train_processed.dtype)\n",
        "print('Todos los datos procesados del X_test_processed son del tipo', X_test_processed.dtype)\n",
        "print('\\n')\n",
        "print('shape de los datos de entrenamiento son', X_train_processed.shape)\n",
        "print('\\n')\n",
        "X_train_processed\n",
        "\n",
        "\n"
      ],
      "metadata": {
        "colab": {
          "base_uri": "https://localhost:8080/"
        },
        "id": "O-rXbj54TxJO",
        "outputId": "5477618e-24f5-4829-8f57-7a028ac862a7"
      },
      "execution_count": 78,
      "outputs": [
        {
          "output_type": "stream",
          "name": "stdout",
          "text": [
            "0 valores perdidos en la data de entrenamiento\n",
            "0 valores perdidos en la data de prueba\n",
            "\n",
            "\n",
            "Todos los datos procesados del X_train_processed son del tipo: float64\n",
            "Todos los datos procesados del X_test_processed son del tipo float64\n",
            "\n",
            "\n",
            "shape de los datos de entrenamiento son (750, 97)\n",
            "\n",
            "\n"
          ]
        },
        {
          "output_type": "execute_result",
          "data": {
            "text/plain": [
              "array([[-0.50820472,  0.28193545, -0.06527826, ...,  0.        ,\n",
              "         1.        ,  0.        ],\n",
              "       [-0.72064168,  0.25283631,  1.23912135, ...,  0.        ,\n",
              "         0.        ,  0.        ],\n",
              "       [-0.49340318,  0.48282262, -0.50007813, ...,  0.        ,\n",
              "         1.        ,  0.        ],\n",
              "       ...,\n",
              "       [ 0.27295848,  0.63816773, -0.93487801, ...,  0.        ,\n",
              "         0.        ,  0.        ],\n",
              "       [-0.89653885, -1.73729615, -0.93487801, ...,  0.        ,\n",
              "         0.        ,  0.        ],\n",
              "       [ 0.30727477,  1.1082109 , -0.93487801, ...,  0.        ,\n",
              "         0.        ,  0.        ]])"
            ]
          },
          "metadata": {},
          "execution_count": 78
        }
      ]
    }
  ]
}