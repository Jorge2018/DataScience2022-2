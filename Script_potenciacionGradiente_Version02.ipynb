{
  "nbformat": 4,
  "nbformat_minor": 0,
  "metadata": {
    "colab": {
      "name": "Untitled26.ipynb",
      "provenance": [],
      "authorship_tag": "ABX9TyMmKs2zfHVC/nMIY1R3bI4k",
      "include_colab_link": true
    },
    "kernelspec": {
      "name": "python3",
      "display_name": "Python 3"
    },
    "language_info": {
      "name": "python"
    }
  },
  "cells": [
    {
      "cell_type": "markdown",
      "metadata": {
        "id": "view-in-github",
        "colab_type": "text"
      },
      "source": [
        "<a href=\"https://colab.research.google.com/github/Jorge2018/DataScience2022-2/blob/main/Script_potenciacionGradiente_Version02.ipynb\" target=\"_parent\"><img src=\"https://colab.research.google.com/assets/colab-badge.svg\" alt=\"Open In Colab\"/></a>"
      ]
    },
    {
      "cell_type": "code",
      "source": [
        "# Imports\n",
        "import numpy as np\n",
        "import matplotlib.pyplot as plt\n",
        "import pandas as pd\n",
        "from sklearn.preprocessing import StandardScaler\n",
        "from sklearn.model_selection import train_test_split\n",
        "from sklearn.ensemble import GradientBoostingClassifier\n",
        "import tensorflow as tf\n",
        "\n",
        "\n",
        "df=pd.read_csv(r'https://raw.githubusercontent.com/Jorge2018/RepositorioArchivos/main/wisconsinBreastCancer.csv')\n",
        "\n",
        "df.head()\n",
        "\n"
      ],
      "metadata": {
        "colab": {
          "base_uri": "https://localhost:8080/",
          "height": 317
        },
        "id": "fWrD-sddQoEs",
        "outputId": "b0f1d172-181d-4164-8a5c-5e5b1542134c"
      },
      "execution_count": 32,
      "outputs": [
        {
          "output_type": "execute_result",
          "data": {
            "text/plain": [
              "         id diagnosis  radius_mean  texture_mean  perimeter_mean  area_mean  \\\n",
              "0    842302         M        17.99         10.38          122.80     1001.0   \n",
              "1    842517         M        20.57         17.77          132.90     1326.0   \n",
              "2  84300903         M        19.69         21.25          130.00     1203.0   \n",
              "3  84348301         M        11.42         20.38           77.58      386.1   \n",
              "4  84358402         M        20.29         14.34          135.10     1297.0   \n",
              "\n",
              "   smoothness_mean  compactness_mean  concavity_mean  concave points_mean  \\\n",
              "0          0.11840           0.27760          0.3001              0.14710   \n",
              "1          0.08474           0.07864          0.0869              0.07017   \n",
              "2          0.10960           0.15990          0.1974              0.12790   \n",
              "3          0.14250           0.28390          0.2414              0.10520   \n",
              "4          0.10030           0.13280          0.1980              0.10430   \n",
              "\n",
              "   ...  texture_worst  perimeter_worst  area_worst  smoothness_worst  \\\n",
              "0  ...          17.33           184.60      2019.0            0.1622   \n",
              "1  ...          23.41           158.80      1956.0            0.1238   \n",
              "2  ...          25.53           152.50      1709.0            0.1444   \n",
              "3  ...          26.50            98.87       567.7            0.2098   \n",
              "4  ...          16.67           152.20      1575.0            0.1374   \n",
              "\n",
              "   compactness_worst  concavity_worst  concave points_worst  symmetry_worst  \\\n",
              "0             0.6656           0.7119                0.2654          0.4601   \n",
              "1             0.1866           0.2416                0.1860          0.2750   \n",
              "2             0.4245           0.4504                0.2430          0.3613   \n",
              "3             0.8663           0.6869                0.2575          0.6638   \n",
              "4             0.2050           0.4000                0.1625          0.2364   \n",
              "\n",
              "   fractal_dimension_worst  Unnamed: 32  \n",
              "0                  0.11890          NaN  \n",
              "1                  0.08902          NaN  \n",
              "2                  0.08758          NaN  \n",
              "3                  0.17300          NaN  \n",
              "4                  0.07678          NaN  \n",
              "\n",
              "[5 rows x 33 columns]"
            ],
            "text/html": [
              "\n",
              "  <div id=\"df-77dc1e57-fb45-4b18-bfed-05e81024978f\">\n",
              "    <div class=\"colab-df-container\">\n",
              "      <div>\n",
              "<style scoped>\n",
              "    .dataframe tbody tr th:only-of-type {\n",
              "        vertical-align: middle;\n",
              "    }\n",
              "\n",
              "    .dataframe tbody tr th {\n",
              "        vertical-align: top;\n",
              "    }\n",
              "\n",
              "    .dataframe thead th {\n",
              "        text-align: right;\n",
              "    }\n",
              "</style>\n",
              "<table border=\"1\" class=\"dataframe\">\n",
              "  <thead>\n",
              "    <tr style=\"text-align: right;\">\n",
              "      <th></th>\n",
              "      <th>id</th>\n",
              "      <th>diagnosis</th>\n",
              "      <th>radius_mean</th>\n",
              "      <th>texture_mean</th>\n",
              "      <th>perimeter_mean</th>\n",
              "      <th>area_mean</th>\n",
              "      <th>smoothness_mean</th>\n",
              "      <th>compactness_mean</th>\n",
              "      <th>concavity_mean</th>\n",
              "      <th>concave points_mean</th>\n",
              "      <th>...</th>\n",
              "      <th>texture_worst</th>\n",
              "      <th>perimeter_worst</th>\n",
              "      <th>area_worst</th>\n",
              "      <th>smoothness_worst</th>\n",
              "      <th>compactness_worst</th>\n",
              "      <th>concavity_worst</th>\n",
              "      <th>concave points_worst</th>\n",
              "      <th>symmetry_worst</th>\n",
              "      <th>fractal_dimension_worst</th>\n",
              "      <th>Unnamed: 32</th>\n",
              "    </tr>\n",
              "  </thead>\n",
              "  <tbody>\n",
              "    <tr>\n",
              "      <th>0</th>\n",
              "      <td>842302</td>\n",
              "      <td>M</td>\n",
              "      <td>17.99</td>\n",
              "      <td>10.38</td>\n",
              "      <td>122.80</td>\n",
              "      <td>1001.0</td>\n",
              "      <td>0.11840</td>\n",
              "      <td>0.27760</td>\n",
              "      <td>0.3001</td>\n",
              "      <td>0.14710</td>\n",
              "      <td>...</td>\n",
              "      <td>17.33</td>\n",
              "      <td>184.60</td>\n",
              "      <td>2019.0</td>\n",
              "      <td>0.1622</td>\n",
              "      <td>0.6656</td>\n",
              "      <td>0.7119</td>\n",
              "      <td>0.2654</td>\n",
              "      <td>0.4601</td>\n",
              "      <td>0.11890</td>\n",
              "      <td>NaN</td>\n",
              "    </tr>\n",
              "    <tr>\n",
              "      <th>1</th>\n",
              "      <td>842517</td>\n",
              "      <td>M</td>\n",
              "      <td>20.57</td>\n",
              "      <td>17.77</td>\n",
              "      <td>132.90</td>\n",
              "      <td>1326.0</td>\n",
              "      <td>0.08474</td>\n",
              "      <td>0.07864</td>\n",
              "      <td>0.0869</td>\n",
              "      <td>0.07017</td>\n",
              "      <td>...</td>\n",
              "      <td>23.41</td>\n",
              "      <td>158.80</td>\n",
              "      <td>1956.0</td>\n",
              "      <td>0.1238</td>\n",
              "      <td>0.1866</td>\n",
              "      <td>0.2416</td>\n",
              "      <td>0.1860</td>\n",
              "      <td>0.2750</td>\n",
              "      <td>0.08902</td>\n",
              "      <td>NaN</td>\n",
              "    </tr>\n",
              "    <tr>\n",
              "      <th>2</th>\n",
              "      <td>84300903</td>\n",
              "      <td>M</td>\n",
              "      <td>19.69</td>\n",
              "      <td>21.25</td>\n",
              "      <td>130.00</td>\n",
              "      <td>1203.0</td>\n",
              "      <td>0.10960</td>\n",
              "      <td>0.15990</td>\n",
              "      <td>0.1974</td>\n",
              "      <td>0.12790</td>\n",
              "      <td>...</td>\n",
              "      <td>25.53</td>\n",
              "      <td>152.50</td>\n",
              "      <td>1709.0</td>\n",
              "      <td>0.1444</td>\n",
              "      <td>0.4245</td>\n",
              "      <td>0.4504</td>\n",
              "      <td>0.2430</td>\n",
              "      <td>0.3613</td>\n",
              "      <td>0.08758</td>\n",
              "      <td>NaN</td>\n",
              "    </tr>\n",
              "    <tr>\n",
              "      <th>3</th>\n",
              "      <td>84348301</td>\n",
              "      <td>M</td>\n",
              "      <td>11.42</td>\n",
              "      <td>20.38</td>\n",
              "      <td>77.58</td>\n",
              "      <td>386.1</td>\n",
              "      <td>0.14250</td>\n",
              "      <td>0.28390</td>\n",
              "      <td>0.2414</td>\n",
              "      <td>0.10520</td>\n",
              "      <td>...</td>\n",
              "      <td>26.50</td>\n",
              "      <td>98.87</td>\n",
              "      <td>567.7</td>\n",
              "      <td>0.2098</td>\n",
              "      <td>0.8663</td>\n",
              "      <td>0.6869</td>\n",
              "      <td>0.2575</td>\n",
              "      <td>0.6638</td>\n",
              "      <td>0.17300</td>\n",
              "      <td>NaN</td>\n",
              "    </tr>\n",
              "    <tr>\n",
              "      <th>4</th>\n",
              "      <td>84358402</td>\n",
              "      <td>M</td>\n",
              "      <td>20.29</td>\n",
              "      <td>14.34</td>\n",
              "      <td>135.10</td>\n",
              "      <td>1297.0</td>\n",
              "      <td>0.10030</td>\n",
              "      <td>0.13280</td>\n",
              "      <td>0.1980</td>\n",
              "      <td>0.10430</td>\n",
              "      <td>...</td>\n",
              "      <td>16.67</td>\n",
              "      <td>152.20</td>\n",
              "      <td>1575.0</td>\n",
              "      <td>0.1374</td>\n",
              "      <td>0.2050</td>\n",
              "      <td>0.4000</td>\n",
              "      <td>0.1625</td>\n",
              "      <td>0.2364</td>\n",
              "      <td>0.07678</td>\n",
              "      <td>NaN</td>\n",
              "    </tr>\n",
              "  </tbody>\n",
              "</table>\n",
              "<p>5 rows × 33 columns</p>\n",
              "</div>\n",
              "      <button class=\"colab-df-convert\" onclick=\"convertToInteractive('df-77dc1e57-fb45-4b18-bfed-05e81024978f')\"\n",
              "              title=\"Convert this dataframe to an interactive table.\"\n",
              "              style=\"display:none;\">\n",
              "        \n",
              "  <svg xmlns=\"http://www.w3.org/2000/svg\" height=\"24px\"viewBox=\"0 0 24 24\"\n",
              "       width=\"24px\">\n",
              "    <path d=\"M0 0h24v24H0V0z\" fill=\"none\"/>\n",
              "    <path d=\"M18.56 5.44l.94 2.06.94-2.06 2.06-.94-2.06-.94-.94-2.06-.94 2.06-2.06.94zm-11 1L8.5 8.5l.94-2.06 2.06-.94-2.06-.94L8.5 2.5l-.94 2.06-2.06.94zm10 10l.94 2.06.94-2.06 2.06-.94-2.06-.94-.94-2.06-.94 2.06-2.06.94z\"/><path d=\"M17.41 7.96l-1.37-1.37c-.4-.4-.92-.59-1.43-.59-.52 0-1.04.2-1.43.59L10.3 9.45l-7.72 7.72c-.78.78-.78 2.05 0 2.83L4 21.41c.39.39.9.59 1.41.59.51 0 1.02-.2 1.41-.59l7.78-7.78 2.81-2.81c.8-.78.8-2.07 0-2.86zM5.41 20L4 18.59l7.72-7.72 1.47 1.35L5.41 20z\"/>\n",
              "  </svg>\n",
              "      </button>\n",
              "      \n",
              "  <style>\n",
              "    .colab-df-container {\n",
              "      display:flex;\n",
              "      flex-wrap:wrap;\n",
              "      gap: 12px;\n",
              "    }\n",
              "\n",
              "    .colab-df-convert {\n",
              "      background-color: #E8F0FE;\n",
              "      border: none;\n",
              "      border-radius: 50%;\n",
              "      cursor: pointer;\n",
              "      display: none;\n",
              "      fill: #1967D2;\n",
              "      height: 32px;\n",
              "      padding: 0 0 0 0;\n",
              "      width: 32px;\n",
              "    }\n",
              "\n",
              "    .colab-df-convert:hover {\n",
              "      background-color: #E2EBFA;\n",
              "      box-shadow: 0px 1px 2px rgba(60, 64, 67, 0.3), 0px 1px 3px 1px rgba(60, 64, 67, 0.15);\n",
              "      fill: #174EA6;\n",
              "    }\n",
              "\n",
              "    [theme=dark] .colab-df-convert {\n",
              "      background-color: #3B4455;\n",
              "      fill: #D2E3FC;\n",
              "    }\n",
              "\n",
              "    [theme=dark] .colab-df-convert:hover {\n",
              "      background-color: #434B5C;\n",
              "      box-shadow: 0px 1px 3px 1px rgba(0, 0, 0, 0.15);\n",
              "      filter: drop-shadow(0px 1px 2px rgba(0, 0, 0, 0.3));\n",
              "      fill: #FFFFFF;\n",
              "    }\n",
              "  </style>\n",
              "\n",
              "      <script>\n",
              "        const buttonEl =\n",
              "          document.querySelector('#df-77dc1e57-fb45-4b18-bfed-05e81024978f button.colab-df-convert');\n",
              "        buttonEl.style.display =\n",
              "          google.colab.kernel.accessAllowed ? 'block' : 'none';\n",
              "\n",
              "        async function convertToInteractive(key) {\n",
              "          const element = document.querySelector('#df-77dc1e57-fb45-4b18-bfed-05e81024978f');\n",
              "          const dataTable =\n",
              "            await google.colab.kernel.invokeFunction('convertToInteractive',\n",
              "                                                     [key], {});\n",
              "          if (!dataTable) return;\n",
              "\n",
              "          const docLinkHtml = 'Like what you see? Visit the ' +\n",
              "            '<a target=\"_blank\" href=https://colab.research.google.com/notebooks/data_table.ipynb>data table notebook</a>'\n",
              "            + ' to learn more about interactive tables.';\n",
              "          element.innerHTML = '';\n",
              "          dataTable['output_type'] = 'display_data';\n",
              "          await google.colab.output.renderOutput(dataTable, element);\n",
              "          const docLink = document.createElement('div');\n",
              "          docLink.innerHTML = docLinkHtml;\n",
              "          element.appendChild(docLink);\n",
              "        }\n",
              "      </script>\n",
              "    </div>\n",
              "  </div>\n",
              "  "
            ]
          },
          "metadata": {},
          "execution_count": 32
        }
      ]
    },
    {
      "cell_type": "markdown",
      "source": [
        "**Prepara datos para modelar**"
      ],
      "metadata": {
        "id": "hkjGN8CXSNYR"
      }
    },
    {
      "cell_type": "code",
      "source": [
        "# Drop unnecessary column\n",
        "df.drop(columns = 'Unnamed: 32', inplace = True)\n",
        "# Binarize target column\n",
        "df['diagnosis'] = df['diagnosis'].map({'M': 1, 'B': 0})\n",
        "# Save X data\n",
        "X = df.drop(columns = 'diagnosis')\n",
        "# Encode our target\n",
        "y = df['diagnosis']\n",
        "\n"
      ],
      "metadata": {
        "id": "2RMuOCCJvAbg"
      },
      "execution_count": 33,
      "outputs": []
    },
    {
      "cell_type": "markdown",
      "source": [
        "**Separa entre X, y**"
      ],
      "metadata": {
        "id": "V1wv7Lw1SNQx"
      }
    },
    {
      "cell_type": "code",
      "source": [
        "# Train test split\n",
        "X_train, X_test, y_train, y_test = train_test_split(X, y, random_state=3)"
      ],
      "metadata": {
        "id": "rm_Cr1QGVBDl"
      },
      "execution_count": 34,
      "outputs": []
    },
    {
      "cell_type": "markdown",
      "source": [
        "**ajusta y entrena el modelo**"
      ],
      "metadata": {
        "id": "oj-g1UnaZpOs"
      }
    },
    {
      "cell_type": "code",
      "source": [
        "# Instantiate and fit gradient boosting classifier\n",
        "gbc = GradientBoostingClassifier()\n",
        "gbc.fit(X_train, y_train)"
      ],
      "metadata": {
        "colab": {
          "base_uri": "https://localhost:8080/"
        },
        "id": "9EVGc30y2nzL",
        "outputId": "922e1539-969e-49b7-a0ba-724ba7f9ff93"
      },
      "execution_count": 35,
      "outputs": [
        {
          "output_type": "execute_result",
          "data": {
            "text/plain": [
              "GradientBoostingClassifier()"
            ]
          },
          "metadata": {},
          "execution_count": 35
        }
      ]
    },
    {
      "cell_type": "markdown",
      "source": [
        "**Evaluacion del modelo**"
      ],
      "metadata": {
        "id": "AOePt1DfLJ_g"
      }
    },
    {
      "cell_type": "code",
      "source": [
        "print('Training accuracy:', gbc.score(X_train, y_train))\n",
        "print('Testing accuracy:', gbc.score(X_test, y_test))\n",
        "\n"
      ],
      "metadata": {
        "colab": {
          "base_uri": "https://localhost:8080/"
        },
        "id": "IRZMydid5KIb",
        "outputId": "38c52d2f-2c88-49e3-bef7-9b7a77362bec"
      },
      "execution_count": 36,
      "outputs": [
        {
          "output_type": "stream",
          "name": "stdout",
          "text": [
            "Training accuracy: 1.0\n",
            "Testing accuracy: 0.951048951048951\n"
          ]
        }
      ]
    },
    {
      "cell_type": "markdown",
      "source": [
        "# Red Neuronal"
      ],
      "metadata": {
        "id": "zmMx3Q3pfJIw"
      }
    },
    {
      "cell_type": "code",
      "source": [
        "\n",
        "# Save X data\n",
        "X = df.drop(columns = 'diagnosis')\n",
        "# Encode our target\n",
        "y = df['diagnosis']\n",
        "# Train test split\n",
        "X_train, X_test, y_train, y_test = train_test_split(X, y, random_state=3)\n",
        "# Scale our data\n",
        "scaler = StandardScaler()\n",
        "X_train = scaler.fit_transform(X_train)\n",
        "X_test = scaler.transform(X_test)"
      ],
      "metadata": {
        "id": "6n7znqpWfOC2"
      },
      "execution_count": 37,
      "outputs": []
    },
    {
      "cell_type": "markdown",
      "source": [
        "*Revisa cantidad de caracteristicas*"
      ],
      "metadata": {
        "id": "g5t7ZJ4xfmy9"
      }
    },
    {
      "cell_type": "code",
      "source": [
        "input_shape = X_train.shape[1]\n",
        "print('la cantidad de caracteristicas (cols) es:',input_shape)"
      ],
      "metadata": {
        "id": "8WkGageIfqtV",
        "outputId": "a5c6069d-2aef-4a8b-ad9c-e6d77e449bd6",
        "colab": {
          "base_uri": "https://localhost:8080/"
        }
      },
      "execution_count": 38,
      "outputs": [
        {
          "output_type": "stream",
          "name": "stdout",
          "text": [
            "la cantidad de caracteristicas (cols) es: 31\n"
          ]
        }
      ]
    },
    {
      "cell_type": "markdown",
      "source": [
        "*Prepara modelo*"
      ],
      "metadata": {
        "id": "-otBL3i8fxc6"
      }
    },
    {
      "cell_type": "code",
      "source": [
        "model = tf.keras.models.Sequential()\n",
        "model.add(tf.keras.layers.Dense(300, activation='relu')) # Primera capa oculta, salida 300\n",
        "model.add(tf.keras.layers.Dense(100, activation='relu')) # Segunda capa oculta, salida 100\n",
        "model.add(tf.keras.layers.Dense(2, activation='sigmoid')) # Capa de salida, salida 10 (número de clases)"
      ],
      "metadata": {
        "id": "t5iQAUNAfzqR"
      },
      "execution_count": 39,
      "outputs": []
    },
    {
      "cell_type": "markdown",
      "source": [
        "*Inicializa y revisa el modelo recien creado*"
      ],
      "metadata": {
        "id": "Gsh4XqGYf5xn"
      }
    },
    {
      "cell_type": "code",
      "source": [
        "input_shape = X.shape  \n",
        "model.build(input_shape) \n",
        "model.summary()\n",
        "model.compile(loss=\"sparse_categorical_crossentropy\",\n",
        "              optimizer=\"sgd\",\n",
        "              metrics=[\"accuracy\"])"
      ],
      "metadata": {
        "id": "U1nkCNmAf-Ly",
        "outputId": "a344979e-4f2f-4856-860d-d12af21e3a3f",
        "colab": {
          "base_uri": "https://localhost:8080/"
        }
      },
      "execution_count": 40,
      "outputs": [
        {
          "output_type": "stream",
          "name": "stdout",
          "text": [
            "Model: \"sequential_4\"\n",
            "_________________________________________________________________\n",
            " Layer (type)                Output Shape              Param #   \n",
            "=================================================================\n",
            " dense_12 (Dense)            (569, 300)                9600      \n",
            "                                                                 \n",
            " dense_13 (Dense)            (569, 100)                30100     \n",
            "                                                                 \n",
            " dense_14 (Dense)            (569, 2)                  202       \n",
            "                                                                 \n",
            "=================================================================\n",
            "Total params: 39,902\n",
            "Trainable params: 39,902\n",
            "Non-trainable params: 0\n",
            "_________________________________________________________________\n"
          ]
        }
      ]
    },
    {
      "cell_type": "markdown",
      "source": [
        "*Divide datos en training y test*"
      ],
      "metadata": {
        "id": "gkCagvS9gGE-"
      }
    },
    {
      "cell_type": "code",
      "source": [
        "X_train, X_val, y_train, y_val = train_test_split(X_train, y_train, test_size=0.2, \n",
        "                                                  stratify=y_train)"
      ],
      "metadata": {
        "id": "NXG7o0EVgKs0"
      },
      "execution_count": 41,
      "outputs": []
    },
    {
      "cell_type": "markdown",
      "source": [
        "*Entrenamiento del modelo*"
      ],
      "metadata": {
        "id": "CeIoxu9whV5s"
      }
    },
    {
      "cell_type": "code",
      "source": [
        "history = model.fit(X_train, y_train, epochs=30, batch_size=10000,\n",
        "                    validation_data=(X_val, y_val))"
      ],
      "metadata": {
        "id": "kb8v_nWPhcjE",
        "outputId": "bffe50fd-4906-4113-8a96-8551805cd915",
        "colab": {
          "base_uri": "https://localhost:8080/"
        }
      },
      "execution_count": 42,
      "outputs": [
        {
          "output_type": "stream",
          "name": "stdout",
          "text": [
            "Epoch 1/30\n",
            "1/1 [==============================] - 0s 404ms/step - loss: 0.6118 - accuracy: 0.6588 - val_loss: 0.5959 - val_accuracy: 0.7209\n",
            "Epoch 2/30\n",
            "1/1 [==============================] - 0s 32ms/step - loss: 0.5913 - accuracy: 0.6853 - val_loss: 0.5796 - val_accuracy: 0.7442\n",
            "Epoch 3/30\n",
            "1/1 [==============================] - 0s 32ms/step - loss: 0.5725 - accuracy: 0.7353 - val_loss: 0.5645 - val_accuracy: 0.7558\n",
            "Epoch 4/30\n",
            "1/1 [==============================] - 0s 35ms/step - loss: 0.5552 - accuracy: 0.7794 - val_loss: 0.5505 - val_accuracy: 0.7674\n",
            "Epoch 5/30\n",
            "1/1 [==============================] - 0s 36ms/step - loss: 0.5394 - accuracy: 0.7882 - val_loss: 0.5375 - val_accuracy: 0.7907\n",
            "Epoch 6/30\n",
            "1/1 [==============================] - 0s 29ms/step - loss: 0.5247 - accuracy: 0.8059 - val_loss: 0.5253 - val_accuracy: 0.8256\n",
            "Epoch 7/30\n",
            "1/1 [==============================] - 0s 29ms/step - loss: 0.5112 - accuracy: 0.8265 - val_loss: 0.5140 - val_accuracy: 0.8372\n",
            "Epoch 8/30\n",
            "1/1 [==============================] - 0s 28ms/step - loss: 0.4986 - accuracy: 0.8382 - val_loss: 0.5033 - val_accuracy: 0.8488\n",
            "Epoch 9/30\n",
            "1/1 [==============================] - 0s 31ms/step - loss: 0.4868 - accuracy: 0.8529 - val_loss: 0.4933 - val_accuracy: 0.8488\n",
            "Epoch 10/30\n",
            "1/1 [==============================] - 0s 30ms/step - loss: 0.4758 - accuracy: 0.8529 - val_loss: 0.4837 - val_accuracy: 0.8605\n",
            "Epoch 11/30\n",
            "1/1 [==============================] - 0s 30ms/step - loss: 0.4654 - accuracy: 0.8618 - val_loss: 0.4747 - val_accuracy: 0.8721\n",
            "Epoch 12/30\n",
            "1/1 [==============================] - 0s 31ms/step - loss: 0.4556 - accuracy: 0.8735 - val_loss: 0.4662 - val_accuracy: 0.8837\n",
            "Epoch 13/30\n",
            "1/1 [==============================] - 0s 26ms/step - loss: 0.4464 - accuracy: 0.8765 - val_loss: 0.4580 - val_accuracy: 0.8837\n",
            "Epoch 14/30\n",
            "1/1 [==============================] - 0s 30ms/step - loss: 0.4377 - accuracy: 0.8765 - val_loss: 0.4502 - val_accuracy: 0.8953\n",
            "Epoch 15/30\n",
            "1/1 [==============================] - 0s 31ms/step - loss: 0.4294 - accuracy: 0.8824 - val_loss: 0.4427 - val_accuracy: 0.8953\n",
            "Epoch 16/30\n",
            "1/1 [==============================] - 0s 36ms/step - loss: 0.4214 - accuracy: 0.8912 - val_loss: 0.4355 - val_accuracy: 0.8953\n",
            "Epoch 17/30\n",
            "1/1 [==============================] - 0s 32ms/step - loss: 0.4139 - accuracy: 0.8971 - val_loss: 0.4287 - val_accuracy: 0.8953\n",
            "Epoch 18/30\n",
            "1/1 [==============================] - 0s 27ms/step - loss: 0.4067 - accuracy: 0.9029 - val_loss: 0.4220 - val_accuracy: 0.8953\n",
            "Epoch 19/30\n",
            "1/1 [==============================] - 0s 29ms/step - loss: 0.3999 - accuracy: 0.9029 - val_loss: 0.4156 - val_accuracy: 0.8953\n",
            "Epoch 20/30\n",
            "1/1 [==============================] - 0s 33ms/step - loss: 0.3933 - accuracy: 0.9029 - val_loss: 0.4095 - val_accuracy: 0.8953\n",
            "Epoch 21/30\n",
            "1/1 [==============================] - 0s 32ms/step - loss: 0.3870 - accuracy: 0.9059 - val_loss: 0.4036 - val_accuracy: 0.9070\n",
            "Epoch 22/30\n",
            "1/1 [==============================] - 0s 33ms/step - loss: 0.3810 - accuracy: 0.9088 - val_loss: 0.3979 - val_accuracy: 0.9070\n",
            "Epoch 23/30\n",
            "1/1 [==============================] - 0s 31ms/step - loss: 0.3753 - accuracy: 0.9088 - val_loss: 0.3924 - val_accuracy: 0.9070\n",
            "Epoch 24/30\n",
            "1/1 [==============================] - 0s 32ms/step - loss: 0.3697 - accuracy: 0.9088 - val_loss: 0.3871 - val_accuracy: 0.9186\n",
            "Epoch 25/30\n",
            "1/1 [==============================] - 0s 30ms/step - loss: 0.3644 - accuracy: 0.9088 - val_loss: 0.3820 - val_accuracy: 0.9302\n",
            "Epoch 26/30\n",
            "1/1 [==============================] - 0s 37ms/step - loss: 0.3592 - accuracy: 0.9147 - val_loss: 0.3771 - val_accuracy: 0.9302\n",
            "Epoch 27/30\n",
            "1/1 [==============================] - 0s 29ms/step - loss: 0.3543 - accuracy: 0.9147 - val_loss: 0.3723 - val_accuracy: 0.9302\n",
            "Epoch 28/30\n",
            "1/1 [==============================] - 0s 33ms/step - loss: 0.3495 - accuracy: 0.9147 - val_loss: 0.3677 - val_accuracy: 0.9302\n",
            "Epoch 29/30\n",
            "1/1 [==============================] - 0s 31ms/step - loss: 0.3449 - accuracy: 0.9147 - val_loss: 0.3632 - val_accuracy: 0.9302\n",
            "Epoch 30/30\n",
            "1/1 [==============================] - 0s 30ms/step - loss: 0.3405 - accuracy: 0.9176 - val_loss: 0.3589 - val_accuracy: 0.9302\n"
          ]
        }
      ]
    },
    {
      "cell_type": "markdown",
      "source": [
        "*Obtencion de resultados*"
      ],
      "metadata": {
        "id": "Od--zbtzhko0"
      }
    },
    {
      "cell_type": "code",
      "source": [
        "score, acc = model.evaluate(X_test, y_test,\n",
        "                            batch_size=32)\n",
        "print(\"Score:\", score) # Función de pérdida\n",
        "print(\"Accuracy:\", acc)"
      ],
      "metadata": {
        "id": "AZlSVThRhnxi",
        "outputId": "4f297952-dbca-4ff5-825a-7ad7ec2dfebb",
        "colab": {
          "base_uri": "https://localhost:8080/"
        }
      },
      "execution_count": 43,
      "outputs": [
        {
          "output_type": "stream",
          "name": "stdout",
          "text": [
            "5/5 [==============================] - 0s 2ms/step - loss: 0.3354 - accuracy: 0.9231\n",
            "Score: 0.3354101777076721\n",
            "Accuracy: 0.9230769276618958\n"
          ]
        }
      ]
    },
    {
      "cell_type": "markdown",
      "source": [
        "*Nombre de cols*"
      ],
      "metadata": {
        "id": "z3X35d_7hxXe"
      }
    },
    {
      "cell_type": "code",
      "source": [
        "class_names = X.columns\n",
        "class_names"
      ],
      "metadata": {
        "id": "mw6ltxC6hzn_",
        "outputId": "34ce48e4-090d-47c9-fb5b-c75184af3f69",
        "colab": {
          "base_uri": "https://localhost:8080/"
        }
      },
      "execution_count": 44,
      "outputs": [
        {
          "output_type": "execute_result",
          "data": {
            "text/plain": [
              "Index(['id', 'radius_mean', 'texture_mean', 'perimeter_mean', 'area_mean',\n",
              "       'smoothness_mean', 'compactness_mean', 'concavity_mean',\n",
              "       'concave points_mean', 'symmetry_mean', 'fractal_dimension_mean',\n",
              "       'radius_se', 'texture_se', 'perimeter_se', 'area_se', 'smoothness_se',\n",
              "       'compactness_se', 'concavity_se', 'concave points_se', 'symmetry_se',\n",
              "       'fractal_dimension_se', 'radius_worst', 'texture_worst',\n",
              "       'perimeter_worst', 'area_worst', 'smoothness_worst',\n",
              "       'compactness_worst', 'concavity_worst', 'concave points_worst',\n",
              "       'symmetry_worst', 'fractal_dimension_worst'],\n",
              "      dtype='object')"
            ]
          },
          "metadata": {},
          "execution_count": 44
        }
      ]
    },
    {
      "cell_type": "code",
      "source": [
        "dato =132\n",
        "#dato=12\n",
        "prediction = model.predict(X_test)\n",
        "classes_x=np.argmax(prediction,axis=1)\n",
        "print(\"Predicción:\", class_names[classes_x[dato]])\n",
        "print(\"Clase Real:\", class_names[y_test[dato]])"
      ],
      "metadata": {
        "id": "_9OihfuRh2qP",
        "outputId": "c1127376-b6ee-4062-d352-4939b7632a9b",
        "colab": {
          "base_uri": "https://localhost:8080/"
        }
      },
      "execution_count": 60,
      "outputs": [
        {
          "output_type": "stream",
          "name": "stdout",
          "text": [
            "Predicción: radius_mean\n",
            "Clase Real: radius_mean\n"
          ]
        }
      ]
    }
  ]
}