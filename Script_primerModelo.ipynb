{
  "nbformat": 4,
  "nbformat_minor": 0,
  "metadata": {
    "colab": {
      "name": "Untitled23.ipynb",
      "provenance": []
    },
    "kernelspec": {
      "name": "python3",
      "display_name": "Python 3"
    },
    "language_info": {
      "name": "python"
    }
  },
  "cells": [
    {
      "cell_type": "code",
      "execution_count": 32,
      "metadata": {
        "id": "O9kv6QQrdDUO"
      },
      "outputs": [],
      "source": [
        "import pandas as pd\n",
        "import numpy as np\n",
        "from pandas import DataFrame\n",
        "import re\n",
        "import matplotlib.pyplot as plt\n",
        "from sklearn.preprocessing import OrdinalEncoder\n",
        "from sklearn.preprocessing import OneHotEncoder , StandardScaler\n",
        "from sklearn.impute import SimpleImputer\n",
        "from sklearn.model_selection import train_test_split\n",
        "from sklearn.linear_model import LinearRegression\n",
        "from sklearn.metrics import r2_score\n",
        "from sklearn.metrics import mean_absolute_error\n",
        "from sklearn.metrics import mean_squared_error\n",
        "df=pd.read_csv(r'https://raw.githubusercontent.com/Jorge2018/RepositorioArchivos/main/insurance(1).csv')"
      ]
    },
    {
      "cell_type": "code",
      "source": [
        "df"
      ],
      "metadata": {
        "id": "Jaz9u0Xak_DC",
        "outputId": "8614671f-0e13-4e5d-f23c-22683ff6f5bf",
        "colab": {
          "base_uri": "https://localhost:8080/",
          "height": 424
        }
      },
      "execution_count": 33,
      "outputs": [
        {
          "output_type": "execute_result",
          "data": {
            "text/plain": [
              "      age     sex     bmi  children smoker     region      charges\n",
              "0      19  female  27.900         0    yes  southwest  16884.92400\n",
              "1      18    male  33.770         1     no  southeast   1725.55230\n",
              "2      28    male  33.000         3     no  southeast   4449.46200\n",
              "3      33    male  22.705         0     no  northwest  21984.47061\n",
              "4      32    male  28.880         0     no  northwest   3866.85520\n",
              "...   ...     ...     ...       ...    ...        ...          ...\n",
              "1333   50    male  30.970         3     no  northwest  10600.54830\n",
              "1334   18  female  31.920         0     no  northeast   2205.98080\n",
              "1335   18  female  36.850         0     no  southeast   1629.83350\n",
              "1336   21  female  25.800         0     no  southwest   2007.94500\n",
              "1337   61  female  29.070         0    yes  northwest  29141.36030\n",
              "\n",
              "[1338 rows x 7 columns]"
            ],
            "text/html": [
              "\n",
              "  <div id=\"df-414302f9-b063-4452-8f1f-d1c316e99073\">\n",
              "    <div class=\"colab-df-container\">\n",
              "      <div>\n",
              "<style scoped>\n",
              "    .dataframe tbody tr th:only-of-type {\n",
              "        vertical-align: middle;\n",
              "    }\n",
              "\n",
              "    .dataframe tbody tr th {\n",
              "        vertical-align: top;\n",
              "    }\n",
              "\n",
              "    .dataframe thead th {\n",
              "        text-align: right;\n",
              "    }\n",
              "</style>\n",
              "<table border=\"1\" class=\"dataframe\">\n",
              "  <thead>\n",
              "    <tr style=\"text-align: right;\">\n",
              "      <th></th>\n",
              "      <th>age</th>\n",
              "      <th>sex</th>\n",
              "      <th>bmi</th>\n",
              "      <th>children</th>\n",
              "      <th>smoker</th>\n",
              "      <th>region</th>\n",
              "      <th>charges</th>\n",
              "    </tr>\n",
              "  </thead>\n",
              "  <tbody>\n",
              "    <tr>\n",
              "      <th>0</th>\n",
              "      <td>19</td>\n",
              "      <td>female</td>\n",
              "      <td>27.900</td>\n",
              "      <td>0</td>\n",
              "      <td>yes</td>\n",
              "      <td>southwest</td>\n",
              "      <td>16884.92400</td>\n",
              "    </tr>\n",
              "    <tr>\n",
              "      <th>1</th>\n",
              "      <td>18</td>\n",
              "      <td>male</td>\n",
              "      <td>33.770</td>\n",
              "      <td>1</td>\n",
              "      <td>no</td>\n",
              "      <td>southeast</td>\n",
              "      <td>1725.55230</td>\n",
              "    </tr>\n",
              "    <tr>\n",
              "      <th>2</th>\n",
              "      <td>28</td>\n",
              "      <td>male</td>\n",
              "      <td>33.000</td>\n",
              "      <td>3</td>\n",
              "      <td>no</td>\n",
              "      <td>southeast</td>\n",
              "      <td>4449.46200</td>\n",
              "    </tr>\n",
              "    <tr>\n",
              "      <th>3</th>\n",
              "      <td>33</td>\n",
              "      <td>male</td>\n",
              "      <td>22.705</td>\n",
              "      <td>0</td>\n",
              "      <td>no</td>\n",
              "      <td>northwest</td>\n",
              "      <td>21984.47061</td>\n",
              "    </tr>\n",
              "    <tr>\n",
              "      <th>4</th>\n",
              "      <td>32</td>\n",
              "      <td>male</td>\n",
              "      <td>28.880</td>\n",
              "      <td>0</td>\n",
              "      <td>no</td>\n",
              "      <td>northwest</td>\n",
              "      <td>3866.85520</td>\n",
              "    </tr>\n",
              "    <tr>\n",
              "      <th>...</th>\n",
              "      <td>...</td>\n",
              "      <td>...</td>\n",
              "      <td>...</td>\n",
              "      <td>...</td>\n",
              "      <td>...</td>\n",
              "      <td>...</td>\n",
              "      <td>...</td>\n",
              "    </tr>\n",
              "    <tr>\n",
              "      <th>1333</th>\n",
              "      <td>50</td>\n",
              "      <td>male</td>\n",
              "      <td>30.970</td>\n",
              "      <td>3</td>\n",
              "      <td>no</td>\n",
              "      <td>northwest</td>\n",
              "      <td>10600.54830</td>\n",
              "    </tr>\n",
              "    <tr>\n",
              "      <th>1334</th>\n",
              "      <td>18</td>\n",
              "      <td>female</td>\n",
              "      <td>31.920</td>\n",
              "      <td>0</td>\n",
              "      <td>no</td>\n",
              "      <td>northeast</td>\n",
              "      <td>2205.98080</td>\n",
              "    </tr>\n",
              "    <tr>\n",
              "      <th>1335</th>\n",
              "      <td>18</td>\n",
              "      <td>female</td>\n",
              "      <td>36.850</td>\n",
              "      <td>0</td>\n",
              "      <td>no</td>\n",
              "      <td>southeast</td>\n",
              "      <td>1629.83350</td>\n",
              "    </tr>\n",
              "    <tr>\n",
              "      <th>1336</th>\n",
              "      <td>21</td>\n",
              "      <td>female</td>\n",
              "      <td>25.800</td>\n",
              "      <td>0</td>\n",
              "      <td>no</td>\n",
              "      <td>southwest</td>\n",
              "      <td>2007.94500</td>\n",
              "    </tr>\n",
              "    <tr>\n",
              "      <th>1337</th>\n",
              "      <td>61</td>\n",
              "      <td>female</td>\n",
              "      <td>29.070</td>\n",
              "      <td>0</td>\n",
              "      <td>yes</td>\n",
              "      <td>northwest</td>\n",
              "      <td>29141.36030</td>\n",
              "    </tr>\n",
              "  </tbody>\n",
              "</table>\n",
              "<p>1338 rows × 7 columns</p>\n",
              "</div>\n",
              "      <button class=\"colab-df-convert\" onclick=\"convertToInteractive('df-414302f9-b063-4452-8f1f-d1c316e99073')\"\n",
              "              title=\"Convert this dataframe to an interactive table.\"\n",
              "              style=\"display:none;\">\n",
              "        \n",
              "  <svg xmlns=\"http://www.w3.org/2000/svg\" height=\"24px\"viewBox=\"0 0 24 24\"\n",
              "       width=\"24px\">\n",
              "    <path d=\"M0 0h24v24H0V0z\" fill=\"none\"/>\n",
              "    <path d=\"M18.56 5.44l.94 2.06.94-2.06 2.06-.94-2.06-.94-.94-2.06-.94 2.06-2.06.94zm-11 1L8.5 8.5l.94-2.06 2.06-.94-2.06-.94L8.5 2.5l-.94 2.06-2.06.94zm10 10l.94 2.06.94-2.06 2.06-.94-2.06-.94-.94-2.06-.94 2.06-2.06.94z\"/><path d=\"M17.41 7.96l-1.37-1.37c-.4-.4-.92-.59-1.43-.59-.52 0-1.04.2-1.43.59L10.3 9.45l-7.72 7.72c-.78.78-.78 2.05 0 2.83L4 21.41c.39.39.9.59 1.41.59.51 0 1.02-.2 1.41-.59l7.78-7.78 2.81-2.81c.8-.78.8-2.07 0-2.86zM5.41 20L4 18.59l7.72-7.72 1.47 1.35L5.41 20z\"/>\n",
              "  </svg>\n",
              "      </button>\n",
              "      \n",
              "  <style>\n",
              "    .colab-df-container {\n",
              "      display:flex;\n",
              "      flex-wrap:wrap;\n",
              "      gap: 12px;\n",
              "    }\n",
              "\n",
              "    .colab-df-convert {\n",
              "      background-color: #E8F0FE;\n",
              "      border: none;\n",
              "      border-radius: 50%;\n",
              "      cursor: pointer;\n",
              "      display: none;\n",
              "      fill: #1967D2;\n",
              "      height: 32px;\n",
              "      padding: 0 0 0 0;\n",
              "      width: 32px;\n",
              "    }\n",
              "\n",
              "    .colab-df-convert:hover {\n",
              "      background-color: #E2EBFA;\n",
              "      box-shadow: 0px 1px 2px rgba(60, 64, 67, 0.3), 0px 1px 3px 1px rgba(60, 64, 67, 0.15);\n",
              "      fill: #174EA6;\n",
              "    }\n",
              "\n",
              "    [theme=dark] .colab-df-convert {\n",
              "      background-color: #3B4455;\n",
              "      fill: #D2E3FC;\n",
              "    }\n",
              "\n",
              "    [theme=dark] .colab-df-convert:hover {\n",
              "      background-color: #434B5C;\n",
              "      box-shadow: 0px 1px 3px 1px rgba(0, 0, 0, 0.15);\n",
              "      filter: drop-shadow(0px 1px 2px rgba(0, 0, 0, 0.3));\n",
              "      fill: #FFFFFF;\n",
              "    }\n",
              "  </style>\n",
              "\n",
              "      <script>\n",
              "        const buttonEl =\n",
              "          document.querySelector('#df-414302f9-b063-4452-8f1f-d1c316e99073 button.colab-df-convert');\n",
              "        buttonEl.style.display =\n",
              "          google.colab.kernel.accessAllowed ? 'block' : 'none';\n",
              "\n",
              "        async function convertToInteractive(key) {\n",
              "          const element = document.querySelector('#df-414302f9-b063-4452-8f1f-d1c316e99073');\n",
              "          const dataTable =\n",
              "            await google.colab.kernel.invokeFunction('convertToInteractive',\n",
              "                                                     [key], {});\n",
              "          if (!dataTable) return;\n",
              "\n",
              "          const docLinkHtml = 'Like what you see? Visit the ' +\n",
              "            '<a target=\"_blank\" href=https://colab.research.google.com/notebooks/data_table.ipynb>data table notebook</a>'\n",
              "            + ' to learn more about interactive tables.';\n",
              "          element.innerHTML = '';\n",
              "          dataTable['output_type'] = 'display_data';\n",
              "          await google.colab.output.renderOutput(dataTable, element);\n",
              "          const docLink = document.createElement('div');\n",
              "          docLink.innerHTML = docLinkHtml;\n",
              "          element.appendChild(docLink);\n",
              "        }\n",
              "      </script>\n",
              "    </div>\n",
              "  </div>\n",
              "  "
            ]
          },
          "metadata": {},
          "execution_count": 33
        }
      ]
    },
    {
      "cell_type": "markdown",
      "source": [
        "**Exploracion de datos**"
      ],
      "metadata": {
        "id": "-KSF7JyViwaV"
      }
    },
    {
      "cell_type": "code",
      "source": [
        "df.info()"
      ],
      "metadata": {
        "colab": {
          "base_uri": "https://localhost:8080/"
        },
        "id": "bd8F77Ludnro",
        "outputId": "3dc59b18-8125-4514-efe0-8c80fb5b33ed"
      },
      "execution_count": 34,
      "outputs": [
        {
          "output_type": "stream",
          "name": "stdout",
          "text": [
            "<class 'pandas.core.frame.DataFrame'>\n",
            "RangeIndex: 1338 entries, 0 to 1337\n",
            "Data columns (total 7 columns):\n",
            " #   Column    Non-Null Count  Dtype  \n",
            "---  ------    --------------  -----  \n",
            " 0   age       1338 non-null   int64  \n",
            " 1   sex       1338 non-null   object \n",
            " 2   bmi       1338 non-null   float64\n",
            " 3   children  1338 non-null   int64  \n",
            " 4   smoker    1338 non-null   object \n",
            " 5   region    1338 non-null   object \n",
            " 6   charges   1338 non-null   float64\n",
            "dtypes: float64(2), int64(2), object(3)\n",
            "memory usage: 73.3+ KB\n"
          ]
        }
      ]
    },
    {
      "cell_type": "markdown",
      "source": [
        "**Separacion de df (num y cat) para luego resumir las cols y el tipo de dato**"
      ],
      "metadata": {
        "id": "WamPV6HKi4UK"
      }
    },
    {
      "cell_type": "code",
      "source": [
        "######################## Crea df numerico y categorico\n",
        "df_num=df.select_dtypes(include=['float64', 'int64'])\n",
        "df_cat=df.select_dtypes(exclude=['float64', 'int64'])\n",
        "columns = list(df_num.columns)\n",
        "for idx, column in enumerate(columns):\n",
        "  print(f'la columna {column}, es numerica')\n",
        "columns = list(df_cat.columns)\n",
        "for idx, column in enumerate(columns):\n",
        "  print(f'la columna {column}, es categorica')"
      ],
      "metadata": {
        "colab": {
          "base_uri": "https://localhost:8080/"
        },
        "id": "kiCuEziYfWlv",
        "outputId": "be22af77-7950-4c13-a956-0ec082c7cb05"
      },
      "execution_count": 35,
      "outputs": [
        {
          "output_type": "stream",
          "name": "stdout",
          "text": [
            "la columna age, es numerica\n",
            "la columna bmi, es numerica\n",
            "la columna children, es numerica\n",
            "la columna charges, es numerica\n",
            "la columna sex, es categorica\n",
            "la columna smoker, es categorica\n",
            "la columna region, es categorica\n"
          ]
        }
      ]
    },
    {
      "cell_type": "markdown",
      "source": [
        "**Manejo de nan con SimpleImputer en los datos num, reemplaza con la mediana, escalamiento de valores numericos (StandarScaler)**"
      ],
      "metadata": {
        "id": "ap2bBRO5ogE_"
      }
    },
    {
      "cell_type": "code",
      "source": [
        "######################## manejo de valores nulos y escalamiento de valores num\n",
        "imputer = SimpleImputer(strategy=\"median\")\n",
        "imputer.fit(df_num)\n",
        "print(imputer.statistics_) # valores de mediana por cada columna numérica\n",
        "df_tr = pd.DataFrame(imputer.transform(df_num), columns=df_num.columns, index=df_num.index)\n",
        "#df_tr.info() # Valores nulos reemplazados\n",
        "\n",
        "############################## escalamiento de valores num\n",
        "scaler = StandardScaler() # Creación de objeto StandardScaler\n",
        "scaler.fit(df_tr) # Cálculo de parámetros de escalamiento\n",
        "price_scaled = scaler.transform(df_tr) # Transformación de los datos\n",
        "print('Media de los datos', scaler.mean_)\n",
        "print('Varianza de los datos', scaler.var_)"
      ],
      "metadata": {
        "id": "ufXGFWC4iYC2",
        "outputId": "7052bc52-4fcc-4012-ff4d-264b9c956bd8",
        "colab": {
          "base_uri": "https://localhost:8080/"
        }
      },
      "execution_count": 36,
      "outputs": [
        {
          "output_type": "stream",
          "name": "stdout",
          "text": [
            "[3.900000e+01 3.040000e+01 1.000000e+00 9.382033e+03]\n",
            "Media de los datos [3.92070254e+01 3.06633969e+01 1.09491779e+00 1.32704223e+04]\n",
            "Varianza de los datos [1.97253852e+02 3.71600900e+01 1.45212664e+00 1.46542766e+08]\n"
          ]
        }
      ]
    },
    {
      "cell_type": "markdown",
      "source": [
        "**Tratamiento de datos nominales con OneHotEncoder**"
      ],
      "metadata": {
        "id": "HGVCMnXIpVh0"
      }
    },
    {
      "cell_type": "code",
      "source": [
        "###################################### codificacion one-hot de las características nominales\n",
        "one_hot_encoder = OneHotEncoder(handle_unknown='ignore')\n",
        "results = one_hot_encoder.fit_transform(df_cat)\n",
        "df_encoded = pd.DataFrame.sparse.from_spmatrix(results)\n",
        "df_encoded.columns = one_hot_encoder.get_feature_names(df_cat.columns)\n"
      ],
      "metadata": {
        "id": "iqDqdz80e342",
        "outputId": "176dbf29-303c-480c-f235-ecfd30cbe621",
        "colab": {
          "base_uri": "https://localhost:8080/"
        }
      },
      "execution_count": 26,
      "outputs": [
        {
          "output_type": "stream",
          "name": "stderr",
          "text": [
            "/usr/local/lib/python3.7/dist-packages/sklearn/utils/deprecation.py:87: FutureWarning: Function get_feature_names is deprecated; get_feature_names is deprecated in 1.0 and will be removed in 1.2. Please use get_feature_names_out instead.\n",
            "  warnings.warn(msg, category=FutureWarning)\n"
          ]
        }
      ]
    },
    {
      "cell_type": "markdown",
      "source": [
        "**Actualizacion (creacion) del df con los valores ya convertidos**"
      ],
      "metadata": {
        "id": "kwOvet0qw-uH"
      }
    },
    {
      "cell_type": "code",
      "source": [
        "#Concatenar todas las características de vuelta a un DataFrame.\n",
        "\n",
        "df = pd.concat([df_tr, df_encoded], axis=1)"
      ],
      "metadata": {
        "id": "lV1vsMbbgmX5"
      },
      "execution_count": 27,
      "outputs": []
    },
    {
      "cell_type": "markdown",
      "source": [
        "**Define caracteristicas X y**"
      ],
      "metadata": {
        "id": "mnuMMDIKjWlW"
      }
    },
    {
      "cell_type": "code",
      "source": [
        "# Definir las características (X) y el objetivo (y)\n",
        "X = df.drop([\"charges\"], axis=1)\n",
        "y = df[\"charges\"]"
      ],
      "metadata": {
        "id": "O5KIJ24Kj5Yo"
      },
      "execution_count": 28,
      "outputs": []
    },
    {
      "cell_type": "markdown",
      "source": [
        "**Realiza train test split y muestra los datos de entrenamiento y test**"
      ],
      "metadata": {
        "id": "UvCjbSl1xltG"
      }
    },
    {
      "cell_type": "code",
      "source": [
        "X_train, X_test, y_train, y_test = train_test_split(X, y, test_size=0.2, random_state=42)\n",
        "print(X_train.info()) # Set de características de datos de training\n",
        "print('______________________________________________________________')\n",
        "print('')\n",
        "print('')\n",
        "print(X_test.info()) # Set de características de datos de test"
      ],
      "metadata": {
        "id": "czaMFetwj_MQ",
        "outputId": "82de32e9-322d-4000-a7a6-d1a4be0d9d6b",
        "colab": {
          "base_uri": "https://localhost:8080/"
        }
      },
      "execution_count": 29,
      "outputs": [
        {
          "output_type": "stream",
          "name": "stdout",
          "text": [
            "<class 'pandas.core.frame.DataFrame'>\n",
            "Int64Index: 1070 entries, 560 to 1126\n",
            "Data columns (total 11 columns):\n",
            " #   Column            Non-Null Count  Dtype             \n",
            "---  ------            --------------  -----             \n",
            " 0   age               1070 non-null   float64           \n",
            " 1   bmi               1070 non-null   float64           \n",
            " 2   children          1070 non-null   float64           \n",
            " 3   sex_female        1070 non-null   Sparse[float64, 0]\n",
            " 4   sex_male          1070 non-null   Sparse[float64, 0]\n",
            " 5   smoker_no         1070 non-null   Sparse[float64, 0]\n",
            " 6   smoker_yes        1070 non-null   Sparse[float64, 0]\n",
            " 7   region_northeast  1070 non-null   Sparse[float64, 0]\n",
            " 8   region_northwest  1070 non-null   Sparse[float64, 0]\n",
            " 9   region_southeast  1070 non-null   Sparse[float64, 0]\n",
            " 10  region_southwest  1070 non-null   Sparse[float64, 0]\n",
            "dtypes: Sparse[float64, 0](8), float64(3)\n",
            "memory usage: 71.1 KB\n",
            "None\n",
            "______________________________________________________________\n",
            "\n",
            "\n",
            "<class 'pandas.core.frame.DataFrame'>\n",
            "Int64Index: 268 entries, 764 to 846\n",
            "Data columns (total 11 columns):\n",
            " #   Column            Non-Null Count  Dtype             \n",
            "---  ------            --------------  -----             \n",
            " 0   age               268 non-null    float64           \n",
            " 1   bmi               268 non-null    float64           \n",
            " 2   children          268 non-null    float64           \n",
            " 3   sex_female        268 non-null    Sparse[float64, 0]\n",
            " 4   sex_male          268 non-null    Sparse[float64, 0]\n",
            " 5   smoker_no         268 non-null    Sparse[float64, 0]\n",
            " 6   smoker_yes        268 non-null    Sparse[float64, 0]\n",
            " 7   region_northeast  268 non-null    Sparse[float64, 0]\n",
            " 8   region_northwest  268 non-null    Sparse[float64, 0]\n",
            " 9   region_southeast  268 non-null    Sparse[float64, 0]\n",
            " 10  region_southwest  268 non-null    Sparse[float64, 0]\n",
            "dtypes: Sparse[float64, 0](8), float64(3)\n",
            "memory usage: 17.8 KB\n",
            "None\n"
          ]
        }
      ]
    },
    {
      "cell_type": "markdown",
      "source": [
        "**Instancia y ajusta el modelo de regresion lineal a los datos de entrenamiento**"
      ],
      "metadata": {
        "id": "B1hJRto3yAnA"
      }
    },
    {
      "cell_type": "code",
      "source": [
        "# Make a linear regression instance\n",
        "reg = LinearRegression()\n",
        "reg.fit(X_train,y_train)"
      ],
      "metadata": {
        "id": "fouR5KXbx93I",
        "outputId": "b9e16b7f-fe89-4d6c-b1a3-c4c9c348c788",
        "colab": {
          "base_uri": "https://localhost:8080/"
        }
      },
      "execution_count": 30,
      "outputs": [
        {
          "output_type": "stream",
          "name": "stderr",
          "text": [
            "/usr/local/lib/python3.7/dist-packages/sklearn/utils/validation.py:625: UserWarning: pandas.DataFrame with sparse columns found.It will be converted to a dense numpy array.\n",
            "  \"pandas.DataFrame with sparse columns found.\"\n"
          ]
        },
        {
          "output_type": "execute_result",
          "data": {
            "text/plain": [
              "LinearRegression()"
            ]
          },
          "metadata": {},
          "execution_count": 30
        }
      ]
    },
    {
      "cell_type": "markdown",
      "source": [
        "**Codigo para obtener el R cuadrado (R^2), despues de realizado el ajuste sobre los datos de entrenamiento**"
      ],
      "metadata": {
        "id": "3XTg3o8mye0F"
      }
    },
    {
      "cell_type": "code",
      "source": [
        "train_score = reg.score(X_train, y_train)\n",
        "print(train_score)"
      ],
      "metadata": {
        "id": "Ja-dN47MyXkh",
        "outputId": "c5a5914e-e594-4a5f-b4ea-03b84ff8d345",
        "colab": {
          "base_uri": "https://localhost:8080/"
        }
      },
      "execution_count": 31,
      "outputs": [
        {
          "output_type": "stream",
          "name": "stdout",
          "text": [
            "0.7417255854683333\n"
          ]
        },
        {
          "output_type": "stream",
          "name": "stderr",
          "text": [
            "/usr/local/lib/python3.7/dist-packages/sklearn/utils/validation.py:625: UserWarning: pandas.DataFrame with sparse columns found.It will be converted to a dense numpy array.\n",
            "  \"pandas.DataFrame with sparse columns found.\"\n"
          ]
        }
      ]
    }
  ]
}