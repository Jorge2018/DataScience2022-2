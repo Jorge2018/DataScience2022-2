{
  "nbformat": 4,
  "nbformat_minor": 0,
  "metadata": {
    "colab": {
      "name": "Untitled23.ipynb",
      "provenance": [],
      "authorship_tag": "ABX9TyOkFmsHF/xUgVwYwOIIlIyP",
      "include_colab_link": true
    },
    "kernelspec": {
      "name": "python3",
      "display_name": "Python 3"
    },
    "language_info": {
      "name": "python"
    }
  },
  "cells": [
    {
      "cell_type": "markdown",
      "metadata": {
        "id": "view-in-github",
        "colab_type": "text"
      },
      "source": [
        "<a href=\"https://colab.research.google.com/github/Jorge2018/DataScience2022-2/blob/main/Script_procesamiento.ipynb\" target=\"_parent\"><img src=\"https://colab.research.google.com/assets/colab-badge.svg\" alt=\"Open In Colab\"/></a>"
      ]
    },
    {
      "cell_type": "code",
      "execution_count": 87,
      "metadata": {
        "id": "O9kv6QQrdDUO"
      },
      "outputs": [],
      "source": [
        "import pandas as pd\n",
        "import numpy as np\n",
        "from pandas import DataFrame\n",
        "import re\n",
        "import matplotlib.pyplot as plt\n",
        "from sklearn.preprocessing import OrdinalEncoder\n",
        "from sklearn.preprocessing import OneHotEncoder\n",
        "from sklearn.impute import SimpleImputer\n",
        "from sklearn.model_selection import train_test_split\n",
        "df=pd.read_csv(r'https://raw.githubusercontent.com/Jorge2018/DataScience2022-2/main/insurance.csv')"
      ]
    },
    {
      "cell_type": "code",
      "source": [
        "df.info()"
      ],
      "metadata": {
        "colab": {
          "base_uri": "https://localhost:8080/"
        },
        "id": "bd8F77Ludnro",
        "outputId": "7031171c-650e-45a0-dc60-3d5546fa933e"
      },
      "execution_count": 88,
      "outputs": [
        {
          "output_type": "stream",
          "name": "stdout",
          "text": [
            "<class 'pandas.core.frame.DataFrame'>\n",
            "RangeIndex: 1338 entries, 0 to 1337\n",
            "Data columns (total 7 columns):\n",
            " #   Column    Non-Null Count  Dtype  \n",
            "---  ------    --------------  -----  \n",
            " 0   age       1338 non-null   int64  \n",
            " 1   sex       1338 non-null   object \n",
            " 2   bmi       1338 non-null   float64\n",
            " 3   children  1338 non-null   int64  \n",
            " 4   smoker    1338 non-null   object \n",
            " 5   region    1338 non-null   object \n",
            " 6   charges   1338 non-null   float64\n",
            "dtypes: float64(2), int64(2), object(3)\n",
            "memory usage: 73.3+ KB\n"
          ]
        }
      ]
    },
    {
      "cell_type": "code",
      "source": [
        "######################## Crea df numerico y categorico\n",
        "df_num=df.select_dtypes(include=['float64', 'int64'])\n",
        "df_cat=df.select_dtypes(exclude=['float64', 'int64'])\n",
        "columns = list(df_num.columns)\n",
        "for idx, column in enumerate(columns):\n",
        "  print(f'la columna {column}, es numerica')\n",
        "columns = list(df_cat.columns)\n",
        "for idx, column in enumerate(columns):\n",
        "  print(f'la columna {column}, es categorica')"
      ],
      "metadata": {
        "colab": {
          "base_uri": "https://localhost:8080/"
        },
        "id": "kiCuEziYfWlv",
        "outputId": "aeacc596-0345-4704-a574-c509038f7092"
      },
      "execution_count": 89,
      "outputs": [
        {
          "output_type": "stream",
          "name": "stdout",
          "text": [
            "la columna age, es numerica\n",
            "la columna bmi, es numerica\n",
            "la columna children, es numerica\n",
            "la columna charges, es numerica\n",
            "la columna sex, es categorica\n",
            "la columna smoker, es categorica\n",
            "la columna region, es categorica\n"
          ]
        }
      ]
    },
    {
      "cell_type": "code",
      "source": [
        "######################## manejo de valores nulos y escalamiento de valores num\n",
        "imputer = SimpleImputer(strategy=\"median\")\n",
        "imputer.fit(df_num)\n",
        "print(imputer.statistics_) # valores de mediana por cada columna numérica\n",
        "df_tr = pd.DataFrame(imputer.transform(df_num), columns=df_num.columns, index=df_num.index)\n",
        "df_tr.info() # Valores nulos reemplazados\n",
        "\n"
      ],
      "metadata": {
        "id": "ufXGFWC4iYC2",
        "outputId": "b3fc41a2-d18f-49f3-d610-f6806dfa17b1",
        "colab": {
          "base_uri": "https://localhost:8080/"
        }
      },
      "execution_count": 90,
      "outputs": [
        {
          "output_type": "stream",
          "name": "stdout",
          "text": [
            "[3.900000e+01 3.040000e+01 1.000000e+00 9.382033e+03]\n",
            "<class 'pandas.core.frame.DataFrame'>\n",
            "RangeIndex: 1338 entries, 0 to 1337\n",
            "Data columns (total 4 columns):\n",
            " #   Column    Non-Null Count  Dtype  \n",
            "---  ------    --------------  -----  \n",
            " 0   age       1338 non-null   float64\n",
            " 1   bmi       1338 non-null   float64\n",
            " 2   children  1338 non-null   float64\n",
            " 3   charges   1338 non-null   float64\n",
            "dtypes: float64(4)\n",
            "memory usage: 41.9 KB\n"
          ]
        }
      ]
    },
    {
      "cell_type": "code",
      "source": [
        "###################################### codificacion one-hot de las características nominales\n",
        "one_hot_encoder = OneHotEncoder(handle_unknown='ignore')\n",
        "results = one_hot_encoder.fit_transform(df_cat)\n",
        "df_encoded = pd.DataFrame.sparse.from_spmatrix(results)\n",
        "df_encoded.columns = one_hot_encoder.get_feature_names(df_cat.columns)\n"
      ],
      "metadata": {
        "id": "iqDqdz80e342",
        "outputId": "f45b8eec-0291-4b89-bb6f-706e201a42d6",
        "colab": {
          "base_uri": "https://localhost:8080/"
        }
      },
      "execution_count": 91,
      "outputs": [
        {
          "output_type": "stream",
          "name": "stderr",
          "text": [
            "/usr/local/lib/python3.7/dist-packages/sklearn/utils/deprecation.py:87: FutureWarning: Function get_feature_names is deprecated; get_feature_names is deprecated in 1.0 and will be removed in 1.2. Please use get_feature_names_out instead.\n",
            "  warnings.warn(msg, category=FutureWarning)\n"
          ]
        }
      ]
    },
    {
      "cell_type": "code",
      "source": [
        "#Concatenar todas las características de vuelta a un DataFrame.\n",
        "\n",
        "df = pd.concat([df_tr, df_encoded], axis=1)"
      ],
      "metadata": {
        "id": "lV1vsMbbgmX5"
      },
      "execution_count": 92,
      "outputs": []
    },
    {
      "cell_type": "code",
      "source": [
        "# Definir las características (X) y el objetivo (y)\n",
        "X = df.drop([\"charges\"], axis=1)\n",
        "y = df[\"charges\"]\n"
      ],
      "metadata": {
        "id": "O5KIJ24Kj5Yo"
      },
      "execution_count": 93,
      "outputs": []
    },
    {
      "cell_type": "code",
      "source": [
        "X_train, X_test, y_train, y_test = train_test_split(X, y, test_size=0.2, random_state=42)\n",
        "print(X_train.info()) # Set de características de datos de training\n",
        "print('______________________________________________________________')\n",
        "print('')\n",
        "print('')\n",
        "print(X_test.info()) # Set de características de datos de test"
      ],
      "metadata": {
        "id": "czaMFetwj_MQ",
        "outputId": "1ec26a72-3a93-43bc-e6cc-ec0ffa6be84e",
        "colab": {
          "base_uri": "https://localhost:8080/"
        }
      },
      "execution_count": 94,
      "outputs": [
        {
          "output_type": "stream",
          "name": "stdout",
          "text": [
            "<class 'pandas.core.frame.DataFrame'>\n",
            "Int64Index: 1070 entries, 560 to 1126\n",
            "Data columns (total 11 columns):\n",
            " #   Column            Non-Null Count  Dtype             \n",
            "---  ------            --------------  -----             \n",
            " 0   age               1070 non-null   float64           \n",
            " 1   bmi               1070 non-null   float64           \n",
            " 2   children          1070 non-null   float64           \n",
            " 3   sex_female        1070 non-null   Sparse[float64, 0]\n",
            " 4   sex_male          1070 non-null   Sparse[float64, 0]\n",
            " 5   smoker_no         1070 non-null   Sparse[float64, 0]\n",
            " 6   smoker_yes        1070 non-null   Sparse[float64, 0]\n",
            " 7   region_northeast  1070 non-null   Sparse[float64, 0]\n",
            " 8   region_northwest  1070 non-null   Sparse[float64, 0]\n",
            " 9   region_southeast  1070 non-null   Sparse[float64, 0]\n",
            " 10  region_southwest  1070 non-null   Sparse[float64, 0]\n",
            "dtypes: Sparse[float64, 0](8), float64(3)\n",
            "memory usage: 71.1 KB\n",
            "None\n",
            "______________________________________________________________\n",
            "\n",
            "\n",
            "<class 'pandas.core.frame.DataFrame'>\n",
            "Int64Index: 268 entries, 764 to 846\n",
            "Data columns (total 11 columns):\n",
            " #   Column            Non-Null Count  Dtype             \n",
            "---  ------            --------------  -----             \n",
            " 0   age               268 non-null    float64           \n",
            " 1   bmi               268 non-null    float64           \n",
            " 2   children          268 non-null    float64           \n",
            " 3   sex_female        268 non-null    Sparse[float64, 0]\n",
            " 4   sex_male          268 non-null    Sparse[float64, 0]\n",
            " 5   smoker_no         268 non-null    Sparse[float64, 0]\n",
            " 6   smoker_yes        268 non-null    Sparse[float64, 0]\n",
            " 7   region_northeast  268 non-null    Sparse[float64, 0]\n",
            " 8   region_northwest  268 non-null    Sparse[float64, 0]\n",
            " 9   region_southeast  268 non-null    Sparse[float64, 0]\n",
            " 10  region_southwest  268 non-null    Sparse[float64, 0]\n",
            "dtypes: Sparse[float64, 0](8), float64(3)\n",
            "memory usage: 17.8 KB\n",
            "None\n"
          ]
        }
      ]
    }
  ]
}