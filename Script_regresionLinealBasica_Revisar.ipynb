{
  "nbformat": 4,
  "nbformat_minor": 0,
  "metadata": {
    "colab": {
      "name": "Untitled26.ipynb",
      "provenance": [],
      "authorship_tag": "ABX9TyNqkQ956XJ1cjZUJFksRWwD",
      "include_colab_link": true
    },
    "kernelspec": {
      "name": "python3",
      "display_name": "Python 3"
    },
    "language_info": {
      "name": "python"
    }
  },
  "cells": [
    {
      "cell_type": "markdown",
      "metadata": {
        "id": "view-in-github",
        "colab_type": "text"
      },
      "source": [
        "<a href=\"https://colab.research.google.com/github/Jorge2018/DataScience2022-2/blob/main/Script_regresionLinealBasica_Revisar.ipynb\" target=\"_parent\"><img src=\"https://colab.research.google.com/assets/colab-badge.svg\" alt=\"Open In Colab\"/></a>"
      ]
    },
    {
      "cell_type": "code",
      "source": [
        "import pandas as pd\n",
        "import numpy as np\n",
        "from pandas import DataFrame\n",
        "import re\n",
        "import matplotlib.pyplot as plt\n",
        "from sklearn.preprocessing import OrdinalEncoder\n",
        "from sklearn.preprocessing import OneHotEncoder, StandardScaler\n",
        "from sklearn.impute import SimpleImputer\n",
        "from sklearn.compose import make_column_selector, make_column_transformer\n",
        "from sklearn.preprocessing import StandardScaler\n",
        "from sklearn.model_selection import train_test_split\n",
        "from sklearn.linear_model import LinearRegression\n",
        "from sklearn.metrics import r2_score\n",
        "from sklearn.metrics import mean_absolute_error\n",
        "from sklearn.metrics import mean_squared_error\n",
        "df=pd.read_csv(r'https://raw.githubusercontent.com/Jorge2018/RepositorioArchivos/main/diabetes.csv')\n",
        "\n",
        "\n",
        "\n"
      ],
      "metadata": {
        "id": "fWrD-sddQoEs"
      },
      "execution_count": 23,
      "outputs": []
    },
    {
      "cell_type": "code",
      "source": [
        "df.info()"
      ],
      "metadata": {
        "colab": {
          "base_uri": "https://localhost:8080/"
        },
        "id": "t8Ksx_ffv7Jk",
        "outputId": "2618784a-fadc-4cbd-a265-6321877ab0b5"
      },
      "execution_count": 24,
      "outputs": [
        {
          "output_type": "stream",
          "name": "stdout",
          "text": [
            "<class 'pandas.core.frame.DataFrame'>\n",
            "RangeIndex: 768 entries, 0 to 767\n",
            "Data columns (total 9 columns):\n",
            " #   Column                    Non-Null Count  Dtype  \n",
            "---  ------                    --------------  -----  \n",
            " 0   Pregnancies               768 non-null    int64  \n",
            " 1   Glucose                   768 non-null    int64  \n",
            " 2   BloodPressure             768 non-null    int64  \n",
            " 3   SkinThickness             768 non-null    int64  \n",
            " 4   Insulin                   768 non-null    int64  \n",
            " 5   BMI                       768 non-null    float64\n",
            " 6   DiabetesPedigreeFunction  768 non-null    float64\n",
            " 7   Age                       768 non-null    int64  \n",
            " 8   Outcome                   768 non-null    int64  \n",
            "dtypes: float64(2), int64(7)\n",
            "memory usage: 54.1 KB\n"
          ]
        }
      ]
    },
    {
      "cell_type": "markdown",
      "source": [
        "**Exploracion de datos**"
      ],
      "metadata": {
        "id": "XdBUF7tWdh2S"
      }
    },
    {
      "cell_type": "code",
      "source": [
        "df.describe()"
      ],
      "metadata": {
        "colab": {
          "base_uri": "https://localhost:8080/",
          "height": 300
        },
        "id": "ccl2WVYJ5Hg9",
        "outputId": "8985cdc2-cd41-4ed7-f99e-2f10da233dd1"
      },
      "execution_count": 25,
      "outputs": [
        {
          "output_type": "execute_result",
          "data": {
            "text/plain": [
              "       Pregnancies     Glucose  BloodPressure  SkinThickness     Insulin  \\\n",
              "count   768.000000  768.000000     768.000000     768.000000  768.000000   \n",
              "mean      3.845052  120.894531      69.105469      20.536458   79.799479   \n",
              "std       3.369578   31.972618      19.355807      15.952218  115.244002   \n",
              "min       0.000000    0.000000       0.000000       0.000000    0.000000   \n",
              "25%       1.000000   99.000000      62.000000       0.000000    0.000000   \n",
              "50%       3.000000  117.000000      72.000000      23.000000   30.500000   \n",
              "75%       6.000000  140.250000      80.000000      32.000000  127.250000   \n",
              "max      17.000000  199.000000     122.000000      99.000000  846.000000   \n",
              "\n",
              "              BMI  DiabetesPedigreeFunction         Age     Outcome  \n",
              "count  768.000000                768.000000  768.000000  768.000000  \n",
              "mean    31.992578                  0.471876   33.240885    0.348958  \n",
              "std      7.884160                  0.331329   11.760232    0.476951  \n",
              "min      0.000000                  0.078000   21.000000    0.000000  \n",
              "25%     27.300000                  0.243750   24.000000    0.000000  \n",
              "50%     32.000000                  0.372500   29.000000    0.000000  \n",
              "75%     36.600000                  0.626250   41.000000    1.000000  \n",
              "max     67.100000                  2.420000   81.000000    1.000000  "
            ],
            "text/html": [
              "\n",
              "  <div id=\"df-a0faae7b-bdf9-4a7b-a214-13b7ea2dd079\">\n",
              "    <div class=\"colab-df-container\">\n",
              "      <div>\n",
              "<style scoped>\n",
              "    .dataframe tbody tr th:only-of-type {\n",
              "        vertical-align: middle;\n",
              "    }\n",
              "\n",
              "    .dataframe tbody tr th {\n",
              "        vertical-align: top;\n",
              "    }\n",
              "\n",
              "    .dataframe thead th {\n",
              "        text-align: right;\n",
              "    }\n",
              "</style>\n",
              "<table border=\"1\" class=\"dataframe\">\n",
              "  <thead>\n",
              "    <tr style=\"text-align: right;\">\n",
              "      <th></th>\n",
              "      <th>Pregnancies</th>\n",
              "      <th>Glucose</th>\n",
              "      <th>BloodPressure</th>\n",
              "      <th>SkinThickness</th>\n",
              "      <th>Insulin</th>\n",
              "      <th>BMI</th>\n",
              "      <th>DiabetesPedigreeFunction</th>\n",
              "      <th>Age</th>\n",
              "      <th>Outcome</th>\n",
              "    </tr>\n",
              "  </thead>\n",
              "  <tbody>\n",
              "    <tr>\n",
              "      <th>count</th>\n",
              "      <td>768.000000</td>\n",
              "      <td>768.000000</td>\n",
              "      <td>768.000000</td>\n",
              "      <td>768.000000</td>\n",
              "      <td>768.000000</td>\n",
              "      <td>768.000000</td>\n",
              "      <td>768.000000</td>\n",
              "      <td>768.000000</td>\n",
              "      <td>768.000000</td>\n",
              "    </tr>\n",
              "    <tr>\n",
              "      <th>mean</th>\n",
              "      <td>3.845052</td>\n",
              "      <td>120.894531</td>\n",
              "      <td>69.105469</td>\n",
              "      <td>20.536458</td>\n",
              "      <td>79.799479</td>\n",
              "      <td>31.992578</td>\n",
              "      <td>0.471876</td>\n",
              "      <td>33.240885</td>\n",
              "      <td>0.348958</td>\n",
              "    </tr>\n",
              "    <tr>\n",
              "      <th>std</th>\n",
              "      <td>3.369578</td>\n",
              "      <td>31.972618</td>\n",
              "      <td>19.355807</td>\n",
              "      <td>15.952218</td>\n",
              "      <td>115.244002</td>\n",
              "      <td>7.884160</td>\n",
              "      <td>0.331329</td>\n",
              "      <td>11.760232</td>\n",
              "      <td>0.476951</td>\n",
              "    </tr>\n",
              "    <tr>\n",
              "      <th>min</th>\n",
              "      <td>0.000000</td>\n",
              "      <td>0.000000</td>\n",
              "      <td>0.000000</td>\n",
              "      <td>0.000000</td>\n",
              "      <td>0.000000</td>\n",
              "      <td>0.000000</td>\n",
              "      <td>0.078000</td>\n",
              "      <td>21.000000</td>\n",
              "      <td>0.000000</td>\n",
              "    </tr>\n",
              "    <tr>\n",
              "      <th>25%</th>\n",
              "      <td>1.000000</td>\n",
              "      <td>99.000000</td>\n",
              "      <td>62.000000</td>\n",
              "      <td>0.000000</td>\n",
              "      <td>0.000000</td>\n",
              "      <td>27.300000</td>\n",
              "      <td>0.243750</td>\n",
              "      <td>24.000000</td>\n",
              "      <td>0.000000</td>\n",
              "    </tr>\n",
              "    <tr>\n",
              "      <th>50%</th>\n",
              "      <td>3.000000</td>\n",
              "      <td>117.000000</td>\n",
              "      <td>72.000000</td>\n",
              "      <td>23.000000</td>\n",
              "      <td>30.500000</td>\n",
              "      <td>32.000000</td>\n",
              "      <td>0.372500</td>\n",
              "      <td>29.000000</td>\n",
              "      <td>0.000000</td>\n",
              "    </tr>\n",
              "    <tr>\n",
              "      <th>75%</th>\n",
              "      <td>6.000000</td>\n",
              "      <td>140.250000</td>\n",
              "      <td>80.000000</td>\n",
              "      <td>32.000000</td>\n",
              "      <td>127.250000</td>\n",
              "      <td>36.600000</td>\n",
              "      <td>0.626250</td>\n",
              "      <td>41.000000</td>\n",
              "      <td>1.000000</td>\n",
              "    </tr>\n",
              "    <tr>\n",
              "      <th>max</th>\n",
              "      <td>17.000000</td>\n",
              "      <td>199.000000</td>\n",
              "      <td>122.000000</td>\n",
              "      <td>99.000000</td>\n",
              "      <td>846.000000</td>\n",
              "      <td>67.100000</td>\n",
              "      <td>2.420000</td>\n",
              "      <td>81.000000</td>\n",
              "      <td>1.000000</td>\n",
              "    </tr>\n",
              "  </tbody>\n",
              "</table>\n",
              "</div>\n",
              "      <button class=\"colab-df-convert\" onclick=\"convertToInteractive('df-a0faae7b-bdf9-4a7b-a214-13b7ea2dd079')\"\n",
              "              title=\"Convert this dataframe to an interactive table.\"\n",
              "              style=\"display:none;\">\n",
              "        \n",
              "  <svg xmlns=\"http://www.w3.org/2000/svg\" height=\"24px\"viewBox=\"0 0 24 24\"\n",
              "       width=\"24px\">\n",
              "    <path d=\"M0 0h24v24H0V0z\" fill=\"none\"/>\n",
              "    <path d=\"M18.56 5.44l.94 2.06.94-2.06 2.06-.94-2.06-.94-.94-2.06-.94 2.06-2.06.94zm-11 1L8.5 8.5l.94-2.06 2.06-.94-2.06-.94L8.5 2.5l-.94 2.06-2.06.94zm10 10l.94 2.06.94-2.06 2.06-.94-2.06-.94-.94-2.06-.94 2.06-2.06.94z\"/><path d=\"M17.41 7.96l-1.37-1.37c-.4-.4-.92-.59-1.43-.59-.52 0-1.04.2-1.43.59L10.3 9.45l-7.72 7.72c-.78.78-.78 2.05 0 2.83L4 21.41c.39.39.9.59 1.41.59.51 0 1.02-.2 1.41-.59l7.78-7.78 2.81-2.81c.8-.78.8-2.07 0-2.86zM5.41 20L4 18.59l7.72-7.72 1.47 1.35L5.41 20z\"/>\n",
              "  </svg>\n",
              "      </button>\n",
              "      \n",
              "  <style>\n",
              "    .colab-df-container {\n",
              "      display:flex;\n",
              "      flex-wrap:wrap;\n",
              "      gap: 12px;\n",
              "    }\n",
              "\n",
              "    .colab-df-convert {\n",
              "      background-color: #E8F0FE;\n",
              "      border: none;\n",
              "      border-radius: 50%;\n",
              "      cursor: pointer;\n",
              "      display: none;\n",
              "      fill: #1967D2;\n",
              "      height: 32px;\n",
              "      padding: 0 0 0 0;\n",
              "      width: 32px;\n",
              "    }\n",
              "\n",
              "    .colab-df-convert:hover {\n",
              "      background-color: #E2EBFA;\n",
              "      box-shadow: 0px 1px 2px rgba(60, 64, 67, 0.3), 0px 1px 3px 1px rgba(60, 64, 67, 0.15);\n",
              "      fill: #174EA6;\n",
              "    }\n",
              "\n",
              "    [theme=dark] .colab-df-convert {\n",
              "      background-color: #3B4455;\n",
              "      fill: #D2E3FC;\n",
              "    }\n",
              "\n",
              "    [theme=dark] .colab-df-convert:hover {\n",
              "      background-color: #434B5C;\n",
              "      box-shadow: 0px 1px 3px 1px rgba(0, 0, 0, 0.15);\n",
              "      filter: drop-shadow(0px 1px 2px rgba(0, 0, 0, 0.3));\n",
              "      fill: #FFFFFF;\n",
              "    }\n",
              "  </style>\n",
              "\n",
              "      <script>\n",
              "        const buttonEl =\n",
              "          document.querySelector('#df-a0faae7b-bdf9-4a7b-a214-13b7ea2dd079 button.colab-df-convert');\n",
              "        buttonEl.style.display =\n",
              "          google.colab.kernel.accessAllowed ? 'block' : 'none';\n",
              "\n",
              "        async function convertToInteractive(key) {\n",
              "          const element = document.querySelector('#df-a0faae7b-bdf9-4a7b-a214-13b7ea2dd079');\n",
              "          const dataTable =\n",
              "            await google.colab.kernel.invokeFunction('convertToInteractive',\n",
              "                                                     [key], {});\n",
              "          if (!dataTable) return;\n",
              "\n",
              "          const docLinkHtml = 'Like what you see? Visit the ' +\n",
              "            '<a target=\"_blank\" href=https://colab.research.google.com/notebooks/data_table.ipynb>data table notebook</a>'\n",
              "            + ' to learn more about interactive tables.';\n",
              "          element.innerHTML = '';\n",
              "          dataTable['output_type'] = 'display_data';\n",
              "          await google.colab.output.renderOutput(dataTable, element);\n",
              "          const docLink = document.createElement('div');\n",
              "          docLink.innerHTML = docLinkHtml;\n",
              "          element.appendChild(docLink);\n",
              "        }\n",
              "      </script>\n",
              "    </div>\n",
              "  </div>\n",
              "  "
            ]
          },
          "metadata": {},
          "execution_count": 25
        }
      ]
    },
    {
      "cell_type": "markdown",
      "source": [
        "**Busqueda de null**"
      ],
      "metadata": {
        "id": "mWd9Mx0Bdmdw"
      }
    },
    {
      "cell_type": "code",
      "source": [
        "# busqueda de null\n",
        "df.isnull().sum()"
      ],
      "metadata": {
        "colab": {
          "base_uri": "https://localhost:8080/"
        },
        "id": "KudPcApcv_0u",
        "outputId": "ca8ae067-999e-4b0b-bd33-e380871eb8af"
      },
      "execution_count": 4,
      "outputs": [
        {
          "output_type": "execute_result",
          "data": {
            "text/plain": [
              "Pregnancies                 0\n",
              "Glucose                     0\n",
              "BloodPressure               0\n",
              "SkinThickness               0\n",
              "Insulin                     0\n",
              "BMI                         0\n",
              "DiabetesPedigreeFunction    0\n",
              "Age                         0\n",
              "Outcome                     0\n",
              "dtype: int64"
            ]
          },
          "metadata": {},
          "execution_count": 4
        }
      ]
    },
    {
      "cell_type": "markdown",
      "source": [
        "**Separacion X y**"
      ],
      "metadata": {
        "id": "X-Azv7M4dqt2"
      }
    },
    {
      "cell_type": "code",
      "source": [
        "# separacion de df\n",
        "X = df.drop(columns = 'BMI')\n",
        "y = df['BMI']\n",
        "X_train, X_test, y_train, y_test = train_test_split(X, y, random_state = 45)"
      ],
      "metadata": {
        "id": "ijfBlfsGwFK5"
      },
      "execution_count": 26,
      "outputs": []
    },
    {
      "cell_type": "code",
      "source": [
        "# Instanciar los selectores de columnas categóricas y numéricas para seleccionar las columnas adecuadas\n",
        "cat_selector = make_column_selector(dtype_include='object')\n",
        "num_selector = make_column_selector(dtype_include='number')\n",
        "\n",
        "# Instanciar el escalador estándar y el codificador one hot\n",
        "scaler = StandardScaler()\n",
        "ohe = OneHotEncoder(handle_unknown='ignore')\n",
        "\n",
        "# emparejamiento de cols con la tranformacion a utilizar. sobre valores numericos se utilizara StandardScaler, mientras sobre los categoricos OneHotEncoder\n",
        "num_tuple = (scaler, num_selector)\n",
        "cat_tuple = (ohe, cat_selector)\n",
        "\n",
        "# instancia de col transformer, utilizando las tuplas creadas anteriormente\n",
        "col_transformer = make_column_transformer(num_tuple, cat_tuple, remainder = 'passthrough')\n",
        "\n",
        "# el transformador de cols solo sera utilizado en los datos de entrenamiento\n",
        "col_transformer.fit(X_train)\n",
        "\n",
        "# se procede con la transformacion de ambos df entrenamiento y prueba\n",
        "X_train_processed = col_transformer.transform(X_train)\n",
        "X_test_processed = col_transformer.transform(X_test)\n",
        "\n",
        "X_train_processed"
      ],
      "metadata": {
        "id": "vZ3Zo3EMNk7D",
        "outputId": "9182e825-74d4-46d9-f4b0-e8e9ec7014a2",
        "colab": {
          "base_uri": "https://localhost:8080/"
        }
      },
      "execution_count": 27,
      "outputs": [
        {
          "output_type": "execute_result",
          "data": {
            "text/plain": [
              "array([[ 1.21723833, -1.19866625,  0.25358478, ..., -0.06245673,\n",
              "         0.49282404, -0.74616135],\n",
              "       [ 1.80617514, -1.70811598,  1.84394702, ..., -0.58537677,\n",
              "         1.17745871, -0.74616135],\n",
              "       [-0.25510371, -0.05240434,  0.0547895 , ..., -0.07765789,\n",
              "        -0.27738996, -0.74616135],\n",
              "       ...,\n",
              "       [-0.84404052, -1.07130381,  0.45238006, ..., -0.34215814,\n",
              "        -0.36296929, -0.74616135],\n",
              "       [ 0.0393647 , -1.00762259, -3.42412791, ...,  0.40269889,\n",
              "        -0.19181062, -0.74616135],\n",
              "       [-1.13850893,  0.52072662, -0.4421987 , ...,  0.1716412 ,\n",
              "        -1.04760396,  1.34019271]])"
            ]
          },
          "metadata": {},
          "execution_count": 27
        }
      ]
    },
    {
      "cell_type": "code",
      "source": [
        "\n",
        "\n",
        "# convierte en df y muestra los datos recien creados\n",
        "X_train_df = pd.DataFrame(X_train_processed)\n",
        "X_train_df.head()\n",
        "\n"
      ],
      "metadata": {
        "id": "AOXs_nalNuqs",
        "outputId": "55b8155d-b5ee-49ba-c00d-b9ddf8803632",
        "colab": {
          "base_uri": "https://localhost:8080/",
          "height": 206
        }
      },
      "execution_count": 28,
      "outputs": [
        {
          "output_type": "execute_result",
          "data": {
            "text/plain": [
              "          0         1         2         3         4         5         6  \\\n",
              "0  1.217238 -1.198666  0.253585  0.645332 -0.694543 -0.062457  0.492824   \n",
              "1  1.806175 -1.708116  1.843947  0.152265 -0.274900 -0.585377  1.177459   \n",
              "2 -0.255104 -0.052404  0.054789  0.583699  0.461616 -0.077658 -0.277390   \n",
              "3 -1.138509 -1.548913 -3.424128 -1.265305 -0.694543 -0.412083 -0.705287   \n",
              "4  1.217238 -0.052404 -3.424128 -1.265305 -0.694543 -0.895481  0.407245   \n",
              "\n",
              "          7  \n",
              "0 -0.746161  \n",
              "1 -0.746161  \n",
              "2 -0.746161  \n",
              "3 -0.746161  \n",
              "4  1.340193  "
            ],
            "text/html": [
              "\n",
              "  <div id=\"df-1b69c991-6274-44fb-8262-ab8aef4ca870\">\n",
              "    <div class=\"colab-df-container\">\n",
              "      <div>\n",
              "<style scoped>\n",
              "    .dataframe tbody tr th:only-of-type {\n",
              "        vertical-align: middle;\n",
              "    }\n",
              "\n",
              "    .dataframe tbody tr th {\n",
              "        vertical-align: top;\n",
              "    }\n",
              "\n",
              "    .dataframe thead th {\n",
              "        text-align: right;\n",
              "    }\n",
              "</style>\n",
              "<table border=\"1\" class=\"dataframe\">\n",
              "  <thead>\n",
              "    <tr style=\"text-align: right;\">\n",
              "      <th></th>\n",
              "      <th>0</th>\n",
              "      <th>1</th>\n",
              "      <th>2</th>\n",
              "      <th>3</th>\n",
              "      <th>4</th>\n",
              "      <th>5</th>\n",
              "      <th>6</th>\n",
              "      <th>7</th>\n",
              "    </tr>\n",
              "  </thead>\n",
              "  <tbody>\n",
              "    <tr>\n",
              "      <th>0</th>\n",
              "      <td>1.217238</td>\n",
              "      <td>-1.198666</td>\n",
              "      <td>0.253585</td>\n",
              "      <td>0.645332</td>\n",
              "      <td>-0.694543</td>\n",
              "      <td>-0.062457</td>\n",
              "      <td>0.492824</td>\n",
              "      <td>-0.746161</td>\n",
              "    </tr>\n",
              "    <tr>\n",
              "      <th>1</th>\n",
              "      <td>1.806175</td>\n",
              "      <td>-1.708116</td>\n",
              "      <td>1.843947</td>\n",
              "      <td>0.152265</td>\n",
              "      <td>-0.274900</td>\n",
              "      <td>-0.585377</td>\n",
              "      <td>1.177459</td>\n",
              "      <td>-0.746161</td>\n",
              "    </tr>\n",
              "    <tr>\n",
              "      <th>2</th>\n",
              "      <td>-0.255104</td>\n",
              "      <td>-0.052404</td>\n",
              "      <td>0.054789</td>\n",
              "      <td>0.583699</td>\n",
              "      <td>0.461616</td>\n",
              "      <td>-0.077658</td>\n",
              "      <td>-0.277390</td>\n",
              "      <td>-0.746161</td>\n",
              "    </tr>\n",
              "    <tr>\n",
              "      <th>3</th>\n",
              "      <td>-1.138509</td>\n",
              "      <td>-1.548913</td>\n",
              "      <td>-3.424128</td>\n",
              "      <td>-1.265305</td>\n",
              "      <td>-0.694543</td>\n",
              "      <td>-0.412083</td>\n",
              "      <td>-0.705287</td>\n",
              "      <td>-0.746161</td>\n",
              "    </tr>\n",
              "    <tr>\n",
              "      <th>4</th>\n",
              "      <td>1.217238</td>\n",
              "      <td>-0.052404</td>\n",
              "      <td>-3.424128</td>\n",
              "      <td>-1.265305</td>\n",
              "      <td>-0.694543</td>\n",
              "      <td>-0.895481</td>\n",
              "      <td>0.407245</td>\n",
              "      <td>1.340193</td>\n",
              "    </tr>\n",
              "  </tbody>\n",
              "</table>\n",
              "</div>\n",
              "      <button class=\"colab-df-convert\" onclick=\"convertToInteractive('df-1b69c991-6274-44fb-8262-ab8aef4ca870')\"\n",
              "              title=\"Convert this dataframe to an interactive table.\"\n",
              "              style=\"display:none;\">\n",
              "        \n",
              "  <svg xmlns=\"http://www.w3.org/2000/svg\" height=\"24px\"viewBox=\"0 0 24 24\"\n",
              "       width=\"24px\">\n",
              "    <path d=\"M0 0h24v24H0V0z\" fill=\"none\"/>\n",
              "    <path d=\"M18.56 5.44l.94 2.06.94-2.06 2.06-.94-2.06-.94-.94-2.06-.94 2.06-2.06.94zm-11 1L8.5 8.5l.94-2.06 2.06-.94-2.06-.94L8.5 2.5l-.94 2.06-2.06.94zm10 10l.94 2.06.94-2.06 2.06-.94-2.06-.94-.94-2.06-.94 2.06-2.06.94z\"/><path d=\"M17.41 7.96l-1.37-1.37c-.4-.4-.92-.59-1.43-.59-.52 0-1.04.2-1.43.59L10.3 9.45l-7.72 7.72c-.78.78-.78 2.05 0 2.83L4 21.41c.39.39.9.59 1.41.59.51 0 1.02-.2 1.41-.59l7.78-7.78 2.81-2.81c.8-.78.8-2.07 0-2.86zM5.41 20L4 18.59l7.72-7.72 1.47 1.35L5.41 20z\"/>\n",
              "  </svg>\n",
              "      </button>\n",
              "      \n",
              "  <style>\n",
              "    .colab-df-container {\n",
              "      display:flex;\n",
              "      flex-wrap:wrap;\n",
              "      gap: 12px;\n",
              "    }\n",
              "\n",
              "    .colab-df-convert {\n",
              "      background-color: #E8F0FE;\n",
              "      border: none;\n",
              "      border-radius: 50%;\n",
              "      cursor: pointer;\n",
              "      display: none;\n",
              "      fill: #1967D2;\n",
              "      height: 32px;\n",
              "      padding: 0 0 0 0;\n",
              "      width: 32px;\n",
              "    }\n",
              "\n",
              "    .colab-df-convert:hover {\n",
              "      background-color: #E2EBFA;\n",
              "      box-shadow: 0px 1px 2px rgba(60, 64, 67, 0.3), 0px 1px 3px 1px rgba(60, 64, 67, 0.15);\n",
              "      fill: #174EA6;\n",
              "    }\n",
              "\n",
              "    [theme=dark] .colab-df-convert {\n",
              "      background-color: #3B4455;\n",
              "      fill: #D2E3FC;\n",
              "    }\n",
              "\n",
              "    [theme=dark] .colab-df-convert:hover {\n",
              "      background-color: #434B5C;\n",
              "      box-shadow: 0px 1px 3px 1px rgba(0, 0, 0, 0.15);\n",
              "      filter: drop-shadow(0px 1px 2px rgba(0, 0, 0, 0.3));\n",
              "      fill: #FFFFFF;\n",
              "    }\n",
              "  </style>\n",
              "\n",
              "      <script>\n",
              "        const buttonEl =\n",
              "          document.querySelector('#df-1b69c991-6274-44fb-8262-ab8aef4ca870 button.colab-df-convert');\n",
              "        buttonEl.style.display =\n",
              "          google.colab.kernel.accessAllowed ? 'block' : 'none';\n",
              "\n",
              "        async function convertToInteractive(key) {\n",
              "          const element = document.querySelector('#df-1b69c991-6274-44fb-8262-ab8aef4ca870');\n",
              "          const dataTable =\n",
              "            await google.colab.kernel.invokeFunction('convertToInteractive',\n",
              "                                                     [key], {});\n",
              "          if (!dataTable) return;\n",
              "\n",
              "          const docLinkHtml = 'Like what you see? Visit the ' +\n",
              "            '<a target=\"_blank\" href=https://colab.research.google.com/notebooks/data_table.ipynb>data table notebook</a>'\n",
              "            + ' to learn more about interactive tables.';\n",
              "          element.innerHTML = '';\n",
              "          dataTable['output_type'] = 'display_data';\n",
              "          await google.colab.output.renderOutput(dataTable, element);\n",
              "          const docLink = document.createElement('div');\n",
              "          docLink.innerHTML = docLinkHtml;\n",
              "          element.appendChild(docLink);\n",
              "        }\n",
              "      </script>\n",
              "    </div>\n",
              "  </div>\n",
              "  "
            ]
          },
          "metadata": {},
          "execution_count": 28
        }
      ]
    },
    {
      "cell_type": "code",
      "source": [
        "# Make a linear regression instance\n",
        "reg = LinearRegression()\n",
        "reg.fit(X_train,y_train)\n",
        "print('El bias calculado es', reg.intercept_)\n",
        "print('La pendiente calculada es: ', reg.coef_)"
      ],
      "metadata": {
        "id": "ntYdhzgNOXvy",
        "outputId": "1d0ecf66-535a-43e8-d3ea-1d29c47b7b17",
        "colab": {
          "base_uri": "https://localhost:8080/"
        }
      },
      "execution_count": 29,
      "outputs": [
        {
          "output_type": "stream",
          "name": "stdout",
          "text": [
            "El bias calculado es 20.16808971892589\n",
            "La pendiente calculada es:  [-2.35898900e-02  1.52918396e-02  8.62636626e-02  1.68092671e-01\n",
            " -1.12266458e-03  2.91901152e-01 -2.36714427e-02  3.74789054e+00]\n"
          ]
        }
      ]
    },
    {
      "cell_type": "markdown",
      "source": [
        "**Codigo para obtener el R cuadrado (R^2), despues de realizado el ajuste sobre los datos de prueba**"
      ],
      "metadata": {
        "id": "lYaN8aJeQaXD"
      }
    },
    {
      "cell_type": "code",
      "source": [
        "test_score = reg.score(X_test, y_test)\n",
        "print(test_score)"
      ],
      "metadata": {
        "id": "Ga2pMPiQPG0d",
        "outputId": "118c0c5e-dc52-4fef-d56f-9ccf9561ac5d",
        "colab": {
          "base_uri": "https://localhost:8080/"
        }
      },
      "execution_count": 30,
      "outputs": [
        {
          "output_type": "stream",
          "name": "stdout",
          "text": [
            "0.18174367236639177\n"
          ]
        }
      ]
    },
    {
      "cell_type": "markdown",
      "source": [
        "**Codigo para obtener el R cuadrado (R^2), despues de realizado el ajuste sobre los datos de entrenamiento**"
      ],
      "metadata": {
        "id": "i_D1MZA3Qgb8"
      }
    },
    {
      "cell_type": "code",
      "source": [
        "train_score = reg.score(X_train, y_train)\n",
        "print(train_score)"
      ],
      "metadata": {
        "id": "ORktEVRkOd_T",
        "outputId": "550f27c0-2805-4d9d-ac68-bc0acbc3e077",
        "colab": {
          "base_uri": "https://localhost:8080/"
        }
      },
      "execution_count": 12,
      "outputs": [
        {
          "output_type": "stream",
          "name": "stdout",
          "text": [
            "0.2540582432095214\n"
          ]
        }
      ]
    },
    {
      "cell_type": "markdown",
      "source": [
        "**Codigo para obtener las predicciones de los datos de Entrenamiento y prueba**"
      ],
      "metadata": {
        "id": "bavp6U72QoZG"
      }
    },
    {
      "cell_type": "code",
      "source": [
        "# Obtengan las predicciones del conjunto de entrenamiento\n",
        "train_preds = reg.predict(X_train)\n",
        "# Obtengan las predicciones del conjunto de prueba\n",
        "test_preds = reg.predict(X_test)\n"
      ],
      "metadata": {
        "id": "GPocrEiyPugQ",
        "outputId": "247ac5ba-a067-4eb5-868d-2511a8b0b168",
        "colab": {
          "base_uri": "https://localhost:8080/"
        }
      },
      "execution_count": 18,
      "outputs": [
        {
          "output_type": "stream",
          "name": "stdout",
          "text": [
            "[31.97269425 31.52866084 30.88365047 29.37852897 31.68920083 29.15098499\n",
            " 35.96694449 37.76815763 26.89431048 34.18083547 35.02182466 30.79550587\n",
            " 28.48348828 30.55279586 31.28695456 34.73026717 37.99260522 38.6362543\n",
            " 31.96226784 27.64425635 31.95784808 26.98518635 37.78342083 28.93790416\n",
            " 33.5486834  31.55763538 28.66031132 28.38190489 38.09287601 31.29970051\n",
            " 28.43125749 30.63515572 26.21330042 22.67602336 27.32087612 38.47498123\n",
            " 34.25724991 31.91935137 33.76779907 29.45955461 31.26254631 38.30936699\n",
            " 30.62263762 30.43732983 29.65767798 26.91580102 36.25956989 27.97449828\n",
            " 27.74304078 31.68820229 31.62977376 26.95443974 31.72609352 28.43830862\n",
            " 35.28366366 28.05680246 26.36418498 33.34148426 34.82669479 28.92047184\n",
            " 31.302472   28.83450394 29.32901429 30.98405998 28.99312155 30.26315443\n",
            " 26.15770074 28.40774973 32.40575212 38.99910143 26.76063661 29.61427031\n",
            " 27.22479864 30.90999447 31.81217357 33.09614033 32.28957113 28.48844728\n",
            " 22.5196509  26.79423531 35.98581457 30.99396917 33.16322508 32.51632235\n",
            " 30.39791853 37.93332426 30.30940239 29.87844193 28.94553583 37.84402545\n",
            " 32.8381281  37.61302753 30.73272074 27.3060593  33.11443493 33.9499711\n",
            " 30.9605095  27.59792632 33.34166438 25.53727106 41.71527014 35.22094831\n",
            " 41.04424258 30.97887517 29.01159237 38.75435134 26.82659987 33.52968111\n",
            " 32.95679265 35.14694272 37.38624483 29.85076237 29.16467989 22.27964615\n",
            " 31.08663445 21.23134731 22.66769557 32.26111947 31.65046952 33.99235563\n",
            " 32.1060941  29.91481112 34.28029255 30.88303069 37.35067917 32.10265313\n",
            " 29.64927114 32.00894224 30.59472791 37.36577472 27.82485454 23.10421386\n",
            " 30.90790882 27.63808311 31.47237438 30.54723104 34.95491153 27.23471177\n",
            " 34.57305063 30.57746068 28.95053366 35.35444152 38.0899066  32.19035341\n",
            " 35.86007883 36.47009634 31.71387855 25.61939391 35.35994124 30.94282961\n",
            " 34.14045395 37.07036885 37.33713796 32.73625168 30.51601637 31.6674081\n",
            " 28.05588013 26.51539481 33.63436537 31.54755932 34.21472873 39.1839637\n",
            " 30.34689315 22.53195038 26.28298745 33.21419757 30.07304365 32.31133177\n",
            " 32.35330673 32.40865576 35.57924043 32.10978747 26.22081265 30.90683346\n",
            " 29.87968158 30.90717194 35.1320925  27.19587763 34.8438894  31.54014428\n",
            " 36.00556709 27.92580962 39.59079912 32.34295342 32.95888835 31.11683782\n",
            " 33.45075622 27.39524323 36.89766204 32.7718283  44.75872868 39.20160955\n",
            " 33.43659121 31.06701983 32.51495125 28.05320335 26.94337038 33.06622115\n",
            " 30.87440334 29.92929575 32.08987985 34.87713416 32.68469597 37.33593401\n",
            " 26.03089416 26.98044955 33.89012575 30.66942235 33.6058176  36.85515001\n",
            " 28.56389896 36.00445233 30.57382436 28.01400674 32.55037138 38.41701454\n",
            " 33.99648207 28.4118222  36.16935192 26.59150453 28.58901092 35.28079942\n",
            " 30.52246445 36.17937712 27.76645241 26.74650106 33.41375433 33.66956115\n",
            " 27.86445786 35.26313569 28.54999639 30.42159762 38.03905101 30.90832178\n",
            " 35.89433039 34.82924254 27.89945925 30.99651456 30.01758623 27.49374652\n",
            " 38.62359177 32.87331724 32.11276605 36.77637998 30.30739478 22.83872964\n",
            " 38.66630856 26.33744214 36.60979147 33.27306259 39.03499426 28.53326905\n",
            " 38.00058623 27.93678063 22.71435786 32.16372024 31.5837637  31.33315341\n",
            " 34.63580455 37.36682155 27.63362633 30.03340672 29.92471733 27.11156665\n",
            " 32.154465   40.02841162 32.60485082 32.04111441 27.27668639 36.69223512\n",
            " 33.17809598 35.65320518 27.49748598 23.92328742 30.1665469  33.46406492\n",
            " 27.60523487 39.96380175 39.84225891 33.00923712 33.60159616 35.53169472\n",
            " 39.60668374 36.35159964 33.07926065 30.74871965 30.45842782 31.21227997\n",
            " 31.83672873 29.29062434 35.74763793 36.22005081 34.93418718 32.31883823\n",
            " 32.63939057 31.21716686 31.18647006 35.23601983 31.93499278 31.95247023\n",
            " 30.68297794 29.41251621 28.47960167 29.74465604 31.63578295 33.1549926\n",
            " 37.25272225 29.96007579 38.94944467 29.23704635 33.33794019 35.35731819\n",
            " 41.08294126 31.42762108 37.44639377 39.49813626 34.35648896 32.64159343\n",
            " 29.66844996 28.57143265 35.28784505 35.23323311 30.20464717 29.43997132\n",
            " 32.87991368 28.73054169 32.8480774  26.79305356 37.44805721 27.54901432\n",
            " 31.63235616 35.91708675 34.18718992 27.5260527  36.36028657 29.89841057\n",
            " 30.07998487 35.9541725  30.15482521 37.64282063 26.74416554 30.85305297\n",
            " 32.53426471 33.51708712 29.99155323 27.49453185 37.97008345 35.71781179\n",
            " 28.13509033 31.6823114  32.09938942 33.34348703 28.22634728 33.12514973\n",
            " 32.46334607 32.6756659  32.98531876 37.13894807 36.04480683 32.89129415\n",
            " 26.85685774 32.35672608 30.07462511 32.50261681 32.45594752 30.55745885\n",
            " 37.05160496 41.50977703 29.64414002 31.971857   31.51136459 36.1212575\n",
            " 26.46795402 32.16666117 30.64460576 30.7157256  33.33007609 28.18308055\n",
            " 37.67795892 30.62098572 32.49040852 26.02573309 30.44046786 29.79178466\n",
            " 26.9443312  38.07823493 32.57114205 30.78767418 39.15668745 28.64129609\n",
            " 22.64847532 22.90797302 30.67770871 35.71813167 37.09014971 37.67865008\n",
            " 25.90114399 36.52197502 35.10737168 26.47880092 34.78357848 26.39561134\n",
            " 30.56181564 27.14307412 32.98806865 31.74770576 31.37119854 32.95411193\n",
            " 27.45451371 29.48236361 33.1515924  35.11243888 32.42325068 32.89088492\n",
            " 29.66607002 30.62852012 30.33393986 31.39106587 29.42055489 26.03390253\n",
            " 31.14585937 31.95614067 23.23056461 27.02332926 35.53681789 29.20375481\n",
            " 38.95738299 28.95994543 30.44946392 33.5509607  32.73911057 32.2464904\n",
            " 31.37790982 38.73859239 27.00406897 31.56661129 37.11729101 31.70462743\n",
            " 28.11629522 34.30162321 35.9346749  31.47389543 29.43274506 30.80630686\n",
            " 33.51899095 30.50173079 30.49793698 32.31913246 36.48987783 28.89250994\n",
            " 38.48133183 26.61475924 32.09334454 35.9974465  31.82604961 29.0356355\n",
            " 39.58312187 36.48266785 30.84800629 29.17706386 30.90951001 35.56634649\n",
            " 31.40953371 28.07952579 31.18398334 29.16331656 29.24601725 30.6383285\n",
            " 33.56979691 28.01016102 32.52549612 28.9844947  26.80204294 33.08347265\n",
            " 31.84196092 37.02436411 28.40355401 25.2737144  34.36202392 37.44340881\n",
            " 35.78629998 33.74984621 31.69786774 30.70576802 34.48099081 28.65550683\n",
            " 32.40469414 33.01671901 35.06692326 40.3976372  37.67627287 30.02016908\n",
            " 31.26013164 32.68414379 28.61706872 26.14595622 36.96046257 31.11176972\n",
            " 27.75215513 28.58796531 33.01396355 32.09888394 26.03292001 39.06180727\n",
            " 31.66571059 28.54895255 30.86288353 31.23654599 29.05426725 37.59138636\n",
            " 28.12979996 32.25387991 32.63855079 29.73898238 36.52700672 30.73446823\n",
            " 31.92160569 30.02542245 33.20392856 27.69176819 33.59458664 32.38136367\n",
            " 32.49112935 30.72382284 31.77239764 38.5166896  35.57431275 32.26022841\n",
            " 37.53397584 35.09673715 27.71189682 32.65686945 33.44314454 33.80176048\n",
            " 32.50714485 32.37131464 27.64206997 38.27077746 27.8457889  31.70375323\n",
            " 38.95030835 35.54782322 28.60047437 27.16862587 30.92061575 29.88222395\n",
            " 27.08309986 27.83099984 31.06674738 35.36809756 34.77957806 34.21827314\n",
            " 28.63980609 32.00910803 32.47287407 28.37683567 34.90452505 41.47745268\n",
            " 34.42077619 39.77963338 40.68424614 30.27626487 31.04733275 39.77893731\n",
            " 30.49092479 36.82881581 27.24982643 33.67711565 35.43413636 35.16310651\n",
            " 32.03686891 33.14140971 30.29792735 38.44542989 27.55454709 29.52944825]\n",
            "[30.69654217 33.25121657 27.16563124 27.93141338 28.11616257 30.90694433\n",
            " 28.19663288 22.51002815 32.42499579 26.84449506 35.48373443 33.95846616\n",
            " 35.1396073  29.71900641 30.85805342 36.93929012 32.23587382 31.42792234\n",
            " 28.14582897 35.91810304 26.4992835  31.94426067 35.67932274 31.20601101\n",
            " 32.00940912 38.81658888 31.22876724 29.15189211 38.1257851  29.21618099\n",
            " 42.20467806 30.98315161 39.0557529  28.28555372 27.67620265 38.12020125\n",
            " 48.17322066 37.27674946 29.42870791 27.52028675 29.61220211 25.34844912\n",
            " 30.57672037 31.26140986 28.36287023 38.35452041 38.00803836 32.74767725\n",
            " 26.39472793 32.57491296 30.63369412 37.63762824 37.93752989 32.27654807\n",
            " 29.89624527 31.24010003 26.65137434 22.54783212 33.05977539 31.62803251\n",
            " 37.53428592 32.10224416 27.90728109 30.73175902 32.52451124 38.15474503\n",
            " 29.89036541 34.00082507 27.6937592  39.28135843 33.50648247 30.69436928\n",
            " 25.48097496 36.28984779 26.92387555 34.03068747 26.45720622 31.24222536\n",
            " 32.15953026 28.59642772 31.94329741 37.26448049 29.8597406  36.62358904\n",
            " 30.22329106 35.80394126 40.47957174 35.84459768 31.65551848 28.69609735\n",
            " 30.58039528 27.54367266 22.38017354 26.84439932 31.23445882 35.50295458\n",
            " 25.59847961 31.24477334 36.29139525 26.36634091 35.0804493  32.85695819\n",
            " 32.69767222 33.66257434 33.02870196 34.87795776 32.82608278 39.35204245\n",
            " 37.03562293 36.93932053 30.61678706 30.04640562 23.0816002  41.23515767\n",
            " 32.19481228 32.67682526 38.03422882 27.11797066 26.79803418 23.03331833\n",
            " 26.72094572 35.88595366 38.15125972 29.74633452 27.72247375 33.43897649\n",
            " 27.18672476 36.49093709 27.26501561 36.33797424 32.62220085 38.07751189\n",
            " 28.06336712 37.81366591 40.21796342 27.16147593 33.04391885 34.62866664\n",
            " 36.26978126 28.29914844 30.94597382 26.37685478 28.11041998 33.29404455\n",
            " 26.43018487 31.84550875 35.10269965 27.25880914 34.04234833 32.84298805\n",
            " 31.14863689 25.95693766 37.4808841  32.85288982 22.70953006 35.73234834\n",
            " 29.71902198 25.28686086 36.90978659 29.91966866 27.76607309 35.08354844\n",
            " 34.01250206 26.05738341 32.5085097  33.016924   30.38599377 33.23158707\n",
            " 30.6880357  31.03928841 27.44439429 34.3122525  30.89676335 35.1537108\n",
            " 34.81720475 30.86550492 29.69723729 32.59785862 33.78697606 32.97231716\n",
            " 30.44178979 34.64641925 26.89532964 40.58165671 38.20649074 31.70546126\n",
            " 28.97854316 29.96776431 32.20360694 34.50992828 34.72379329 27.3853043 ]\n"
          ]
        }
      ]
    },
    {
      "cell_type": "markdown",
      "source": [
        "**Error absoluto medio (EAM)**"
      ],
      "metadata": {
        "id": "LTYNSTTxRDVS"
      }
    },
    {
      "cell_type": "code",
      "source": [
        "mae_train = mean_absolute_error(y_train, train_preds)\n",
        "mae_test = mean_absolute_error(y_test, test_preds)\n",
        "print(mae_train)\n",
        "print(mae_test)"
      ],
      "metadata": {
        "id": "pnamcmgSQtB9",
        "outputId": "9d02b3c8-a5b4-45f1-ab42-5214221f6935",
        "colab": {
          "base_uri": "https://localhost:8080/"
        }
      },
      "execution_count": 22,
      "outputs": [
        {
          "output_type": "stream",
          "name": "stdout",
          "text": [
            "4.883108198487533\n",
            "5.36110039669576\n"
          ]
        }
      ]
    },
    {
      "cell_type": "code",
      "source": [
        "mse_train = mean_squared_error(y_train, train_preds)\n",
        "mse_test = mean_squared_error(y_test, test_preds)"
      ],
      "metadata": {
        "id": "j6ChskGeRNAt"
      },
      "execution_count": null,
      "outputs": []
    },
    {
      "cell_type": "markdown",
      "source": [
        "**Error cuadratico**"
      ],
      "metadata": {
        "id": "3qsv79JJRRdq"
      }
    }
  ]
}