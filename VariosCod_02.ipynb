{
  "nbformat": 4,
  "nbformat_minor": 0,
  "metadata": {
    "colab": {
      "name": "Untitled11.ipynb",
      "provenance": [],
      "authorship_tag": "ABX9TyMmevm4Zag6mW9pnVnW88g5",
      "include_colab_link": true
    },
    "kernelspec": {
      "name": "python3",
      "display_name": "Python 3"
    },
    "language_info": {
      "name": "python"
    }
  },
  "cells": [
    {
      "cell_type": "markdown",
      "metadata": {
        "id": "view-in-github",
        "colab_type": "text"
      },
      "source": [
        "<a href=\"https://colab.research.google.com/github/Jorge2018/DataScience2022-2/blob/main/VariosCod_02.ipynb\" target=\"_parent\"><img src=\"https://colab.research.google.com/assets/colab-badge.svg\" alt=\"Open In Colab\"/></a>"
      ]
    },
    {
      "cell_type": "code",
      "execution_count": 3,
      "metadata": {
        "colab": {
          "base_uri": "https://localhost:8080/"
        },
        "id": "GjzQwU3usNqd",
        "outputId": "f3bceec8-0905-40f0-e243-e04b34a815f0"
      },
      "outputs": [
        {
          "output_type": "stream",
          "name": "stdout",
          "text": [
            "                    Food Measure  Grams Calories Protein Fat Sat.Fat Fiber  \\\n",
            "0             Cows' milk   1 qt.    976      660      32  40      36     0   \n",
            "1              Milk skim   1 qt.    984      360      36   t       t     0   \n",
            "2             Buttermilk   1 cup    246      127       9   5       4     0   \n",
            "3  Evaporated, undiluted   1 cup    252      345      16  20      18     0   \n",
            "4         Fortified milk  6 cups  1,419    1,373      89  42      23   1.4   \n",
            "\n",
            "  Carbs        Category  \n",
            "0    48  Dairy products  \n",
            "1    52  Dairy products  \n",
            "2    13  Dairy products  \n",
            "3    24  Dairy products  \n",
            "4   119  Dairy products  \n",
            "---------------------------\n",
            "la cantidad de filas y columnas del df son (fil,col): (335, 10)\n",
            "---------------------------\n",
            "La cantidad de registros al comenzar es:\n",
            " Food        335\n",
            "Measure     335\n",
            "Grams       335\n",
            "Calories    334\n",
            "Protein     335\n",
            "Fat         335\n",
            "Sat.Fat     333\n",
            "Fiber       335\n",
            "Carbs       335\n",
            "Category    335\n",
            "dtype: int64\n",
            "---------------------------\n",
            "los datos faltantes del df son:\n",
            " Food        0\n",
            "Measure     0\n",
            "Grams       0\n",
            "Calories    1\n",
            "Protein     0\n",
            "Fat         0\n",
            "Sat.Fat     2\n",
            "Fiber       0\n",
            "Carbs       0\n",
            "Category    0\n",
            "dtype: int64\n",
            "---------------------------\n",
            "los datos duplicados de la columna Food  son: 6\n",
            "---------------------------\n",
            "los datos duplicados de la columna Measure  son: 274\n",
            "---------------------------\n",
            "los datos duplicados de la columna Grams  son: 232\n",
            "---------------------------\n",
            "los datos duplicados de la columna Calories  son: 182\n",
            "---------------------------\n",
            "los datos duplicados de la columna Protein  son: 295\n",
            "---------------------------\n",
            "los datos duplicados de la columna Fat  son: 290\n",
            "---------------------------\n",
            "los datos duplicados de la columna Sat.Fat  son: 296\n",
            "---------------------------\n",
            "los datos duplicados de la columna Fiber  son: 278\n",
            "---------------------------\n",
            "los datos duplicados de la columna Carbs  son: 255\n",
            "---------------------------\n",
            "los datos duplicados de la columna Category  son: 319\n",
            "---------------------------\n",
            "tipos de datos despues del tratamiento y conversion:\n",
            "---------------------------\n",
            "<class 'pandas.core.frame.DataFrame'>\n",
            "RangeIndex: 335 entries, 0 to 334\n",
            "Data columns (total 10 columns):\n",
            " #   Column    Non-Null Count  Dtype  \n",
            "---  ------    --------------  -----  \n",
            " 0   Food      335 non-null    string \n",
            " 1   Measure   335 non-null    string \n",
            " 2   Grams     335 non-null    float64\n",
            " 3   Calories  334 non-null    float64\n",
            " 4   Protein   335 non-null    float64\n",
            " 5   Fat       335 non-null    float64\n",
            " 6   Sat.Fat   333 non-null    float64\n",
            " 7   Fiber     335 non-null    float64\n",
            " 8   Carbs     335 non-null    float64\n",
            " 9   Category  335 non-null    string \n",
            "dtypes: float64(7), string(3)\n",
            "memory usage: 26.3 KB\n"
          ]
        }
      ],
      "source": [
        "import numpy as np\n",
        "import pandas as pd\n",
        "import warnings\n",
        "warnings.filterwarnings('ignore')\n",
        "df= pd.read_csv(r'https://raw.githubusercontent.com/Jorge2018/DataScience2022-2/main/nutrients_csvfile.csv')\n",
        "print(df.head())\n",
        "print('---------------------------')\n",
        "print('la cantidad de filas y columnas del df son (fil,col):', df.shape)\n",
        "print('---------------------------')\n",
        "print('La cantidad de registros al comenzar es:\\n',df.count())\n",
        "print('---------------------------')\n",
        "print('los datos faltantes del df son:\\n',df.isna().sum())\n",
        "print('---------------------------')\n",
        "lista=[]\n",
        "for column in df:\n",
        "  lista.append(column)\n",
        "for i in range(len(lista)):\n",
        "  print('los datos duplicados de la columna',lista[i],' son:',df.duplicated(subset=lista[i], keep='first').sum())\n",
        "  print('---------------------------')\n",
        "\n",
        "#proceso de revision y normalizacion de cols\n",
        "df['Food']=df['Food'].astype(pd.StringDtype()) \n",
        "df['Measure']=df['Measure'].astype(pd.StringDtype())  \n",
        "df['Category']=df['Category'].astype(pd.StringDtype()) \n",
        "df=df.replace(',','',regex=True) # reemplaza coma por nada\n",
        "lista=df.select_dtypes(include=[np.object]).columns # selecciona solo columnas del tipo object\n",
        "df[lista] =df[lista].apply(lambda x: x.str.replace('[^0-9]', '0')) # reemplaza lo que es diferente a un numero por 0 (cero)\n",
        "df[lista]=df[lista].astype(float) # convierte las columnas del tipo object en float\n",
        "print('tipos de datos despues del tratamiento y conversion:')\n",
        "print('---------------------------')\n",
        "df.info()\n",
        "#df.to_csv('df.csv', index = False) \n",
        "\n",
        " "
      ]
    },
    {
      "cell_type": "code",
      "source": [
        "\n",
        "lista=['Food','Measure','Category']\n",
        "for i in lista:\n",
        "  categ = df.pivot_table(index =i, aggfunc ='size') \n",
        "  print('La cantidad de repeticiones de la categoria:\\n',categ)\n",
        "  print('---------------------------')"
      ],
      "metadata": {
        "id": "J3iSeaBaCip2",
        "outputId": "71df083b-5839-481a-d2bb-32b0a7daa26e",
        "colab": {
          "base_uri": "https://localhost:8080/"
        }
      },
      "execution_count": 23,
      "outputs": [
        {
          "output_type": "stream",
          "name": "stdout",
          "text": [
            "La cantidad de repeticiones de la categoria:\n",
            " Food\n",
            "(1/2 cup ice cream)         1\n",
            "(cornstarch)                1\n",
            "3 teaspoons sugar           1\n",
            "9\" diam. pie                1\n",
            "Almonds                     1\n",
            "                           ..\n",
            "skim. milk                  1\n",
            "table blends sugar          1\n",
            "uncreamed                   1\n",
            "whole-wheat                 1\n",
            "with tomatoes and cheese    1\n",
            "Length: 329, dtype: int64\n",
            "---------------------------\n",
            "La cantidad de repeticiones de la categoria:\n",
            " Measure\n",
            "1              11\n",
            "1 1/3 cups      2\n",
            "1 T.           12\n",
            "1 cup         120\n",
            "1 ear           1\n",
            "             ... \n",
            "6-oz. can       3\n",
            "8               1\n",
            "8 oz. or        1\n",
            "I med.          1\n",
            "aver.           1\n",
            "Length: 61, dtype: int64\n",
            "---------------------------\n",
            "La cantidad de repeticiones de la categoria:\n",
            " Category\n",
            "Breads cereals fastfoodgrains    45\n",
            "Dairy products                   28\n",
            "Desserts sweets                  29\n",
            "DrinksAlcohol Beverages          12\n",
            "Fats Oils Shortenings            14\n",
            "Fish Seafood                     19\n",
            "Fruits A-F                       22\n",
            "Fruits G-P                       28\n",
            "Fruits R-Z                        8\n",
            "Jams Jellies                      8\n",
            "Meat Poultry                     30\n",
            "Seeds and Nuts                   12\n",
            "Soups                            10\n",
            "Vegetables A-E                   28\n",
            "Vegetables F-P                   14\n",
            "Vegetables R-Z                   28\n",
            "dtype: int64\n",
            "---------------------------\n"
          ]
        }
      ]
    },
    {
      "cell_type": "code",
      "source": [
        "dtypes = df.dtypes.to_dict()\n",
        "print('las columnas y categorias del df son:\\n',dtypes)\n",
        "\n"
      ],
      "metadata": {
        "id": "tLQ8z8qdFxxv",
        "outputId": "1263af03-610d-4525-c213-07542415c77a",
        "colab": {
          "base_uri": "https://localhost:8080/"
        }
      },
      "execution_count": 22,
      "outputs": [
        {
          "output_type": "stream",
          "name": "stdout",
          "text": [
            "las columnas y categorias del df son:\n",
            " {'Food': string[python], 'Measure': string[python], 'Grams': dtype('float64'), 'Calories': dtype('float64'), 'Protein': dtype('float64'), 'Fat': dtype('float64'), 'Sat.Fat': dtype('float64'), 'Fiber': dtype('float64'), 'Carbs': dtype('float64'), 'Category': string[python]}\n"
          ]
        }
      ]
    },
    {
      "cell_type": "code",
      "source": [
        "dfA=df.loc[(df['Calories'] > 1000.0)]\n",
        "dfA.count()"
      ],
      "metadata": {
        "id": "HlPBiWaZH48M",
        "outputId": "ee37da61-3d48-4a38-e2dc-b53115de7f4a",
        "colab": {
          "base_uri": "https://localhost:8080/"
        }
      },
      "execution_count": 30,
      "outputs": [
        {
          "output_type": "execute_result",
          "data": {
            "text/plain": [
              "Food        4\n",
              "Measure     4\n",
              "Grams       4\n",
              "Calories    4\n",
              "Protein     4\n",
              "Fat         4\n",
              "Sat.Fat     4\n",
              "Fiber       4\n",
              "Carbs       4\n",
              "Category    4\n",
              "dtype: int64"
            ]
          },
          "metadata": {},
          "execution_count": 30
        }
      ]
    }
  ]
}