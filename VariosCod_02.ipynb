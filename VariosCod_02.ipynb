{
  "nbformat": 4,
  "nbformat_minor": 0,
  "metadata": {
    "colab": {
      "name": "Untitled11.ipynb",
      "provenance": [],
      "authorship_tag": "ABX9TyMrJNj+A8XnN+IMkUI1JUFz",
      "include_colab_link": true
    },
    "kernelspec": {
      "name": "python3",
      "display_name": "Python 3"
    },
    "language_info": {
      "name": "python"
    }
  },
  "cells": [
    {
      "cell_type": "markdown",
      "metadata": {
        "id": "view-in-github",
        "colab_type": "text"
      },
      "source": [
        "<a href=\"https://colab.research.google.com/github/Jorge2018/DataScience2022-2/blob/main/VariosCod_02.ipynb\" target=\"_parent\"><img src=\"https://colab.research.google.com/assets/colab-badge.svg\" alt=\"Open In Colab\"/></a>"
      ]
    },
    {
      "cell_type": "code",
      "execution_count": 50,
      "metadata": {
        "colab": {
          "base_uri": "https://localhost:8080/"
        },
        "id": "GjzQwU3usNqd",
        "outputId": "87269884-eb05-4873-a3bf-e89f048b66f3"
      },
      "outputs": [
        {
          "output_type": "stream",
          "name": "stdout",
          "text": [
            "                    Food Measure  Grams Calories Protein Fat Sat.Fat Fiber  \\\n",
            "0             Cows' milk   1 qt.    976      660      32  40      36     0   \n",
            "1              Milk skim   1 qt.    984      360      36   t       t     0   \n",
            "2             Buttermilk   1 cup    246      127       9   5       4     0   \n",
            "3  Evaporated, undiluted   1 cup    252      345      16  20      18     0   \n",
            "4         Fortified milk  6 cups  1,419    1,373      89  42      23   1.4   \n",
            "\n",
            "  Carbs        Category  \n",
            "0    48  Dairy products  \n",
            "1    52  Dairy products  \n",
            "2    13  Dairy products  \n",
            "3    24  Dairy products  \n",
            "4   119  Dairy products  \n",
            "---------------------------\n",
            "la cantidad de filas y columnas del df son (fil,col): (335, 10)\n",
            "---------------------------\n",
            "La cantidad de registros al comenzar es:\n",
            " Food        335\n",
            "Measure     335\n",
            "Grams       335\n",
            "Calories    334\n",
            "Protein     335\n",
            "Fat         335\n",
            "Sat.Fat     333\n",
            "Fiber       335\n",
            "Carbs       335\n",
            "Category    335\n",
            "dtype: int64\n",
            "---------------------------\n",
            "los datos faltantes del df son:\n",
            " Food        0\n",
            "Measure     0\n",
            "Grams       0\n",
            "Calories    1\n",
            "Protein     0\n",
            "Fat         0\n",
            "Sat.Fat     2\n",
            "Fiber       0\n",
            "Carbs       0\n",
            "Category    0\n",
            "dtype: int64\n",
            "---------------------------\n",
            "los datos duplicados de la columna Food  son: 6\n",
            "---------------------------\n",
            "los datos duplicados de la columna Measure  son: 274\n",
            "---------------------------\n",
            "los datos duplicados de la columna Grams  son: 232\n",
            "---------------------------\n",
            "los datos duplicados de la columna Calories  son: 182\n",
            "---------------------------\n",
            "los datos duplicados de la columna Protein  son: 295\n",
            "---------------------------\n",
            "los datos duplicados de la columna Fat  son: 290\n",
            "---------------------------\n",
            "los datos duplicados de la columna Sat.Fat  son: 296\n",
            "---------------------------\n",
            "los datos duplicados de la columna Fiber  son: 278\n",
            "---------------------------\n",
            "los datos duplicados de la columna Carbs  son: 255\n",
            "---------------------------\n",
            "los datos duplicados de la columna Category  son: 319\n",
            "---------------------------\n",
            "tipos de datos despues del tratamiento y conversion:\n",
            "---------------------------\n",
            "<class 'pandas.core.frame.DataFrame'>\n",
            "RangeIndex: 335 entries, 0 to 334\n",
            "Data columns (total 10 columns):\n",
            " #   Column    Non-Null Count  Dtype  \n",
            "---  ------    --------------  -----  \n",
            " 0   Food      335 non-null    string \n",
            " 1   Measure   335 non-null    string \n",
            " 2   Grams     335 non-null    float64\n",
            " 3   Calories  334 non-null    float64\n",
            " 4   Protein   335 non-null    float64\n",
            " 5   Fat       335 non-null    float64\n",
            " 6   Sat.Fat   333 non-null    float64\n",
            " 7   Fiber     335 non-null    float64\n",
            " 8   Carbs     335 non-null    float64\n",
            " 9   Category  335 non-null    string \n",
            "dtypes: float64(7), string(3)\n",
            "memory usage: 26.3 KB\n"
          ]
        }
      ],
      "source": [
        "import numpy as np\n",
        "import pandas as pd\n",
        "import warnings\n",
        "warnings.filterwarnings('ignore')\n",
        "df= pd.read_csv(r'https://raw.githubusercontent.com/Jorge2018/DataScience2022-2/main/nutrients_csvfile.csv')\n",
        "print(df.head())\n",
        "print('---------------------------')\n",
        "print('la cantidad de filas y columnas del df son (fil,col):', df.shape)\n",
        "print('---------------------------')\n",
        "print('La cantidad de registros al comenzar es:\\n',df.count())\n",
        "print('---------------------------')\n",
        "print('los datos faltantes del df son:\\n',df.isna().sum())\n",
        "print('---------------------------')\n",
        "lista=[]\n",
        "for column in df:\n",
        "  lista.append(column)\n",
        "for i in range(len(lista)):\n",
        "  print('los datos duplicados de la columna',lista[i],' son:',df.duplicated(subset=lista[i], keep='first').sum())\n",
        "  print('---------------------------')\n",
        "\n",
        "#proceso de revision y normalizacion de cols\n",
        "df['Food']=df['Food'].astype(pd.StringDtype()) \n",
        "df['Measure']=df['Measure'].astype(pd.StringDtype())  \n",
        "df['Category']=df['Category'].astype(pd.StringDtype()) \n",
        "df=df.replace(',','',regex=True) # reemplaza coma por nada\n",
        "lista=df.select_dtypes(include=[np.object]).columns # selecciona solo columnas del tipo object\n",
        "df[lista] =df[lista].apply(lambda x: x.str.replace('[^0-9]', '0')) # reemplaza lo que es diferente a un numero por 0 (cero)\n",
        "df[lista]=df[lista].astype(float) # convierte las columnas del tipo object en float\n",
        "print('tipos de datos despues del tratamiento y conversion:')\n",
        "print('---------------------------')\n",
        "df.info()\n",
        "#df.to_csv('df.csv', index = False) \n",
        "\n",
        " "
      ]
    }
  ]
}