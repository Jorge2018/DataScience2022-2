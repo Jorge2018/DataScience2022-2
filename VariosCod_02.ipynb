{
  "nbformat": 4,
  "nbformat_minor": 0,
  "metadata": {
    "colab": {
      "name": "Untitled11.ipynb",
      "provenance": [],
      "authorship_tag": "ABX9TyMM9abZ2T8FnTVoih9olUvf",
      "include_colab_link": true
    },
    "kernelspec": {
      "name": "python3",
      "display_name": "Python 3"
    },
    "language_info": {
      "name": "python"
    }
  },
  "cells": [
    {
      "cell_type": "markdown",
      "metadata": {
        "id": "view-in-github",
        "colab_type": "text"
      },
      "source": [
        "<a href=\"https://colab.research.google.com/github/Jorge2018/DataScience2022-2/blob/main/VariosCod_02.ipynb\" target=\"_parent\"><img src=\"https://colab.research.google.com/assets/colab-badge.svg\" alt=\"Open In Colab\"/></a>"
      ]
    },
    {
      "cell_type": "code",
      "execution_count": 23,
      "metadata": {
        "colab": {
          "base_uri": "https://localhost:8080/",
          "height": 132
        },
        "id": "GjzQwU3usNqd",
        "outputId": "013ef680-5358-41a1-8b1b-9de1da22cfd0"
      },
      "outputs": [
        {
          "output_type": "error",
          "ename": "SyntaxError",
          "evalue": "ignored",
          "traceback": [
            "\u001b[0;36m  File \u001b[0;32m\"<ipython-input-23-84f915c795e8>\"\u001b[0;36m, line \u001b[0;32m19\u001b[0m\n\u001b[0;31m    lista['Grams'] = s ''.join(ch for ch in lista['Grams'] if ch.isalnum())\u001b[0m\n\u001b[0m                        ^\u001b[0m\n\u001b[0;31mSyntaxError\u001b[0m\u001b[0;31m:\u001b[0m invalid syntax\n"
          ]
        }
      ],
      "source": [
        "import numpy as np\n",
        "import pandas as pd\n",
        "df= pd.read_csv(r'/content/nutrients_csvfile.csv')\n",
        "print(df.head())\n",
        "print('---------------------------')\n",
        "print('la cantidad de filas y columnas del df son (fil,col):', df.shape)\n",
        "print('---------------------------')\n",
        "print('La cantidad de registros al comenzar es:\\n',df.count())\n",
        "print('---------------------------')\n",
        "print('los datos faltantes del df son:\\n',df.isna().sum())\n",
        "print('---------------------------')\n",
        "lista=[]\n",
        "for column in df:\n",
        "  lista.append(column)\n",
        "for i in range(len(lista)):\n",
        "  print('los datos duplicados de la columna',lista[i],' son:',df.duplicated(subset=lista[i], keep='first').sum())\n",
        "  print('---------------------------')\n",
        "\n",
        "lista['Grams'] = s ''.join(ch for ch in lista['Grams'] if ch.isalnum())\n",
        " "
      ]
    }
  ]
}